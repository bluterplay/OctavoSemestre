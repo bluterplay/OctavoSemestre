{
 "cells": [
  {
   "cell_type": "code",
   "execution_count": 16,
   "id": "27f8192d-0872-425d-b771-67dd69bcd745",
   "metadata": {
    "tags": []
   },
   "outputs": [],
   "source": [
    "import numpy as np\n",
    "import sys\n",
    "\n",
    "sys.setrecursionlimit(10000000)"
   ]
  },
  {
   "cell_type": "code",
   "execution_count": 17,
   "id": "87ff5b35-22c0-488c-8a10-52cda140878d",
   "metadata": {
    "tags": []
   },
   "outputs": [],
   "source": [
    "class GeneradorLineal():\n",
    "    def __init__(self,A=7**5,C=0,M=2**31 -1,seed=1234):\n",
    "        self.A= A\n",
    "        self.C= C\n",
    "        self.M= M\n",
    "        self.seed= seed\n",
    "        self.ls_num= []\n",
    "    def aleatorios(self,samples):\n",
    "        if(samples==0):\n",
    "            return self.ls_num\n",
    "        else:\n",
    "            sn= (self.A*self.seed + self.C) %self.M\n",
    "            self.ls_num.append(self.seed/self.M)\n",
    "            self.seed= sn\n",
    "            samples-=1\n",
    "            return(self.aleatorios(samples))"
   ]
  },
  {
   "cell_type": "code",
   "execution_count": 18,
   "id": "e3958c3b-9c73-4983-b353-c6880f9315c6",
   "metadata": {
    "tags": []
   },
   "outputs": [],
   "source": [
    "generador= GeneradorLineal()"
   ]
  },
  {
   "cell_type": "markdown",
   "id": "2168ce41-2a45-480a-98d8-21177982c1c8",
   "metadata": {},
   "source": [
    "## Calculo de pi"
   ]
  },
  {
   "cell_type": "code",
   "execution_count": 19,
   "id": "944b6d22-2d42-4218-9abf-bd10e4d31cb6",
   "metadata": {},
   "outputs": [],
   "source": [
    "def I(x,y):\n",
    "    if(x**2+y**2 <=1):\n",
    "        return 1\n",
    "    else:\n",
    "        return 0"
   ]
  },
  {
   "cell_type": "code",
   "execution_count": 1,
   "id": "68c5d585-f0b4-4518-9a24-8ae9b4b62d49",
   "metadata": {
    "tags": []
   },
   "outputs": [],
   "source": [
    "n= 10**4"
   ]
  },
  {
   "cell_type": "code",
   "execution_count": 34,
   "id": "69ae12e2-87cd-4d8c-846e-486540acb2ca",
   "metadata": {
    "tags": []
   },
   "outputs": [],
   "source": [
    "generadorx= GeneradorLineal(seed=2456)\n",
    "generadory= GeneradorLineal()"
   ]
  },
  {
   "cell_type": "code",
   "execution_count": null,
   "id": "b1231f51-29da-4b17-935f-ba9e910f9a84",
   "metadata": {
    "tags": []
   },
   "outputs": [],
   "source": [
    "Xl= 2* np.array(generadorx.aleatorios(n))-1\n",
    "Yl= 2* np.array(generadory.aleatorios(n))-1\n",
    "Xn= 2*np.random.uniform(size=n)-1\n",
    "Yn= 2*np.random.uniform(size=n)-1"
   ]
  },
  {
   "cell_type": "code",
   "execution_count": 31,
   "id": "a7dbde29-d8a6-425d-b717-1cccb3983c7a",
   "metadata": {
    "tags": []
   },
   "outputs": [],
   "source": [
    "piGCL= np.vectorize(I)(Xl,Yl).mean()*4\n",
    "piNumpy= np.vectorize(I)(Xn,Yn).mean()*4"
   ]
  },
  {
   "cell_type": "code",
   "execution_count": 32,
   "id": "5b6aa610-9f65-4d05-8a13-044f734d50de",
   "metadata": {
    "tags": []
   },
   "outputs": [
    {
     "name": "stdout",
     "output_type": "stream",
     "text": [
      "La aproximación de pi con Generador Lineal Congruencial es 3.1504\n",
      " Y con Numpy es 3.1328 \n"
     ]
    }
   ],
   "source": [
    "print(f'La aproximación de pi con Generador Lineal Congruencial es {piGCL}\\n Y con Numpy es {piNumpy} ')"
   ]
  },
  {
   "cell_type": "markdown",
   "id": "ee15d84a-b6a8-41de-85ef-866bed67847f",
   "metadata": {},
   "source": [
    "Solo use $10⁴$ numeros aleatorios porque el añadirle más hacía que el kernel fallara, aunque creo que se obtuvo una buena aproximación de pi con ambos generadores"
   ]
  },
  {
   "cell_type": "code",
   "execution_count": null,
   "id": "3981a26a-52b2-4f72-9922-838e22744db4",
   "metadata": {},
   "outputs": [],
   "source": []
  }
 ],
 "metadata": {
  "kernelspec": {
   "display_name": "pyOct",
   "language": "python",
   "name": "pyoct"
  },
  "language_info": {
   "codemirror_mode": {
    "name": "ipython",
    "version": 3
   },
   "file_extension": ".py",
   "mimetype": "text/x-python",
   "name": "python",
   "nbconvert_exporter": "python",
   "pygments_lexer": "ipython3",
   "version": "3.10.6"
  }
 },
 "nbformat": 4,
 "nbformat_minor": 5
}
