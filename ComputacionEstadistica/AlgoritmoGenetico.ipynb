{
 "cells": [
  {
   "cell_type": "markdown",
   "id": "1c2b0233-6fdb-47a1-bab6-fd6e2f444cfb",
   "metadata": {},
   "source": [
    "## Modules"
   ]
  },
  {
   "cell_type": "code",
   "execution_count": 255,
   "id": "e7bb1d71-9263-42dd-9111-79076a4b5f58",
   "metadata": {
    "tags": []
   },
   "outputs": [],
   "source": [
    "import numpy as np\n",
    "import pandas as pd\n",
    "from itertools import chain"
   ]
  },
  {
   "cell_type": "markdown",
   "id": "75124126-ae33-4b5a-b482-c04b6a12538d",
   "metadata": {},
   "source": [
    "## Functions"
   ]
  },
  {
   "cell_type": "code",
   "execution_count": 256,
   "id": "a03bcd4d-766d-4c8a-b5e9-d079c950fd2a",
   "metadata": {
    "tags": []
   },
   "outputs": [],
   "source": [
    "def crear_individuo(num_genes=20):\n",
    "    return [int(x>0.5) for x in np.random.uniform(size=num_genes)]"
   ]
  },
  {
   "cell_type": "code",
   "execution_count": 257,
   "id": "96d310b7-b8f1-4d58-96e1-b32e7011fc0f",
   "metadata": {
    "tags": []
   },
   "outputs": [],
   "source": [
    "def objetivo(x):\n",
    "    return sum([int(g) for g in x])"
   ]
  },
  {
   "cell_type": "code",
   "execution_count": 258,
   "id": "553db3a9-3735-4506-84bd-ef1c4e7bfaf0",
   "metadata": {
    "tags": []
   },
   "outputs": [],
   "source": [
    "def seleccion(objetivo,pob,k = 3):\n",
    "    pob = pd.DataFrame({'x':pob}).sample(k)\n",
    "    pob['aptitud'] = pob['x'].map(lambda x:objetivo(x))\n",
    "    pob.sort_values(by='aptitud',inplace=True)\n",
    "    return pob.tail(1)['x'].values[0]"
   ]
  },
  {
   "cell_type": "code",
   "execution_count": 259,
   "id": "2dcc1b9f-558f-4a84-ab92-682f7cf46aa4",
   "metadata": {
    "tags": []
   },
   "outputs": [],
   "source": [
    "def combinacion(padre1,padre2,proba):\n",
    "    #Los hijos son por defecto copias de los padres\n",
    "    padre1 = [g for g in padre1]\n",
    "    padre2 = [g for g in padre2]\n",
    "    hijos = [padre1,padre2]\n",
    "    if np.random.uniform()<proba:\n",
    "        #Seleccionar un punto de combinacion que no esté\n",
    "        #en los extremos\n",
    "        i = np.random.choice(range(1,len(padre1)-1))\n",
    "        hijos = padre1[:i]+padre2[i:],padre2[:i]+padre1[i:]\n",
    "    return [\"\".join([str(x) for x in h]) for h in hijos]"
   ]
  },
  {
   "cell_type": "code",
   "execution_count": 260,
   "id": "a73619ed-62a6-4645-ad6f-ef7e03508ac2",
   "metadata": {
    "tags": []
   },
   "outputs": [],
   "source": [
    "def mutacion(individuo,proba=0.5):\n",
    "    return \"\".join([str(1-int(g)) if r<proba else g for g,r in zip(individuo,np.random.uniform(size=len(individuo)))])"
   ]
  },
  {
   "cell_type": "code",
   "execution_count": 261,
   "id": "f0e1af1a-fc63-4f6a-acea-ceabb5db5db9",
   "metadata": {
    "tags": []
   },
   "outputs": [],
   "source": [
    "def alg_genetico(objetivo,n_genes=20,n_generaciones=100,tam_pob=100,proba_comb=0.9,proba_mut=1/20,tam_muestra=3):\n",
    "\n",
    "    pob = [crear_individuo(num_genes=n_genes) for _ in range(tam_pob)]\n",
    "    for gen in range(n_generaciones):\n",
    "        aptos = [seleccion(objetivo,pob,k=tam_muestra) for _ in range(tam_pob)]\n",
    "        hijos = [combinacion(*aptos[i:i+2],proba_comb) for i in range(0,tam_pob,2)]\n",
    "        hijos = list(map(lambda x: mutacion(x,proba=proba_mut),chain(*hijos)))\n",
    "        pob = hijos[:]\n",
    "    pob = pd.DataFrame({'x':pob})\n",
    "    pob['aptitud'] = pob['x'].map(objetivo)\n",
    "    pob.sort_values(by='aptitud',inplace=True)\n",
    "    return pob.tail(1).values.tolist()[0]"
   ]
  },
  {
   "cell_type": "code",
   "execution_count": 262,
   "id": "39d5b972-1e2e-4c50-882b-d128b40b52e0",
   "metadata": {
    "tags": []
   },
   "outputs": [],
   "source": [
    "def decodificar(x):\n",
    "    x=\"\".join([str(s) for s in x])\n",
    "    algoritmo= int(x[:2],2)\n",
    "    if(algoritmo==3):\n",
    "        algoritmo=2\n",
    "    penalizacion=int(x[2:4],2)\n",
    "    if(penalizacion==3):\n",
    "        penalizacion=2\n",
    "    max_iter= int(x[9:],2)\n",
    "    int_num = int(x[4:6], 2)\n",
    "    frac_num = sum(int(bit) * 2 ** -(i + 1) for i, bit in enumerate(x[6:9]))\n",
    "    lr= int_num+frac_num\n",
    "    return algoritmo,penalizacion,max_iter,lr"
   ]
  },
  {
   "cell_type": "code",
   "execution_count": 263,
   "id": "f23640f1-4d98-4ac1-864c-e149a61c1b96",
   "metadata": {
    "tags": []
   },
   "outputs": [],
   "source": [
    "def Z(x,y):\n",
    "    return np.exp(-1/3*x**3+x-y**2)"
   ]
  },
  {
   "cell_type": "markdown",
   "id": "974db15c-fced-42c2-808b-c3ed9b208ea6",
   "metadata": {},
   "source": [
    "## Testing functions"
   ]
  },
  {
   "cell_type": "code",
   "execution_count": 264,
   "id": "d82b487a-e32b-47c8-a1bf-a4d8b5f8ddc8",
   "metadata": {
    "tags": []
   },
   "outputs": [
    {
     "data": {
      "text/plain": [
       "['11111111111111111111', 20]"
      ]
     },
     "execution_count": 264,
     "metadata": {},
     "output_type": "execute_result"
    }
   ],
   "source": [
    "alg_genetico(objetivo)"
   ]
  },
  {
   "cell_type": "code",
   "execution_count": null,
   "id": "f2222247-22a4-450b-a36f-5566058595cd",
   "metadata": {},
   "outputs": [],
   "source": []
  }
 ],
 "metadata": {
  "kernelspec": {
   "display_name": "pylab",
   "language": "python",
   "name": "pylab"
  },
  "language_info": {
   "codemirror_mode": {
    "name": "ipython",
    "version": 3
   },
   "file_extension": ".py",
   "mimetype": "text/x-python",
   "name": "python",
   "nbconvert_exporter": "python",
   "pygments_lexer": "ipython3",
   "version": "3.10.6"
  }
 },
 "nbformat": 4,
 "nbformat_minor": 5
}
