{
 "cells": [
  {
   "cell_type": "markdown",
   "id": "f58c93d7-d3e4-43d3-9372-71fab3ebe23f",
   "metadata": {},
   "source": [
    "## Modulos"
   ]
  },
  {
   "cell_type": "code",
   "execution_count": 1,
   "id": "26ee3475-af01-4398-bafd-4f56a9e0185c",
   "metadata": {
    "tags": []
   },
   "outputs": [],
   "source": [
    "import numpy as np\n",
    "import pandas as pd\n",
    "from itertools import chain\n",
    "from sklearn.linear_model import Perceptron, PassiveAggressiveClassifier, LogisticRegression\n",
    "from sklearn.metrics import roc_auc_score\n",
    "from sklearn.preprocessing import LabelEncoder, OneHotEncoder, StandardScaler\n",
    "from sklearn.model_selection import train_test_split\n",
    "from sklearn.compose import ColumnTransformer\n",
    "\n",
    "from tqdm import tqdm\n",
    "import warnings\n",
    "warnings.filterwarnings('ignore')"
   ]
  },
  {
   "cell_type": "markdown",
   "id": "a2f86b15-6677-42fd-a66c-6057f86fa59d",
   "metadata": {},
   "source": [
    "## Funciones relevantes"
   ]
  },
  {
   "cell_type": "code",
   "execution_count": 2,
   "id": "a1506feb-4495-4c17-8a73-4b4ac7220415",
   "metadata": {
    "tags": []
   },
   "outputs": [],
   "source": [
    "def crear_individuo(num_genes=20):\n",
    "    return [int(x>0.5) for x in np.random.uniform(size=num_genes)]"
   ]
  },
  {
   "cell_type": "code",
   "execution_count": 3,
   "id": "0788bac8-58f3-4a72-8e37-879526eeef61",
   "metadata": {
    "tags": []
   },
   "outputs": [],
   "source": [
    "def seleccion(objetivo,pob,x_train,y_train,x_val,y_val,k = 3):\n",
    "    pob = pd.DataFrame({'x':pob}).sample(k)\n",
    "    pob['auc'] = pob['x'].map(lambda x:objetivo(x,x_train,y_train,x_val,y_val))\n",
    "    pob.sort_values(by='auc',inplace=True)\n",
    "    return pob.tail(1)['x'].values[0]"
   ]
  },
  {
   "cell_type": "code",
   "execution_count": 4,
   "id": "b481abcf-1f57-41b2-8004-a85e1d958d97",
   "metadata": {
    "tags": []
   },
   "outputs": [],
   "source": [
    "def combinacion(padre1,padre2,proba):\n",
    "    #Los hijos son por defecto copias de los padres\n",
    "    padre1 = [g for g in padre1]\n",
    "    padre2 = [g for g in padre2]\n",
    "    hijos = [padre1,padre2]\n",
    "    if np.random.uniform()<proba:\n",
    "        #Seleccionar un punto de combinacion que no esté\n",
    "        #en los extremos\n",
    "        i = np.random.choice(range(1,len(padre1)-1))\n",
    "        hijos = padre1[:i]+padre2[i:],padre2[:i]+padre1[i:]\n",
    "    return [\"\".join([str(x) for x in h]) for h in hijos]"
   ]
  },
  {
   "cell_type": "code",
   "execution_count": 5,
   "id": "67a17257-2736-4985-8d37-6246ce0be0d3",
   "metadata": {
    "tags": []
   },
   "outputs": [],
   "source": [
    "def mutacion(individuo,proba=0.5):\n",
    "    return \"\".join([str(1-int(g)) if r<proba else g for g,r in zip(individuo,np.random.uniform(size=len(individuo)))])"
   ]
  },
  {
   "cell_type": "markdown",
   "id": "5d7a5b2a-9e79-43f7-8af2-ab0c4e028ecb",
   "metadata": {},
   "source": [
    "Aquí procedemos a interpretar la cadena binaria como los parametros del modelo a generar:\n",
    "- Los primeros dos dígitos escogen uno de los 3 algoritmos (0-3)\n",
    "- Se asigan los bits 2 y 3 para escoger la penalización que son L1,L2,None (0-3)\n",
    "- Se toman los bits del 4-10 para el learning rate\n",
    "    - Los dos primeros son para la parte entera (0-3)\n",
    "    - Los 4 ultimos generan la parte decimal \n",
    "- Se toman los bits restantes para las máximas iteraciones, en el caso de ser de 20 genes nos da un número entre 0 y 511\n",
    "\n",
    "En caso de querer mayor precisión sería aumentar el número de genes y aplear los bits del parametro"
   ]
  },
  {
   "cell_type": "code",
   "execution_count": 92,
   "id": "74dfc4c8-0955-4d86-8c91-108ff852f4de",
   "metadata": {
    "tags": []
   },
   "outputs": [],
   "source": [
    "def decodificar(x):\n",
    "    x=\"\".join([str(s) for s in x])\n",
    "    algoritmo= int(x[:2],2)\n",
    "    if(algoritmo==3):\n",
    "        algoritmo=2\n",
    "    penalizacion=int(x[2:4],2)\n",
    "    if(penalizacion==3):\n",
    "        penalizacion=2\n",
    "    if(algoritmo==2 and penalizacion==0):\n",
    "        penalizacion+= np.random.randint(low=1, high=3)\n",
    "    max_iter= int(x[10:],2)\n",
    "    int_num = int(x[4:6], 2)\n",
    "    frac_num = sum(int(bit) * 2 ** -(i + 1) for i, bit in enumerate(x[6:10]))\n",
    "    lr= int_num+frac_num+.001\n",
    "    return algoritmo,penalizacion,max_iter,lr"
   ]
  },
  {
   "cell_type": "code",
   "execution_count": 45,
   "id": "887cd8b5-c260-4e91-833f-58977c0e672f",
   "metadata": {
    "tags": []
   },
   "outputs": [],
   "source": [
    "def objetivoAUC(x, x_train,y_train,x_val,y_val):\n",
    "    hiper=decodificar(x)\n",
    "    ls_penalty=[\"l1\",\"l2\", None]\n",
    "    ls_models=[Perceptron(alpha=hiper[3], penalty=ls_penalty[hiper[1]], max_iter=hiper[2]),\n",
    "           PassiveAggressiveClassifier(C=hiper[3],max_iter=hiper[2]),\n",
    "           LogisticRegression(penalty=ls_penalty[hiper[1]],C=hiper[3],max_iter=hiper[2])]\n",
    "    clf=ls_models[hiper[0]]\n",
    "    try:\n",
    "        clf.fit(x_train,y_train)\n",
    "    except Exception as e:\n",
    "        print(e)\n",
    "        return 0\n",
    "    y_proba= clf.decision_function(x_test)\n",
    "    return roc_auc_score(y_test, y_proba)"
   ]
  },
  {
   "cell_type": "markdown",
   "id": "3a2d7df9-c028-4701-9dac-5847e5e86000",
   "metadata": {},
   "source": [
    "Se recomienda 20 genes y mínimo deben de ser 11 dejando solo 1 o 0 iteraciones"
   ]
  },
  {
   "cell_type": "code",
   "execution_count": 17,
   "id": "02913bb0-296c-4039-b68a-c36afa1d1295",
   "metadata": {
    "tags": []
   },
   "outputs": [],
   "source": [
    "def alg_genetico(objetivo,x_train,y_train,x_val,y_val,\n",
    "                 n_genes=20,n_generaciones=100,tam_pob=100,proba_comb=0.9,proba_mut=1/20,tam_muestra=3):\n",
    "\n",
    "    pob = [crear_individuo(num_genes=n_genes) for _ in range(tam_pob)]\n",
    "    for gen in tqdm(range(n_generaciones)):\n",
    "        aptos = [seleccion(objetivo,pob,x_train,y_train,x_val,y_val,k=tam_muestra) for _ in range(tam_pob)]\n",
    "        hijos = [combinacion(*aptos[i:i+2],proba_comb) for i in range(0,tam_pob,2)]\n",
    "        hijos = list(map(lambda x: mutacion(x,proba=proba_mut),chain(*hijos)))\n",
    "        pob = hijos[:]\n",
    "    pob = pd.DataFrame({'x':pob})\n",
    "    pob['aptitud'] = pob['x'].map(lambda x: objetivo(x,x_train,y_train,x_val,y_val))\n",
    "    pob.sort_values(by='aptitud',inplace=True)\n",
    "    return pob.tail(1).values.tolist()[0]"
   ]
  },
  {
   "cell_type": "code",
   "execution_count": 36,
   "id": "6feb7719-7e6f-4e37-b5c4-bd7a7ef6a34a",
   "metadata": {
    "tags": []
   },
   "outputs": [],
   "source": [
    "def resultados(best):\n",
    "    dc_model={0:\"Perceptron\", 1:\"Pasivoo Agresivo\", 2:\"Regresión logistica\", 3:\"Regresión logistica\"}\n",
    "    dc_penaltys={0:\"L1\", 1:\"L2\", 2:\"None\", 3:\"None\"}\n",
    "    ls_best_params=decodificar(best[0])\n",
    "    resumen=f'''Model:{dc_model[ls_best_params[0]]})\n",
    "    Regularizacion:{dc_penaltys[ls_best_params[1]]}\n",
    "    lr:{ls_best_params[3]}\n",
    "    Max_iters={ls_best_params[2]}\n",
    "    AUC= {best[1]}\n",
    "    '''\n",
    "    print(resumen)"
   ]
  },
  {
   "cell_type": "markdown",
   "id": "bfaf271c-2b4f-4274-9b8b-9f0f372713b9",
   "metadata": {},
   "source": [
    "## Cargar datos"
   ]
  },
  {
   "cell_type": "markdown",
   "id": "abebe1a5-e08e-40fa-b3ce-b5db68800c6c",
   "metadata": {},
   "source": [
    "Se proporciona datos de clasificación para hacer la prueba, son los datos de Churn modeling se pueden encontrar en la siguiente url:  \n",
    "https://www.kaggle.com/datasets/shubh0799/churn-modelling"
   ]
  },
  {
   "cell_type": "code",
   "execution_count": 10,
   "id": "03934c53-a105-46fc-8666-14b2e162fa80",
   "metadata": {
    "tags": []
   },
   "outputs": [],
   "source": [
    "data= pd.read_csv(\"Churn_Modelling.csv\")"
   ]
  },
  {
   "cell_type": "code",
   "execution_count": 11,
   "id": "aad982b2-d19f-4091-b76f-aa3d617cb01a",
   "metadata": {
    "tags": []
   },
   "outputs": [],
   "source": [
    "X= data.iloc[:,3:13].values\n",
    "y= data.iloc[:,13].values\n",
    "ls= ColumnTransformer([('Geography', OneHotEncoder(categories='auto'), [1])], remainder=\"passthrough\")\n",
    "X= ls.fit_transform(X)\n",
    "X= X[:,1:]\n",
    "ls= ColumnTransformer([('Gender', OneHotEncoder(categories='auto'), [3])], remainder=\"passthrough\")\n",
    "X= ls.fit_transform(X)\n",
    "X= X[:,1:]"
   ]
  },
  {
   "cell_type": "code",
   "execution_count": 12,
   "id": "35b4bacf-307b-4aec-a0a4-1ac50fa977f3",
   "metadata": {
    "tags": []
   },
   "outputs": [],
   "source": [
    "x_train,x_test,y_train,y_test= train_test_split(X,y, test_size=.20, random_state=0)"
   ]
  },
  {
   "cell_type": "code",
   "execution_count": 13,
   "id": "25b261df-6738-4f54-8bd0-156b6219fdec",
   "metadata": {
    "tags": []
   },
   "outputs": [],
   "source": [
    "sx= StandardScaler()\n",
    "x_train = sx.fit_transform(x_train)\n",
    "x_test = sx.fit_transform(x_test)"
   ]
  },
  {
   "cell_type": "markdown",
   "id": "86d47fe0-0852-4d51-a5e9-9ad8d3cf83cc",
   "metadata": {},
   "source": [
    "## Test"
   ]
  },
  {
   "cell_type": "code",
   "execution_count": 95,
   "id": "78589852-8683-4234-aedd-aa12db26ad4b",
   "metadata": {
    "tags": []
   },
   "outputs": [
    {
     "name": "stderr",
     "output_type": "stream",
     "text": [
      "100%|█████████████████████████████████████████████████████████████████████████████████████████████████████████████████| 75/75 [04:38<00:00,  3.71s/it]\n"
     ]
    }
   ],
   "source": [
    "best=alg_genetico(objetivoAUC,x_train,y_train,x_test,y_test,n_generaciones=75)"
   ]
  },
  {
   "cell_type": "code",
   "execution_count": 96,
   "id": "6377f41d-c10e-49dd-bbb8-44b46b1fbeb0",
   "metadata": {
    "tags": []
   },
   "outputs": [
    {
     "name": "stdout",
     "output_type": "stream",
     "text": [
      "Model:Regresión logistica)\n",
      "    Regularizacion:L2\n",
      "    lr:0.001\n",
      "    Max_iters=677\n",
      "    AUC= 0.7727311428460854\n",
      "    \n"
     ]
    }
   ],
   "source": [
    "resultados(best)"
   ]
  },
  {
   "cell_type": "code",
   "execution_count": 40,
   "id": "bdabe939-6cd6-493a-9538-0240ca8f91d5",
   "metadata": {
    "tags": []
   },
   "outputs": [],
   "source": [
    "clf= LogisticRegression()"
   ]
  },
  {
   "cell_type": "code",
   "execution_count": 41,
   "id": "df2d68bd-1598-4c70-b4db-24d13feb77d2",
   "metadata": {
    "tags": []
   },
   "outputs": [],
   "source": [
    "clf.fit(x_train,y_train)\n",
    "y_proba= clf.decision_function(x_test)"
   ]
  },
  {
   "cell_type": "code",
   "execution_count": 42,
   "id": "3c3b4eec-f4d3-4c1a-b6aa-423b26be73fe",
   "metadata": {
    "tags": []
   },
   "outputs": [
    {
     "data": {
      "text/plain": [
       "0.7720283292697087"
      ]
     },
     "execution_count": 42,
     "metadata": {},
     "output_type": "execute_result"
    }
   ],
   "source": [
    "roc_auc_score(y_test,y_proba)"
   ]
  }
 ],
 "metadata": {
  "kernelspec": {
   "display_name": "pylab",
   "language": "python",
   "name": "pylab"
  },
  "language_info": {
   "codemirror_mode": {
    "name": "ipython",
    "version": 3
   },
   "file_extension": ".py",
   "mimetype": "text/x-python",
   "name": "python",
   "nbconvert_exporter": "python",
   "pygments_lexer": "ipython3",
   "version": "3.10.6"
  }
 },
 "nbformat": 4,
 "nbformat_minor": 5
}
