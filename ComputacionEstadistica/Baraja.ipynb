{
 "cells": [
  {
   "cell_type": "code",
   "execution_count": 1,
   "id": "0eba5c78-1677-4c97-97d4-6f51d73374f6",
   "metadata": {
    "tags": []
   },
   "outputs": [],
   "source": [
    "import numpy as np"
   ]
  },
  {
   "cell_type": "code",
   "execution_count": 4,
   "id": "aee93126-3ba3-4634-9a53-e2a0770b7007",
   "metadata": {
    "tags": []
   },
   "outputs": [],
   "source": [
    "class ManoPoker:\n",
    "    def __init__(self):\n",
    "        self.mano=[]\n",
    "        self.deck = []\n",
    "        self.valores={}\n",
    "        self.palos={}\n",
    "        \n",
    "    def set_deck(self):\n",
    "        ls_palos= [\"Trebol\", \"Espada\", \"Corazón\", \"Diamante\"]\n",
    "        ls_numeros=  [\"AS\"]+ [str(x) for x in range(2,11)] +[ \"J\",\"Q\", \"K\"]\n",
    "        ls_deck=[x+' '+ y for x in ls_numeros for y in ls_palos]\n",
    "        deck = list(np.random.choice(ls_deck,size=52,replace= False))\n",
    "        self.deck= deck\n",
    "        \n",
    "    def update_deck(self,mano):\n",
    "        for carta in mano:\n",
    "            self.deck.remove(carta)\n",
    "    def get_deck(self):\n",
    "        return self.deck\n",
    "    \n",
    "    def get_cards(self,n):\n",
    "        if(len(self.deck)<n):\n",
    "            return False\n",
    "        else:\n",
    "            ls_manos= []\n",
    "            ls_deck = self.deck\n",
    "            mano=ls_deck[0:5]\n",
    "            self.mano= mano\n",
    "            self.update_deck(mano)\n",
    "            return mano\n",
    "    \n",
    "    def get_mapeo(self):\n",
    "        ls_palos= [\"Trebol\", \"Espada\", \"Corazón\", \"Diamante\"]\n",
    "        ls_numeros=  [\"AS\"]+ [str(x) for x in range(2,11)] +[ \"J\",\"Q\", \"K\"]\n",
    "        dc_valores= {card: valor for (card,valor) in list(zip(ls_numeros,range(0,13)))}\n",
    "        dc_palos = {palo: valor for (palo,valor) in list(zip(ls_palos, range(0,4)))}\n",
    "        self.valores= dc_valores\n",
    "        self.palos= dc_palos\n",
    "        ls_valor=[0 for x in range(13)]\n",
    "        ls_palo=[0 for x in range(4)]\n",
    "        for card in self.mano:\n",
    "            card= card.split(\" \")\n",
    "            valor= card[0]\n",
    "            palo= card[1]\n",
    "            ls_valor[dc_valores[valor]]+= 1\n",
    "            ls_palo[dc_palos[palo]]+=1\n",
    "        return np.array(ls_valor), np.array(ls_palo)\n",
    "    \n",
    "    def get_key(self,val):\n",
    "        for key, value in self.valores.items():\n",
    "            if val == value:\n",
    "                return key\n",
    "        return \"key doesn't exist\"\n",
    "    def alta(self,ls_valor):\n",
    "        if(ls_valor[0]==1):\n",
    "             return'AS'\n",
    "        else:\n",
    "            for i in range(12,0,-1):\n",
    "                if (ls_valor[i]!=0):\n",
    "                    return self.get_key(i)\n",
    "    def escalera(self,ls_valor):\n",
    "        if(ls_valor[0]==1 and (ls_valor[9:13].min() >0)):\n",
    "            return True\n",
    "        else:\n",
    "            for i in range(8):\n",
    "                aux= ls_valor[i:(i+5)]\n",
    "                if(aux.min()>0):\n",
    "                    return True\n",
    "            return False\n",
    "    \n",
    "    def color(self,ls_palo):\n",
    "        if(ls_palo.max()<5):\n",
    "            return False\n",
    "        else: \n",
    "            return True\n",
    "    def poker(self,ls_valor):\n",
    "        if(ls_valor.max()<4):\n",
    "            return False\n",
    "        else:\n",
    "            return True\n",
    "    def par(self,ls_valor):\n",
    "        par= 0\n",
    "        total=0\n",
    "        for valor in ls_valor:\n",
    "            total+=valor\n",
    "            if(valor==2):\n",
    "                par+=1\n",
    "            if(total==5):\n",
    "                break\n",
    "        if(par==1):\n",
    "            return True\n",
    "        elif(par==2):\n",
    "            return \"Doble\"\n",
    "        else:\n",
    "            return False\n",
    "    def tercia(self,ls_valor):\n",
    "        if(ls_valor.max()<3):\n",
    "            return False\n",
    "        else:\n",
    "            return True\n",
    "    def full(self,ls_valor):\n",
    "        if(self.par(ls_valor) and self.tercia(ls_valor)):\n",
    "            return True\n",
    "        else:\n",
    "            return False\n",
    "    \n",
    "    \n",
    "    def get_mano(self, ls_valor,ls_palo):\n",
    "        if(self.color(ls_palo)):\n",
    "            if(self.escalera(ls_valor)):\n",
    "                if(ls_valor[0]==1and ls_valor[12]==1):\n",
    "                    return(\"Escalera Real\")\n",
    "                else:\n",
    "                    return(\"Escalera de color\")\n",
    "            else:\n",
    "                return(\"Color\")\n",
    "        else:\n",
    "            if(self.poker(ls_valor)):\n",
    "                return(\"Pokar\")\n",
    "            else:\n",
    "                if(self.full(ls_valor)):\n",
    "                    return(\"Full\")\n",
    "                else:\n",
    "                    if(self.escalera(ls_valor)):\n",
    "                        return(\"Escalera\")\n",
    "                    else:\n",
    "                        if(self.tercia(ls_valor)):\n",
    "                            return(\"Tercia\")\n",
    "                        else:\n",
    "                            if(self.par(ls_valor) =='Doble'):\n",
    "                                return(\"Doble\")\n",
    "                            elif(self.par(ls_valor)):\n",
    "                                return(\"Par\")\n",
    "                            else:\n",
    "                                return(\"Alta\")"
   ]
  },
  {
   "cell_type": "code",
   "execution_count": 5,
   "id": "0ec73cba-2623-41a2-a3fe-a2dc3bcbc473",
   "metadata": {
    "tags": []
   },
   "outputs": [],
   "source": [
    "mano=ManoPoker()\n",
    "mano.set_deck()\n",
    "\n",
    "dc={\"Color\":0,\"Escalera Real\":0, \"Escalera de color\":0, \"Pokar\":0,\n",
    "     \"Full\":0,\"Escalera\":0, \"Tercia\":0, \"Doble\":0,\"Par\":0,\"Alta\":0 }\n",
    "\n",
    "for i in range(1000000):\n",
    "    if( mano.get_cards(5)==False):\n",
    "        mano=ManoPoker()\n",
    "        mano.set_deck()\n",
    "        mano.get_cards(5)\n",
    "\n",
    "    ls_valor,ls_palo=mano.get_mapeo()\n",
    "    dc[mano.get_mano(ls_valor,ls_palo)]+=1\n",
    "\n"
   ]
  },
  {
   "cell_type": "code",
   "execution_count": 6,
   "id": "b1580902-a99a-48d1-adf6-df92b534085f",
   "metadata": {
    "tags": []
   },
   "outputs": [],
   "source": [
    "probabilidad = {k: v/1000000 for k, v in dc.items()}"
   ]
  },
  {
   "cell_type": "code",
   "execution_count": 7,
   "id": "b54d77a5-3108-4a3e-8453-af8f41444e26",
   "metadata": {
    "tags": []
   },
   "outputs": [
    {
     "data": {
      "text/plain": [
       "{'Color': 1957,\n",
       " 'Escalera Real': 1,\n",
       " 'Escalera de color': 11,\n",
       " 'Pokar': 254,\n",
       " 'Full': 1395,\n",
       " 'Escalera': 3530,\n",
       " 'Tercia': 20831,\n",
       " 'Doble': 47298,\n",
       " 'Par': 422788,\n",
       " 'Alta': 501935}"
      ]
     },
     "execution_count": 7,
     "metadata": {},
     "output_type": "execute_result"
    }
   ],
   "source": [
    "dc"
   ]
  },
  {
   "cell_type": "code",
   "execution_count": 8,
   "id": "12db1c5d-234d-4329-a2b8-6b58003b3d13",
   "metadata": {
    "tags": []
   },
   "outputs": [
    {
     "data": {
      "text/plain": [
       "{'Color': 0.001957,\n",
       " 'Escalera Real': 1e-06,\n",
       " 'Escalera de color': 1.1e-05,\n",
       " 'Pokar': 0.000254,\n",
       " 'Full': 0.001395,\n",
       " 'Escalera': 0.00353,\n",
       " 'Tercia': 0.020831,\n",
       " 'Doble': 0.047298,\n",
       " 'Par': 0.422788,\n",
       " 'Alta': 0.501935}"
      ]
     },
     "execution_count": 8,
     "metadata": {},
     "output_type": "execute_result"
    }
   ],
   "source": [
    "probabilidad"
   ]
  },
  {
   "cell_type": "code",
   "execution_count": 11,
   "id": "26d45067-0ca1-472c-a73d-77dc8daed9d6",
   "metadata": {
    "tags": []
   },
   "outputs": [
    {
     "name": "stdout",
     "output_type": "stream",
     "text": [
      "Despues de 100000 simulaciones tenemos que: \n",
      "Color: 1957 veces, 0.19569999999999999 %\n",
      "Escalera Real: 1 veces, 9.999999999999999e-05 %\n",
      "Escalera de color: 11 veces, 0.0011 %\n",
      "Pokar: 254 veces, 0.0254 %\n",
      "Full: 1395 veces, 0.13949999999999999 %\n",
      "Escalera: 3530 veces, 0.35300000000000004 %\n",
      "Tercia: 20831 veces, 2.0831 %\n",
      "Doble: 47298 veces, 4.7298 %\n",
      "Par: 422788 veces, 42.2788 %\n",
      "Alta: 501935 veces, 50.1935 %\n"
     ]
    }
   ],
   "source": []
  },
  {
   "cell_type": "code",
   "execution_count": null,
   "id": "63e22322-cb6f-4a57-920b-738546fefa59",
   "metadata": {},
   "outputs": [],
   "source": []
  }
 ],
 "metadata": {
  "kernelspec": {
   "display_name": "Python 3 (ipykernel)",
   "language": "python",
   "name": "python3"
  },
  "language_info": {
   "codemirror_mode": {
    "name": "ipython",
    "version": 3
   },
   "file_extension": ".py",
   "mimetype": "text/x-python",
   "name": "python",
   "nbconvert_exporter": "python",
   "pygments_lexer": "ipython3",
   "version": "3.10.6"
  }
 },
 "nbformat": 4,
 "nbformat_minor": 5
}
