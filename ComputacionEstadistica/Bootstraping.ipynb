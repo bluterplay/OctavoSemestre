{
 "cells": [
  {
   "cell_type": "markdown",
   "id": "dceacb27-4747-404c-ba32-8b7c784498c9",
   "metadata": {},
   "source": [
    "## Modules"
   ]
  },
  {
   "cell_type": "code",
   "execution_count": 1,
   "id": "7a1e0e12-773c-4472-9a15-153c5ba94747",
   "metadata": {
    "tags": []
   },
   "outputs": [],
   "source": [
    "import pandas as pd\n",
    "import numpy as np\n",
    "import seaborn as sns\n",
    "import missingno as msno\n",
    "import pickle\n",
    "from sklearn.svm import SVC\n",
    "from sklearn.preprocessing import MinMaxScaler, LabelEncoder\n",
    "from sklearn.linear_model import LogisticRegression\n",
    "from sklearn.metrics import accuracy_score, confusion_matrix, roc_auc_score, roc_curve\n",
    "from sklearn.ensemble import VotingClassifier\n",
    "from sklearn.tree import DecisionTreeClassifier"
   ]
  },
  {
   "cell_type": "markdown",
   "id": "a38902fa-c54b-4a72-9f18-e8ad0ac1dc5a",
   "metadata": {},
   "source": [
    "## Load data"
   ]
  },
  {
   "cell_type": "code",
   "execution_count": 2,
   "id": "2f9e4147-e230-4a5e-bb37-09fa5b54fa4f",
   "metadata": {
    "tags": []
   },
   "outputs": [],
   "source": [
    "data_train=pd.read_csv(\"BootstrapingData/train.csv\")"
   ]
  },
  {
   "cell_type": "code",
   "execution_count": 3,
   "id": "73422cbf-f74c-4075-9b6f-c807562caaff",
   "metadata": {
    "tags": []
   },
   "outputs": [
    {
     "data": {
      "text/html": [
       "<div>\n",
       "<style scoped>\n",
       "    .dataframe tbody tr th:only-of-type {\n",
       "        vertical-align: middle;\n",
       "    }\n",
       "\n",
       "    .dataframe tbody tr th {\n",
       "        vertical-align: top;\n",
       "    }\n",
       "\n",
       "    .dataframe thead th {\n",
       "        text-align: right;\n",
       "    }\n",
       "</style>\n",
       "<table border=\"1\" class=\"dataframe\">\n",
       "  <thead>\n",
       "    <tr style=\"text-align: right;\">\n",
       "      <th></th>\n",
       "      <th>ID</th>\n",
       "      <th>C_01</th>\n",
       "      <th>C_02</th>\n",
       "      <th>C_03</th>\n",
       "      <th>C_04</th>\n",
       "      <th>C_05</th>\n",
       "      <th>C_06</th>\n",
       "      <th>C_07</th>\n",
       "      <th>C_08</th>\n",
       "      <th>C_09</th>\n",
       "      <th>...</th>\n",
       "      <th>C_45</th>\n",
       "      <th>C_46</th>\n",
       "      <th>C_47</th>\n",
       "      <th>C_48</th>\n",
       "      <th>C_49</th>\n",
       "      <th>C_50</th>\n",
       "      <th>C_51</th>\n",
       "      <th>C_52</th>\n",
       "      <th>D_1</th>\n",
       "      <th>TARGET</th>\n",
       "    </tr>\n",
       "  </thead>\n",
       "  <tbody>\n",
       "    <tr>\n",
       "      <th>0</th>\n",
       "      <td>674</td>\n",
       "      <td>41.902848</td>\n",
       "      <td>-87.643360</td>\n",
       "      <td>41.901540</td>\n",
       "      <td>-87.648066</td>\n",
       "      <td>41.901002</td>\n",
       "      <td>-87.642246</td>\n",
       "      <td>41.901952</td>\n",
       "      <td>-87.649264</td>\n",
       "      <td>41.900381</td>\n",
       "      <td>...</td>\n",
       "      <td>1114</td>\n",
       "      <td>607.755835</td>\n",
       "      <td>18.2125</td>\n",
       "      <td>0.442469</td>\n",
       "      <td>12.577837</td>\n",
       "      <td>0.089440</td>\n",
       "      <td>0.385996</td>\n",
       "      <td>0.013465</td>\n",
       "      <td>cat11</td>\n",
       "      <td>0.0</td>\n",
       "    </tr>\n",
       "    <tr>\n",
       "      <th>1</th>\n",
       "      <td>7397</td>\n",
       "      <td>NaN</td>\n",
       "      <td>NaN</td>\n",
       "      <td>NaN</td>\n",
       "      <td>NaN</td>\n",
       "      <td>NaN</td>\n",
       "      <td>NaN</td>\n",
       "      <td>NaN</td>\n",
       "      <td>NaN</td>\n",
       "      <td>NaN</td>\n",
       "      <td>...</td>\n",
       "      <td>981</td>\n",
       "      <td>800.978593</td>\n",
       "      <td>514.1375</td>\n",
       "      <td>0.429966</td>\n",
       "      <td>16.390591</td>\n",
       "      <td>0.069741</td>\n",
       "      <td>0.174312</td>\n",
       "      <td>0.260958</td>\n",
       "      <td>cat01</td>\n",
       "      <td>0.0</td>\n",
       "    </tr>\n",
       "    <tr>\n",
       "      <th>2</th>\n",
       "      <td>11558</td>\n",
       "      <td>41.891421</td>\n",
       "      <td>-87.641041</td>\n",
       "      <td>41.897380</td>\n",
       "      <td>-87.651233</td>\n",
       "      <td>41.892190</td>\n",
       "      <td>-87.645894</td>\n",
       "      <td>41.898590</td>\n",
       "      <td>-87.651771</td>\n",
       "      <td>41.892631</td>\n",
       "      <td>...</td>\n",
       "      <td>706</td>\n",
       "      <td>699.008499</td>\n",
       "      <td>231.2625</td>\n",
       "      <td>0.357551</td>\n",
       "      <td>12.856969</td>\n",
       "      <td>0.094956</td>\n",
       "      <td>0.100567</td>\n",
       "      <td>0.055241</td>\n",
       "      <td>cat01</td>\n",
       "      <td>0.0</td>\n",
       "    </tr>\n",
       "    <tr>\n",
       "      <th>3</th>\n",
       "      <td>463</td>\n",
       "      <td>41.894619</td>\n",
       "      <td>-87.664955</td>\n",
       "      <td>41.896899</td>\n",
       "      <td>-87.657375</td>\n",
       "      <td>41.899288</td>\n",
       "      <td>-87.667246</td>\n",
       "      <td>41.897670</td>\n",
       "      <td>-87.658840</td>\n",
       "      <td>41.900640</td>\n",
       "      <td>...</td>\n",
       "      <td>947</td>\n",
       "      <td>633.389652</td>\n",
       "      <td>391.8000</td>\n",
       "      <td>0.334950</td>\n",
       "      <td>14.844393</td>\n",
       "      <td>0.087593</td>\n",
       "      <td>0.271383</td>\n",
       "      <td>0.155227</td>\n",
       "      <td>cat04</td>\n",
       "      <td>0.0</td>\n",
       "    </tr>\n",
       "    <tr>\n",
       "      <th>4</th>\n",
       "      <td>2409</td>\n",
       "      <td>41.896174</td>\n",
       "      <td>-87.649482</td>\n",
       "      <td>41.896501</td>\n",
       "      <td>-87.647639</td>\n",
       "      <td>41.895677</td>\n",
       "      <td>-87.646345</td>\n",
       "      <td>41.896954</td>\n",
       "      <td>-87.644895</td>\n",
       "      <td>41.896052</td>\n",
       "      <td>...</td>\n",
       "      <td>917</td>\n",
       "      <td>714.956332</td>\n",
       "      <td>80.7750</td>\n",
       "      <td>0.454336</td>\n",
       "      <td>12.954656</td>\n",
       "      <td>0.077860</td>\n",
       "      <td>0.149400</td>\n",
       "      <td>0.030534</td>\n",
       "      <td>cat07</td>\n",
       "      <td>0.0</td>\n",
       "    </tr>\n",
       "  </tbody>\n",
       "</table>\n",
       "<p>5 rows × 55 columns</p>\n",
       "</div>"
      ],
      "text/plain": [
       "      ID       C_01       C_02       C_03       C_04       C_05       C_06  \\\n",
       "0    674  41.902848 -87.643360  41.901540 -87.648066  41.901002 -87.642246   \n",
       "1   7397        NaN        NaN        NaN        NaN        NaN        NaN   \n",
       "2  11558  41.891421 -87.641041  41.897380 -87.651233  41.892190 -87.645894   \n",
       "3    463  41.894619 -87.664955  41.896899 -87.657375  41.899288 -87.667246   \n",
       "4   2409  41.896174 -87.649482  41.896501 -87.647639  41.895677 -87.646345   \n",
       "\n",
       "        C_07       C_08       C_09  ...  C_45        C_46      C_47      C_48  \\\n",
       "0  41.901952 -87.649264  41.900381  ...  1114  607.755835   18.2125  0.442469   \n",
       "1        NaN        NaN        NaN  ...   981  800.978593  514.1375  0.429966   \n",
       "2  41.898590 -87.651771  41.892631  ...   706  699.008499  231.2625  0.357551   \n",
       "3  41.897670 -87.658840  41.900640  ...   947  633.389652  391.8000  0.334950   \n",
       "4  41.896954 -87.644895  41.896052  ...   917  714.956332   80.7750  0.454336   \n",
       "\n",
       "        C_49      C_50      C_51      C_52    D_1  TARGET  \n",
       "0  12.577837  0.089440  0.385996  0.013465  cat11     0.0  \n",
       "1  16.390591  0.069741  0.174312  0.260958  cat01     0.0  \n",
       "2  12.856969  0.094956  0.100567  0.055241  cat01     0.0  \n",
       "3  14.844393  0.087593  0.271383  0.155227  cat04     0.0  \n",
       "4  12.954656  0.077860  0.149400  0.030534  cat07     0.0  \n",
       "\n",
       "[5 rows x 55 columns]"
      ]
     },
     "execution_count": 3,
     "metadata": {},
     "output_type": "execute_result"
    }
   ],
   "source": [
    "data_train.head()"
   ]
  },
  {
   "cell_type": "markdown",
   "id": "9a8fb7ab-62db-41a8-a2d7-f4f288ae33aa",
   "metadata": {},
   "source": [
    "## Preprossesing"
   ]
  },
  {
   "cell_type": "code",
   "execution_count": 4,
   "id": "967a1491-d6cb-4b7c-bd5d-b1f4d633f1dc",
   "metadata": {
    "tags": []
   },
   "outputs": [],
   "source": [
    "df= data_train.copy()"
   ]
  },
  {
   "cell_type": "markdown",
   "id": "42d21c32-f682-4712-888f-27a416d3c1dd",
   "metadata": {},
   "source": [
    "### See Nan"
   ]
  },
  {
   "cell_type": "code",
   "execution_count": 5,
   "id": "cb5f6120-2589-4f20-aebf-4f66d9898665",
   "metadata": {
    "tags": []
   },
   "outputs": [
    {
     "data": {
      "text/plain": [
       "<Axes: >"
      ]
     },
     "execution_count": 5,
     "metadata": {},
     "output_type": "execute_result"
    },
    {
     "data": {
      "image/png": "[encoded data removed]",
      "text/plain": [
       "<Figure size 2500x1000 with 2 Axes>"
      ]
     },
     "metadata": {},
     "output_type": "display_data"
    }
   ],
   "source": [
    "msno.matrix(df)"
   ]
  },
  {
   "cell_type": "code",
   "execution_count": 6,
   "id": "fa1cffe1-217d-40a4-ba64-63e0821a9771",
   "metadata": {
    "tags": []
   },
   "outputs": [],
   "source": [
    "aux=df.isna().mean()"
   ]
  },
  {
   "cell_type": "code",
   "execution_count": 7,
   "id": "57646cf5-5ca1-426e-b976-91fd4d07b59f",
   "metadata": {
    "tags": []
   },
   "outputs": [],
   "source": [
    "ls_drop= []\n",
    "ls_full=[]\n",
    "for index,value in aux.items():\n",
    "    if(value>.3):\n",
    "        ls_drop.append(index)\n",
    "    else:\n",
    "        if(value==0):\n",
    "            ls_full.append(index)"
   ]
  },
  {
   "cell_type": "code",
   "execution_count": 8,
   "id": "53261798-06a3-4ec7-9e06-649d0bbb7652",
   "metadata": {
    "tags": []
   },
   "outputs": [],
   "source": [
    "ls_full= ls_full[1:-1]"
   ]
  },
  {
   "cell_type": "code",
   "execution_count": 9,
   "id": "222328a4-dfde-44ae-b0c2-b9dbf6583640",
   "metadata": {
    "tags": []
   },
   "outputs": [],
   "source": [
    "df_aux= df.drop(columns=ls_drop)"
   ]
  },
  {
   "cell_type": "code",
   "execution_count": 10,
   "id": "9ed64be7-c6df-4543-9e3f-f10537764a0d",
   "metadata": {
    "tags": []
   },
   "outputs": [
    {
     "data": {
      "text/plain": [
       "<Axes: >"
      ]
     },
     "execution_count": 10,
     "metadata": {},
     "output_type": "execute_result"
    },
    {
     "data": {
      "image/png": "[encoded data removed]",
      "text/plain": [
       "<Figure size 2500x1000 with 2 Axes>"
      ]
     },
     "metadata": {},
     "output_type": "display_data"
    }
   ],
   "source": [
    "msno.matrix(df_aux)"
   ]
  },
  {
   "cell_type": "markdown",
   "id": "4d591917-ec9d-404c-8b07-4975243932e1",
   "metadata": {},
   "source": [
    "### Correlation"
   ]
  },
  {
   "cell_type": "code",
   "execution_count": 11,
   "id": "d077de90-3564-46a6-b554-8f2a11f43c8c",
   "metadata": {
    "tags": []
   },
   "outputs": [
    {
     "name": "stderr",
     "output_type": "stream",
     "text": [
      "/tmp/ipykernel_4218/910014618.py:1: FutureWarning: The default value of numeric_only in DataFrame.corr is deprecated. In a future version, it will default to False. Select only valid columns or specify the value of numeric_only to silence this warning.\n",
      "  sns.heatmap(df_aux.corr())\n"
     ]
    },
    {
     "data": {
      "text/plain": [
       "<Axes: >"
      ]
     },
     "execution_count": 11,
     "metadata": {},
     "output_type": "execute_result"
    },
    {
     "data": {
      "image/png": "[encoded data removed]",
      "text/plain": [
       "<Figure size 640x480 with 2 Axes>"
      ]
     },
     "metadata": {},
     "output_type": "display_data"
    }
   ],
   "source": [
    "sns.heatmap(df_aux.corr())"
   ]
  },
  {
   "cell_type": "code",
   "execution_count": 12,
   "id": "3e3ec420-5459-48db-b387-0bf7c6904fa1",
   "metadata": {
    "tags": []
   },
   "outputs": [
    {
     "name": "stderr",
     "output_type": "stream",
     "text": [
      "/tmp/ipykernel_4218/341250266.py:1: FutureWarning: The default value of numeric_only in DataFrame.corr is deprecated. In a future version, it will default to False. Select only valid columns or specify the value of numeric_only to silence this warning.\n",
      "  df_correlation= df_aux.corr()[ls_full[:-1]].copy()\n"
     ]
    }
   ],
   "source": [
    "df_correlation= df_aux.corr()[ls_full[:-1]].copy()"
   ]
  },
  {
   "cell_type": "code",
   "execution_count": 13,
   "id": "c360a881-e33c-449d-af9c-8522d8f7da4c",
   "metadata": {
    "tags": []
   },
   "outputs": [],
   "source": [
    "df_correlation[\"correlaciones\"]=(df_correlation>abs(.3)).sum(axis=1)"
   ]
  },
  {
   "cell_type": "code",
   "execution_count": 14,
   "id": "80a1c53a-c092-4271-ac63-874b2fa55fe8",
   "metadata": {
    "tags": []
   },
   "outputs": [
    {
     "data": {
      "text/html": [
       "<div>\n",
       "<style scoped>\n",
       "    .dataframe tbody tr th:only-of-type {\n",
       "        vertical-align: middle;\n",
       "    }\n",
       "\n",
       "    .dataframe tbody tr th {\n",
       "        vertical-align: top;\n",
       "    }\n",
       "\n",
       "    .dataframe thead th {\n",
       "        text-align: right;\n",
       "    }\n",
       "</style>\n",
       "<table border=\"1\" class=\"dataframe\">\n",
       "  <thead>\n",
       "    <tr style=\"text-align: right;\">\n",
       "      <th></th>\n",
       "      <th>C_44</th>\n",
       "      <th>C_45</th>\n",
       "      <th>C_46</th>\n",
       "      <th>C_47</th>\n",
       "      <th>C_49</th>\n",
       "      <th>C_51</th>\n",
       "      <th>C_52</th>\n",
       "      <th>correlaciones</th>\n",
       "    </tr>\n",
       "  </thead>\n",
       "  <tbody>\n",
       "    <tr>\n",
       "      <th>ID</th>\n",
       "      <td>-0.063391</td>\n",
       "      <td>-0.065227</td>\n",
       "      <td>0.034393</td>\n",
       "      <td>0.055705</td>\n",
       "      <td>0.052476</td>\n",
       "      <td>-0.038982</td>\n",
       "      <td>0.016543</td>\n",
       "      <td>0</td>\n",
       "    </tr>\n",
       "    <tr>\n",
       "      <th>C_23</th>\n",
       "      <td>0.289543</td>\n",
       "      <td>-0.044930</td>\n",
       "      <td>-0.159630</td>\n",
       "      <td>-0.139801</td>\n",
       "      <td>-0.036400</td>\n",
       "      <td>-0.005015</td>\n",
       "      <td>-0.145065</td>\n",
       "      <td>0</td>\n",
       "    </tr>\n",
       "    <tr>\n",
       "      <th>C_39</th>\n",
       "      <td>-0.439874</td>\n",
       "      <td>0.117909</td>\n",
       "      <td>0.120374</td>\n",
       "      <td>0.091290</td>\n",
       "      <td>-0.397411</td>\n",
       "      <td>0.110452</td>\n",
       "      <td>0.147074</td>\n",
       "      <td>0</td>\n",
       "    </tr>\n",
       "    <tr>\n",
       "      <th>C_48</th>\n",
       "      <td>-0.445300</td>\n",
       "      <td>0.099843</td>\n",
       "      <td>0.081171</td>\n",
       "      <td>0.081292</td>\n",
       "      <td>-0.419273</td>\n",
       "      <td>0.125741</td>\n",
       "      <td>0.134795</td>\n",
       "      <td>0</td>\n",
       "    </tr>\n",
       "    <tr>\n",
       "      <th>TARGET</th>\n",
       "      <td>-0.459810</td>\n",
       "      <td>-0.437863</td>\n",
       "      <td>-0.173213</td>\n",
       "      <td>-0.171441</td>\n",
       "      <td>0.183753</td>\n",
       "      <td>-0.116066</td>\n",
       "      <td>0.030562</td>\n",
       "      <td>0</td>\n",
       "    </tr>\n",
       "  </tbody>\n",
       "</table>\n",
       "</div>"
      ],
      "text/plain": [
       "            C_44      C_45      C_46      C_47      C_49      C_51      C_52  \\\n",
       "ID     -0.063391 -0.065227  0.034393  0.055705  0.052476 -0.038982  0.016543   \n",
       "C_23    0.289543 -0.044930 -0.159630 -0.139801 -0.036400 -0.005015 -0.145065   \n",
       "C_39   -0.439874  0.117909  0.120374  0.091290 -0.397411  0.110452  0.147074   \n",
       "C_48   -0.445300  0.099843  0.081171  0.081292 -0.419273  0.125741  0.134795   \n",
       "TARGET -0.459810 -0.437863 -0.173213 -0.171441  0.183753 -0.116066  0.030562   \n",
       "\n",
       "        correlaciones  \n",
       "ID                  0  \n",
       "C_23                0  \n",
       "C_39                0  \n",
       "C_48                0  \n",
       "TARGET              0  "
      ]
     },
     "execution_count": 14,
     "metadata": {},
     "output_type": "execute_result"
    }
   ],
   "source": [
    "df_correlation[df_correlation.correlaciones==0]"
   ]
  },
  {
   "cell_type": "code",
   "execution_count": 15,
   "id": "acb9195a-a496-4342-9d1f-af4b2b309ca0",
   "metadata": {
    "tags": []
   },
   "outputs": [],
   "source": [
    "ls_options=[\"C_23\",\"C_39\",\"C_48\"]"
   ]
  },
  {
   "cell_type": "code",
   "execution_count": 16,
   "id": "ace8c923-f1f5-4f07-9510-6c7a751388ba",
   "metadata": {
    "tags": []
   },
   "outputs": [
    {
     "name": "stderr",
     "output_type": "stream",
     "text": [
      "/tmp/ipykernel_4218/2637937249.py:1: FutureWarning: The default value of numeric_only in DataFrame.corr is deprecated. In a future version, it will default to False. Select only valid columns or specify the value of numeric_only to silence this warning.\n",
      "  df_aux.corr()[ls_options]>.3\n"
     ]
    },
    {
     "data": {
      "text/html": [
       "<div>\n",
       "<style scoped>\n",
       "    .dataframe tbody tr th:only-of-type {\n",
       "        vertical-align: middle;\n",
       "    }\n",
       "\n",
       "    .dataframe tbody tr th {\n",
       "        vertical-align: top;\n",
       "    }\n",
       "\n",
       "    .dataframe thead th {\n",
       "        text-align: right;\n",
       "    }\n",
       "</style>\n",
       "<table border=\"1\" class=\"dataframe\">\n",
       "  <thead>\n",
       "    <tr style=\"text-align: right;\">\n",
       "      <th></th>\n",
       "      <th>C_23</th>\n",
       "      <th>C_39</th>\n",
       "      <th>C_48</th>\n",
       "    </tr>\n",
       "  </thead>\n",
       "  <tbody>\n",
       "    <tr>\n",
       "      <th>ID</th>\n",
       "      <td>False</td>\n",
       "      <td>False</td>\n",
       "      <td>False</td>\n",
       "    </tr>\n",
       "    <tr>\n",
       "      <th>C_17</th>\n",
       "      <td>True</td>\n",
       "      <td>False</td>\n",
       "      <td>False</td>\n",
       "    </tr>\n",
       "    <tr>\n",
       "      <th>C_18</th>\n",
       "      <td>False</td>\n",
       "      <td>False</td>\n",
       "      <td>False</td>\n",
       "    </tr>\n",
       "    <tr>\n",
       "      <th>C_19</th>\n",
       "      <td>False</td>\n",
       "      <td>False</td>\n",
       "      <td>False</td>\n",
       "    </tr>\n",
       "    <tr>\n",
       "      <th>C_20</th>\n",
       "      <td>False</td>\n",
       "      <td>False</td>\n",
       "      <td>False</td>\n",
       "    </tr>\n",
       "    <tr>\n",
       "      <th>C_22</th>\n",
       "      <td>False</td>\n",
       "      <td>False</td>\n",
       "      <td>False</td>\n",
       "    </tr>\n",
       "    <tr>\n",
       "      <th>C_23</th>\n",
       "      <td>True</td>\n",
       "      <td>False</td>\n",
       "      <td>False</td>\n",
       "    </tr>\n",
       "    <tr>\n",
       "      <th>C_24</th>\n",
       "      <td>False</td>\n",
       "      <td>False</td>\n",
       "      <td>False</td>\n",
       "    </tr>\n",
       "    <tr>\n",
       "      <th>C_25</th>\n",
       "      <td>False</td>\n",
       "      <td>False</td>\n",
       "      <td>False</td>\n",
       "    </tr>\n",
       "    <tr>\n",
       "      <th>C_26</th>\n",
       "      <td>True</td>\n",
       "      <td>False</td>\n",
       "      <td>False</td>\n",
       "    </tr>\n",
       "    <tr>\n",
       "      <th>C_27</th>\n",
       "      <td>False</td>\n",
       "      <td>False</td>\n",
       "      <td>False</td>\n",
       "    </tr>\n",
       "    <tr>\n",
       "      <th>C_28</th>\n",
       "      <td>False</td>\n",
       "      <td>False</td>\n",
       "      <td>False</td>\n",
       "    </tr>\n",
       "    <tr>\n",
       "      <th>C_29</th>\n",
       "      <td>False</td>\n",
       "      <td>False</td>\n",
       "      <td>False</td>\n",
       "    </tr>\n",
       "    <tr>\n",
       "      <th>C_31</th>\n",
       "      <td>False</td>\n",
       "      <td>False</td>\n",
       "      <td>False</td>\n",
       "    </tr>\n",
       "    <tr>\n",
       "      <th>C_32</th>\n",
       "      <td>True</td>\n",
       "      <td>False</td>\n",
       "      <td>False</td>\n",
       "    </tr>\n",
       "    <tr>\n",
       "      <th>C_33</th>\n",
       "      <td>False</td>\n",
       "      <td>False</td>\n",
       "      <td>False</td>\n",
       "    </tr>\n",
       "    <tr>\n",
       "      <th>C_34</th>\n",
       "      <td>False</td>\n",
       "      <td>False</td>\n",
       "      <td>False</td>\n",
       "    </tr>\n",
       "    <tr>\n",
       "      <th>C_35</th>\n",
       "      <td>False</td>\n",
       "      <td>False</td>\n",
       "      <td>False</td>\n",
       "    </tr>\n",
       "    <tr>\n",
       "      <th>C_36</th>\n",
       "      <td>False</td>\n",
       "      <td>False</td>\n",
       "      <td>False</td>\n",
       "    </tr>\n",
       "    <tr>\n",
       "      <th>C_37</th>\n",
       "      <td>False</td>\n",
       "      <td>False</td>\n",
       "      <td>False</td>\n",
       "    </tr>\n",
       "    <tr>\n",
       "      <th>C_38</th>\n",
       "      <td>False</td>\n",
       "      <td>False</td>\n",
       "      <td>False</td>\n",
       "    </tr>\n",
       "    <tr>\n",
       "      <th>C_39</th>\n",
       "      <td>False</td>\n",
       "      <td>True</td>\n",
       "      <td>True</td>\n",
       "    </tr>\n",
       "    <tr>\n",
       "      <th>C_40</th>\n",
       "      <td>False</td>\n",
       "      <td>False</td>\n",
       "      <td>False</td>\n",
       "    </tr>\n",
       "    <tr>\n",
       "      <th>C_41</th>\n",
       "      <td>True</td>\n",
       "      <td>False</td>\n",
       "      <td>False</td>\n",
       "    </tr>\n",
       "    <tr>\n",
       "      <th>C_42</th>\n",
       "      <td>False</td>\n",
       "      <td>False</td>\n",
       "      <td>False</td>\n",
       "    </tr>\n",
       "    <tr>\n",
       "      <th>C_43</th>\n",
       "      <td>False</td>\n",
       "      <td>False</td>\n",
       "      <td>False</td>\n",
       "    </tr>\n",
       "    <tr>\n",
       "      <th>C_44</th>\n",
       "      <td>False</td>\n",
       "      <td>False</td>\n",
       "      <td>False</td>\n",
       "    </tr>\n",
       "    <tr>\n",
       "      <th>C_45</th>\n",
       "      <td>False</td>\n",
       "      <td>False</td>\n",
       "      <td>False</td>\n",
       "    </tr>\n",
       "    <tr>\n",
       "      <th>C_46</th>\n",
       "      <td>False</td>\n",
       "      <td>False</td>\n",
       "      <td>False</td>\n",
       "    </tr>\n",
       "    <tr>\n",
       "      <th>C_47</th>\n",
       "      <td>False</td>\n",
       "      <td>False</td>\n",
       "      <td>False</td>\n",
       "    </tr>\n",
       "    <tr>\n",
       "      <th>C_48</th>\n",
       "      <td>False</td>\n",
       "      <td>True</td>\n",
       "      <td>True</td>\n",
       "    </tr>\n",
       "    <tr>\n",
       "      <th>C_49</th>\n",
       "      <td>False</td>\n",
       "      <td>False</td>\n",
       "      <td>False</td>\n",
       "    </tr>\n",
       "    <tr>\n",
       "      <th>C_50</th>\n",
       "      <td>True</td>\n",
       "      <td>False</td>\n",
       "      <td>False</td>\n",
       "    </tr>\n",
       "    <tr>\n",
       "      <th>C_51</th>\n",
       "      <td>False</td>\n",
       "      <td>False</td>\n",
       "      <td>False</td>\n",
       "    </tr>\n",
       "    <tr>\n",
       "      <th>C_52</th>\n",
       "      <td>False</td>\n",
       "      <td>False</td>\n",
       "      <td>False</td>\n",
       "    </tr>\n",
       "    <tr>\n",
       "      <th>TARGET</th>\n",
       "      <td>False</td>\n",
       "      <td>False</td>\n",
       "      <td>False</td>\n",
       "    </tr>\n",
       "  </tbody>\n",
       "</table>\n",
       "</div>"
      ],
      "text/plain": [
       "         C_23   C_39   C_48\n",
       "ID      False  False  False\n",
       "C_17     True  False  False\n",
       "C_18    False  False  False\n",
       "C_19    False  False  False\n",
       "C_20    False  False  False\n",
       "C_22    False  False  False\n",
       "C_23     True  False  False\n",
       "C_24    False  False  False\n",
       "C_25    False  False  False\n",
       "C_26     True  False  False\n",
       "C_27    False  False  False\n",
       "C_28    False  False  False\n",
       "C_29    False  False  False\n",
       "C_31    False  False  False\n",
       "C_32     True  False  False\n",
       "C_33    False  False  False\n",
       "C_34    False  False  False\n",
       "C_35    False  False  False\n",
       "C_36    False  False  False\n",
       "C_37    False  False  False\n",
       "C_38    False  False  False\n",
       "C_39    False   True   True\n",
       "C_40    False  False  False\n",
       "C_41     True  False  False\n",
       "C_42    False  False  False\n",
       "C_43    False  False  False\n",
       "C_44    False  False  False\n",
       "C_45    False  False  False\n",
       "C_46    False  False  False\n",
       "C_47    False  False  False\n",
       "C_48    False   True   True\n",
       "C_49    False  False  False\n",
       "C_50     True  False  False\n",
       "C_51    False  False  False\n",
       "C_52    False  False  False\n",
       "TARGET  False  False  False"
      ]
     },
     "execution_count": 16,
     "metadata": {},
     "output_type": "execute_result"
    }
   ],
   "source": [
    "df_aux.corr()[ls_options]>.3"
   ]
  },
  {
   "cell_type": "code",
   "execution_count": 17,
   "id": "6659dfb4-8e3c-45d0-ab10-eedffffe3143",
   "metadata": {
    "tags": []
   },
   "outputs": [],
   "source": [
    "ls_best=[\"C_23\",\"C_44\",\"C_46\",\"C_49\",\"C_51\",\"C_52\",\"D_1\"]"
   ]
  },
  {
   "cell_type": "markdown",
   "id": "cf5d6c0c-2036-4d50-a5e0-be9689efb6fa",
   "metadata": {},
   "source": [
    "### Fill nan"
   ]
  },
  {
   "cell_type": "code",
   "execution_count": 18,
   "id": "69bc5eed-21f3-4d46-8ba9-6742e122824c",
   "metadata": {
    "tags": []
   },
   "outputs": [
    {
     "data": {
      "text/plain": [
       "<Axes: >"
      ]
     },
     "execution_count": 18,
     "metadata": {},
     "output_type": "execute_result"
    },
    {
     "data": {
      "image/png": "[encoded data removed]",
      "text/plain": [
       "<Figure size 2500x1000 with 2 Axes>"
      ]
     },
     "metadata": {},
     "output_type": "display_data"
    }
   ],
   "source": [
    "msno.matrix(df[ls_best])"
   ]
  },
  {
   "cell_type": "code",
   "execution_count": 19,
   "id": "3ca5e5a6-68c6-4176-99a3-0ab359101805",
   "metadata": {
    "tags": []
   },
   "outputs": [
    {
     "data": {
      "text/plain": [
       "C_23    0.13966\n",
       "C_44    0.00000\n",
       "C_46    0.00000\n",
       "C_49    0.00000\n",
       "C_51    0.00000\n",
       "C_52    0.00000\n",
       "D_1     0.00000\n",
       "dtype: float64"
      ]
     },
     "execution_count": 19,
     "metadata": {},
     "output_type": "execute_result"
    }
   ],
   "source": [
    "df[ls_best].isna().mean()"
   ]
  },
  {
   "cell_type": "code",
   "execution_count": 20,
   "id": "9501968a-0e1c-4d17-9aa1-b35318d8781e",
   "metadata": {
    "tags": []
   },
   "outputs": [],
   "source": [
    "df_clean=df[[\"ID\"]+ls_best[:-1]].fillna(df[ls_best[:-1]].median()).copy()\n",
    "df_clean[\"D_1\"]= df[[\"D_1\"]].fillna(df[\"D_1\"].mode()[0])\n",
    "df_clean[\"TARGET\"]= df[\"TARGET\"]"
   ]
  },
  {
   "cell_type": "code",
   "execution_count": 21,
   "id": "4f93f27a-04ed-41ee-94a3-1737bd40f9d1",
   "metadata": {
    "tags": []
   },
   "outputs": [
    {
     "data": {
      "text/html": [
       "<div>\n",
       "<style scoped>\n",
       "    .dataframe tbody tr th:only-of-type {\n",
       "        vertical-align: middle;\n",
       "    }\n",
       "\n",
       "    .dataframe tbody tr th {\n",
       "        vertical-align: top;\n",
       "    }\n",
       "\n",
       "    .dataframe thead th {\n",
       "        text-align: right;\n",
       "    }\n",
       "</style>\n",
       "<table border=\"1\" class=\"dataframe\">\n",
       "  <thead>\n",
       "    <tr style=\"text-align: right;\">\n",
       "      <th></th>\n",
       "      <th>ID</th>\n",
       "      <th>C_23</th>\n",
       "      <th>C_44</th>\n",
       "      <th>C_46</th>\n",
       "      <th>C_49</th>\n",
       "      <th>C_51</th>\n",
       "      <th>C_52</th>\n",
       "      <th>D_1</th>\n",
       "      <th>TARGET</th>\n",
       "    </tr>\n",
       "  </thead>\n",
       "  <tbody>\n",
       "    <tr>\n",
       "      <th>0</th>\n",
       "      <td>674</td>\n",
       "      <td>0.076062</td>\n",
       "      <td>1416.46</td>\n",
       "      <td>607.755835</td>\n",
       "      <td>12.577837</td>\n",
       "      <td>0.385996</td>\n",
       "      <td>0.013465</td>\n",
       "      <td>cat11</td>\n",
       "      <td>0.0</td>\n",
       "    </tr>\n",
       "    <tr>\n",
       "      <th>1</th>\n",
       "      <td>7397</td>\n",
       "      <td>0.079347</td>\n",
       "      <td>1504.42</td>\n",
       "      <td>800.978593</td>\n",
       "      <td>16.390591</td>\n",
       "      <td>0.174312</td>\n",
       "      <td>0.260958</td>\n",
       "      <td>cat01</td>\n",
       "      <td>0.0</td>\n",
       "    </tr>\n",
       "    <tr>\n",
       "      <th>2</th>\n",
       "      <td>11558</td>\n",
       "      <td>0.107815</td>\n",
       "      <td>1065.77</td>\n",
       "      <td>699.008499</td>\n",
       "      <td>12.856969</td>\n",
       "      <td>0.100567</td>\n",
       "      <td>0.055241</td>\n",
       "      <td>cat01</td>\n",
       "      <td>0.0</td>\n",
       "    </tr>\n",
       "    <tr>\n",
       "      <th>3</th>\n",
       "      <td>463</td>\n",
       "      <td>0.078138</td>\n",
       "      <td>1385.09</td>\n",
       "      <td>633.389652</td>\n",
       "      <td>14.844393</td>\n",
       "      <td>0.271383</td>\n",
       "      <td>0.155227</td>\n",
       "      <td>cat04</td>\n",
       "      <td>0.0</td>\n",
       "    </tr>\n",
       "    <tr>\n",
       "      <th>4</th>\n",
       "      <td>2409</td>\n",
       "      <td>0.076502</td>\n",
       "      <td>1067.92</td>\n",
       "      <td>714.956332</td>\n",
       "      <td>12.954656</td>\n",
       "      <td>0.149400</td>\n",
       "      <td>0.030534</td>\n",
       "      <td>cat07</td>\n",
       "      <td>0.0</td>\n",
       "    </tr>\n",
       "  </tbody>\n",
       "</table>\n",
       "</div>"
      ],
      "text/plain": [
       "      ID      C_23     C_44        C_46       C_49      C_51      C_52    D_1  \\\n",
       "0    674  0.076062  1416.46  607.755835  12.577837  0.385996  0.013465  cat11   \n",
       "1   7397  0.079347  1504.42  800.978593  16.390591  0.174312  0.260958  cat01   \n",
       "2  11558  0.107815  1065.77  699.008499  12.856969  0.100567  0.055241  cat01   \n",
       "3    463  0.078138  1385.09  633.389652  14.844393  0.271383  0.155227  cat04   \n",
       "4   2409  0.076502  1067.92  714.956332  12.954656  0.149400  0.030534  cat07   \n",
       "\n",
       "   TARGET  \n",
       "0     0.0  \n",
       "1     0.0  \n",
       "2     0.0  \n",
       "3     0.0  \n",
       "4     0.0  "
      ]
     },
     "execution_count": 21,
     "metadata": {},
     "output_type": "execute_result"
    }
   ],
   "source": [
    "df_clean.head()"
   ]
  },
  {
   "cell_type": "markdown",
   "id": "6ab06da1-2d0d-486a-9613-63888bdf61cb",
   "metadata": {},
   "source": [
    "### Label encoder"
   ]
  },
  {
   "cell_type": "code",
   "execution_count": 22,
   "id": "9b0a8af4-0eca-4aa3-bfd7-e09fea640da6",
   "metadata": {
    "tags": []
   },
   "outputs": [],
   "source": [
    "le = LabelEncoder()\n",
    "df_clean[\"D_1\"]= le.fit_transform(df[\"D_1\"])"
   ]
  },
  {
   "cell_type": "code",
   "execution_count": 23,
   "id": "4a15d9f1-209d-4aa4-8f52-222702a4a859",
   "metadata": {
    "tags": []
   },
   "outputs": [],
   "source": [
    "filename = 'label_encoder.sav'\n",
    "pickle.dump(le, open(filename, 'wb'))"
   ]
  },
  {
   "cell_type": "markdown",
   "id": "82683dc4-dd95-4da2-82e0-4578a66c3f49",
   "metadata": {},
   "source": [
    "### Scaling"
   ]
  },
  {
   "cell_type": "code",
   "execution_count": 24,
   "id": "95a14aa0-123c-4ca0-88bb-c3a054ab199f",
   "metadata": {
    "tags": []
   },
   "outputs": [],
   "source": [
    "X=df_clean.iloc[:,1:-1].values\n",
    "y=df_clean.iloc[:,-1].values"
   ]
  },
  {
   "cell_type": "code",
   "execution_count": 25,
   "id": "6f71b912-f043-409e-81d8-f8e94d836161",
   "metadata": {
    "tags": []
   },
   "outputs": [],
   "source": [
    "sx= MinMaxScaler()\n",
    "Xs= sx.fit_transform(X)"
   ]
  },
  {
   "cell_type": "code",
   "execution_count": 26,
   "id": "c2f48e2f-d2d3-4ebd-a60f-5a68d786ea2e",
   "metadata": {
    "tags": []
   },
   "outputs": [],
   "source": [
    "filename = 'MinMax.sav'\n",
    "pickle.dump(sx, open(filename, 'wb'))"
   ]
  },
  {
   "cell_type": "code",
   "execution_count": 27,
   "id": "24817d69-f95e-41a1-bad7-1aea0d5b7f08",
   "metadata": {
    "tags": []
   },
   "outputs": [],
   "source": [
    "ls_var= [x for x in df_clean.columns]"
   ]
  },
  {
   "cell_type": "code",
   "execution_count": 28,
   "id": "11fd75ba-9be2-4b46-9cbc-1eff7c2087c8",
   "metadata": {},
   "outputs": [],
   "source": [
    "def cleaner(df,ls_var):\n",
    "    ls_drop= [x for x in df.columns if x not in ls_var]\n",
    "    df.drop(columns= ls_drop, inplace= True)\n",
    "    ls_cont= ls_var[1:-2]\n",
    "    ls_dis= ls_var[-2]\n",
    "    df[ls_cont]= df[ls_cont].fillna(df[ls_cont].median()).copy()\n",
    "    df[ls_dis]=df[ls_dis].fillna(df[ls_dis].mode()[0]).copy()\n",
    "    return df"
   ]
  },
  {
   "cell_type": "code",
   "execution_count": 29,
   "id": "173d42e7-8e58-4825-bc0f-5c19168ded3b",
   "metadata": {
    "tags": []
   },
   "outputs": [],
   "source": [
    "df_valid= pd.read_csv(\"BootstrapingData/valid.csv\")"
   ]
  },
  {
   "cell_type": "code",
   "execution_count": 30,
   "id": "dd19bfda-291d-4413-b0f5-90388ab45a45",
   "metadata": {
    "tags": []
   },
   "outputs": [],
   "source": [
    "df_valid_clean= cleaner(df_valid, ls_var)\n",
    "df_valid_clean[\"D_1\"]= le.fit_transform(df_valid_clean[\"D_1\"])"
   ]
  },
  {
   "cell_type": "code",
   "execution_count": 31,
   "id": "8a39e7e7-5734-439f-9176-94f899a2ab4e",
   "metadata": {
    "tags": []
   },
   "outputs": [],
   "source": [
    "X_valid=df_valid_clean.iloc[:,1:-1].values\n",
    "y_valid=df_valid_clean.iloc[:,-1].values"
   ]
  },
  {
   "cell_type": "code",
   "execution_count": 32,
   "id": "80354d45-d626-43de-984b-32464d2a491d",
   "metadata": {
    "tags": []
   },
   "outputs": [],
   "source": [
    "Xs_valid= sx.transform(X_valid)"
   ]
  },
  {
   "cell_type": "markdown",
   "id": "57d65508-f8f4-4cb3-abdd-1edffb25a6f2",
   "metadata": {},
   "source": [
    "## Bootstraping"
   ]
  },
  {
   "cell_type": "markdown",
   "id": "ee493bb3-3942-4427-9d55-62170a7606f9",
   "metadata": {},
   "source": [
    "### Confidence interval"
   ]
  },
  {
   "cell_type": "markdown",
   "id": "f366d37e-0181-4c6d-92d5-c8bb9961a24e",
   "metadata": {},
   "source": [
    "#### Logistic regression"
   ]
  },
  {
   "cell_type": "code",
   "execution_count": 34,
   "id": "8c7728bb-c379-46b8-a512-c112826b342e",
   "metadata": {
    "scrolled": true,
    "tags": []
   },
   "outputs": [],
   "source": [
    "N=500\n",
    "T= 1000\n",
    "ls=[x for x in range(len(df_clean))]\n",
    "ls_auc= []\n",
    "for t in range(T):\n",
    "    sample = np.random.choice(ls,size=N,replace=True)\n",
    "    X_sample= Xs[sample,:]\n",
    "    y_sample= y[sample]\n",
    "    ls_rest= [x for x in ls if x not in sample]\n",
    "    clf = LogisticRegression(random_state=t, max_iter=200).fit(X_sample, y_sample)\n",
    "    y_pred_proba= clf.predict_proba(Xs[ls_rest,:])[:,1]\n",
    "    auc = roc_auc_score(y[ls_rest], y_pred_proba)\n",
    "    ls_auc.append(auc)"
   ]
  },
  {
   "cell_type": "code",
   "execution_count": 35,
   "id": "8abeb995-d41e-4527-a7c9-d76bbbb7356c",
   "metadata": {
    "tags": []
   },
   "outputs": [],
   "source": [
    "auc_dist_log= np.array(ls_auc)"
   ]
  },
  {
   "cell_type": "code",
   "execution_count": 49,
   "id": "caffb80c-2dbf-4ed1-a871-6cc4e0f79025",
   "metadata": {
    "tags": []
   },
   "outputs": [
    {
     "name": "stdout",
     "output_type": "stream",
     "text": [
      "Intervalo de confianza de AUC con regresiones lógisticas \n",
      "[0.8384150278576832,0.8658619565282353]\n"
     ]
    },
    {
     "data": {
      "image/png": "[encoded data removed]",
      "text/plain": [
       "<Figure size 500x500 with 1 Axes>"
      ]
     },
     "metadata": {},
     "output_type": "display_data"
    }
   ],
   "source": [
    "alpha = 0.05\n",
    "sns.displot(auc_dist_log,cumulative=False,kde=True)\n",
    "lb,ub = np.quantile(auc_dist_log,q=alpha/2),np.quantile(auc_dist_log,q=1-alpha/2)\n",
    "\n",
    "print(f'Intervalo de confianza de AUC con regresiones lógisticas \\n[{lb},{ub}]')"
   ]
  },
  {
   "cell_type": "markdown",
   "id": "8acd0ee8-5364-4824-b73c-1bfc834353c8",
   "metadata": {},
   "source": [
    "#### SVC"
   ]
  },
  {
   "cell_type": "code",
   "execution_count": 37,
   "id": "a25cd445-beee-4734-a791-4ef3520ccab0",
   "metadata": {
    "tags": []
   },
   "outputs": [],
   "source": [
    "N=500\n",
    "T= 1000\n",
    "ls=[x for x in range(len(df_clean))]\n",
    "ls_auc= []\n",
    "for t in range(T):\n",
    "    sample = np.random.choice(ls,size=N,replace=True)\n",
    "    X_sample= Xs[sample,:]\n",
    "    y_sample= y[sample]\n",
    "    ls_rest= [x for x in ls if x not in sample]\n",
    "    clf = SVC(random_state=t,probability=True).fit(X_sample, y_sample)\n",
    "    y_pred_proba= clf.predict_proba(Xs[ls_rest])[:,1]\n",
    "    auc = roc_auc_score(y[ls_rest], y_pred_proba)\n",
    "    ls_auc.append(auc)"
   ]
  },
  {
   "cell_type": "code",
   "execution_count": 38,
   "id": "32b9b517-93b5-4d54-8551-6d57d9e5f68f",
   "metadata": {
    "tags": []
   },
   "outputs": [],
   "source": [
    "auc_dist_svc= np.array(ls_auc)"
   ]
  },
  {
   "cell_type": "code",
   "execution_count": 50,
   "id": "2ee25f63-ff8e-4a0d-aee9-dac32f95d0cd",
   "metadata": {
    "tags": []
   },
   "outputs": [
    {
     "name": "stdout",
     "output_type": "stream",
     "text": [
      "Intervalo de confianza de AUC con SVM \n",
      "[0.8436917326798874,0.9131211840213987]\n"
     ]
    },
    {
     "data": {
      "image/png": "[encoded data removed]",
      "text/plain": [
       "<Figure size 500x500 with 1 Axes>"
      ]
     },
     "metadata": {},
     "output_type": "display_data"
    }
   ],
   "source": [
    "alpha = 0.05\n",
    "sns.displot(auc_dist_svc,cumulative=False,kde=True)\n",
    "lb,ub = np.quantile(auc_dist_svc,q=alpha/2),np.quantile(auc_dist_svc,q=1-alpha/2)\n",
    "\n",
    "print(f'Intervalo de confianza de AUC con SVM \\n[{lb},{ub}]')"
   ]
  },
  {
   "cell_type": "markdown",
   "id": "6d1aacb6-4510-477d-ac44-40ef6b1b38b0",
   "metadata": {},
   "source": [
    "#### Decision tree"
   ]
  },
  {
   "cell_type": "code",
   "execution_count": 40,
   "id": "fbe4d663-1f14-4904-8374-69b99bfd2208",
   "metadata": {
    "tags": []
   },
   "outputs": [],
   "source": [
    "N=500\n",
    "T= 1000\n",
    "ls=[x for x in range(len(df_clean))]\n",
    "ls_auc= []\n",
    "for t in range(T):\n",
    "    sample = np.random.choice(ls,size=N,replace=True)\n",
    "    X_sample= Xs[sample,:]\n",
    "    y_sample= y[sample]\n",
    "    ls_rest= [x for x in ls if x not in sample]\n",
    "    clf =DecisionTreeClassifier(random_state=t, min_samples_leaf=5).fit(X_sample, y_sample)\n",
    "    y_pred_proba= clf.predict_proba(Xs[ls_rest])[:,1]\n",
    "    auc = roc_auc_score(y[ls_rest], y_pred_proba)\n",
    "    ls_auc.append(auc)"
   ]
  },
  {
   "cell_type": "code",
   "execution_count": 41,
   "id": "dd2f98c5-aed2-4472-b4e3-e2b314c93fec",
   "metadata": {
    "tags": []
   },
   "outputs": [],
   "source": [
    "auc_dist_svc= np.array(ls_auc)"
   ]
  },
  {
   "cell_type": "code",
   "execution_count": 52,
   "id": "725f4ea0-e9d7-487a-964c-5d63c027c0e4",
   "metadata": {
    "tags": []
   },
   "outputs": [
    {
     "name": "stdout",
     "output_type": "stream",
     "text": [
      "Intervalo de confianza de AUC con arboles de decisión \n",
      "[0.8436917326798874,0.9131211840213987]\n"
     ]
    },
    {
     "data": {
      "image/png": "[encoded data removed]",
      "text/plain": [
       "<Figure size 500x500 with 1 Axes>"
      ]
     },
     "metadata": {},
     "output_type": "display_data"
    }
   ],
   "source": [
    "alpha = 0.05\n",
    "sns.displot(auc_dist_svc,cumulative=False,kde=True)\n",
    "lb,ub = np.quantile(auc_dist_svc,q=alpha/2),np.quantile(auc_dist_svc,q=1-alpha/2)\n",
    "\n",
    "print(f'Intervalo de confianza de AUC con arboles de decisión \\n[{lb},{ub}]')"
   ]
  },
  {
   "cell_type": "markdown",
   "id": "19be37e1-f6fd-4e8b-bcf6-4908397de9d4",
   "metadata": {},
   "source": [
    "## With valiadation"
   ]
  },
  {
   "cell_type": "markdown",
   "id": "0d04e3e3-3372-4381-a37c-fa786f641085",
   "metadata": {},
   "source": [
    "### Logistic regresion"
   ]
  },
  {
   "cell_type": "code",
   "execution_count": 53,
   "id": "edc5b29c-1fba-4d5b-8bbe-4fbfb500ddcc",
   "metadata": {
    "tags": []
   },
   "outputs": [],
   "source": [
    "N=500\n",
    "T= 1000\n",
    "ls=[x for x in range(len(df_clean))]\n",
    "ls_models_log= []\n",
    "for t in range(T):\n",
    "    sample = np.random.choice(ls,size=N,replace=True)\n",
    "    X_sample= Xs[sample,:]\n",
    "    y_sample= y[sample]\n",
    "    clf = LogisticRegression(random_state=t+1000, max_iter=200).fit(X_sample, y_sample)\n",
    "    model= (\"Log_\"+str(t+1), clf)\n",
    "    ls_models_log.append(model)\n",
    "    "
   ]
  },
  {
   "cell_type": "code",
   "execution_count": 54,
   "id": "cc3bb1b0-089a-4ac3-a445-7b82b89ba058",
   "metadata": {
    "tags": []
   },
   "outputs": [],
   "source": [
    "results=np.zeros([len(ls_models_log),len(df_valid_clean)]) "
   ]
  },
  {
   "cell_type": "code",
   "execution_count": 55,
   "id": "6839e4d1-3e46-4010-87c6-a8bac44874aa",
   "metadata": {
    "tags": []
   },
   "outputs": [],
   "source": [
    "for i, model in enumerate(ls_models_log):\n",
    "    results[i,:]= model[1].predict_proba(Xs_valid)[:,1]"
   ]
  },
  {
   "cell_type": "code",
   "execution_count": 56,
   "id": "761fe991-1638-4d90-b63e-78d78f2d74ea",
   "metadata": {
    "tags": []
   },
   "outputs": [],
   "source": [
    "y_prob_ensem= np.mean(results, axis=0)\n",
    "\n",
    "auc = roc_auc_score( y_valid, y_prob_ensem)"
   ]
  },
  {
   "cell_type": "code",
   "execution_count": 57,
   "id": "01809e84-d7fe-4d49-ab35-f35d0b690145",
   "metadata": {
    "tags": []
   },
   "outputs": [
    {
     "data": {
      "text/plain": [
       "0.8645204837865389"
      ]
     },
     "execution_count": 57,
     "metadata": {},
     "output_type": "execute_result"
    }
   ],
   "source": [
    "auc"
   ]
  },
  {
   "cell_type": "markdown",
   "id": "84bc248e-3e2f-4327-afd5-1741546df1aa",
   "metadata": {},
   "source": [
    "### Decision tree"
   ]
  },
  {
   "cell_type": "code",
   "execution_count": 34,
   "id": "32afd7d6-f221-4e66-bbfc-59f572d0df7f",
   "metadata": {
    "tags": []
   },
   "outputs": [],
   "source": [
    "N=500\n",
    "T= 10000\n",
    "ls=[x for x in range(len(df_clean))]\n",
    "ls_models= []\n",
    "for t in range(T):\n",
    "    sample = np.random.choice(ls,size=N,replace=True)\n",
    "    X_sample= Xs[sample,:]\n",
    "    y_sample= y[sample]\n",
    "    clf =DecisionTreeClassifier(random_state=t, min_samples_leaf=.01,min_samples_split=.01).fit(X_sample, y_sample)\n",
    "    model= (\"Tree_\"+str(t+1), clf)\n",
    "    ls_models.append(model)"
   ]
  },
  {
   "cell_type": "code",
   "execution_count": 35,
   "id": "f1f8bc6c-3494-44af-b449-7532ee9a03c4",
   "metadata": {
    "tags": []
   },
   "outputs": [],
   "source": [
    "results_tree=np.zeros([len(ls_models),len(df_valid_clean)]) "
   ]
  },
  {
   "cell_type": "code",
   "execution_count": 36,
   "id": "c29bc701-3141-4fee-be7f-f6fc3addf03c",
   "metadata": {
    "tags": []
   },
   "outputs": [],
   "source": [
    "for i, model in enumerate(ls_models):\n",
    "    results_tree[i,:]= model[1].predict_proba(Xs_valid)[:,1]"
   ]
  },
  {
   "cell_type": "code",
   "execution_count": 37,
   "id": "5ff1820b-a459-4940-959b-afe63f38e2d6",
   "metadata": {
    "tags": []
   },
   "outputs": [],
   "source": [
    "y_prob_tree= np.mean(results_tree, axis=0)\n",
    "auc = roc_auc_score( y_valid, y_prob_tree)"
   ]
  },
  {
   "cell_type": "code",
   "execution_count": 38,
   "id": "3faa674b-1029-4be4-9fae-32097a3bd61a",
   "metadata": {
    "tags": []
   },
   "outputs": [
    {
     "data": {
      "text/plain": [
       "0.9468521273567144"
      ]
     },
     "execution_count": 38,
     "metadata": {},
     "output_type": "execute_result"
    }
   ],
   "source": [
    "auc"
   ]
  },
  {
   "cell_type": "markdown",
   "id": "8f13590a-f483-445d-af72-10a114e92ca1",
   "metadata": {},
   "source": [
    "## Test"
   ]
  },
  {
   "cell_type": "code",
   "execution_count": 63,
   "id": "e27211e4-13c1-46b3-8538-9cea86c96977",
   "metadata": {
    "tags": []
   },
   "outputs": [],
   "source": [
    "data_test= pd.read_csv(\"BootstrapingData/test.csv\")"
   ]
  },
  {
   "cell_type": "code",
   "execution_count": 64,
   "id": "9b6f83cd-f2d6-4d36-81a7-db6a7a6c14e8",
   "metadata": {
    "tags": []
   },
   "outputs": [],
   "source": [
    "data_test[\"TARGET\"]= [0 for x in range(len(data_test))]"
   ]
  },
  {
   "cell_type": "code",
   "execution_count": 65,
   "id": "4c0d2f37-74a8-485a-a1b3-0790a592386d",
   "metadata": {
    "tags": []
   },
   "outputs": [],
   "source": [
    "df_test= cleaner(data_test, ls_var)\n",
    "df_test[\"D_1\"]= le.fit_transform(df_test[\"D_1\"])"
   ]
  },
  {
   "cell_type": "code",
   "execution_count": 66,
   "id": "884d2e76-5992-4157-ae5c-da2f7e34b3d8",
   "metadata": {
    "tags": []
   },
   "outputs": [],
   "source": [
    "X_test=df_test.iloc[:,1:-1].values"
   ]
  },
  {
   "cell_type": "code",
   "execution_count": 67,
   "id": "d87dfc44-18de-45e0-86cb-4acd5a9f6596",
   "metadata": {
    "tags": []
   },
   "outputs": [],
   "source": [
    "Xs_test= sx.transform(X_test)"
   ]
  },
  {
   "cell_type": "markdown",
   "id": "3363006f-e6ea-4a68-a6d4-76d57e53d1c9",
   "metadata": {},
   "source": [
    "### Logistic regresion"
   ]
  },
  {
   "cell_type": "code",
   "execution_count": 68,
   "id": "1ada17b3-77a9-4445-920e-c0ae608684a5",
   "metadata": {
    "tags": []
   },
   "outputs": [],
   "source": [
    "results_test= results=np.zeros([len(ls_models_log),len(df_test)]) "
   ]
  },
  {
   "cell_type": "code",
   "execution_count": 70,
   "id": "80cb1f86-78bb-4906-81f5-876d087011b9",
   "metadata": {
    "tags": []
   },
   "outputs": [],
   "source": [
    "for i, model in enumerate(ls_models_log):\n",
    "    results_test[i,:]= model[1].predict(Xs_test)"
   ]
  },
  {
   "cell_type": "code",
   "execution_count": 71,
   "id": "86f3d1cd-f27a-41e4-aebe-877350e40787",
   "metadata": {
    "tags": []
   },
   "outputs": [
    {
     "data": {
      "text/plain": [
       "array([[0., 0., 0., ..., 0., 0., 0.],\n",
       "       [0., 0., 0., ..., 0., 0., 0.],\n",
       "       [0., 0., 0., ..., 0., 0., 0.],\n",
       "       ...,\n",
       "       [0., 0., 0., ..., 0., 0., 0.],\n",
       "       [0., 0., 0., ..., 0., 0., 0.],\n",
       "       [0., 0., 0., ..., 0., 0., 0.]])"
      ]
     },
     "execution_count": 71,
     "metadata": {},
     "output_type": "execute_result"
    }
   ],
   "source": [
    "results_test"
   ]
  },
  {
   "cell_type": "code",
   "execution_count": 72,
   "id": "f245b215-5c36-4184-8e17-7b8845a23410",
   "metadata": {
    "tags": []
   },
   "outputs": [],
   "source": [
    "voting= np.mean(results_test, axis=0)\n",
    "voting= voting>=.5"
   ]
  },
  {
   "cell_type": "code",
   "execution_count": 73,
   "id": "fa1bf98b-09fa-4495-a2f6-c0a889d154ba",
   "metadata": {
    "tags": []
   },
   "outputs": [
    {
     "data": {
      "text/plain": [
       "0.0022130013831258644"
      ]
     },
     "execution_count": 73,
     "metadata": {},
     "output_type": "execute_result"
    }
   ],
   "source": [
    "voting.mean()"
   ]
  },
  {
   "cell_type": "code",
   "execution_count": 74,
   "id": "a74aff2c-ee17-453f-ad80-4fe0ad2e178b",
   "metadata": {
    "tags": []
   },
   "outputs": [],
   "source": [
    "ls_y=[]\n",
    "for vote in voting:\n",
    "    if(vote):\n",
    "        ls_y.append(1)\n",
    "    else:\n",
    "        ls_y.append(0)\n",
    "df_test[\"TARGET\"]= ls_y"
   ]
  },
  {
   "cell_type": "code",
   "execution_count": 78,
   "id": "f3545a1c-ddc2-4a61-afad-d46719d349ca",
   "metadata": {},
   "outputs": [],
   "source": [
    "df_test[[\"ID\",\"TARGET\"]].to_parquet('results.gzip', compression='gzip')"
   ]
  },
  {
   "cell_type": "markdown",
   "id": "d129dd0f-104e-47d3-bb3e-aa60278c9fdf",
   "metadata": {},
   "source": [
    "## Best vars"
   ]
  },
  {
   "cell_type": "markdown",
   "id": "2dc97a94-a639-489c-a938-5a21252cf47b",
   "metadata": {},
   "source": [
    "- c_36"
   ]
  },
  {
   "cell_type": "markdown",
   "id": "964d971c-9ff3-4fbf-9009-11e3d30e1040",
   "metadata": {},
   "source": [
    "### Cosas chidas"
   ]
  },
  {
   "cell_type": "markdown",
   "id": "acb11c06-92b3-466a-85a0-cd1c1751fa96",
   "metadata": {},
   "source": [
    "- SelectKbest\n",
    "- "
   ]
  },
  {
   "cell_type": "code",
   "execution_count": null,
   "id": "dd8262ef-9c25-4748-9d52-7e1ece934e2e",
   "metadata": {},
   "outputs": [],
   "source": []
  }
 ],
 "metadata": {
  "kernelspec": {
   "display_name": "pylab",
   "language": "python",
   "name": "pylab"
  },
  "language_info": {
   "codemirror_mode": {
    "name": "ipython",
    "version": 3
   },
   "file_extension": ".py",
   "mimetype": "text/x-python",
   "name": "python",
   "nbconvert_exporter": "python",
   "pygments_lexer": "ipython3",
   "version": "3.10.6"
  }
 },
 "nbformat": 4,
 "nbformat_minor": 5
}
