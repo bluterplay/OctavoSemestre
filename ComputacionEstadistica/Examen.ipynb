{
 "cells": [
  {
   "cell_type": "markdown",
   "id": "d53fcbd0-c610-4509-a432-4f2ea2c02a3f",
   "metadata": {},
   "source": [
    "# Examen final"
   ]
  },
  {
   "cell_type": "markdown",
   "id": "81db459e-ead4-465b-ab82-eedf591cfa68",
   "metadata": {},
   "source": [
    "## 1) Integración estocastica"
   ]
  },
  {
   "cell_type": "markdown",
   "id": "9ad4cf47-af61-4d55-87c3-5ceed24bd2c5",
   "metadata": {},
   "source": [
    "### Modulos"
   ]
  },
  {
   "cell_type": "code",
   "execution_count": 5,
   "id": "25bbc01b-8bf7-4cc4-992f-54a16c878df8",
   "metadata": {},
   "outputs": [],
   "source": [
    "import pandas as pd\n",
    "import numpy as np\n",
    "from scipy.stats import t\n",
    "import time"
   ]
  },
  {
   "cell_type": "markdown",
   "id": "b42ad1fa-3ef2-45ac-8c7f-4eea46161c9e",
   "metadata": {},
   "source": [
    "### Funciones relevantes"
   ]
  },
  {
   "cell_type": "code",
   "execution_count": 6,
   "id": "02237d84-6ac1-47be-a039-a87daa7b4e2e",
   "metadata": {
    "tags": []
   },
   "outputs": [],
   "source": [
    "def h(u,v,x):\n",
    "    return t.pdf(u*x,df=v)*x"
   ]
  },
  {
   "cell_type": "markdown",
   "id": "41b5730f-232b-407d-8f01-ef8af1794953",
   "metadata": {},
   "source": [
    "Tarda al rededor de 20 segundo en realizar el millón de simulaciones"
   ]
  },
  {
   "cell_type": "code",
   "execution_count": 7,
   "id": "f4945065-119e-4812-84c2-85af7347f218",
   "metadata": {},
   "outputs": [],
   "source": [
    "def monteCarlo(x,v, n=100000):\n",
    "    U=np.random.uniform(0,1, size=n)\n",
    "    return np.vectorize(h)(U,v,x).mean()"
   ]
  },
  {
   "cell_type": "code",
   "execution_count": 8,
   "id": "9771d5b0-04c4-46ff-9dfc-f24e54133927",
   "metadata": {
    "tags": []
   },
   "outputs": [],
   "source": [
    "def getValorCritico(alpha, v, max_iter=14):\n",
    "    mc=100\n",
    "    a= 0\n",
    "    if(v==1):\n",
    "        b=350\n",
    "    else:\n",
    "        b=40\n",
    "    x=0\n",
    "    prob= (1/2 -alpha)\n",
    "    limite= .001\n",
    "    ite=1\n",
    "    #print(f\"mc:{mc}, prob= {prob}, dif= {mc-prob}\")\n",
    "    while(abs(mc-prob)>limite):\n",
    "        x= (a+b)/2\n",
    "        mc=monteCarlo(x,v)\n",
    "        #print(f\"MC= {mc}, x={x}, dif= {mc-prob}\")\n",
    "        if(mc<prob):\n",
    "            a=x\n",
    "        else: \n",
    "            b=x\n",
    "        if(ite>max_iter):\n",
    "            print(\"Se excedio el número de intentos\")\n",
    "            break\n",
    "        ite+=1\n",
    "    return x"
   ]
  },
  {
   "cell_type": "code",
   "execution_count": 16,
   "id": "3d508b9b-912f-4e73-9623-157a227baead",
   "metadata": {
    "tags": []
   },
   "outputs": [],
   "source": [
    "def crearTabla(ls_alphas,ls_v):\n",
    "    dc={\"Vc \"+key:[] for key in [str(1-alpha) for alpha in ls_alphas ]}\n",
    "    dc[\"V\"]= []\n",
    "    for v in ls_v:\n",
    "        dc[\"V\"].append(v)\n",
    "        print(f\"Vamos en el grado de libertad {v}\")\n",
    "        for alpha in ls_alphas:\n",
    "            print(f\"\\tVamos en el alpha={alpha}\")\n",
    "            dc[\"Vc \"+str(1-alpha)].append(getValorCritico(alpha,v))\n",
    "            \n",
    "    return dc"
   ]
  },
  {
   "cell_type": "code",
   "execution_count": 17,
   "id": "d9651a11-e45a-4407-a531-5a39e5c9b658",
   "metadata": {
    "tags": []
   },
   "outputs": [],
   "source": [
    "ls_alphas=[.1,.05,.025]"
   ]
  },
  {
   "cell_type": "code",
   "execution_count": 18,
   "id": "ae4927ce-7d26-4cff-be54-52133e3ce888",
   "metadata": {
    "tags": []
   },
   "outputs": [],
   "source": [
    "ls_v= [x for x in range(1,6)]"
   ]
  },
  {
   "cell_type": "code",
   "execution_count": 19,
   "id": "0fcb184a-0edc-43e7-9e89-6e0cb4cf5a98",
   "metadata": {
    "tags": []
   },
   "outputs": [
    {
     "name": "stdout",
     "output_type": "stream",
     "text": [
      "Vamos en el grado de libertad 1\n",
      "\tVamos en el alpha=0.1\n",
      "\tVamos en el alpha=0.05\n",
      "\tVamos en el alpha=0.025\n",
      "Vamos en el grado de libertad 2\n",
      "\tVamos en el alpha=0.1\n",
      "\tVamos en el alpha=0.05\n",
      "\tVamos en el alpha=0.025\n",
      "Vamos en el grado de libertad 3\n",
      "\tVamos en el alpha=0.1\n",
      "\tVamos en el alpha=0.05\n",
      "\tVamos en el alpha=0.025\n",
      "Vamos en el grado de libertad 4\n",
      "\tVamos en el alpha=0.1\n",
      "\tVamos en el alpha=0.05\n",
      "\tVamos en el alpha=0.025\n",
      "Vamos en el grado de libertad 5\n",
      "\tVamos en el alpha=0.1\n",
      "\tVamos en el alpha=0.05\n",
      "\tVamos en el alpha=0.025\n"
     ]
    }
   ],
   "source": [
    "start_time = time.time()\n",
    "dc=crearTabla(ls_alphas,ls_v)\n",
    "end_time = time.time()"
   ]
  },
  {
   "cell_type": "code",
   "execution_count": 20,
   "id": "00dcdce5-02c0-47a8-8eb2-17f57d14ecf7",
   "metadata": {
    "tags": []
   },
   "outputs": [
    {
     "data": {
      "text/plain": [
       "57.970740008354184"
      ]
     },
     "execution_count": 20,
     "metadata": {},
     "output_type": "execute_result"
    }
   ],
   "source": [
    "(end_time-start_time)/60"
   ]
  },
  {
   "cell_type": "code",
   "execution_count": 22,
   "id": "392b257b-69f5-4f4c-9bb2-9d2ae06a206e",
   "metadata": {
    "tags": []
   },
   "outputs": [],
   "source": [
    "results= pd.DataFrame(dc).set_index(\"V\")"
   ]
  },
  {
   "cell_type": "code",
   "execution_count": 24,
   "id": "af3c3ed5-fd56-4886-a41e-dbff2777faf4",
   "metadata": {
    "tags": []
   },
   "outputs": [
    {
     "data": {
      "text/html": [
       "<div>\n",
       "<style scoped>\n",
       "    .dataframe tbody tr th:only-of-type {\n",
       "        vertical-align: middle;\n",
       "    }\n",
       "\n",
       "    .dataframe tbody tr th {\n",
       "        vertical-align: top;\n",
       "    }\n",
       "\n",
       "    .dataframe thead th {\n",
       "        text-align: right;\n",
       "    }\n",
       "</style>\n",
       "<table border=\"1\" class=\"dataframe\">\n",
       "  <thead>\n",
       "    <tr style=\"text-align: right;\">\n",
       "      <th></th>\n",
       "      <th>Vc 0.9</th>\n",
       "      <th>Vc 0.95</th>\n",
       "      <th>Vc 0.975</th>\n",
       "    </tr>\n",
       "    <tr>\n",
       "      <th>V</th>\n",
       "      <th></th>\n",
       "      <th></th>\n",
       "      <th></th>\n",
       "    </tr>\n",
       "  </thead>\n",
       "  <tbody>\n",
       "    <tr>\n",
       "      <th>1</th>\n",
       "      <td>3.033447</td>\n",
       "      <td>6.494141</td>\n",
       "      <td>11.920166</td>\n",
       "    </tr>\n",
       "    <tr>\n",
       "      <th>2</th>\n",
       "      <td>1.894531</td>\n",
       "      <td>2.929688</td>\n",
       "      <td>4.375000</td>\n",
       "    </tr>\n",
       "    <tr>\n",
       "      <th>3</th>\n",
       "      <td>1.640625</td>\n",
       "      <td>2.382812</td>\n",
       "      <td>3.125000</td>\n",
       "    </tr>\n",
       "    <tr>\n",
       "      <th>4</th>\n",
       "      <td>1.523438</td>\n",
       "      <td>2.109375</td>\n",
       "      <td>2.812500</td>\n",
       "    </tr>\n",
       "    <tr>\n",
       "      <th>5</th>\n",
       "      <td>1.484375</td>\n",
       "      <td>2.031250</td>\n",
       "      <td>2.543945</td>\n",
       "    </tr>\n",
       "  </tbody>\n",
       "</table>\n",
       "</div>"
      ],
      "text/plain": [
       "     Vc 0.9   Vc 0.95   Vc 0.975\n",
       "V                               \n",
       "1  3.033447  6.494141  11.920166\n",
       "2  1.894531  2.929688   4.375000\n",
       "3  1.640625  2.382812   3.125000\n",
       "4  1.523438  2.109375   2.812500\n",
       "5  1.484375  2.031250   2.543945"
      ]
     },
     "execution_count": 24,
     "metadata": {},
     "output_type": "execute_result"
    }
   ],
   "source": [
    "results"
   ]
  },
  {
   "cell_type": "code",
   "execution_count": 23,
   "id": "27dbff4c-3ad9-4375-b9b8-9af6efc1b546",
   "metadata": {
    "tags": []
   },
   "outputs": [],
   "source": [
    "results.to_csv(\"Resultados.csv\")"
   ]
  },
  {
   "cell_type": "code",
   "execution_count": 22,
   "id": "1fda8f4f-5d5b-4f1c-93ef-0f7210b22c2b",
   "metadata": {
    "tags": []
   },
   "outputs": [
    {
     "data": {
      "text/html": [
       "<div>\n",
       "<style scoped>\n",
       "    .dataframe tbody tr th:only-of-type {\n",
       "        vertical-align: middle;\n",
       "    }\n",
       "\n",
       "    .dataframe tbody tr th {\n",
       "        vertical-align: top;\n",
       "    }\n",
       "\n",
       "    .dataframe thead th {\n",
       "        text-align: right;\n",
       "    }\n",
       "</style>\n",
       "<table border=\"1\" class=\"dataframe\">\n",
       "  <thead>\n",
       "    <tr style=\"text-align: right;\">\n",
       "      <th></th>\n",
       "      <th>Vc 0.1</th>\n",
       "      <th>Vc 0.05</th>\n",
       "      <th>Vc 0.025</th>\n",
       "      <th>Vc 0.01</th>\n",
       "    </tr>\n",
       "    <tr>\n",
       "      <th>V</th>\n",
       "      <th></th>\n",
       "      <th></th>\n",
       "      <th></th>\n",
       "      <th></th>\n",
       "    </tr>\n",
       "  </thead>\n",
       "  <tbody>\n",
       "    <tr>\n",
       "      <th>1</th>\n",
       "      <td>3.076172</td>\n",
       "      <td>6.311035</td>\n",
       "      <td>15.62500</td>\n",
       "      <td>62.890625</td>\n",
       "    </tr>\n",
       "    <tr>\n",
       "      <th>2</th>\n",
       "      <td>1.875000</td>\n",
       "      <td>2.890625</td>\n",
       "      <td>4.21875</td>\n",
       "      <td>7.500000</td>\n",
       "    </tr>\n",
       "  </tbody>\n",
       "</table>\n",
       "</div>"
      ],
      "text/plain": [
       "     Vc 0.1   Vc 0.05  Vc 0.025    Vc 0.01\n",
       "V                                         \n",
       "1  3.076172  6.311035  15.62500  62.890625\n",
       "2  1.875000  2.890625   4.21875   7.500000"
      ]
     },
     "execution_count": 22,
     "metadata": {},
     "output_type": "execute_result"
    }
   ],
   "source": [
    "pd.DataFrame(dc).set_index(\"V\")"
   ]
  },
  {
   "cell_type": "code",
   "execution_count": 148,
   "id": "d97b8e0f-b647-41a2-8d27-8abb6ad121b7",
   "metadata": {
    "tags": []
   },
   "outputs": [
    {
     "data": {
      "text/html": [
       "<div>\n",
       "<style scoped>\n",
       "    .dataframe tbody tr th:only-of-type {\n",
       "        vertical-align: middle;\n",
       "    }\n",
       "\n",
       "    .dataframe tbody tr th {\n",
       "        vertical-align: top;\n",
       "    }\n",
       "\n",
       "    .dataframe thead th {\n",
       "        text-align: right;\n",
       "    }\n",
       "</style>\n",
       "<table border=\"1\" class=\"dataframe\">\n",
       "  <thead>\n",
       "    <tr style=\"text-align: right;\">\n",
       "      <th></th>\n",
       "      <th>Vc 0.1</th>\n",
       "      <th>Vc 0.05</th>\n",
       "      <th>Vc 0.025</th>\n",
       "      <th>Vc 0.01</th>\n",
       "    </tr>\n",
       "    <tr>\n",
       "      <th>V</th>\n",
       "      <th></th>\n",
       "      <th></th>\n",
       "      <th></th>\n",
       "      <th></th>\n",
       "    </tr>\n",
       "  </thead>\n",
       "  <tbody>\n",
       "    <tr>\n",
       "      <th>1</th>\n",
       "      <td>3.112793</td>\n",
       "      <td>25.000000</td>\n",
       "      <td>322.779246</td>\n",
       "      <td>23.20764</td>\n",
       "    </tr>\n",
       "    <tr>\n",
       "      <th>2</th>\n",
       "      <td>1.855469</td>\n",
       "      <td>2.812481</td>\n",
       "      <td>5.166016</td>\n",
       "      <td>15.00000</td>\n",
       "    </tr>\n",
       "  </tbody>\n",
       "</table>\n",
       "</div>"
      ],
      "text/plain": [
       "     Vc 0.1    Vc 0.05    Vc 0.025   Vc 0.01\n",
       "V                                           \n",
       "1  3.112793  25.000000  322.779246  23.20764\n",
       "2  1.855469   2.812481    5.166016  15.00000"
      ]
     },
     "execution_count": 148,
     "metadata": {},
     "output_type": "execute_result"
    }
   ],
   "source": [
    "pd.DataFrame(dc).set_index(\"V\")"
   ]
  },
  {
   "cell_type": "code",
   "execution_count": 143,
   "id": "f0035951-3c9e-46a1-beba-88003a8fc614",
   "metadata": {
    "tags": []
   },
   "outputs": [
    {
     "data": {
      "text/html": [
       "<div>\n",
       "<style scoped>\n",
       "    .dataframe tbody tr th:only-of-type {\n",
       "        vertical-align: middle;\n",
       "    }\n",
       "\n",
       "    .dataframe tbody tr th {\n",
       "        vertical-align: top;\n",
       "    }\n",
       "\n",
       "    .dataframe thead th {\n",
       "        text-align: right;\n",
       "    }\n",
       "</style>\n",
       "<table border=\"1\" class=\"dataframe\">\n",
       "  <thead>\n",
       "    <tr style=\"text-align: right;\">\n",
       "      <th></th>\n",
       "      <th>Vc 0.1</th>\n",
       "      <th>Vc 0.05</th>\n",
       "      <th>Vc 0.025</th>\n",
       "      <th>Vc 0.01</th>\n",
       "    </tr>\n",
       "    <tr>\n",
       "      <th>V</th>\n",
       "      <th></th>\n",
       "      <th></th>\n",
       "      <th></th>\n",
       "      <th></th>\n",
       "    </tr>\n",
       "  </thead>\n",
       "  <tbody>\n",
       "    <tr>\n",
       "      <th>1</th>\n",
       "      <td>3.173828</td>\n",
       "      <td>6.028348</td>\n",
       "      <td>12.109375</td>\n",
       "      <td>75.000000</td>\n",
       "    </tr>\n",
       "    <tr>\n",
       "      <th>2</th>\n",
       "      <td>1.889648</td>\n",
       "      <td>2.831344</td>\n",
       "      <td>4.117432</td>\n",
       "      <td>31.271362</td>\n",
       "    </tr>\n",
       "  </tbody>\n",
       "</table>\n",
       "</div>"
      ],
      "text/plain": [
       "     Vc 0.1   Vc 0.05   Vc 0.025    Vc 0.01\n",
       "V                                          \n",
       "1  3.173828  6.028348  12.109375  75.000000\n",
       "2  1.889648  2.831344   4.117432  31.271362"
      ]
     },
     "execution_count": 143,
     "metadata": {},
     "output_type": "execute_result"
    }
   ],
   "source": [
    "pd.DataFrame(dc).set_index(\"V\")"
   ]
  },
  {
   "cell_type": "code",
   "execution_count": 137,
   "id": "b697d587-f631-48bd-97fc-71584b3271ce",
   "metadata": {
    "tags": []
   },
   "outputs": [
    {
     "data": {
      "text/html": [
       "<div>\n",
       "<style scoped>\n",
       "    .dataframe tbody tr th:only-of-type {\n",
       "        vertical-align: middle;\n",
       "    }\n",
       "\n",
       "    .dataframe tbody tr th {\n",
       "        vertical-align: top;\n",
       "    }\n",
       "\n",
       "    .dataframe thead th {\n",
       "        text-align: right;\n",
       "    }\n",
       "</style>\n",
       "<table border=\"1\" class=\"dataframe\">\n",
       "  <thead>\n",
       "    <tr style=\"text-align: right;\">\n",
       "      <th></th>\n",
       "      <th>Vc 0.1</th>\n",
       "      <th>Vc 0.05</th>\n",
       "      <th>Vc 0.025</th>\n",
       "      <th>Vc 0.01</th>\n",
       "    </tr>\n",
       "    <tr>\n",
       "      <th>V</th>\n",
       "      <th></th>\n",
       "      <th></th>\n",
       "      <th></th>\n",
       "      <th></th>\n",
       "    </tr>\n",
       "  </thead>\n",
       "  <tbody>\n",
       "    <tr>\n",
       "      <th>1</th>\n",
       "      <td>3.173828</td>\n",
       "      <td>6.298828</td>\n",
       "      <td>285.703284</td>\n",
       "      <td>29.760462</td>\n",
       "    </tr>\n",
       "    <tr>\n",
       "      <th>2</th>\n",
       "      <td>1.875000</td>\n",
       "      <td>2.871094</td>\n",
       "      <td>4.062500</td>\n",
       "      <td>10.000000</td>\n",
       "    </tr>\n",
       "  </tbody>\n",
       "</table>\n",
       "</div>"
      ],
      "text/plain": [
       "     Vc 0.1   Vc 0.05    Vc 0.025    Vc 0.01\n",
       "V                                           \n",
       "1  3.173828  6.298828  285.703284  29.760462\n",
       "2  1.875000  2.871094    4.062500  10.000000"
      ]
     },
     "execution_count": 137,
     "metadata": {},
     "output_type": "execute_result"
    }
   ],
   "source": [
    "pd.DataFrame(dc).set_index(\"V\")"
   ]
  },
  {
   "cell_type": "code",
   "execution_count": 17,
   "id": "785f6dcc-24ce-4e54-a79a-ac95d26b58e6",
   "metadata": {
    "tags": []
   },
   "outputs": [
    {
     "name": "stdout",
     "output_type": "stream",
     "text": [
      "19.9 s ± 851 ms per loop (mean ± std. dev. of 7 runs, 1 loop each)\n"
     ]
    }
   ],
   "source": [
    "%%timeit\n",
    "monteCarlo(3.11,1,n=100000)"
   ]
  },
  {
   "cell_type": "code",
   "execution_count": 130,
   "id": "d632b2d1-c1f1-4495-970a-d6fe0662e740",
   "metadata": {
    "tags": []
   },
   "outputs": [
    {
     "data": {
      "text/html": [
       "<div>\n",
       "<style scoped>\n",
       "    .dataframe tbody tr th:only-of-type {\n",
       "        vertical-align: middle;\n",
       "    }\n",
       "\n",
       "    .dataframe tbody tr th {\n",
       "        vertical-align: top;\n",
       "    }\n",
       "\n",
       "    .dataframe thead th {\n",
       "        text-align: right;\n",
       "    }\n",
       "</style>\n",
       "<table border=\"1\" class=\"dataframe\">\n",
       "  <thead>\n",
       "    <tr style=\"text-align: right;\">\n",
       "      <th></th>\n",
       "      <th>Vc 0.1</th>\n",
       "      <th>Vc 0.05</th>\n",
       "      <th>Vc 0.025</th>\n",
       "      <th>Vc 0.001</th>\n",
       "    </tr>\n",
       "    <tr>\n",
       "      <th>V</th>\n",
       "      <th></th>\n",
       "      <th></th>\n",
       "      <th></th>\n",
       "      <th></th>\n",
       "    </tr>\n",
       "  </thead>\n",
       "  <tbody>\n",
       "    <tr>\n",
       "      <th>1</th>\n",
       "      <td>3.067017</td>\n",
       "      <td>6.835938</td>\n",
       "      <td>166.26028</td>\n",
       "      <td>281.250000</td>\n",
       "    </tr>\n",
       "    <tr>\n",
       "      <th>2</th>\n",
       "      <td>1.895905</td>\n",
       "      <td>62.500007</td>\n",
       "      <td>3.90625</td>\n",
       "      <td>238.405041</td>\n",
       "    </tr>\n",
       "  </tbody>\n",
       "</table>\n",
       "</div>"
      ],
      "text/plain": [
       "     Vc 0.1    Vc 0.05   Vc 0.025    Vc 0.001\n",
       "V                                            \n",
       "1  3.067017   6.835938  166.26028  281.250000\n",
       "2  1.895905  62.500007    3.90625  238.405041"
      ]
     },
     "execution_count": 130,
     "metadata": {},
     "output_type": "execute_result"
    }
   ],
   "source": [
    "pd.DataFrame(dc).set_index(\"V\")"
   ]
  },
  {
   "cell_type": "code",
   "execution_count": 124,
   "id": "7aedf2fe-3f54-4261-8caa-d5c65e8924a0",
   "metadata": {
    "tags": []
   },
   "outputs": [
    {
     "data": {
      "text/html": [
       "<div>\n",
       "<style scoped>\n",
       "    .dataframe tbody tr th:only-of-type {\n",
       "        vertical-align: middle;\n",
       "    }\n",
       "\n",
       "    .dataframe tbody tr th {\n",
       "        vertical-align: top;\n",
       "    }\n",
       "\n",
       "    .dataframe thead th {\n",
       "        text-align: right;\n",
       "    }\n",
       "</style>\n",
       "<table border=\"1\" class=\"dataframe\">\n",
       "  <thead>\n",
       "    <tr style=\"text-align: right;\">\n",
       "      <th></th>\n",
       "      <th>Vc 0.1</th>\n",
       "      <th>Vc 0.05</th>\n",
       "      <th>Vc 0.025</th>\n",
       "      <th>Vc 0.001</th>\n",
       "    </tr>\n",
       "    <tr>\n",
       "      <th>V</th>\n",
       "      <th></th>\n",
       "      <th></th>\n",
       "      <th></th>\n",
       "      <th></th>\n",
       "    </tr>\n",
       "  </thead>\n",
       "  <tbody>\n",
       "    <tr>\n",
       "      <th>1</th>\n",
       "      <td>3.173828</td>\n",
       "      <td>5.859375</td>\n",
       "      <td>11.390686</td>\n",
       "      <td>250.000000</td>\n",
       "    </tr>\n",
       "    <tr>\n",
       "      <th>2</th>\n",
       "      <td>1.831055</td>\n",
       "      <td>2.929688</td>\n",
       "      <td>5.134583</td>\n",
       "      <td>73.814392</td>\n",
       "    </tr>\n",
       "  </tbody>\n",
       "</table>\n",
       "</div>"
      ],
      "text/plain": [
       "     Vc 0.1   Vc 0.05   Vc 0.025    Vc 0.001\n",
       "V                                           \n",
       "1  3.173828  5.859375  11.390686  250.000000\n",
       "2  1.831055  2.929688   5.134583   73.814392"
      ]
     },
     "execution_count": 124,
     "metadata": {},
     "output_type": "execute_result"
    }
   ],
   "source": [
    "pd.DataFrame(dc).set_index(\"V\")"
   ]
  },
  {
   "cell_type": "code",
   "execution_count": 108,
   "id": "f5598cd0-9055-4bca-8e38-b14d0368885c",
   "metadata": {
    "tags": []
   },
   "outputs": [],
   "source": [
    "dc={\"Vc \"+key:[] for key in [str(alpha) for alpha in ls_alphas ]}"
   ]
  },
  {
   "cell_type": "code",
   "execution_count": 100,
   "id": "d14085a0-b49c-45eb-be96-faa20d28b21e",
   "metadata": {
    "tags": []
   },
   "outputs": [
    {
     "name": "stdout",
     "output_type": "stream",
     "text": [
      "mc:100, prob= 0.4, dif= 99.6\n",
      "MC= 100, x=0, dif= 99.6\n",
      "MC= 0.5614907743119056, x=250.0, dif= 0.16149077431190562\n",
      "MC= 0.5108201389873243, x=125.0, dif= 0.11082013898732423\n",
      "MC= 0.5238744109404884, x=62.5, dif= 0.12387441094048834\n",
      "MC= 0.4923489387833247, x=31.25, dif= 0.09234893878332467\n",
      "MC= 0.4880459620449353, x=15.625, dif= 0.08804596204493526\n",
      "MC= 0.4570510399429567, x=7.8125, dif= 0.05705103994295668\n",
      "MC= 0.4164935718782248, x=3.90625, dif= 0.016493571878224755\n",
      "MC= 0.3477962295574057, x=1.953125, dif= -0.05220377044259433\n",
      "MC= 0.3954707069715047, x=2.9296875, dif= -0.004529293028495307\n",
      "MC= 0.4119718493978471, x=3.41796875, dif= 0.011971849397847067\n",
      "MC= 0.40547826029230144, x=3.173828125, dif= 0.005478260292301418\n"
     ]
    },
    {
     "data": {
      "text/plain": [
       "3.0517578125"
      ]
     },
     "execution_count": 100,
     "metadata": {},
     "output_type": "execute_result"
    }
   ],
   "source": [
    "getValorCritico(alpha=0.1, v=1)"
   ]
  },
  {
   "cell_type": "code",
   "execution_count": null,
   "id": "0d15d5f0-f8b2-46fa-9192-b7ee0a8bce4f",
   "metadata": {},
   "outputs": [],
   "source": []
  },
  {
   "cell_type": "code",
   "execution_count": 68,
   "id": "9bb24a39-3d25-4036-a7b4-dd666f922e8b",
   "metadata": {
    "tags": []
   },
   "outputs": [
    {
     "data": {
      "text/plain": [
       "0.400274922848535"
      ]
     },
     "execution_count": 68,
     "metadata": {},
     "output_type": "execute_result"
    }
   ],
   "source": [
    "monteCarlo(x=3.078,v=1)"
   ]
  },
  {
   "cell_type": "code",
   "execution_count": null,
   "id": "ae7bec2e-99ea-4e53-9e04-e0feeb99d651",
   "metadata": {},
   "outputs": [],
   "source": []
  },
  {
   "cell_type": "markdown",
   "id": "7238087a-9402-4801-b00d-8d2817403f39",
   "metadata": {},
   "source": [
    "## 2) Algoritmo genetico"
   ]
  },
  {
   "cell_type": "markdown",
   "id": "b08b7a93-ef97-49b4-b181-99d83215c79a",
   "metadata": {},
   "source": [
    "### Modulos"
   ]
  },
  {
   "cell_type": "code",
   "execution_count": 47,
   "id": "6f89eb6d-62c2-4a68-9bdd-dbeddf68d5aa",
   "metadata": {
    "tags": []
   },
   "outputs": [],
   "source": [
    "import numpy as np\n",
    "import pandas as pd\n",
    "from itertools import chain\n",
    "import xgboost as xgb\n",
    "\n",
    "from sklearn.datasets import load_iris,load_breast_cancer\n",
    "from sklearn.model_selection import train_test_split\n",
    "from sklearn.metrics import roc_auc_score\n",
    "from sklearn.preprocessing import label_binarize\n",
    "\n",
    "from tqdm import tqdm"
   ]
  },
  {
   "cell_type": "markdown",
   "id": "c352dbb9-99ec-4e98-a528-bfb4b4504ef5",
   "metadata": {},
   "source": [
    "### Funciones relevantes"
   ]
  },
  {
   "cell_type": "code",
   "execution_count": 2,
   "id": "13c8b048-8a23-477f-b37a-01de6056267a",
   "metadata": {
    "tags": []
   },
   "outputs": [],
   "source": [
    "def crear_individuo(num_genes=20):\n",
    "    return [int(x>0.5) for x in np.random.uniform(size=num_genes)]"
   ]
  },
  {
   "cell_type": "code",
   "execution_count": 3,
   "id": "9e1be042-7160-4eda-92d0-20df8f129544",
   "metadata": {
    "tags": []
   },
   "outputs": [],
   "source": [
    "def seleccion(objetivo,pob,x_train,y_train,x_val,y_val,k = 3):\n",
    "    pob = pd.DataFrame({'x':pob}).sample(k)\n",
    "    pob['auc'] = pob['x'].map(lambda x:objetivo(x,x_train,y_train,x_val,y_val))\n",
    "    pob.sort_values(by='auc',inplace=True)\n",
    "    return pob.tail(1)['x'].values[0]"
   ]
  },
  {
   "cell_type": "code",
   "execution_count": 4,
   "id": "4ec45417-f05f-4f77-906a-a846c5fd8939",
   "metadata": {
    "tags": []
   },
   "outputs": [],
   "source": [
    "def combinacion(padre1,padre2,proba):\n",
    "    #Los hijos son por defecto copias de los padres\n",
    "    padre1 = [g for g in padre1]\n",
    "    padre2 = [g for g in padre2]\n",
    "    hijos = [padre1,padre2]\n",
    "    if np.random.uniform()<proba:\n",
    "        #Seleccionar un punto de combinacion que no esté\n",
    "        #en los extremos\n",
    "        i = np.random.choice(range(1,len(padre1)-1))\n",
    "        hijos = padre1[:i]+padre2[i:],padre2[:i]+padre1[i:]\n",
    "    return [\"\".join([str(x) for x in h]) for h in hijos]"
   ]
  },
  {
   "cell_type": "code",
   "execution_count": 5,
   "id": "4aa9a10a-9434-45bc-a0eb-6a93fbf47e30",
   "metadata": {
    "tags": []
   },
   "outputs": [],
   "source": [
    "def mutacion(individuo,proba=0.5):\n",
    "    return \"\".join([str(1-int(g)) if r<proba else g for g,r in zip(individuo,np.random.uniform(size=len(individuo)))])"
   ]
  },
  {
   "cell_type": "markdown",
   "id": "93dced79-bd1b-46fe-845c-a3058ea2feef",
   "metadata": {},
   "source": [
    "Aquí procedemos a interpretar la cadena binaria como los parametros del modelo a generar:\n",
    "- Los primeros tres digitos establecen la maxima profundidad (1-8)\n",
    "- Se asigan los bits 3 y 4 para escoger el porcentage de subsampling [50%,60%.70%,80%]\n",
    "- Se toman los bits del 5-8 para el learning rate\n",
    "    - Los 4 ultimos generan la parte decimal \n",
    "- Se toman los bits restantes para las máximas iteraciones, siendo 11 genes ose tiene de 1 a 8 iteraciones\n",
    "\n",
    "En caso de querer mayor precisión sería aumentar el número de genes y aplear los bits del parametro"
   ]
  },
  {
   "cell_type": "code",
   "execution_count": 54,
   "id": "dd10ce4c-61e9-476b-bc6a-2931f3bc181b",
   "metadata": {
    "tags": []
   },
   "outputs": [],
   "source": [
    "def decodificar(x):\n",
    "    x=\"\".join([str(s) for s in x])\n",
    "    profundidad=int(x[:3],2)+1\n",
    "    subsample= int(x[3:5],2)\n",
    "    frac_num = sum(int(bit) * 2 ** -(i + 1) for i, bit in enumerate(x[5:9]))\n",
    "    lr= frac_num+.0001\n",
    "    num_iter= int(x[9:],2)+1\n",
    "    return profundidad,subsample,lr, num_iter"
   ]
  },
  {
   "cell_type": "code",
   "execution_count": 64,
   "id": "106bbcc6-66eb-4f3e-b1e8-f4619695bfb9",
   "metadata": {
    "tags": []
   },
   "outputs": [],
   "source": [
    "def objetivoAUC(x, x_train,y_train,x_val,y_val):\n",
    "    hiper=decodificar(x)\n",
    "    ls_method=['uniform','gradient_based']\n",
    "    ls_subsamples=[.5,.6,.7,.8]\n",
    "    \n",
    "    # Crear un objeto DMatrix para almacenar los datos en un formato optimizado para XGBoost\n",
    "    dtrain = xgb.DMatrix(x_train, label=y_train)\n",
    "    dtest = xgb.DMatrix(x_val)\n",
    "    params = {\n",
    "        'objective': 'binary:logistic', \n",
    "        'seed': 42\n",
    "    }\n",
    "    # Definir los parámetros del modelo XGBoost\n",
    "    params['max_depth']= hiper[0]\n",
    "    params[\"subsample\"]= ls_subsamples[hiper[1]]\n",
    "    params['eta'] = hiper[2]\n",
    "    num_iters= hiper[3]\n",
    "    \n",
    "    try:\n",
    "        model = xgb.train(params, dtrain,num_iters)\n",
    "    except Exception as e:\n",
    "        print(e)\n",
    "        return 0\n",
    "    \n",
    "    y_proba= model.predict(dtest)\n",
    "    auc= roc_auc_score(y_val, y_proba)\n",
    "    #print(f\"Params: {params},\\n Iters: {num_iters}AUC = {auc}\\n\" )\n",
    "    return auc"
   ]
  },
  {
   "cell_type": "code",
   "execution_count": 77,
   "id": "5e819c41-847e-46bc-aaf5-96f0f8c5ad93",
   "metadata": {
    "tags": []
   },
   "outputs": [],
   "source": [
    "def alg_genetico(objetivo,x_train,y_train,x_val,y_val,\n",
    "                 n_genes=12,n_generaciones=100,tam_pob=100,proba_comb=0.9,proba_mut=1/20,tam_muestra=3):\n",
    "\n",
    "    pob = [crear_individuo(num_genes=n_genes) for _ in range(tam_pob)]\n",
    "    for gen in tqdm(range(n_generaciones)):\n",
    "        aptos = [seleccion(objetivo,pob,x_train,y_train,x_val,y_val,k=tam_muestra) for _ in range(tam_pob)]\n",
    "        hijos = [combinacion(*aptos[i:i+2],proba_comb) for i in range(0,tam_pob,2)]\n",
    "        hijos = list(map(lambda x: mutacion(x,proba=proba_mut),chain(*hijos)))\n",
    "        pob = hijos[:]\n",
    "    pob = pd.DataFrame({'x':pob})\n",
    "    pob['aptitud'] = pob['x'].map(lambda x: objetivo(x,x_train,y_train,x_val,y_val))\n",
    "    pob.sort_values(by='aptitud',inplace=True)\n",
    "    return pob.tail(1).values.tolist()[0]"
   ]
  },
  {
   "cell_type": "code",
   "execution_count": 56,
   "id": "aa52aeb5-287b-43f2-8219-e8f3e66d4749",
   "metadata": {
    "tags": []
   },
   "outputs": [],
   "source": [
    "def resultados(best):\n",
    "    dc_subsamples={0:.5, 1:.6, 2:.7, 3:.8}\n",
    "    ls_best_params=decodificar(best[0])\n",
    "    resumen=f'''Max_depth:{ls_best_params[0]}\n",
    "    Subsamples:{dc_subsamples[ls_best_params[1]]}\n",
    "    lr:{ls_best_params[2]}\n",
    "    Num_iter= {ls_best_params[3]}\n",
    "    AUC= {best[1]}\n",
    "    '''\n",
    "    print(resumen)"
   ]
  },
  {
   "cell_type": "markdown",
   "id": "7eda1be6-04b5-4f4b-ac5c-ee529239338d",
   "metadata": {},
   "source": [
    "### Cargar datos"
   ]
  },
  {
   "cell_type": "code",
   "execution_count": 84,
   "id": "89136718-102c-4aee-b677-59d29bef29e2",
   "metadata": {
    "tags": []
   },
   "outputs": [],
   "source": [
    "data = load_breast_cancer()\n",
    "X = data.data\n",
    "y = data.target"
   ]
  },
  {
   "cell_type": "code",
   "execution_count": 79,
   "id": "8e88a911-93c4-4f00-9565-61ccf2273592",
   "metadata": {
    "tags": []
   },
   "outputs": [],
   "source": [
    "x_train, x_test, y_train, y_test = train_test_split(X, y, test_size=0.3, random_state=42,stratify=y )"
   ]
  },
  {
   "cell_type": "markdown",
   "id": "4b888d41-fc14-42b1-b708-5aa95c5405b1",
   "metadata": {},
   "source": [
    "### Hiperparametrización"
   ]
  },
  {
   "cell_type": "code",
   "execution_count": 80,
   "id": "623b6370-ca93-4df7-8b9e-684b6e5f35c6",
   "metadata": {
    "tags": []
   },
   "outputs": [
    {
     "name": "stderr",
     "output_type": "stream",
     "text": [
      "100%|█████████████████████████████████████████████| 3/3 [00:10<00:00,  3.42s/it]\n"
     ]
    }
   ],
   "source": [
    "best=alg_genetico(objetivoAUC,x_train,y_train,x_test,y_test,n_generaciones=3)"
   ]
  },
  {
   "cell_type": "code",
   "execution_count": 81,
   "id": "dd4252c5-c544-464d-91b3-5dfb400ae597",
   "metadata": {
    "tags": []
   },
   "outputs": [
    {
     "name": "stdout",
     "output_type": "stream",
     "text": [
      "Max_depth:5\n",
      "    Subsamples:0.5\n",
      "    lr:0.6876\n",
      "    Num_iter= 8\n",
      "    AUC= 0.9947429906542056\n",
      "    \n"
     ]
    }
   ],
   "source": [
    "resultados(best)"
   ]
  },
  {
   "cell_type": "code",
   "execution_count": 82,
   "id": "712bfb95-3247-4c27-a3ef-ec5a266ec0fa",
   "metadata": {
    "tags": []
   },
   "outputs": [
    {
     "name": "stderr",
     "output_type": "stream",
     "text": [
      "100%|███████████████████████████████████████████| 10/10 [00:27<00:00,  2.77s/it]\n"
     ]
    }
   ],
   "source": [
    "best=alg_genetico(objetivoAUC,x_train,y_train,x_test,y_test,n_generaciones=10)"
   ]
  },
  {
   "cell_type": "code",
   "execution_count": 83,
   "id": "c24e4764-6c0a-486c-b78e-5fcec6a27c5d",
   "metadata": {
    "tags": []
   },
   "outputs": [
    {
     "name": "stdout",
     "output_type": "stream",
     "text": [
      "Max_depth:7\n",
      "    Subsamples:0.5\n",
      "    lr:0.7501\n",
      "    Num_iter= 6\n",
      "    AUC= 0.9948890186915887\n",
      "    \n"
     ]
    }
   ],
   "source": [
    "resultados(best)"
   ]
  },
  {
   "cell_type": "markdown",
   "id": "b46e4da4-9cd0-40ce-a381-995a5ef0ae4f",
   "metadata": {},
   "source": [
    "## 3) Metropolis Hastings"
   ]
  },
  {
   "cell_type": "markdown",
   "id": "2282dc8d-c59c-4935-9ffa-970f0e4caa5c",
   "metadata": {},
   "source": [
    "### Modulos"
   ]
  },
  {
   "cell_type": "code",
   "execution_count": 47,
   "id": "0c6de104-97ea-4b15-8fe4-afe42d74e420",
   "metadata": {
    "tags": []
   },
   "outputs": [],
   "source": [
    "import numpy as np\n",
    "import pandas as pd\n",
    "import matplotlib.pyplot as plt\n",
    "from datetime import datetime, timedelta"
   ]
  },
  {
   "cell_type": "markdown",
   "id": "501b470b-929c-4daf-8217-a52d049e724d",
   "metadata": {},
   "source": [
    "### Funciones relevantes"
   ]
  },
  {
   "cell_type": "code",
   "execution_count": 2,
   "id": "618d6438-4af7-4d31-9eca-1c1502430057",
   "metadata": {
    "tags": []
   },
   "outputs": [],
   "source": [
    "def poissonPdf(x, l):\n",
    "    return (l**x * np.exp(-l)) / np.math.factorial(x)"
   ]
  },
  {
   "cell_type": "code",
   "execution_count": 3,
   "id": "b59ff70d-794b-41b5-a1fe-1c952d056669",
   "metadata": {
    "tags": []
   },
   "outputs": [],
   "source": [
    "def exponentialPdf(x, beta):\n",
    "    return (1 / beta) * np.exp(-x / beta)"
   ]
  },
  {
   "cell_type": "code",
   "execution_count": 4,
   "id": "4c5882e7-0988-4dda-af22-80affd7b5d0a",
   "metadata": {
    "tags": []
   },
   "outputs": [],
   "source": [
    "def newStateUniform(x,limit=1):\n",
    "    e = np.random.uniform(-limit, limit)\n",
    "    return max(0,x+ e)"
   ]
  },
  {
   "cell_type": "code",
   "execution_count": 5,
   "id": "18945706-5867-4407-b3b6-7f0b5dc019cf",
   "metadata": {
    "tags": []
   },
   "outputs": [],
   "source": [
    "def newStateNormal(x):\n",
    "    return abs(np.random.normal(x, 1))"
   ]
  },
  {
   "cell_type": "code",
   "execution_count": 6,
   "id": "5312e0b1-769f-45d2-9fa9-efec001265e3",
   "metadata": {
    "tags": []
   },
   "outputs": [],
   "source": [
    "def move(x_ini,x_new,l,distribution):\n",
    "    u = np.random.uniform(0, 1)\n",
    "    if(distribution=='Poisson'):\n",
    "        p_move = min(poissonPdf(int(x_new),l)/poissonPdf(int(x_ini),l), 1)\n",
    "    else:\n",
    "        p_move = min(exponentialPdf(x_new,l)/exponentialPdf(x_ini,l), 1)\n",
    "    if p_move > u:\n",
    "        return x_new\n",
    "    else:\n",
    "        return x_ini\n"
   ]
  },
  {
   "cell_type": "code",
   "execution_count": 7,
   "id": "4f198dfd-589e-4855-9e81-2117ac2ace53",
   "metadata": {
    "tags": []
   },
   "outputs": [],
   "source": [
    "def poissonRvs(l,upper=20,steps=100000, limit=1):\n",
    "    values = np.zeros(steps)\n",
    "    x_ini = np.random.uniform(0,upper)\n",
    "    for j in range(1, steps):\n",
    "        x_new= newStateUniform(x_ini, limit)\n",
    "        next_move = move(x_ini,x_new,l, 'Poisson')\n",
    "        values[j] = int(next_move)\n",
    "        x_ini= next_move\n",
    "    return values"
   ]
  },
  {
   "cell_type": "code",
   "execution_count": 8,
   "id": "1b054737-9b4d-4972-88c0-5b0fda0684a7",
   "metadata": {
    "tags": []
   },
   "outputs": [],
   "source": [
    "def exponentialRvs(l,upper=20,steps=100000):\n",
    "    values = np.zeros(steps)\n",
    "    x_ini = np.random.uniform(0,upper)\n",
    "    for j in range(1, steps):\n",
    "        x_new= newStateNormal(x_ini)\n",
    "        next_move = move(x_ini,x_new,l, 'Exponential')\n",
    "        values[j] = next_move\n",
    "        x_ini= next_move\n",
    "    return values"
   ]
  },
  {
   "cell_type": "code",
   "execution_count": 9,
   "id": "bc80d2e1-ced2-414b-9e1d-8729353107a0",
   "metadata": {
    "tags": []
   },
   "outputs": [],
   "source": [
    "def plot_poisson(samples,l):\n",
    "     # Calcular la frecuencia de cada número\n",
    "    counts, bins, _ = plt.hist(samples, bins=range(int(max(samples)) + 2), density=True, align='left', rwidth=0.8)\n",
    "\n",
    "    # Marcar la ubicación del parámetro lambda en el gráfico\n",
    "    plt.axvline(x=l, color='r', linestyle='--', label='Parámetro lambda')\n",
    "\n",
    "    # Configuración adicional del gráfico\n",
    "    plt.xlabel('Valor')\n",
    "    plt.ylabel('Probabilidad')\n",
    "    plt.title('Distribución de Poisson')\n",
    "    plt.legend()\n",
    "\n",
    "    # Mostrar el gráfico\n",
    "    plt.show()"
   ]
  },
  {
   "cell_type": "code",
   "execution_count": 10,
   "id": "9703125d-f7ca-4a52-8638-81a972145e19",
   "metadata": {
    "tags": []
   },
   "outputs": [],
   "source": [
    "def plot_expon(samples,l):\n",
    "    counts, bins, _ = plt.hist(samples, bins=30, density=True, alpha=0.7)\n",
    "\n",
    "    # Marcar la ubicación del parámetro lambda en el gráfico\n",
    "    plt.axvline(x=l, color='r', linestyle='--', label='Parámetro lambda')\n",
    "\n",
    "    # Configuración adicional del gráfico\n",
    "    plt.xlabel('Valor')\n",
    "    plt.ylabel('Probabilidad')\n",
    "    plt.title('Distribución Exponencial')\n",
    "    plt.legend()\n",
    "\n",
    "    # Mostrar el gráfico\n",
    "    plt.show()\n"
   ]
  },
  {
   "cell_type": "markdown",
   "id": "208780e4-11bc-457f-9ec9-679eb7c1bf5a",
   "metadata": {},
   "source": [
    "### Simulación"
   ]
  },
  {
   "cell_type": "markdown",
   "id": "22eee8ea-924d-4e8d-a463-ba1009004a68",
   "metadata": {},
   "source": [
    "#### Poisson $\\lambda = 3$"
   ]
  },
  {
   "cell_type": "code",
   "execution_count": 11,
   "id": "9e4a9f1d-8b70-44e3-b89f-1f256745dcf0",
   "metadata": {
    "tags": []
   },
   "outputs": [],
   "source": [
    "values_poisson=poissonRvs(l=3,upper=20)"
   ]
  },
  {
   "cell_type": "code",
   "execution_count": 20,
   "id": "e77e5c58-117f-4ac5-9d9d-e106f797b135",
   "metadata": {
    "tags": []
   },
   "outputs": [
    {
     "data": {
      "image/png": "[encoded data removed]",
      "text/plain": [
       "<Figure size 640x480 with 1 Axes>"
      ]
     },
     "metadata": {},
     "output_type": "display_data"
    }
   ],
   "source": [
    "plot_poisson(values_poisson[-1000:],3)"
   ]
  },
  {
   "cell_type": "markdown",
   "id": "fd11130a-e2dc-4879-a74c-061b704c26ff",
   "metadata": {},
   "source": [
    "#### Exponencial $\\lambda=5$"
   ]
  },
  {
   "cell_type": "code",
   "execution_count": 13,
   "id": "fb2a9c12-fc52-4822-bdd2-22fa074a9484",
   "metadata": {
    "tags": []
   },
   "outputs": [],
   "source": [
    "values_exp=exponentialRvs(l=5,upper=20)"
   ]
  },
  {
   "cell_type": "code",
   "execution_count": 14,
   "id": "8910bcba-1e45-4942-93fa-f74c7929fdae",
   "metadata": {
    "tags": []
   },
   "outputs": [
    {
     "data": {
      "image/png": "[encoded data removed]",
      "text/plain": [
       "<Figure size 640x480 with 1 Axes>"
      ]
     },
     "metadata": {},
     "output_type": "display_data"
    }
   ],
   "source": [
    "plot_expon(values_exp[15000:],5)"
   ]
  },
  {
   "cell_type": "code",
   "execution_count": 37,
   "id": "7ea4f7f9-ea7a-4ee8-90cf-f7b59e14c331",
   "metadata": {
    "tags": []
   },
   "outputs": [],
   "source": [
    "def getTimeUser(index,num_users,ls_time, tail):\n",
    "    for user in range(int(num_users)):\n",
    "        wait_time = ls_time.pop(0)\n",
    "        tail.append((index,wait_time))\n",
    "        index+=1\n",
    "    return index, tail"
   ]
  },
  {
   "cell_type": "markdown",
   "id": "14e251d2-fd71-42db-a23b-64e0efbc4257",
   "metadata": {},
   "source": [
    "#### Cola de espera"
   ]
  },
  {
   "cell_type": "code",
   "execution_count": 79,
   "id": "cfaea14b-7e3c-49ad-858a-0611f3fe532b",
   "metadata": {
    "tags": []
   },
   "outputs": [],
   "source": [
    "ls_users=list(values_poisson[-1000:])\n",
    "ls_time= list(map(lambda x: np.math.ceil(x),values_exp[-3000:]))"
   ]
  },
  {
   "cell_type": "code",
   "execution_count": 80,
   "id": "9a701551-5eb7-44fa-8f3d-8dc3566d1c43",
   "metadata": {
    "tags": []
   },
   "outputs": [],
   "source": [
    "tail= []\n",
    "time_close= 180\n",
    "index= 1\n",
    "last_arrival=0\n",
    "time_ini=datetime(2023, 5, 16, 9, 0)\n",
    "time_format = \"%H:%M\""
   ]
  },
  {
   "cell_type": "code",
   "execution_count": 81,
   "id": "1fda273a-89b2-463a-b929-7762aeef63b0",
   "metadata": {
    "tags": []
   },
   "outputs": [
    {
     "name": "stdout",
     "output_type": "stream",
     "text": [
      "La sucursal esta vacia, llegaron 5.0 usuarios a las 09:00\n",
      "--------------------------------------------------------\n",
      "\tEl turno 1 estuvo en cajas desde 09:00 hasta 09:01\n",
      "\tEl turno 2 estuvo en cajas desde 09:01 hasta 09:02\n",
      "\tEl turno 3 estuvo en cajas desde 09:02 hasta 09:03\n",
      "\tEl turno 4 estuvo en cajas desde 09:03 hasta 09:04\n",
      "\tEl turno 5 estuvo en cajas desde 09:04 hasta 09:05\n",
      "La sucursal esta vacia, llegaron 5.0 usuarios a las 09:05\n",
      "--------------------------------------------------------\n",
      "\tEl turno 6 estuvo en cajas desde 09:05 hasta 09:06\n",
      "\tEl turno 7 estuvo en cajas desde 09:06 hasta 09:08\n",
      "\tEl turno 8 estuvo en cajas desde 09:08 hasta 09:09\n",
      "\tEl turno 9 estuvo en cajas desde 09:09 hasta 09:10\n",
      "\tEl turno 10 estuvo en cajas desde 09:10 hasta 09:12\n",
      "La sucursal esta vacia, llegaron 5.0 usuarios a las 09:12\n",
      "--------------------------------------------------------\n",
      "\tEl turno 11 estuvo en cajas desde 09:12 hasta 09:14\n",
      "\tEl turno 12 estuvo en cajas desde 09:14 hasta 09:18\n",
      "Llegaron 6.0 usuarios a las 09:18\n",
      "--------------------------------------------------------\n",
      "\tEl turno 13 estuvo en cajas desde 09:18 hasta 09:24\n",
      "\tEl turno 14 estuvo en cajas desde 09:24 hasta 09:30\n",
      "\tEl turno 15 estuvo en cajas desde 09:30 hasta 09:37\n",
      "Llegaron 5.0 usuarios a las 09:37\n",
      "--------------------------------------------------------\n",
      "\tEl turno 16 estuvo en cajas desde 09:37 hasta 09:45\n",
      "\tEl turno 17 estuvo en cajas desde 09:45 hasta 09:53\n",
      "Llegaron 5.0 usuarios a las 09:53\n",
      "--------------------------------------------------------\n",
      "\tEl turno 18 estuvo en cajas desde 09:53 hasta 10:03\n",
      "\tEl turno 19 estuvo en cajas desde 10:03 hasta 10:14\n",
      "Llegaron 4.0 usuarios a las 10:14\n",
      "--------------------------------------------------------\n",
      "\tEl turno 20 estuvo en cajas desde 10:14 hasta 10:26\n",
      "\tEl turno 21 estuvo en cajas desde 10:26 hasta 10:37\n",
      "Llegaron 4.0 usuarios a las 10:37\n",
      "--------------------------------------------------------\n",
      "\tEl turno 22 estuvo en cajas desde 10:37 hasta 10:48\n",
      "\tEl turno 23 estuvo en cajas desde 10:48 hasta 10:59\n",
      "Llegaron 3.0 usuarios a las 10:59\n",
      "--------------------------------------------------------\n",
      "\tEl turno 24 estuvo en cajas desde 10:59 hasta 11:11\n",
      "\tEl turno 25 estuvo en cajas desde 11:11 hasta 11:23\n",
      "Llegaron 3.0 usuarios a las 11:23\n",
      "--------------------------------------------------------\n",
      "\tEl turno 26 estuvo en cajas desde 11:23 hasta 11:33\n",
      "\tEl turno 27 estuvo en cajas desde 11:33 hasta 11:43\n",
      "Llegaron 3.0 usuarios a las 11:43\n",
      "--------------------------------------------------------\n",
      "\tEl turno 28 estuvo en cajas desde 11:43 hasta 11:54\n",
      "\tEl turno 29 estuvo en cajas desde 11:54 hasta 12:04\n",
      "Cerramos\n",
      "Cerramos\n"
     ]
    }
   ],
   "source": [
    "while(time_close>0):\n",
    "    if(len(tail)==0):\n",
    "        if(time_close<0):\n",
    "            print(\"Cerramos\")\n",
    "            break\n",
    "        num_users= ls_users.pop(0)\n",
    "        print(f\"La sucursal esta vacia, llegaron {num_users} usuarios a las {time_ini.strftime(time_format)}\")\n",
    "        print(\"--------------------------------------------------------\")\n",
    "        index,tail = getTimeUser(index,num_users,ls_time, tail)\n",
    "    turn, time = tail.pop(0)\n",
    "    last_arrival+= time\n",
    "    time_after= time_ini+ timedelta(minutes=time) \n",
    "    print(f\"\\tEl turno {turn} estuvo en cajas desde {time_ini.strftime(time_format)} hasta {time_after.strftime(time_format)}\")\n",
    "    time_ini= time_after\n",
    "    time_close-= time\n",
    "    if(last_arrival>15):\n",
    "        if(time_close<0):\n",
    "            print(\"Cerramos\")\n",
    "            break\n",
    "        num_users= ls_users.pop(0)\n",
    "        index,tail = getTimeUser(index,num_users,ls_time, tail)\n",
    "        print(f\"Llegaron {num_users} usuarios a las {time_ini.strftime(time_format)}\")\n",
    "        print(\"--------------------------------------------------------\")\n",
    "        last_arrival=0\n",
    "\n",
    "print(\"Cerramos\")"
   ]
  },
  {
   "cell_type": "markdown",
   "id": "062e1be8-a595-4c49-8ed2-38ec2c04f17b",
   "metadata": {},
   "source": [
    "### Ejemplo del heladero"
   ]
  },
  {
   "cell_type": "code",
   "execution_count": 3,
   "id": "929f3fe8-1f0d-48b1-b5b3-84dfa7462006",
   "metadata": {
    "tags": []
   },
   "outputs": [],
   "source": [
    "import numpy as np\n",
    "import pandas as pd\n",
    "import matplotlib.pyplot as plt\n",
    "import seaborn as sns\n",
    "\n",
    "islas = pd.DataFrame({'islas': range(1, 11), 'pob': range(1, 11)})\n",
    "\n",
    "def caminaIsla(i):\n",
    "    u = np.random.uniform(0, 1)\n",
    "    v = i - 1 if u < 0.5 else i + 1\n",
    "    if v < 1 or v > 10:\n",
    "        return i\n",
    "    u2 = np.random.uniform(0, 1)\n",
    "    p_move = min(islas.loc[v-1, 'pob'] / islas.loc[i-1, 'pob'], 1)\n",
    "    if p_move > u2:\n",
    "        return v\n",
    "    else:\n",
    "        return i\n",
    "\n",
    "pasos = 100000\n",
    "camino = np.zeros(pasos)\n",
    "camino[0] = np.random.choice(range(1, 11))\n",
    "for j in range(1, pasos):\n",
    "    camino[j] = caminaIsla(camino[j-1])\n",
    "\n",
    "caminata = pd.DataFrame({'pasos': range(1, pasos+1), 'isla': camino})"
   ]
  },
  {
   "cell_type": "code",
   "execution_count": 13,
   "id": "89c0f08d-df49-44ce-b019-2dde73268aaa",
   "metadata": {
    "tags": []
   },
   "outputs": [
    {
     "data": {
      "text/plain": [
       "<Axes: >"
      ]
     },
     "execution_count": 13,
     "metadata": {},
     "output_type": "execute_result"
    },
    {
     "data": {
      "image/png": "[encoded data removed]",
      "text/plain": [
       "<Figure size 640x480 with 1 Axes>"
      ]
     },
     "metadata": {},
     "output_type": "display_data"
    }
   ],
   "source": [
    "caminata.iloc[:10000,1].hist()"
   ]
  },
  {
   "cell_type": "code",
   "execution_count": null,
   "id": "acff79ef-4589-49cc-b22f-a268e65c46ca",
   "metadata": {},
   "outputs": [],
   "source": []
  }
 ],
 "metadata": {
  "kernelspec": {
   "display_name": "pylab",
   "language": "python",
   "name": "pylab"
  },
  "language_info": {
   "codemirror_mode": {
    "name": "ipython",
    "version": 3
   },
   "file_extension": ".py",
   "mimetype": "text/x-python",
   "name": "python",
   "nbconvert_exporter": "python",
   "pygments_lexer": "ipython3",
   "version": "3.10.6"
  }
 },
 "nbformat": 4,
 "nbformat_minor": 5
}
