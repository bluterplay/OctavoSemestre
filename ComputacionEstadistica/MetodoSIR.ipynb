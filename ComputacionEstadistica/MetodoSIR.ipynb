{
 "cells": [
  {
   "cell_type": "code",
   "execution_count": 2,
   "id": "8dc35f4b-e1bc-4efc-9c92-11fe76763a85",
   "metadata": {
    "tags": []
   },
   "outputs": [],
   "source": [
    "import numpy as np\n",
    "import scipy.stats as stats\n",
    "import seaborn as sns"
   ]
  },
  {
   "cell_type": "code",
   "execution_count": 57,
   "id": "56b83c0c-5d4a-4599-947c-82ea250e92c9",
   "metadata": {
    "tags": []
   },
   "outputs": [],
   "source": [
    "class SIR_Generator():\n",
    "    \n",
    "    def __init__(self,loc=0,scale=1,df=1,ls_values=[], n=1,distribution='exponencial'):\n",
    "        self.loc= loc\n",
    "        self.scale= scale\n",
    "        self.df= df\n",
    "        self.ls_values= ls_values\n",
    "        self.distribution= distribution\n",
    "        self.n= n\n",
    "        self.var={\"beta\": stats.beta(a=self.loc, b=self.scale),\n",
    "                  \"cauchy\": stats.cauchy(loc=self.loc, scale=self.scale),\n",
    "                  \"chi\": stats.chi(df=self.loc),\n",
    "                  \"exponencial\":stats.expon(loc=self.loc, scale=self.scale),\n",
    "                  \"gamma\": stats.gamma(a=self.loc, scale= 1/self.scale),\n",
    "                  \"laplace\": stats.laplace(loc=self.loc,scale=self.scale),\n",
    "                  \"lognormal\": stats.lognorm(s= self.loc),\n",
    "                  \"normal\": stats.norm(loc= self.loc, scale=self.scale),\n",
    "                  \n",
    "                 }\n",
    "        \n",
    "    def getNorm(self,loc,scale):\n",
    "        X=self.var[self.distribution]\n",
    "        Y= stats.norm(loc= 0, scale=1)\n",
    "        x= X.rvs(size=self.n)\n",
    "        W=Y.pdf(x)/X.pdf(x)\n",
    "        W/=W.sum()\n",
    "        values= np.random.choice(x,size=self.n,replace=True,p=W)\n",
    "        ls=[]\n",
    "        for val in values:\n",
    "            u= np.random.uniform(size=1)\n",
    "            if(u<=.5):\n",
    "                ls.append(val)\n",
    "            else:\n",
    "                ls.append(-val)\n",
    "        self.ls_values= loc+ np.array(ls)*(scale)\n",
    "        \n",
    "    def getLognorm(self,loc):\n",
    "        X=self.var[self.distribution]\n",
    "        Y= stats.lognorm(s= loc)\n",
    "        x= X.rvs(size=self.n)\n",
    "        W=Y.pdf(x)/X.pdf(x)\n",
    "        W/=W.sum()\n",
    "        self.ls_values= np.random.choice(x,size=self.n,replace=True,p=W) \n",
    "        \n",
    "    def getChi(self, df):\n",
    "        X=self.var[self.distribution]\n",
    "        Y= stats.chi(df=df)\n",
    "        x= X.rvs(size=self.n)\n",
    "        W=Y.pdf(x)/X.pdf(x)\n",
    "        W/=W.sum()\n",
    "        self.ls_values= np.random.choice(x,size=self.n,replace=True,p=W)\n",
    "        \n",
    "    def getBeta(self,loc,scale):\n",
    "        X=self.var[self.distribution]\n",
    "        Y= stats.beta(a=loc, b=scale)\n",
    "        x= X.rvs(size=self.n)\n",
    "        #x/=(max(x)-min(x))\n",
    "        W=Y.pdf(x)/X.pdf(x)\n",
    "        W/=W.sum()\n",
    "        self.ls_values= np.random.choice(x,size=self.n,replace=True,p=W)\n",
    "        \n",
    "    def getArcsin(self):\n",
    "        self.getBeta(loc=.5,scale=.5)\n",
    "        \n",
    "    def getStandardUniform(self):\n",
    "        self.getBeta(loc=1,scale=1)\n",
    "    \n",
    "    def getInvertBeta(self,loc,scale):\n",
    "        self.getBeta(loc,scale)\n",
    "        self.ls_values/=(1-self.ls_values)\n",
    "        \n",
    "    def getCauchy(self, loc, scale):\n",
    "        X=self.var[self.distribution]\n",
    "        Y= stats.cauchy(loc=loc,scale=scale)\n",
    "        x= X.rvs(size=self.n)\n",
    "        W=Y.pdf(x)/X.pdf(x)\n",
    "        W/=W.sum()\n",
    "        self.ls_values= np.random.choice(x,size=self.n,replace=True,p=W)\n",
    "    \n",
    "    def getStandardCauchy(self,):\n",
    "        self.getCauchy(0,1)\n",
    "        \n",
    "    def getGamma(self,loc,scale):\n",
    "        X=self.var[self.distribution]\n",
    "        Y= stats.gamma(a=loc,scale=1/scale)\n",
    "        x= X.rvs(size=self.n)\n",
    "        W=Y.pdf(x)/X.pdf(x)\n",
    "        W/=W.sum()\n",
    "        self.ls_values= np.random.choice(x,size=self.n,replace=True,p=W)\n",
    "    \n",
    "    def getChi2(self,df):\n",
    "        self.getGamma(loc=2,scale=df/2)\n",
    "    \n",
    "    def getErlang(self,loc,n):\n",
    "        self.getGamma(loc=loc,scale=n)\n",
    "    \n",
    "    def getLaplace(self,loc,scale):\n",
    "        X=self.var[self.distribution]\n",
    "        Y= stats.laplace(loc=loc,scale=scale)\n",
    "        x= X.rvs(size=self.n)\n",
    "        W=Y.pdf(x)/X.pdf(x)\n",
    "        W/=W.sum()\n",
    "        self.ls_values= np.random.choice(x,size=self.n,replace=True,p=W)\n",
    "        \n",
    "    def getError(self,a):\n",
    "        self.getLaplace(a,a)\n",
    "        \n",
    "    def getPareto(self,loc,scale):\n",
    "        U= np.random.uniform(size= self.n)+ loc\n",
    "        self.ls_values= (U**(-(1/scale)))*loc\n",
    "        \n",
    "    def getLogLogistic(self,loc,scale):\n",
    "        X=self.var[self.distribution]\n",
    "        l=loc\n",
    "        k= scale\n",
    "        y_pdf= eval('(l*k*((l*x)**(k-1)))/((1+(l*x)**k)**2)')\n",
    "        x= X.rvs(size=self.n)\n",
    "        W=y_pdf/X.pdf(x)\n",
    "        W/=W.sum()\n",
    "        self.ls_values= np.random.choice(x,size=self.n,replace=True,p=W)"
   ]
  },
  {
   "cell_type": "markdown",
   "id": "b6f63a89-de45-405e-9b93-72b0117fad0d",
   "metadata": {},
   "source": [
    " Instancia a la clase con la variable que gusta generar otra distribución y el número de muestras"
   ]
  },
  {
   "cell_type": "code",
   "execution_count": 58,
   "id": "5ebf4307-392e-4b01-a89a-d83ef439553b",
   "metadata": {
    "tags": []
   },
   "outputs": [],
   "source": [
    "generador= SIR_Generator(scale=2,n=100000, distribution=\"exponencial\")"
   ]
  },
  {
   "cell_type": "markdown",
   "id": "3f98bf23-56c5-4af4-bf42-7623e79d7e50",
   "metadata": {},
   "source": [
    "Llama a la función para obtener los resultados los cuales se guardan en ls_values "
   ]
  },
  {
   "cell_type": "code",
   "execution_count": 59,
   "id": "ee38c17d-4e7b-4fb2-af17-97b06de7271e",
   "metadata": {
    "tags": []
   },
   "outputs": [],
   "source": [
    "generador.getLogLogistic(loc=4,scale=1)"
   ]
  },
  {
   "cell_type": "code",
   "execution_count": 60,
   "id": "d4597970-7ecd-47e1-bd69-4df2b3c60f14",
   "metadata": {
    "tags": []
   },
   "outputs": [
    {
     "data": {
      "text/plain": [
       "<seaborn.axisgrid.FacetGrid at 0x7f7d6374d930>"
      ]
     },
     "execution_count": 60,
     "metadata": {},
     "output_type": "execute_result"
    },
    {
     "data": {
      "image/png": "[encoded data removed]",
      "text/plain": [
       "<Figure size 500x500 with 1 Axes>"
      ]
     },
     "metadata": {},
     "output_type": "display_data"
    }
   ],
   "source": [
    "sns.displot(generador.ls_values)"
   ]
  }
 ],
 "metadata": {
  "kernelspec": {
   "display_name": "pylab",
   "language": "python",
   "name": "pylab"
  },
  "language_info": {
   "codemirror_mode": {
    "name": "ipython",
    "version": 3
   },
   "file_extension": ".py",
   "mimetype": "text/x-python",
   "name": "python",
   "nbconvert_exporter": "python",
   "pygments_lexer": "ipython3",
   "version": "3.10.6"
  }
 },
 "nbformat": 4,
 "nbformat_minor": 5
}
