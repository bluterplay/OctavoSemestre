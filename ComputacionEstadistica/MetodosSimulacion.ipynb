{
 "cells": [
  {
   "cell_type": "code",
   "execution_count": 25,
   "id": "9fa05e05-e2b2-4b96-b39a-36eca535040f",
   "metadata": {
    "tags": []
   },
   "outputs": [],
   "source": [
    "import numpy as np\n",
    "import sys \n",
    "import seaborn as sns\n",
    "import scipy"
   ]
  },
  {
   "cell_type": "code",
   "execution_count": 26,
   "id": "c3563f0a-5418-487a-9a1c-32d5239c7a1f",
   "metadata": {
    "tags": []
   },
   "outputs": [],
   "source": [
    "class VariableAleatoria():\n",
    "    \n",
    "    def __init__(self,seed=123,values=np.array([]), distribution='', params= [],method=''):\n",
    "        self.seed= seed\n",
    "        self.values= values\n",
    "        self.distribution=distribution\n",
    "        self.method= method\n",
    "        self.params=params\n",
    "        self.C= 0\n",
    "        self.g= {\"normal\": 1,\n",
    "                 \"beta\": 1,\n",
    "                 \"gamma\": 2,\n",
    "                 \"argus\": 1,\n",
    "                 \"wald\": 1}\n",
    "        self.aceptacion={\n",
    "                   \"normal\": lambda x: scipy.stats.norm.pdf(x, loc= self.params[0], scale=self.params[1])/np.exp(-x),\n",
    "                   \"beta\": lambda x: scipy.stats.beta.pdf(x,a=self.params[0],b=self.params[1])/ np.exp(-x),\n",
    "                   \"gamma\": lambda x: scipy.stats.gamma.pdf(x,a=self.params[0])/ 2*np.exp(-2*x),\n",
    "                    \"argus\":lambda x: scipy.stats.argus.pdf(x,chi=self.params[0])/ np.exp(-x),\n",
    "                    \"wald\": lambda x: scipy.stats.wald.pdf(x)/ np.exp(-x)}\n",
    "        self.inversa= {\"exponencial\": '-np.log(u)/self.params[0]',\n",
    "                       \"anglit\": 'np.arcsin(2*u-1)/2',\n",
    "                       \"logistic\": ('np.log((1/(.5-ui))-1)','-np.log(-(1/(.5-ui))-1)'),\n",
    "                       \"bradford\": '((1+self.params[0])**u)/self.params[0] -1',\n",
    "                       \"pareto\": \"(1-u)**(1/(-1*self.params[0]))\"\n",
    "                      }\n",
    "        self.isSimetric= {\"exponencial\": 0,\"anglit\": 0,\"logistic\":1,\"bradford\": 0,'pareto':0,\n",
    "                          'normal': 1, 'beta': 0, \"gamma\": 0, \"argus\": 0, \"wald\":0}\n",
    "        \n",
    "    def generateInv(self,n):\n",
    "        '''El método de la inversa esta implementado las distribuciones: \n",
    "           Exponencial, Anglit, Logistic, Bradford, Pareto. '''\n",
    "        u= np.random.uniform(size=n)\n",
    "        if(self.isSimetric[self.distribution]):\n",
    "            ls=[]\n",
    "            for ui in u:\n",
    "                if(ui<.5):\n",
    "                    x= (eval(self.inversa[self.distribution][0])) \n",
    "                else:\n",
    "                    x= (eval(self.inversa[self.distribution][1]))\n",
    "                ls.append(x)\n",
    "            self.values= np.array(ls)\n",
    "            \n",
    "        else:\n",
    "            x= (eval(self.inversa[self.distribution]))\n",
    "            self.values= x\n",
    "        sns.displot(self.values)\n",
    "        return self.values\n",
    "    def getC(self):\n",
    "        ini=0\n",
    "        if(self.distribution== 'wald'):\n",
    "            ini=1\n",
    "        max_x = scipy.optimize.fmin(lambda x: -1*self.aceptacion[self.distribution](x), ini)\n",
    "        return self.aceptacion[self.distribution](max_x)[0]\n",
    "    \n",
    "    def generateAcep(self,n):\n",
    "        '''El método de aceptación y rechazo esta implementado para las distribuciones: \n",
    "           Normal, Beta, Gamma, Argus, Wald.\n",
    "           Se recomienda primero usar getC para ver la constante, entre mayor sea el número más rápido se generará '''\n",
    "        ls=[]\n",
    "        self.C= self.getC()\n",
    "        \n",
    "        while(len(ls)<n):\n",
    "            u= np.random.uniform(size=1)\n",
    "            y= np.random.exponential(scale=self.g[self.distribution])\n",
    "            h = self.aceptacion[self.distribution](y)*(1/self.C)\n",
    "            if(u<=h):\n",
    "                if(self.isSimetric[self.distribution]==1):\n",
    "                    u2=  np.random.uniform(size=1)\n",
    "                    if(u2<=.5):\n",
    "                        ls.append(y)\n",
    "                    else:\n",
    "                        ls.append(-y)\n",
    "                else:\n",
    "                    ls.append(y)\n",
    "        self.values= np.array(ls)\n",
    "        sns.displot(self.values)\n",
    "        return self.values\n",
    "            \n",
    "        "
   ]
  },
  {
   "cell_type": "code",
   "execution_count": 27,
   "id": "b87d4ab6-668b-4270-b134-1dbc5e2a77b9",
   "metadata": {
    "tags": []
   },
   "outputs": [],
   "source": [
    "X=VariableAleatoria(distribution='wald',params=[3])"
   ]
  },
  {
   "cell_type": "code",
   "execution_count": 28,
   "id": "404c9b88-aab2-468a-9658-5fe7d68980f1",
   "metadata": {
    "tags": []
   },
   "outputs": [
    {
     "name": "stdout",
     "output_type": "stream",
     "text": [
      "El método de aceptación y rechazo esta implementado para las distribuciones: \n",
      "           Normal, Beta, Gamma, Argus, Wald.\n",
      "           Se recomienda primero usar getC para ver la constante, entre mayor sea el número más rápido se generará \n"
     ]
    }
   ],
   "source": [
    "print(X.generateAcep.__doc__)"
   ]
  },
  {
   "cell_type": "code",
   "execution_count": 29,
   "id": "01fe00e4-ecdc-4fdb-9f41-b25fe8cae667",
   "metadata": {
    "tags": []
   },
   "outputs": [
    {
     "name": "stdout",
     "output_type": "stream",
     "text": [
      "Optimization terminated successfully.\n",
      "         Current function value: -1.501798\n",
      "         Iterations: 15\n",
      "         Function evaluations: 30\n"
     ]
    },
    {
     "data": {
      "text/plain": [
       "1.5017978381807868"
      ]
     },
     "execution_count": 29,
     "metadata": {},
     "output_type": "execute_result"
    }
   ],
   "source": [
    "X.getC()"
   ]
  },
  {
   "cell_type": "code",
   "execution_count": 30,
   "id": "ad9c0d7d-c2b4-4b29-b1b7-c3741ddcc6d1",
   "metadata": {
    "tags": []
   },
   "outputs": [
    {
     "name": "stdout",
     "output_type": "stream",
     "text": [
      "El método de la inversa esta implementado las distribuciones: \n",
      "           Exponencial, Anglit, Logistic, Bradford, Pareto. \n"
     ]
    }
   ],
   "source": [
    "print(X.generateInv.__doc__)"
   ]
  },
  {
   "cell_type": "code",
   "execution_count": 31,
   "id": "ffc3ae3f-dec5-4253-9586-0482033319e9",
   "metadata": {
    "tags": []
   },
   "outputs": [
    {
     "name": "stdout",
     "output_type": "stream",
     "text": [
      "Optimization terminated successfully.\n",
      "         Current function value: -1.501798\n",
      "         Iterations: 15\n",
      "         Function evaluations: 30\n"
     ]
    },
    {
     "data": {
      "image/png": "[encoded data removed]",
      "text/plain": [
       "<Figure size 500x500 with 1 Axes>"
      ]
     },
     "metadata": {},
     "output_type": "display_data"
    }
   ],
   "source": [
    "a= X.generateAcep(10000)"
   ]
  },
  {
   "cell_type": "code",
   "execution_count": 32,
   "id": "c4d52338-0a40-48b5-aba5-6348be105f03",
   "metadata": {
    "tags": []
   },
   "outputs": [
    {
     "data": {
      "text/plain": [
       "<seaborn.axisgrid.FacetGrid at 0x7ff4adb5bee0>"
      ]
     },
     "execution_count": 32,
     "metadata": {},
     "output_type": "execute_result"
    },
    {
     "data": {
      "image/png": "[encoded data removed]",
      "text/plain": [
       "<Figure size 500x500 with 1 Axes>"
      ]
     },
     "metadata": {},
     "output_type": "display_data"
    }
   ],
   "source": [
    "sns.displot(scipy.stats.wald.rvs( size= 10000))"
   ]
  }
 ],
 "metadata": {
  "kernelspec": {
   "display_name": "pylab",
   "language": "python",
   "name": "pylab"
  },
  "language_info": {
   "codemirror_mode": {
    "name": "ipython",
    "version": 3
   },
   "file_extension": ".py",
   "mimetype": "text/x-python",
   "name": "python",
   "nbconvert_exporter": "python",
   "pygments_lexer": "ipython3",
   "version": "3.10.6"
  }
 },
 "nbformat": 4,
 "nbformat_minor": 5
}
