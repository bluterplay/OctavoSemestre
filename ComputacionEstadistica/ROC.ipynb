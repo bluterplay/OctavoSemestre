{
 "cells": [
  {
   "cell_type": "markdown",
   "id": "3b0cd267-a6d4-4d7d-965b-eae16d38760f",
   "metadata": {},
   "source": [
    "# Modules"
   ]
  },
  {
   "cell_type": "code",
   "execution_count": 2,
   "id": "9981f746-0861-4f73-9fac-a3e5b59e4ecb",
   "metadata": {},
   "outputs": [],
   "source": [
    "import pandas as pd\n",
    "import numpy as np\n",
    "from sklearn.model_selection import train_test_split\n",
    "from sklearn.linear_model import LogisticRegression\n",
    "from sklearn import metrics\n",
    "import matplotlib.pyplot as plt\n",
    "import sys\n",
    "\n",
    "sys.setrecursionlimit(10000000)"
   ]
  },
  {
   "cell_type": "markdown",
   "id": "ee91da26-e5f7-41bf-8199-f9a8e91e13a9",
   "metadata": {},
   "source": [
    "# Classes"
   ]
  },
  {
   "cell_type": "code",
   "execution_count": 3,
   "id": "275bfbff-4e1d-4178-9b2e-40cba8bc71b1",
   "metadata": {},
   "outputs": [],
   "source": [
    "class GeneradorLineal():\n",
    "    def __init__(self,A=7**5,C=0,M=2**31 -1,seed=1234):\n",
    "        self.A= A\n",
    "        self.C= C\n",
    "        self.M= M\n",
    "        self.seed= seed\n",
    "        self.ls_num= []\n",
    "    def aleatorios(self,samples):\n",
    "        if(samples==0):\n",
    "            return self.ls_num\n",
    "        else:\n",
    "            sn= (self.A*self.seed + self.C) %self.M\n",
    "            self.ls_num.append(self.seed/self.M)\n",
    "            self.seed= sn\n",
    "            samples-=1\n",
    "            return(self.aleatorios(samples))"
   ]
  },
  {
   "cell_type": "code",
   "execution_count": 18,
   "id": "47035844-af4e-418e-9234-7bd0e5e837a6",
   "metadata": {},
   "outputs": [],
   "source": [
    "class ROC ():\n",
    "    \n",
    "    def __init__(self, threslhold=10000, decrement=-1, tpr=[], fpr=[], auc=0):\n",
    "        self.threshold= threslhold\n",
    "        self.decrement= decrement\n",
    "        self.tpr= tpr\n",
    "        self.fpr = fpr\n",
    "        self.auc= auc\n",
    "        \n",
    "    def getROC(self,y,y_pro):\n",
    "        for j in range(self.threshold,0,self.decrement):\n",
    "            tp= (np.greater(y_pro,j/self.threshold) & np.equal(y,1)).sum()\n",
    "            tn= (np.less(y_pro,j/self.threshold) & np.equal(y,0)).sum()\n",
    "            fp= (np.greater(y_pro,j/self.threshold) & np.equal(y,0)).sum()\n",
    "            fn= (np.less(y_pro,j/self.threshold) & np.equal(y,1)).sum()\n",
    "            tpr= tp/(tp+fn)\n",
    "            fpr= fp/(fp+tn)\n",
    "            self.tpr.append(tpr)\n",
    "            self.fpr.append(fpr)\n",
    "        return self.fpr, self.tpr\n",
    "    \n",
    "    def aproximateACU(self,n=20000):\n",
    "        U= GeneradorLineal(seed=122)\n",
    "        U2= GeneradorLineal(seed=111)\n",
    "        X= U.aleatorios(n)\n",
    "        Y= U2.aleatorios(n)\n",
    "        above= 0\n",
    "        for i,x in enumerate(X):\n",
    "            index= np.argmax(np.greater(np.array(self.fpr), x).astype(int))\n",
    "            if (Y[i] <= self.tpr[index]):\n",
    "                above+=1\n",
    "        self.auc= above/n\n",
    "        return self.auc\n",
    "    "
   ]
  },
  {
   "cell_type": "markdown",
   "id": "03fe8ac9-2611-4d5d-ba7b-0bd65002bd63",
   "metadata": {},
   "source": [
    "# Data"
   ]
  },
  {
   "cell_type": "code",
   "execution_count": 5,
   "id": "003dd04f-27a7-4ce1-a290-b0515b8a2918",
   "metadata": {},
   "outputs": [],
   "source": [
    "#import dataset from CSV file on Github\n",
    "url = \"https://raw.githubusercontent.com/Statology/Python-Guides/main/default.csv\"\n",
    "data = pd.read_csv(url)"
   ]
  },
  {
   "cell_type": "code",
   "execution_count": 6,
   "id": "0b69ae4e-a478-4675-9753-ddc1d9d69246",
   "metadata": {},
   "outputs": [],
   "source": [
    "#define the predictor variables and the response variable\n",
    "X = data[['student', 'balance', 'income']]\n",
    "y = data['default']\n",
    "\n",
    "#split the dataset into training (70%) and testing (30%) sets\n",
    "X_train,X_test,y_train,y_test = train_test_split(X,y,test_size=0.3,random_state=0) \n",
    "\n",
    "#instantiate the model\n",
    "log_regression = LogisticRegression()\n",
    "\n",
    "#fit the model using the training data\n",
    "log_regression.fit(X_train,y_train)\n",
    "y_pred_proba = log_regression.predict_proba(X_test)[::,1]"
   ]
  },
  {
   "cell_type": "markdown",
   "id": "e85f2925-f22a-4cc0-82dd-b029f690e8d5",
   "metadata": {},
   "source": [
    "# ROC & Gini"
   ]
  },
  {
   "cell_type": "markdown",
   "id": "69736237-4648-44ba-9349-c33aa0365869",
   "metadata": {},
   "source": [
    "## With ROC class"
   ]
  },
  {
   "cell_type": "code",
   "execution_count": 19,
   "id": "2f077c67-654a-416d-93d2-f1c070a38aca",
   "metadata": {},
   "outputs": [],
   "source": [
    "roc_test= ROC()\n",
    "fprC,tprC= roc_test.getROC(np.array(y_test),np.array(y_pred_proba))\n",
    "aucC= roc_test.aproximateACU()\n",
    "giniC= 2*aucC -1"
   ]
  },
  {
   "cell_type": "code",
   "execution_count": 20,
   "id": "5f8254d8-94be-4097-9490-aed145add5f1",
   "metadata": {},
   "outputs": [
    {
     "data": {
      "image/png": "[encoded data removed]",
      "text/plain": [
       "<Figure size 640x480 with 1 Axes>"
      ]
     },
     "metadata": {},
     "output_type": "display_data"
    }
   ],
   "source": [
    "plt.plot(fprC,tprC,label=\"AUC=\"+str(aucC))\n",
    "plt.ylabel('True Positive Rate')\n",
    "plt.xlabel('False Positive Rate')\n",
    "plt.legend(loc=4)\n",
    "plt.show()"
   ]
  },
  {
   "cell_type": "markdown",
   "id": "f47933ec-bbea-442b-944b-07e0f67b2845",
   "metadata": {},
   "source": [
    "## With Sklearn"
   ]
  },
  {
   "cell_type": "code",
   "execution_count": 10,
   "id": "b3c8da1b-dfb8-46ec-893d-d2a6c6c77627",
   "metadata": {},
   "outputs": [],
   "source": [
    "fpr, tpr, _ = metrics.roc_curve(y_test,  y_pred_proba)\n",
    "auc = metrics.roc_auc_score(y_test, y_pred_proba)\n",
    "gini= 2*auc -1"
   ]
  },
  {
   "cell_type": "code",
   "execution_count": 11,
   "id": "62188b7e-6b8b-4ff9-9b24-ec119f3e761c",
   "metadata": {},
   "outputs": [
    {
     "data": {
      "image/png": "[encoded data removed]",
      "text/plain": [
       "<Figure size 640x480 with 1 Axes>"
      ]
     },
     "metadata": {},
     "output_type": "display_data"
    }
   ],
   "source": [
    "#create ROC curve\n",
    "plt.plot(fpr,tpr,label=\"AUC=\"+str(auc))\n",
    "plt.ylabel('True Positive Rate')\n",
    "plt.xlabel('False Positive Rate')\n",
    "plt.legend(loc=4)\n",
    "plt.show()"
   ]
  },
  {
   "cell_type": "markdown",
   "id": "b2ed7ef9-414c-4aa3-82f4-4b41f1e7a898",
   "metadata": {},
   "source": [
    "## Results"
   ]
  },
  {
   "cell_type": "code",
   "execution_count": 24,
   "id": "5e95bcd7-155c-464f-a81b-df1ae484e91a",
   "metadata": {},
   "outputs": [
    {
     "name": "stdout",
     "output_type": "stream",
     "text": [
      "AUC con montecarlo : 0.87305, Gini con motecarlo: 0.7461\n",
      "AUC con sklearn : 0.9050028967204219, Gini con sklearn: 0.8100057934408438\n"
     ]
    }
   ],
   "source": [
    "print(f'AUC con montecarlo : {aucC}, Gini con motecarlo: {giniC}\\nAUC con sklearn : {auc}, Gini con sklearn: {gini}')"
   ]
  },
  {
   "cell_type": "markdown",
   "id": "2449f34a-b09e-4f59-8dcf-ea149a75ffce",
   "metadata": {},
   "source": [
    "En cuanto a la generación de **ROC** tenemos gráficas muy parecidad y en medida que se aumenta el valor del **threshold** (ante mayor el número se iterá sobre más probabilidades y es más parecida la gráfica).  \n",
    "Por su parte **AUC** con la clase generada queda inferior por $.04$ con respecto a lo obtenido en sklearn, esto esta relacionado a la forma de integrar ya que mi aproximación es por rectangulos y entre más exacto sea la generación de ROC se tendrá un resultado más cercano. \n",
    "En conclusión se obtuvieron resultados muy cercanos a la realidad."
   ]
  }
 ],
 "metadata": {
  "kernelspec": {
   "display_name": "Python 3 (ipykernel)",
   "language": "python",
   "name": "python3"
  },
  "language_info": {
   "codemirror_mode": {
    "name": "ipython",
    "version": 3
   },
   "file_extension": ".py",
   "mimetype": "text/x-python",
   "name": "python",
   "nbconvert_exporter": "python",
   "pygments_lexer": "ipython3",
   "version": "3.8.10"
  }
 },
 "nbformat": 4,
 "nbformat_minor": 5
}
