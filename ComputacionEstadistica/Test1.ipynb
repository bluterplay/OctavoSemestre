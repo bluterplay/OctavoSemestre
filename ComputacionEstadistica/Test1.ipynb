{
 "cells": [
  {
   "cell_type": "code",
   "execution_count": 1,
   "id": "700c857d-e686-4787-a7ab-60ea5db5d3ea",
   "metadata": {
    "tags": []
   },
   "outputs": [],
   "source": [
    "import numpy as np\n",
    "import scipy.stats as stats\n",
    "import seaborn as sns"
   ]
  },
  {
   "cell_type": "code",
   "execution_count": 57,
   "id": "e1dce6fe-b845-4099-90aa-7984e05c88ca",
   "metadata": {
    "tags": []
   },
   "outputs": [],
   "source": [
    "class SIR_Generator():\n",
    "    \n",
    "    def __init__(self,loc=0,scale=1,df=1,ls_values=[], n=1,distribution='exponencial'):\n",
    "        self.loc= loc\n",
    "        self.scale= scale\n",
    "        self.df= df\n",
    "        self.ls_values= ls_values\n",
    "        self.distribution= distribution\n",
    "        self.n= n\n",
    "        self.var={\"chi\": stats.chi(df=self.loc),\n",
    "                  \"exponencial\":stats.expon(loc=self.loc, scale=self.scale),\n",
    "                  \"lognormal\": stats.lognorm(s= self.loc),\n",
    "                  \"normal\": stats.norm(loc= self.loc, scale=self.scale)\n",
    "                  \n",
    "                 }\n",
    "    def set_params(self,loc,scale):\n",
    "        auxL= self.loc\n",
    "        auxS= self.scale\n",
    "        self.loc=loc\n",
    "        self.scale=scale\n",
    "        return auxL,auxS\n",
    "    \n",
    "    def calculateValues(self,loc,scale,dist):\n",
    "        X=self.var[self.distribution]\n",
    "        auxL,auxS=self.set_params(loc,scale)\n",
    "        print(self.loc,self.scale)\n",
    "        Y=self.var[dist]\n",
    "        print(f\"Y={Y.dist},{Y.kwds}\\nX={X.dist}, {X.kwds}\")\n",
    "        x= X.rvs(size=self.n)\n",
    "        W=Y.pdf(x)/X.pdf(x)\n",
    "        W/=W.sum()\n",
    "        values= np.random.choice(x,size=self.n,replace=True,p=W)\n",
    "        _,_= self.set_params(auxL,auxS)\n",
    "        return values\n",
    "    \n",
    "    def getNorm(self,loc,scale):\n",
    "        values= self.calculateValues(0,1,\"normal\")\n",
    "        ls=[]\n",
    "        for val in values:\n",
    "            u= np.random.uniform(size=1)\n",
    "            if(u<=.5):\n",
    "                ls.append(val)\n",
    "            else:\n",
    "                ls.append(-val)\n",
    "        self.ls_values= loc+ np.array(ls)*(scale)\n",
    "        \n",
    "        \n",
    "    def getLognorm(self,loc,scale):\n",
    "        values=self.calculateValues(loc,scale,\"lognormal\")\n",
    "        self.ls_values=values\n",
    "        \n",
    "    def getChi(self, df):\n",
    "        values=self.calculateValues(df,1,\"chi\")\n",
    "        self.ls_values=values"
   ]
  },
  {
   "cell_type": "code",
   "execution_count": 54,
   "id": "54d0e28b-111d-4b71-9ce6-dacfd25f0c30",
   "metadata": {
    "tags": []
   },
   "outputs": [],
   "source": [
    "generador= SIR_Generator(loc=0,scale=1,n=100000)"
   ]
  },
  {
   "cell_type": "code",
   "execution_count": 55,
   "id": "52f293ea-50cd-4299-a466-102835512da1",
   "metadata": {
    "tags": []
   },
   "outputs": [
    {
     "name": "stdout",
     "output_type": "stream",
     "text": [
      "0.5 1\n",
      "Y=<scipy.stats._continuous_distns.lognorm_gen object at 0x7fc1f3a65cf0>,{'s': 0}\n",
      "X=<scipy.stats._continuous_distns.expon_gen object at 0x7fc1f39f69b0>, {'loc': 0, 'scale': 1}\n"
     ]
    },
    {
     "ename": "ValueError",
     "evalue": "probabilities contain NaN",
     "output_type": "error",
     "traceback": [
      "\u001b[0;31m---------------------------------------------------------------------------\u001b[0m",
      "\u001b[0;31mValueError\u001b[0m                                Traceback (most recent call last)",
      "Cell \u001b[0;32mIn[55], line 1\u001b[0m\n\u001b[0;32m----> 1\u001b[0m \u001b[43mgenerador\u001b[49m\u001b[38;5;241;43m.\u001b[39;49m\u001b[43mgetLognorm\u001b[49m\u001b[43m(\u001b[49m\u001b[43mloc\u001b[49m\u001b[38;5;241;43m=\u001b[39;49m\u001b[38;5;241;43m.5\u001b[39;49m\u001b[43m,\u001b[49m\u001b[43mscale\u001b[49m\u001b[38;5;241;43m=\u001b[39;49m\u001b[38;5;241;43m1\u001b[39;49m\u001b[43m)\u001b[49m\n",
      "Cell \u001b[0;32mIn[53], line 50\u001b[0m, in \u001b[0;36mSIR_Generator.getLognorm\u001b[0;34m(self, loc, scale)\u001b[0m\n\u001b[1;32m     49\u001b[0m \u001b[38;5;28;01mdef\u001b[39;00m \u001b[38;5;21mgetLognorm\u001b[39m(\u001b[38;5;28mself\u001b[39m,loc,scale):\n\u001b[0;32m---> 50\u001b[0m     values\u001b[38;5;241m=\u001b[39m\u001b[38;5;28;43mself\u001b[39;49m\u001b[38;5;241;43m.\u001b[39;49m\u001b[43mcalculateValues\u001b[49m\u001b[43m(\u001b[49m\u001b[43mloc\u001b[49m\u001b[43m,\u001b[49m\u001b[43mscale\u001b[49m\u001b[43m,\u001b[49m\u001b[38;5;124;43m\"\u001b[39;49m\u001b[38;5;124;43mlognormal\u001b[39;49m\u001b[38;5;124;43m\"\u001b[39;49m\u001b[43m)\u001b[49m\n\u001b[1;32m     51\u001b[0m     \u001b[38;5;28mself\u001b[39m\u001b[38;5;241m.\u001b[39mls_values\u001b[38;5;241m=\u001b[39mvalues\n",
      "Cell \u001b[0;32mIn[53], line 33\u001b[0m, in \u001b[0;36mSIR_Generator.calculateValues\u001b[0;34m(self, loc, scale, dist)\u001b[0m\n\u001b[1;32m     31\u001b[0m W\u001b[38;5;241m=\u001b[39mY\u001b[38;5;241m.\u001b[39mpdf(x)\u001b[38;5;241m/\u001b[39mX\u001b[38;5;241m.\u001b[39mpdf(x)\n\u001b[1;32m     32\u001b[0m W\u001b[38;5;241m/\u001b[39m\u001b[38;5;241m=\u001b[39mW\u001b[38;5;241m.\u001b[39msum()\n\u001b[0;32m---> 33\u001b[0m values\u001b[38;5;241m=\u001b[39m \u001b[43mnp\u001b[49m\u001b[38;5;241;43m.\u001b[39;49m\u001b[43mrandom\u001b[49m\u001b[38;5;241;43m.\u001b[39;49m\u001b[43mchoice\u001b[49m\u001b[43m(\u001b[49m\u001b[43mx\u001b[49m\u001b[43m,\u001b[49m\u001b[43msize\u001b[49m\u001b[38;5;241;43m=\u001b[39;49m\u001b[38;5;28;43mself\u001b[39;49m\u001b[38;5;241;43m.\u001b[39;49m\u001b[43mn\u001b[49m\u001b[43m,\u001b[49m\u001b[43mreplace\u001b[49m\u001b[38;5;241;43m=\u001b[39;49m\u001b[38;5;28;43;01mTrue\u001b[39;49;00m\u001b[43m,\u001b[49m\u001b[43mp\u001b[49m\u001b[38;5;241;43m=\u001b[39;49m\u001b[43mW\u001b[49m\u001b[43m)\u001b[49m\n\u001b[1;32m     34\u001b[0m _,_\u001b[38;5;241m=\u001b[39m \u001b[38;5;28mself\u001b[39m\u001b[38;5;241m.\u001b[39mset_params(auxL,auxS)\n\u001b[1;32m     35\u001b[0m \u001b[38;5;28;01mreturn\u001b[39;00m values\n",
      "File \u001b[0;32mmtrand.pyx:954\u001b[0m, in \u001b[0;36mnumpy.random.mtrand.RandomState.choice\u001b[0;34m()\u001b[0m\n",
      "\u001b[0;31mValueError\u001b[0m: probabilities contain NaN"
     ]
    }
   ],
   "source": [
    "generador.getLognorm(loc=.5,scale=1)"
   ]
  },
  {
   "cell_type": "code",
   "execution_count": 29,
   "id": "8b2a427a-4505-4402-a810-662123f93850",
   "metadata": {
    "tags": []
   },
   "outputs": [
    {
     "data": {
      "text/plain": [
       "<seaborn.axisgrid.FacetGrid at 0x7fc1f3a78fd0>"
      ]
     },
     "execution_count": 29,
     "metadata": {},
     "output_type": "execute_result"
    },
    {
     "data": {
      "image/png": "[encoded data removed]",
      "text/plain": [
       "<Figure size 500x500 with 1 Axes>"
      ]
     },
     "metadata": {},
     "output_type": "display_data"
    }
   ],
   "source": [
    "sns.displot(generador.ls_values)"
   ]
  },
  {
   "cell_type": "code",
   "execution_count": 88,
   "id": "865f0d08-6a2f-4cd3-ad2e-4a5871bb6a29",
   "metadata": {
    "tags": []
   },
   "outputs": [
    {
     "data": {
      "text/plain": [
       "<seaborn.axisgrid.FacetGrid at 0x7f0b339ed420>"
      ]
     },
     "execution_count": 88,
     "metadata": {},
     "output_type": "execute_result"
    },
    {
     "data": {
      "image/png": "[encoded data removed]",
      "text/plain": [
       "<Figure size 500x500 with 1 Axes>"
      ]
     },
     "metadata": {},
     "output_type": "display_data"
    }
   ],
   "source": [
    "sns.displot(stats.norm.rvs(loc=3,scale=4,size=10000))"
   ]
  },
  {
   "cell_type": "code",
   "execution_count": 111,
   "id": "519e9ca6-a513-4854-996d-dc1b50073048",
   "metadata": {
    "tags": []
   },
   "outputs": [],
   "source": [
    "X=stats.expon.rvs(scale=1,size=1000)"
   ]
  },
  {
   "cell_type": "code",
   "execution_count": 118,
   "id": "2ef930db-94a1-4544-82af-bc9c2c43e673",
   "metadata": {
    "tags": []
   },
   "outputs": [],
   "source": [
    "X=stats.expon(loc=0, scale=1)"
   ]
  },
  {
   "cell_type": "code",
   "execution_count": 119,
   "id": "c6ba6211-b2a4-4dd8-92c1-d17ded830543",
   "metadata": {
    "tags": []
   },
   "outputs": [],
   "source": [
    "x=X.rvs(1000)"
   ]
  },
  {
   "cell_type": "code",
   "execution_count": 162,
   "id": "808f57e1-1079-4cc0-87d8-f94be066c179",
   "metadata": {
    "tags": []
   },
   "outputs": [
    {
     "data": {
      "text/plain": [
       "{'s': 0.5}"
      ]
     },
     "execution_count": 162,
     "metadata": {},
     "output_type": "execute_result"
    }
   ],
   "source": [
    "Y.kwds"
   ]
  },
  {
   "cell_type": "code",
   "execution_count": 163,
   "id": "271ff3a5-c1ca-49bb-ae4b-bc24506943f6",
   "metadata": {
    "tags": []
   },
   "outputs": [
    {
     "data": {
      "text/plain": [
       "<scipy.stats._continuous_distns.lognorm_gen at 0x7f0b330f15d0>"
      ]
     },
     "execution_count": 163,
     "metadata": {},
     "output_type": "execute_result"
    }
   ],
   "source": [
    "Y.dist"
   ]
  },
  {
   "cell_type": "code",
   "execution_count": 161,
   "id": "5b4141cc-eea1-49bf-963d-237aab8ae42a",
   "metadata": {
    "tags": []
   },
   "outputs": [],
   "source": [
    "Y=stats.lognorm(s= .5)"
   ]
  },
  {
   "cell_type": "code",
   "execution_count": 147,
   "id": "7341aa19-8ddc-4101-8f1e-3c2a5cadb6e6",
   "metadata": {
    "tags": []
   },
   "outputs": [
    {
     "data": {
      "text/plain": [
       "array([ True,  True,  True,  True,  True,  True,  True,  True,  True,\n",
       "        True,  True,  True,  True,  True,  True,  True,  True,  True,\n",
       "        True,  True,  True,  True,  True,  True,  True,  True,  True,\n",
       "        True,  True,  True,  True,  True,  True,  True,  True,  True,\n",
       "        True,  True,  True,  True,  True,  True,  True,  True,  True,\n",
       "        True,  True,  True,  True,  True,  True,  True,  True,  True,\n",
       "        True,  True,  True,  True,  True,  True,  True,  True,  True,\n",
       "        True,  True,  True,  True,  True,  True,  True,  True,  True,\n",
       "        True,  True,  True,  True,  True,  True,  True,  True,  True,\n",
       "        True,  True,  True,  True,  True,  True,  True,  True,  True,\n",
       "        True,  True,  True,  True,  True,  True,  True,  True,  True,\n",
       "        True,  True,  True,  True,  True,  True,  True,  True,  True,\n",
       "        True,  True,  True,  True,  True,  True,  True,  True,  True,\n",
       "        True,  True,  True,  True,  True,  True,  True,  True,  True,\n",
       "        True,  True,  True,  True,  True,  True,  True,  True,  True,\n",
       "        True,  True,  True,  True,  True,  True,  True,  True,  True,\n",
       "        True,  True,  True,  True,  True,  True,  True,  True,  True,\n",
       "        True,  True,  True,  True,  True,  True,  True,  True,  True,\n",
       "        True,  True,  True,  True,  True,  True,  True,  True,  True,\n",
       "        True,  True,  True,  True,  True,  True,  True,  True,  True,\n",
       "        True,  True,  True,  True,  True,  True,  True,  True,  True,\n",
       "        True,  True,  True,  True,  True,  True,  True,  True,  True,\n",
       "        True,  True,  True,  True,  True,  True,  True,  True,  True,\n",
       "        True,  True,  True,  True,  True,  True,  True,  True,  True,\n",
       "        True,  True,  True,  True,  True,  True,  True,  True,  True,\n",
       "        True,  True,  True,  True,  True,  True,  True,  True,  True,\n",
       "        True,  True,  True,  True,  True,  True,  True,  True,  True,\n",
       "        True,  True,  True,  True,  True,  True,  True,  True,  True,\n",
       "        True,  True,  True,  True,  True,  True,  True,  True,  True,\n",
       "        True,  True,  True,  True,  True,  True,  True,  True,  True,\n",
       "        True,  True,  True,  True,  True,  True,  True,  True,  True,\n",
       "        True,  True,  True,  True,  True,  True,  True,  True,  True,\n",
       "        True,  True,  True,  True,  True,  True,  True,  True,  True,\n",
       "        True,  True,  True,  True,  True,  True,  True,  True,  True,\n",
       "        True,  True,  True,  True,  True,  True,  True,  True,  True,\n",
       "        True,  True,  True,  True,  True,  True,  True,  True,  True,\n",
       "        True,  True,  True,  True,  True,  True,  True,  True,  True,\n",
       "        True,  True,  True,  True,  True,  True,  True,  True,  True,\n",
       "        True,  True,  True,  True,  True,  True,  True,  True,  True,\n",
       "        True,  True,  True,  True,  True,  True,  True,  True,  True,\n",
       "        True,  True,  True,  True,  True,  True,  True,  True,  True,\n",
       "        True,  True,  True,  True,  True,  True,  True,  True,  True,\n",
       "        True,  True,  True,  True,  True,  True,  True,  True,  True,\n",
       "        True,  True,  True,  True,  True,  True,  True,  True,  True,\n",
       "        True,  True,  True,  True,  True,  True,  True,  True,  True,\n",
       "        True,  True,  True,  True,  True,  True,  True,  True,  True,\n",
       "        True,  True,  True,  True,  True,  True,  True,  True,  True,\n",
       "        True,  True,  True,  True,  True,  True,  True,  True,  True,\n",
       "        True,  True,  True,  True,  True,  True,  True,  True,  True,\n",
       "        True,  True,  True,  True,  True,  True,  True,  True,  True,\n",
       "        True,  True,  True,  True,  True,  True,  True,  True,  True,\n",
       "        True,  True,  True,  True,  True,  True,  True,  True,  True,\n",
       "        True,  True,  True,  True,  True,  True,  True,  True,  True,\n",
       "        True,  True,  True,  True,  True,  True,  True,  True,  True,\n",
       "        True,  True,  True,  True,  True,  True,  True,  True,  True,\n",
       "        True,  True,  True,  True,  True,  True,  True,  True,  True,\n",
       "        True,  True,  True,  True,  True,  True,  True,  True,  True,\n",
       "        True,  True,  True,  True,  True,  True,  True,  True,  True,\n",
       "        True,  True,  True,  True,  True,  True,  True,  True,  True,\n",
       "        True,  True,  True,  True,  True,  True,  True,  True,  True,\n",
       "        True,  True,  True,  True,  True,  True,  True,  True,  True,\n",
       "        True,  True,  True,  True,  True,  True,  True,  True,  True,\n",
       "        True,  True,  True,  True,  True,  True,  True,  True,  True,\n",
       "        True,  True,  True,  True,  True,  True,  True,  True,  True,\n",
       "        True,  True,  True,  True,  True,  True,  True,  True,  True,\n",
       "        True,  True,  True,  True,  True,  True,  True,  True,  True,\n",
       "        True,  True,  True,  True,  True,  True,  True,  True,  True,\n",
       "        True,  True,  True,  True,  True,  True,  True,  True,  True,\n",
       "        True,  True,  True,  True,  True,  True,  True,  True,  True,\n",
       "        True,  True,  True,  True,  True,  True,  True,  True,  True,\n",
       "        True,  True,  True,  True,  True,  True,  True,  True,  True,\n",
       "        True,  True,  True,  True,  True,  True,  True,  True,  True,\n",
       "        True,  True,  True,  True,  True,  True,  True,  True,  True,\n",
       "        True,  True,  True,  True,  True,  True,  True,  True,  True,\n",
       "        True,  True,  True,  True,  True,  True,  True,  True,  True,\n",
       "        True,  True,  True,  True,  True,  True,  True,  True,  True,\n",
       "        True,  True,  True,  True,  True,  True,  True,  True,  True,\n",
       "        True,  True,  True,  True,  True,  True,  True,  True,  True,\n",
       "        True,  True,  True,  True,  True,  True,  True,  True,  True,\n",
       "        True,  True,  True,  True,  True,  True,  True,  True,  True,\n",
       "        True,  True,  True,  True,  True,  True,  True,  True,  True,\n",
       "        True,  True,  True,  True,  True,  True,  True,  True,  True,\n",
       "        True,  True,  True,  True,  True,  True,  True,  True,  True,\n",
       "        True,  True,  True,  True,  True,  True,  True,  True,  True,\n",
       "        True,  True,  True,  True,  True,  True,  True,  True,  True,\n",
       "        True,  True,  True,  True,  True,  True,  True,  True,  True,\n",
       "        True,  True,  True,  True,  True,  True,  True,  True,  True,\n",
       "        True,  True,  True,  True,  True,  True,  True,  True,  True,\n",
       "        True,  True,  True,  True,  True,  True,  True,  True,  True,\n",
       "        True,  True,  True,  True,  True,  True,  True,  True,  True,\n",
       "        True,  True,  True,  True,  True,  True,  True,  True,  True,\n",
       "        True,  True,  True,  True,  True,  True,  True,  True,  True,\n",
       "        True,  True,  True,  True,  True,  True,  True,  True,  True,\n",
       "        True,  True,  True,  True,  True,  True,  True,  True,  True,\n",
       "        True,  True,  True,  True,  True,  True,  True,  True,  True,\n",
       "        True,  True,  True,  True,  True,  True,  True,  True,  True,\n",
       "        True,  True,  True,  True,  True,  True,  True,  True,  True,\n",
       "        True,  True,  True,  True,  True,  True,  True,  True,  True,\n",
       "        True,  True,  True,  True,  True,  True,  True,  True,  True,\n",
       "        True,  True,  True,  True,  True,  True,  True,  True,  True,\n",
       "        True,  True,  True,  True,  True,  True,  True,  True,  True,\n",
       "        True,  True,  True,  True,  True,  True,  True,  True,  True,\n",
       "        True,  True,  True,  True,  True,  True,  True,  True,  True,\n",
       "        True,  True,  True,  True,  True,  True,  True,  True,  True,\n",
       "        True,  True,  True,  True,  True,  True,  True,  True,  True,\n",
       "        True,  True,  True,  True,  True,  True,  True,  True,  True,\n",
       "        True,  True,  True,  True,  True,  True,  True,  True,  True,\n",
       "        True,  True,  True,  True,  True,  True,  True,  True,  True,\n",
       "        True,  True,  True,  True,  True,  True,  True,  True,  True,\n",
       "        True,  True,  True,  True,  True,  True,  True,  True,  True,\n",
       "        True,  True,  True,  True,  True,  True,  True,  True,  True,\n",
       "        True])"
      ]
     },
     "execution_count": 147,
     "metadata": {},
     "output_type": "execute_result"
    }
   ],
   "source": [
    "(Y.pdf(x)/X.pdf(x))"
   ]
  },
  {
   "cell_type": "code",
   "execution_count": null,
   "id": "08336ebf-1c4b-400d-b537-29066db8024f",
   "metadata": {},
   "outputs": [],
   "source": []
  }
 ],
 "metadata": {
  "kernelspec": {
   "display_name": "pylab",
   "language": "python",
   "name": "pylab"
  },
  "language_info": {
   "codemirror_mode": {
    "name": "ipython",
    "version": 3
   },
   "file_extension": ".py",
   "mimetype": "text/x-python",
   "name": "python",
   "nbconvert_exporter": "python",
   "pygments_lexer": "ipython3",
   "version": "3.10.6"
  }
 },
 "nbformat": 4,
 "nbformat_minor": 5
}
