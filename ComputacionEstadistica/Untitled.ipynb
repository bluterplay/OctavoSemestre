{
 "cells": [
  {
   "cell_type": "code",
   "execution_count": 1,
   "id": "9fa05e05-e2b2-4b96-b39a-36eca535040f",
   "metadata": {
    "tags": []
   },
   "outputs": [],
   "source": [
    "import numpy as np\n",
    "import sys \n",
    "import seaborn as sns\n",
    "import scipy"
   ]
  },
  {
   "cell_type": "code",
   "execution_count": 133,
   "id": "c3563f0a-5418-487a-9a1c-32d5239c7a1f",
   "metadata": {
    "tags": []
   },
   "outputs": [],
   "source": [
    "class VariableAleatoria():\n",
    "    \n",
    "    def __init__(self,seed=123,values=np.array([]), distribution='', params= [],method=''):\n",
    "        self.seed= seed\n",
    "        self.values= values\n",
    "        self.distribution=distribution\n",
    "        self.method= method\n",
    "        self.params=params\n",
    "        self.C= 0\n",
    "        self.g= {\"normal\": 1,\n",
    "                 \"beta\": 1,\n",
    "                 \"gamma\": 2,\n",
    "                 \"argus\": 1,\n",
    "                 \"wald\": 1}\n",
    "        self.aceptacion={\n",
    "                   \"normal\": lambda x: scipy.stats.norm.pdf(x, loc= self.params[0], scale=self.params[1])/np.exp(-x),\n",
    "                   \"beta\": lambda x: scipy.stats.beta.pdf(x,a=self.params[0],b=self.params[1])/ np.exp(-x),\n",
    "                   \"gamma\": lambda x: scipy.stats.gamma.pdf(x,a=self.params[0])/ 2*np.exp(-2*x),\n",
    "                    \"argus\":lambda x: scipy.stats.argus.pdf(x,chi=self.params[0])/ np.exp(-x),\n",
    "                    \"wald\": lambda x: scipy.stats.wald.pdf(x)/ np.exp(-x)}\n",
    "        self.inversa= {\"exponencial\": '-np.log(u)/self.params[0]',\n",
    "                       \"anglit\": 'np.arcsin(2*u-1)/2',\n",
    "                       \"logistic\": ('np.log((1/(.5-ui))-1)','-np.log(-(1/(.5-ui))-1)'),\n",
    "                       \"bradford\": '((1+self.params[0])**u)/self.params[0] -1',\n",
    "                       \"pareto\": \"(1-u)**(1/(-1*self.params[0]))\"\n",
    "                      }\n",
    "        self.isSimetric= {\"exponencial\": 0,\"anglit\": 0,\"logistic\":1,\"bradford\": 0,'pareto':0,\n",
    "                          'normal': 1, 'beta': 0, \"gamma\": 0, \"argus\": 0, \"wald\":0}\n",
    "        \n",
    "    def generateInv(self,n):\n",
    "        u= np.random.uniform(size=n)\n",
    "        if(self.isSimetric[self.distribution]):\n",
    "            ls=[]\n",
    "            for ui in u:\n",
    "                if(ui<.5):\n",
    "                    x= (eval(self.inversa[self.distribution][0])) \n",
    "                else:\n",
    "                    x= (eval(self.inversa[self.distribution][1]))\n",
    "                ls.append(x)\n",
    "            self.values= np.array(ls)\n",
    "            \n",
    "        else:\n",
    "            x= (eval(self.inversa[self.distribution]))\n",
    "            self.values= x\n",
    "        sns.displot(self.values)\n",
    "        return self.values\n",
    "    def getC(self):\n",
    "        ini=0\n",
    "        if(self.distribution== 'wald'):\n",
    "            ini=1\n",
    "        max_x = scipy.optimize.fmin(lambda x: -1*self.aceptacion[self.distribution](x), ini)\n",
    "        return self.aceptacion[self.distribution](max_x)[0]\n",
    "    \n",
    "    def generateAcep(self,n):\n",
    "        ls=[]\n",
    "        self.C= self.getC()\n",
    "        \n",
    "        while(len(ls)<n):\n",
    "            u= np.random.uniform(size=1)\n",
    "            y= np.random.exponential(scale=self.g[self.distribution])\n",
    "            h = self.aceptacion[self.distribution](y)*(1/self.C)\n",
    "            if(u<=h):\n",
    "                if(self.isSimetric[self.distribution]==1):\n",
    "                    u2=  np.random.uniform(size=1)\n",
    "                    if(u2<=.5):\n",
    "                        ls.append(y)\n",
    "                    else:\n",
    "                        ls.append(-y)\n",
    "                else:\n",
    "                    ls.append(y)\n",
    "        self.values= np.array(ls)\n",
    "        sns.displot(self.values)\n",
    "        return self.values\n",
    "            \n",
    "        "
   ]
  },
  {
   "cell_type": "code",
   "execution_count": 134,
   "id": "b87d4ab6-668b-4270-b134-1dbc5e2a77b9",
   "metadata": {
    "tags": []
   },
   "outputs": [],
   "source": [
    "X=VariableAleatoria(distribution='wald',params=[3])"
   ]
  },
  {
   "cell_type": "code",
   "execution_count": 135,
   "id": "01fe00e4-ecdc-4fdb-9f41-b25fe8cae667",
   "metadata": {
    "tags": []
   },
   "outputs": [
    {
     "name": "stdout",
     "output_type": "stream",
     "text": [
      "Optimization terminated successfully.\n",
      "         Current function value: -1.501798\n",
      "         Iterations: 15\n",
      "         Function evaluations: 30\n"
     ]
    },
    {
     "data": {
      "text/plain": [
       "1.5017978381807868"
      ]
     },
     "execution_count": 135,
     "metadata": {},
     "output_type": "execute_result"
    }
   ],
   "source": [
    "X.getC()"
   ]
  },
  {
   "cell_type": "code",
   "execution_count": 136,
   "id": "ffc3ae3f-dec5-4253-9586-0482033319e9",
   "metadata": {
    "tags": []
   },
   "outputs": [
    {
     "name": "stdout",
     "output_type": "stream",
     "text": [
      "Optimization terminated successfully.\n",
      "         Current function value: -1.501798\n",
      "         Iterations: 15\n",
      "         Function evaluations: 30\n"
     ]
    },
    {
     "data": {
      "image/png": "[encoded data removed]",
      "text/plain": [
       "<Figure size 500x500 with 1 Axes>"
      ]
     },
     "metadata": {},
     "output_type": "display_data"
    }
   ],
   "source": [
    "a= X.generateAcep(10000)"
   ]
  },
  {
   "cell_type": "code",
   "execution_count": 137,
   "id": "c4d52338-0a40-48b5-aba5-6348be105f03",
   "metadata": {
    "tags": []
   },
   "outputs": [
    {
     "data": {
      "text/plain": [
       "<seaborn.axisgrid.FacetGrid at 0x7f7cdd503ee0>"
      ]
     },
     "execution_count": 137,
     "metadata": {},
     "output_type": "execute_result"
    },
    {
     "data": {
      "image/png": "[encoded data removed]",
      "text/plain": [
       "<Figure size 500x500 with 1 Axes>"
      ]
     },
     "metadata": {},
     "output_type": "display_data"
    }
   ],
   "source": [
    "sns.displot(scipy.stats.wald.rvs( size= 10000))"
   ]
  },
  {
   "cell_type": "code",
   "execution_count": 41,
   "id": "dfffcb0d-331f-47fc-99b0-c8d74b1bf8f1",
   "metadata": {
    "tags": []
   },
   "outputs": [
    {
     "name": "stdout",
     "output_type": "stream",
     "text": [
      "Optimization terminated successfully.\n",
      "         Current function value: -1.315489\n",
      "         Iterations: 25\n",
      "         Function evaluations: 50\n"
     ]
    },
    {
     "data": {
      "text/plain": [
       "1.3154892469589141"
      ]
     },
     "execution_count": 41,
     "metadata": {},
     "output_type": "execute_result"
    }
   ],
   "source": [
    "X.getC()"
   ]
  },
  {
   "cell_type": "code",
   "execution_count": 77,
   "id": "212702f3-ee62-424b-a3a1-c0fe0992341f",
   "metadata": {
    "tags": []
   },
   "outputs": [],
   "source": [
    "y= scipy.stats.expon.rvs(1,size=1)"
   ]
  },
  {
   "cell_type": "code",
   "execution_count": 78,
   "id": "94d14a5c-4a37-4634-a16d-69246a95e7eb",
   "metadata": {
    "tags": []
   },
   "outputs": [],
   "source": [
    "a= X.aceptacion[X.distribution](y)*(1/X.C)"
   ]
  },
  {
   "cell_type": "code",
   "execution_count": 79,
   "id": "fb69547e-c8a7-439d-b115-780ad3063edd",
   "metadata": {
    "tags": []
   },
   "outputs": [
    {
     "data": {
      "text/plain": [
       "array([2.56698657])"
      ]
     },
     "execution_count": 79,
     "metadata": {},
     "output_type": "execute_result"
    }
   ],
   "source": [
    "y"
   ]
  },
  {
   "cell_type": "code",
   "execution_count": 80,
   "id": "8d6a30a2-a3cb-4486-98c8-d07d8b3dd112",
   "metadata": {
    "tags": []
   },
   "outputs": [
    {
     "data": {
      "text/plain": [
       "array([3.04491127])"
      ]
     },
     "execution_count": 80,
     "metadata": {},
     "output_type": "execute_result"
    }
   ],
   "source": [
    "a"
   ]
  },
  {
   "cell_type": "code",
   "execution_count": 83,
   "id": "e92b4822-b6ff-4d80-82b2-c569b6e30b77",
   "metadata": {
    "tags": []
   },
   "outputs": [
    {
     "data": {
      "text/plain": [
       "array([0.85151609])"
      ]
     },
     "execution_count": 83,
     "metadata": {},
     "output_type": "execute_result"
    }
   ],
   "source": [
    "a*(1/X.C)"
   ]
  },
  {
   "cell_type": "code",
   "execution_count": 85,
   "id": "4947c393-49b1-41d6-9328-4cd71db01f71",
   "metadata": {
    "tags": []
   },
   "outputs": [
    {
     "data": {
      "text/plain": [
       "array([0.85151609])"
      ]
     },
     "execution_count": 85,
     "metadata": {},
     "output_type": "execute_result"
    }
   ],
   "source": [
    "X.aceptacion[X.distribution](y)*(1/X.C)"
   ]
  },
  {
   "cell_type": "code",
   "execution_count": 4,
   "id": "7bc9f00d-7ee5-460d-9336-ae817be475aa",
   "metadata": {
    "tags": []
   },
   "outputs": [
    {
     "data": {
      "text/plain": [
       "0.0016773131395125592"
      ]
     },
     "execution_count": 4,
     "metadata": {},
     "output_type": "execute_result"
    }
   ],
   "source": [
    "X.aceptacion['exponencial'](2)"
   ]
  },
  {
   "cell_type": "code",
   "execution_count": 21,
   "id": "c2bf84fd-67db-4c98-af46-4152d17086db",
   "metadata": {
    "tags": []
   },
   "outputs": [
    {
     "data": {
      "image/png": "[encoded data removed]",
      "text/plain": [
       "<Figure size 500x500 with 1 Axes>"
      ]
     },
     "metadata": {},
     "output_type": "display_data"
    }
   ],
   "source": [
    "x=X.generateInv(100000)"
   ]
  },
  {
   "cell_type": "code",
   "execution_count": 99,
   "id": "476baf6f-64e2-4234-8f81-ff41a9bd107f",
   "metadata": {
    "tags": []
   },
   "outputs": [
    {
     "data": {
      "text/plain": [
       "<seaborn.axisgrid.FacetGrid at 0x7f7bff8d5390>"
      ]
     },
     "execution_count": 99,
     "metadata": {},
     "output_type": "execute_result"
    },
    {
     "data": {
      "image/png": "[encoded data removed]",
      "text/plain": [
       "<Figure size 500x500 with 1 Axes>"
      ]
     },
     "metadata": {},
     "output_type": "display_data"
    }
   ],
   "source": [
    "sns.displot(scipy.stats.expon.rvs(1,size=1000))"
   ]
  },
  {
   "cell_type": "code",
   "execution_count": 9,
   "id": "95331fac-7476-4a62-8342-7b9515e1a164",
   "metadata": {
    "tags": []
   },
   "outputs": [
    {
     "data": {
      "text/plain": [
       "array([1.])"
      ]
     },
     "execution_count": 9,
     "metadata": {},
     "output_type": "execute_result"
    }
   ],
   "source": [
    "max_x"
   ]
  },
  {
   "cell_type": "code",
   "execution_count": 12,
   "id": "dde0a098-2c8d-4428-9267-c247292ece87",
   "metadata": {
    "tags": []
   },
   "outputs": [
    {
     "data": {
      "text/plain": [
       "0.657744623479457"
      ]
     },
     "execution_count": 12,
     "metadata": {},
     "output_type": "execute_result"
    }
   ],
   "source": [
    "X.aceptacion['normal'](max_x)[0]"
   ]
  },
  {
   "cell_type": "code",
   "execution_count": 59,
   "id": "c0da4986-0447-406f-b913-e1cb313469d9",
   "metadata": {
    "tags": []
   },
   "outputs": [
    {
     "name": "stdout",
     "output_type": "stream",
     "text": [
      "Optimization terminated successfully.\n",
      "         Current function value: 0.000000\n",
      "         Iterations: 10\n",
      "         Function evaluations: 20\n"
     ]
    }
   ],
   "source": [
    "def f(x): return (x-1)**2\n",
    "max_x = scipy.optimize.fmin(lambda x: -f(x), 1)\n",
    "# array([ 1.])"
   ]
  },
  {
   "cell_type": "code",
   "execution_count": 112,
   "id": "394626c5-c52d-484d-82d0-f6275b40dd12",
   "metadata": {
    "tags": []
   },
   "outputs": [
    {
     "data": {
      "text/plain": [
       "2.0747313054587013"
      ]
     },
     "execution_count": 112,
     "metadata": {},
     "output_type": "execute_result"
    }
   ],
   "source": [
    "np.random.exponential(scale=1)"
   ]
  },
  {
   "cell_type": "code",
   "execution_count": 2,
   "id": "4171435f-507c-457c-99e4-c9cfa0fe6a04",
   "metadata": {},
   "outputs": [
    {
     "name": "stderr",
     "output_type": "stream",
     "text": [
      "/tmp/ipykernel_8356/3777721166.py:15: UserWarning: \n",
      "\n",
      "`distplot` is a deprecated function and will be removed in seaborn v0.14.0.\n",
      "\n",
      "Please adapt your code to use either `displot` (a figure-level function with\n",
      "similar flexibility) or `histplot` (an axes-level function for histograms).\n",
      "\n",
      "For a guide to updating your code to use the new functions, please see\n",
      "https://gist.github.com/mwaskom/de44147ed2974457ad6372750bbe5751\n",
      "\n",
      "  sns.distplot(Z)\n"
     ]
    },
    {
     "data": {
      "text/plain": [
       "<Axes: ylabel='Density'>"
      ]
     },
     "execution_count": 2,
     "metadata": {},
     "output_type": "execute_result"
    },
    {
     "data": {
      "image/png": "[encoded data removed]",
      "text/plain": [
       "<Figure size 640x480 with 1 Axes>"
      ]
     },
     "metadata": {},
     "output_type": "display_data"
    }
   ],
   "source": [
    "n = 10**4\n",
    "def generador_normal():\n",
    "    while True:\n",
    "        Y1 = np.random.exponential(scale=1)\n",
    "        Y2 = np.random.exponential(scale=1)\n",
    "        if (Y2-(Y1-1)**2/2)>0:\n",
    "            #Y = Y2-(Y1-1)**2/2\n",
    "            U = np.random.uniform()\n",
    "            if U<=1/2:\n",
    "                return Y1\n",
    "            else:\n",
    "                return -Y1\n",
    "            break\n",
    "Z = np.array(list(map(lambda x:generador_normal(),range(n))))\n",
    "sns.distplot(Z)"
   ]
  },
  {
   "cell_type": "code",
   "execution_count": null,
   "id": "b7960679-9755-4aca-bb96-17f53a1bf874",
   "metadata": {},
   "outputs": [],
   "source": []
  }
 ],
 "metadata": {
  "kernelspec": {
   "display_name": "pylab",
   "language": "python",
   "name": "pylab"
  },
  "language_info": {
   "codemirror_mode": {
    "name": "ipython",
    "version": 3
   },
   "file_extension": ".py",
   "mimetype": "text/x-python",
   "name": "python",
   "nbconvert_exporter": "python",
   "pygments_lexer": "ipython3",
   "version": "3.10.6"
  }
 },
 "nbformat": 4,
 "nbformat_minor": 5
}
