{
 "cells": [
  {
   "cell_type": "markdown",
   "id": "b6ae70e7-3f1d-4747-8949-e51eceaa51f9",
   "metadata": {},
   "source": [
    "## Modules"
   ]
  },
  {
   "cell_type": "code",
   "execution_count": 8,
   "id": "d246736d-ae6e-484c-88e3-4012da5375da",
   "metadata": {},
   "outputs": [],
   "source": [
    "import pandas as pd\n",
    "from apyori import apriori"
   ]
  },
  {
   "cell_type": "markdown",
   "id": "9276b48e-772f-450e-aaed-ca58e2099190",
   "metadata": {},
   "source": [
    "## Data"
   ]
  },
  {
   "cell_type": "code",
   "execution_count": 2,
   "id": "195fe871-a8e0-4e1b-ad06-8fc104455857",
   "metadata": {},
   "outputs": [],
   "source": [
    "data= pd.read_csv(\"Market_Basket_Optimisation.csv\",header=None)"
   ]
  },
  {
   "cell_type": "code",
   "execution_count": 4,
   "id": "0f24d39b-9390-4611-aae6-1d25c9a57dba",
   "metadata": {},
   "outputs": [],
   "source": [
    "transacciones=[]\n",
    "for i in range(7501):\n",
    "    transacciones.append([str(data.values[i,j]) for j in range(0,20)])"
   ]
  },
  {
   "cell_type": "code",
   "execution_count": 24,
   "id": "c16ff1f2-d780-46d6-801b-1fcf9f6f71c3",
   "metadata": {},
   "outputs": [],
   "source": [
    "reglas=apriori(transacciones,min_support=0.003,min_confidence=0.6,min_lift=3,min_lenght=3)"
   ]
  },
  {
   "cell_type": "code",
   "execution_count": 25,
   "id": "0e28d449-a764-4319-b654-5bd2ffbf89ca",
   "metadata": {},
   "outputs": [],
   "source": [
    "resultados= list(reglas)"
   ]
  },
  {
   "cell_type": "code",
   "execution_count": 26,
   "id": "7e80d4ee-ed87-45fb-84ed-dd2f42055c8e",
   "metadata": {},
   "outputs": [
    {
     "name": "stdout",
     "output_type": "stream",
     "text": [
      "[RelationRecord(items=frozenset({'ground beef', 'cereals', 'spaghetti'}), support=0.0030662578322890282, ordered_statistics=[OrderedStatistic(items_base=frozenset({'ground beef', 'cereals'}), items_add=frozenset({'spaghetti'}), confidence=0.6764705882352942, lift=3.8853031258445188)]), RelationRecord(items=frozenset({'tomatoes', 'olive oil', 'spaghetti'}), support=0.004399413411545127, ordered_statistics=[OrderedStatistic(items_base=frozenset({'tomatoes', 'olive oil'}), items_add=frozenset({'spaghetti'}), confidence=0.6111111111111112, lift=3.5099115194827295)]), RelationRecord(items=frozenset({'ground beef', 'nan', 'cereals', 'spaghetti'}), support=0.0030662578322890282, ordered_statistics=[OrderedStatistic(items_base=frozenset({'ground beef', 'nan', 'cereals'}), items_add=frozenset({'spaghetti'}), confidence=0.6764705882352942, lift=3.8853031258445188)]), RelationRecord(items=frozenset({'soup', 'frozen vegetables', 'mineral water', 'milk'}), support=0.0030662578322890282, ordered_statistics=[OrderedStatistic(items_base=frozenset({'soup', 'frozen vegetables', 'milk'}), items_add=frozenset({'mineral water'}), confidence=0.7666666666666666, lift=3.21631245339299), OrderedStatistic(items_base=frozenset({'soup', 'frozen vegetables', 'mineral water'}), items_add=frozenset({'milk'}), confidence=0.6052631578947368, lift=4.670863114576565)]), RelationRecord(items=frozenset({'olive oil', 'tomatoes', 'nan', 'spaghetti'}), support=0.004399413411545127, ordered_statistics=[OrderedStatistic(items_base=frozenset({'olive oil', 'tomatoes', 'nan'}), items_add=frozenset({'spaghetti'}), confidence=0.6111111111111112, lift=3.5099115194827295)]), RelationRecord(items=frozenset({'frozen vegetables', 'nan', 'mineral water', 'soup', 'milk'}), support=0.0030662578322890282, ordered_statistics=[OrderedStatistic(items_base=frozenset({'soup', 'frozen vegetables', 'nan', 'milk'}), items_add=frozenset({'mineral water'}), confidence=0.7666666666666666, lift=3.21631245339299), OrderedStatistic(items_base=frozenset({'soup', 'frozen vegetables', 'nan', 'mineral water'}), items_add=frozenset({'milk'}), confidence=0.6052631578947368, lift=4.670863114576565)])]\n"
     ]
    }
   ],
   "source": [
    "print(resultados)"
   ]
  },
  {
   "cell_type": "code",
   "execution_count": null,
   "id": "19ddda80-9de3-472f-b08c-dfce98381e13",
   "metadata": {},
   "outputs": [],
   "source": []
  }
 ],
 "metadata": {
  "kernelspec": {
   "display_name": "cdenv",
   "language": "python",
   "name": "cdenv"
  },
  "language_info": {
   "codemirror_mode": {
    "name": "ipython",
    "version": 3
   },
   "file_extension": ".py",
   "mimetype": "text/x-python",
   "name": "python",
   "nbconvert_exporter": "python",
   "pygments_lexer": "ipython3",
   "version": "3.10.6"
  }
 },
 "nbformat": 4,
 "nbformat_minor": 5
}
