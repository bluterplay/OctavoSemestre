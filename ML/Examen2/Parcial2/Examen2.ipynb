{
 "cells": [
  {
   "cell_type": "markdown",
   "id": "712ae286-ea48-4adb-9d18-36170896b086",
   "metadata": {
    "toc-hr-collapsed": true
   },
   "source": [
    "# Problema 1"
   ]
  },
  {
   "cell_type": "markdown",
   "id": "ed361452-0a0f-44f2-bcb7-a046be2160e4",
   "metadata": {},
   "source": [
    "## Modulos "
   ]
  },
  {
   "cell_type": "code",
   "execution_count": 13,
   "id": "71cdf723-55b2-462f-b6cd-39d379817ccd",
   "metadata": {
    "tags": []
   },
   "outputs": [],
   "source": [
    "import numpy as np\n",
    "import matplotlib.pyplot as plt\n",
    "import pandas as pd \n",
    "import random\n",
    "import math"
   ]
  },
  {
   "cell_type": "markdown",
   "id": "16980c5e-4136-4f7e-b341-15995c7cba5f",
   "metadata": {},
   "source": [
    "## Datos"
   ]
  },
  {
   "cell_type": "code",
   "execution_count": 2,
   "id": "f6bbe15c-22ce-45f4-9d31-25efa7a2a57f",
   "metadata": {
    "tags": []
   },
   "outputs": [],
   "source": [
    "data1= pd.read_csv(\"Conjunto de Datos 1.csv\")"
   ]
  },
  {
   "cell_type": "code",
   "execution_count": 3,
   "id": "871ac40e-52fa-46d5-9d53-1c3626974069",
   "metadata": {
    "tags": []
   },
   "outputs": [
    {
     "data": {
      "text/html": [
       "<div>\n",
       "<style scoped>\n",
       "    .dataframe tbody tr th:only-of-type {\n",
       "        vertical-align: middle;\n",
       "    }\n",
       "\n",
       "    .dataframe tbody tr th {\n",
       "        vertical-align: top;\n",
       "    }\n",
       "\n",
       "    .dataframe thead th {\n",
       "        text-align: right;\n",
       "    }\n",
       "</style>\n",
       "<table border=\"1\" class=\"dataframe\">\n",
       "  <thead>\n",
       "    <tr style=\"text-align: right;\">\n",
       "      <th></th>\n",
       "      <th>Ad 1</th>\n",
       "      <th>Ad 2</th>\n",
       "      <th>Ad 3</th>\n",
       "      <th>Ad 4</th>\n",
       "      <th>Ad 5</th>\n",
       "      <th>Ad 6</th>\n",
       "      <th>Ad 7</th>\n",
       "      <th>Ad 8</th>\n",
       "      <th>Ad 9</th>\n",
       "      <th>Ad 10</th>\n",
       "    </tr>\n",
       "  </thead>\n",
       "  <tbody>\n",
       "    <tr>\n",
       "      <th>0</th>\n",
       "      <td>1</td>\n",
       "      <td>0</td>\n",
       "      <td>0</td>\n",
       "      <td>0</td>\n",
       "      <td>1</td>\n",
       "      <td>0</td>\n",
       "      <td>0</td>\n",
       "      <td>0</td>\n",
       "      <td>1</td>\n",
       "      <td>0</td>\n",
       "    </tr>\n",
       "    <tr>\n",
       "      <th>1</th>\n",
       "      <td>0</td>\n",
       "      <td>0</td>\n",
       "      <td>0</td>\n",
       "      <td>0</td>\n",
       "      <td>0</td>\n",
       "      <td>0</td>\n",
       "      <td>0</td>\n",
       "      <td>0</td>\n",
       "      <td>1</td>\n",
       "      <td>0</td>\n",
       "    </tr>\n",
       "    <tr>\n",
       "      <th>2</th>\n",
       "      <td>0</td>\n",
       "      <td>0</td>\n",
       "      <td>0</td>\n",
       "      <td>0</td>\n",
       "      <td>0</td>\n",
       "      <td>0</td>\n",
       "      <td>0</td>\n",
       "      <td>0</td>\n",
       "      <td>0</td>\n",
       "      <td>0</td>\n",
       "    </tr>\n",
       "    <tr>\n",
       "      <th>3</th>\n",
       "      <td>0</td>\n",
       "      <td>1</td>\n",
       "      <td>0</td>\n",
       "      <td>0</td>\n",
       "      <td>0</td>\n",
       "      <td>0</td>\n",
       "      <td>0</td>\n",
       "      <td>1</td>\n",
       "      <td>0</td>\n",
       "      <td>0</td>\n",
       "    </tr>\n",
       "    <tr>\n",
       "      <th>4</th>\n",
       "      <td>0</td>\n",
       "      <td>0</td>\n",
       "      <td>0</td>\n",
       "      <td>0</td>\n",
       "      <td>0</td>\n",
       "      <td>0</td>\n",
       "      <td>0</td>\n",
       "      <td>0</td>\n",
       "      <td>0</td>\n",
       "      <td>0</td>\n",
       "    </tr>\n",
       "  </tbody>\n",
       "</table>\n",
       "</div>"
      ],
      "text/plain": [
       "   Ad 1  Ad 2  Ad 3  Ad 4  Ad 5  Ad 6  Ad 7  Ad 8  Ad 9  Ad 10\n",
       "0     1     0     0     0     1     0     0     0     1      0\n",
       "1     0     0     0     0     0     0     0     0     1      0\n",
       "2     0     0     0     0     0     0     0     0     0      0\n",
       "3     0     1     0     0     0     0     0     1     0      0\n",
       "4     0     0     0     0     0     0     0     0     0      0"
      ]
     },
     "execution_count": 3,
     "metadata": {},
     "output_type": "execute_result"
    }
   ],
   "source": [
    "data1.head()"
   ]
  },
  {
   "cell_type": "markdown",
   "id": "bffcbcdd-7490-4c47-965c-2d8e116f891a",
   "metadata": {},
   "source": [
    "### Upper Confidence Bound"
   ]
  },
  {
   "cell_type": "code",
   "execution_count": 5,
   "id": "228f7021-bbee-4cce-9241-eaef6e1c7199",
   "metadata": {
    "tags": []
   },
   "outputs": [],
   "source": [
    "N=10000\n",
    "d=10\n",
    "anuncio=0\n",
    "numeroDeSelecciones=[0]*d\n",
    "sumaDeLasRecompensas=[0]*d\n",
    "anuncios_seleccionados=[]\n",
    "recompensaTotal=0\n",
    "for n in range(0,N):\n",
    "    maximo_intervalo_superior=0;\n",
    "    for i in range(0,d):\n",
    "        if numeroDeSelecciones[i]>0:\n",
    "            recompensamedia=sumaDeLasRecompensas[i]/numeroDeSelecciones[i]\n",
    "            delta_i=math.sqrt(3/2*math.log(n+1)/numeroDeSelecciones[i])\n",
    "            intervalodeconfianzasuperior=recompensamedia+delta_i\n",
    "        else:\n",
    "            intervalodeconfianzasuperior= i*400*10#ie400\n",
    "        if intervalodeconfianzasuperior>maximo_intervalo_superior:\n",
    "            maximo_intervalo_superior=intervalodeconfianzasuperior\n",
    "            anuncio=i\n",
    "    anuncios_seleccionados.append(anuncio)\n",
    "    numeroDeSelecciones[anuncio]=numeroDeSelecciones[anuncio]+1\n",
    "    recompensa=data1.values[n,anuncio]\n",
    "    sumaDeLasRecompensas[anuncio]=sumaDeLasRecompensas[anuncio]+recompensa\n",
    "    recompensaTotal=recompensaTotal+recompensa"
   ]
  },
  {
   "cell_type": "code",
   "execution_count": 7,
   "id": "f84d0676-1b2d-4812-b947-4b6370d0ae41",
   "metadata": {
    "tags": []
   },
   "outputs": [],
   "source": [
    "recompensaUBC= recompensaTotal"
   ]
  },
  {
   "cell_type": "code",
   "execution_count": 9,
   "id": "5cffa1b4-afa6-403f-971e-0e294c3cc56e",
   "metadata": {
    "tags": []
   },
   "outputs": [
    {
     "name": "stdout",
     "output_type": "stream",
     "text": [
      "La recompensa total obtenida por UBC es de 2271 puntos \n"
     ]
    }
   ],
   "source": [
    "print(f\"La recompensa total obtenida por UBC es de {recompensaUBC} puntos \")"
   ]
  },
  {
   "cell_type": "markdown",
   "id": "90e77dbe-d5b6-4ce3-b53f-6f24ce290325",
   "metadata": {},
   "source": [
    "#### Histrograma"
   ]
  },
  {
   "cell_type": "code",
   "execution_count": 10,
   "id": "9f55d922-8fca-4866-939e-60a4817160da",
   "metadata": {
    "tags": []
   },
   "outputs": [
    {
     "data": {
      "text/plain": [
       "Text(0, 0.5, 'Fracuencia de la visualizacion del anuncio')"
      ]
     },
     "execution_count": 10,
     "metadata": {},
     "output_type": "execute_result"
    },
    {
     "data": {
      "image/png": "[encoded data removed]",
      "text/plain": [
       "<Figure size 640x480 with 1 Axes>"
      ]
     },
     "metadata": {},
     "output_type": "display_data"
    }
   ],
   "source": [
    "plt.hist(anuncios_seleccionados)\n",
    "plt.title(\"histograma de anuncios UCB\")\n",
    "plt.xlabel(\"ID del anuncio\")\n",
    "plt.ylabel(\"Fracuencia de la visualizacion del anuncio\")"
   ]
  },
  {
   "cell_type": "markdown",
   "id": "ca5360d0-81fc-494d-98a2-7220dd9755ab",
   "metadata": {},
   "source": [
    "### Muestreo de Thompson"
   ]
  },
  {
   "cell_type": "code",
   "execution_count": 14,
   "id": "3808f8de-07c9-4798-8d1d-31ca7e9e5295",
   "metadata": {
    "tags": []
   },
   "outputs": [],
   "source": [
    "N=10000\n",
    "d=10\n",
    "numerodeRecompensas1=[0.000001]*d\n",
    "numerodeRecompensas0=[0.000001]*d\n",
    "anuncios_seleccionados=[]\n",
    "recompensaTotal=0\n",
    "for n in range(0,N):\n",
    "    maximo_valor_aleatorio=0;\n",
    "    anuncio=0\n",
    "    for i in range(0,d):\n",
    "        random_beta=random.betavariate(numerodeRecompensas1[i]+1,numerodeRecompensas0[i]+0)\n",
    "        if random_beta>maximo_valor_aleatorio:\n",
    "            maximo_valor_aleatorio=random_beta\n",
    "            anuncio=i\n",
    "    anuncios_seleccionados.append(anuncio)\n",
    "    recompensa=data1.values[n,anuncio]\n",
    "    if recompensa==1:\n",
    "        numerodeRecompensas1[anuncio]+=1\n",
    "    else:\n",
    "        numerodeRecompensas0[anuncio]+=1\n",
    "    recompensaTotal+=recompensa"
   ]
  },
  {
   "cell_type": "code",
   "execution_count": 15,
   "id": "51cd2252-76b1-4f84-b08a-6cc49e4179e3",
   "metadata": {
    "tags": []
   },
   "outputs": [],
   "source": [
    "recompensaThompson= recompensaTotal"
   ]
  },
  {
   "cell_type": "code",
   "execution_count": 16,
   "id": "38b3a2d8-409c-4fe6-b599-6f5ec6394a35",
   "metadata": {
    "tags": []
   },
   "outputs": [
    {
     "name": "stdout",
     "output_type": "stream",
     "text": [
      "La recompensa total obtenida por el muestro de thompson es de 2597 puntos \n"
     ]
    }
   ],
   "source": [
    "print(f\"La recompensa total obtenida por el muestro de thompson es de {recompensaThompson} puntos \")"
   ]
  },
  {
   "cell_type": "markdown",
   "id": "a1be8e0e-90f4-41a6-b480-f4a3a302d313",
   "metadata": {},
   "source": [
    "#### Histrograma"
   ]
  },
  {
   "cell_type": "code",
   "execution_count": 17,
   "id": "d4aadda2-c64b-49ea-89c2-6d946981111b",
   "metadata": {
    "tags": []
   },
   "outputs": [
    {
     "data": {
      "image/png": "[encoded data removed]",
      "text/plain": [
       "<Figure size 640x480 with 1 Axes>"
      ]
     },
     "metadata": {},
     "output_type": "display_data"
    }
   ],
   "source": [
    "plt.hist(anuncios_seleccionados)\n",
    "plt.title('Histograma de anuncio Thompson')\n",
    "plt.xlabel(\"id del anuncio\")\n",
    "plt.ylabel(\"frecuencia de visualización\")\n",
    "plt.show()"
   ]
  },
  {
   "cell_type": "markdown",
   "id": "7b9dc149-7e46-47f4-96f8-a24808e8bcca",
   "metadata": {},
   "source": [
    "### Comparación"
   ]
  },
  {
   "cell_type": "code",
   "execution_count": 19,
   "id": "61f42f2b-3c26-4536-b64f-c8150106a587",
   "metadata": {
    "tags": []
   },
   "outputs": [
    {
     "name": "stdout",
     "output_type": "stream",
     "text": [
      "Recompensa UCB: 2271 \n",
      "Recompensa Thompson: 2597\n"
     ]
    }
   ],
   "source": [
    "print(f\"Recompensa UCB: {recompensaUBC} \\nRecompensa Thompson: {recompensaThompson}\")"
   ]
  },
  {
   "cell_type": "markdown",
   "id": "eac16188-2af8-484f-9e6c-2d50cca321c6",
   "metadata": {
    "tags": []
   },
   "source": [
    "# Problema 2"
   ]
  },
  {
   "cell_type": "markdown",
   "id": "691f5a70-2602-4402-af31-e9a8f23200ff",
   "metadata": {},
   "source": [
    "## Modulos"
   ]
  },
  {
   "cell_type": "code",
   "execution_count": 33,
   "id": "52d71192-a1e9-400e-9e49-d3ccdf287496",
   "metadata": {
    "tags": []
   },
   "outputs": [],
   "source": [
    "import pandas as pd\n",
    "import numpy as np\n",
    "import matplotlib.pyplot as plt\n",
    "\n",
    "from sklearn.preprocessing import LabelEncoder, OneHotEncoder, StandardScaler\n",
    "from sklearn.model_selection import train_test_split\n",
    "from sklearn.compose import ColumnTransformer\n",
    "\n",
    "from keras.models import Sequential\n",
    "from keras.layers import Dense\n",
    "\n",
    "from sklearn.metrics import confusion_matrix"
   ]
  },
  {
   "cell_type": "markdown",
   "id": "5ec44fe0-e77c-4e7d-9654-8775dd9dadcb",
   "metadata": {},
   "source": [
    "## Datos"
   ]
  },
  {
   "cell_type": "code",
   "execution_count": 21,
   "id": "1a0a4bd8-2522-4b22-8d3c-21328e2b8c8d",
   "metadata": {
    "tags": []
   },
   "outputs": [],
   "source": [
    "data2= pd.read_csv(\"Conjunto de Datos 2.csv\")"
   ]
  },
  {
   "cell_type": "code",
   "execution_count": 22,
   "id": "b199c7e0-5649-42b3-bca5-05c6b6a5f29c",
   "metadata": {
    "tags": []
   },
   "outputs": [
    {
     "data": {
      "text/html": [
       "<div>\n",
       "<style scoped>\n",
       "    .dataframe tbody tr th:only-of-type {\n",
       "        vertical-align: middle;\n",
       "    }\n",
       "\n",
       "    .dataframe tbody tr th {\n",
       "        vertical-align: top;\n",
       "    }\n",
       "\n",
       "    .dataframe thead th {\n",
       "        text-align: right;\n",
       "    }\n",
       "</style>\n",
       "<table border=\"1\" class=\"dataframe\">\n",
       "  <thead>\n",
       "    <tr style=\"text-align: right;\">\n",
       "      <th></th>\n",
       "      <th>RowNumber</th>\n",
       "      <th>CustomerId</th>\n",
       "      <th>Surname</th>\n",
       "      <th>CreditScore</th>\n",
       "      <th>Geography</th>\n",
       "      <th>Gender</th>\n",
       "      <th>Age</th>\n",
       "      <th>Tenure</th>\n",
       "      <th>Balance</th>\n",
       "      <th>NumOfProducts</th>\n",
       "      <th>HasCrCard</th>\n",
       "      <th>IsActiveMember</th>\n",
       "      <th>EstimatedSalary</th>\n",
       "      <th>Exited</th>\n",
       "    </tr>\n",
       "  </thead>\n",
       "  <tbody>\n",
       "    <tr>\n",
       "      <th>0</th>\n",
       "      <td>1</td>\n",
       "      <td>15634602</td>\n",
       "      <td>Hargrave</td>\n",
       "      <td>619</td>\n",
       "      <td>France</td>\n",
       "      <td>Female</td>\n",
       "      <td>42</td>\n",
       "      <td>2</td>\n",
       "      <td>0.00</td>\n",
       "      <td>1</td>\n",
       "      <td>1</td>\n",
       "      <td>1</td>\n",
       "      <td>101348.88</td>\n",
       "      <td>1</td>\n",
       "    </tr>\n",
       "    <tr>\n",
       "      <th>1</th>\n",
       "      <td>2</td>\n",
       "      <td>15647311</td>\n",
       "      <td>Hill</td>\n",
       "      <td>608</td>\n",
       "      <td>Spain</td>\n",
       "      <td>Female</td>\n",
       "      <td>41</td>\n",
       "      <td>1</td>\n",
       "      <td>83807.86</td>\n",
       "      <td>1</td>\n",
       "      <td>0</td>\n",
       "      <td>1</td>\n",
       "      <td>112542.58</td>\n",
       "      <td>0</td>\n",
       "    </tr>\n",
       "    <tr>\n",
       "      <th>2</th>\n",
       "      <td>3</td>\n",
       "      <td>15619304</td>\n",
       "      <td>Onio</td>\n",
       "      <td>502</td>\n",
       "      <td>France</td>\n",
       "      <td>Female</td>\n",
       "      <td>42</td>\n",
       "      <td>8</td>\n",
       "      <td>159660.80</td>\n",
       "      <td>3</td>\n",
       "      <td>1</td>\n",
       "      <td>0</td>\n",
       "      <td>113931.57</td>\n",
       "      <td>1</td>\n",
       "    </tr>\n",
       "    <tr>\n",
       "      <th>3</th>\n",
       "      <td>4</td>\n",
       "      <td>15701354</td>\n",
       "      <td>Boni</td>\n",
       "      <td>699</td>\n",
       "      <td>France</td>\n",
       "      <td>Female</td>\n",
       "      <td>39</td>\n",
       "      <td>1</td>\n",
       "      <td>0.00</td>\n",
       "      <td>2</td>\n",
       "      <td>0</td>\n",
       "      <td>0</td>\n",
       "      <td>93826.63</td>\n",
       "      <td>0</td>\n",
       "    </tr>\n",
       "    <tr>\n",
       "      <th>4</th>\n",
       "      <td>5</td>\n",
       "      <td>15737888</td>\n",
       "      <td>Mitchell</td>\n",
       "      <td>850</td>\n",
       "      <td>Spain</td>\n",
       "      <td>Female</td>\n",
       "      <td>43</td>\n",
       "      <td>2</td>\n",
       "      <td>125510.82</td>\n",
       "      <td>1</td>\n",
       "      <td>1</td>\n",
       "      <td>1</td>\n",
       "      <td>79084.10</td>\n",
       "      <td>0</td>\n",
       "    </tr>\n",
       "  </tbody>\n",
       "</table>\n",
       "</div>"
      ],
      "text/plain": [
       "   RowNumber  CustomerId   Surname  CreditScore Geography  Gender  Age  \\\n",
       "0          1    15634602  Hargrave          619    France  Female   42   \n",
       "1          2    15647311      Hill          608     Spain  Female   41   \n",
       "2          3    15619304      Onio          502    France  Female   42   \n",
       "3          4    15701354      Boni          699    France  Female   39   \n",
       "4          5    15737888  Mitchell          850     Spain  Female   43   \n",
       "\n",
       "   Tenure    Balance  NumOfProducts  HasCrCard  IsActiveMember  \\\n",
       "0       2       0.00              1          1               1   \n",
       "1       1   83807.86              1          0               1   \n",
       "2       8  159660.80              3          1               0   \n",
       "3       1       0.00              2          0               0   \n",
       "4       2  125510.82              1          1               1   \n",
       "\n",
       "   EstimatedSalary  Exited  \n",
       "0        101348.88       1  \n",
       "1        112542.58       0  \n",
       "2        113931.57       1  \n",
       "3         93826.63       0  \n",
       "4         79084.10       0  "
      ]
     },
     "execution_count": 22,
     "metadata": {},
     "output_type": "execute_result"
    }
   ],
   "source": [
    "data2.head()"
   ]
  },
  {
   "cell_type": "code",
   "execution_count": 23,
   "id": "f855fcf6-85be-41ff-b6d2-492d4665b2a0",
   "metadata": {
    "tags": []
   },
   "outputs": [],
   "source": [
    "X= data2.iloc[:,3:13].values\n",
    "y= data2.iloc[:,13].values"
   ]
  },
  {
   "cell_type": "markdown",
   "id": "d48fb57b-23d6-4337-8a9e-91c63aab9bc1",
   "metadata": {},
   "source": [
    "## Preprocesamiento "
   ]
  },
  {
   "cell_type": "markdown",
   "id": "3566cbfa-02e9-4179-9bc0-cf4d69343b96",
   "metadata": {},
   "source": [
    "### One Hot Encoder"
   ]
  },
  {
   "cell_type": "code",
   "execution_count": 24,
   "id": "a2cf45ac-7e2d-4faa-9c84-4677a7a195e4",
   "metadata": {
    "tags": []
   },
   "outputs": [],
   "source": [
    "ls= ColumnTransformer([('Geography', OneHotEncoder(categories='auto'), [1])], remainder=\"passthrough\")\n",
    "X= ls.fit_transform(X)\n",
    "X= X[:,1:]\n",
    "ls= ColumnTransformer([('Gender', OneHotEncoder(categories='auto'), [3])], remainder=\"passthrough\")\n",
    "X= ls.fit_transform(X)\n",
    "X= X[:,1:]"
   ]
  },
  {
   "cell_type": "markdown",
   "id": "722c17aa-4071-4f03-b026-cfacc0bd5c4e",
   "metadata": {},
   "source": [
    "### Dividir datos"
   ]
  },
  {
   "cell_type": "code",
   "execution_count": 25,
   "id": "a02d615b-c948-4722-a0a0-1c945cce04f4",
   "metadata": {
    "tags": []
   },
   "outputs": [],
   "source": [
    "x_train,x_test,y_train,y_test= train_test_split(X,y, test_size=.20, random_state=42)"
   ]
  },
  {
   "cell_type": "markdown",
   "id": "d2794449-897c-46e8-96e8-a211ed5b861b",
   "metadata": {},
   "source": [
    "### Escalar datos"
   ]
  },
  {
   "cell_type": "code",
   "execution_count": 26,
   "id": "12367be1-3653-43c1-a1bd-917b41cb1c52",
   "metadata": {
    "tags": []
   },
   "outputs": [],
   "source": [
    "sx= StandardScaler()\n",
    "x_train = sx.fit_transform(x_train)\n",
    "x_test = sx.fit_transform(x_test)"
   ]
  },
  {
   "cell_type": "markdown",
   "id": "11ecc74e-bf58-42ea-b89f-b4319d9cf9d1",
   "metadata": {},
   "source": [
    "## Modelo"
   ]
  },
  {
   "cell_type": "markdown",
   "id": "fa3e038b-e63b-47d1-b2c1-60bd6dbdcdb0",
   "metadata": {},
   "source": [
    "### Arquitectura"
   ]
  },
  {
   "cell_type": "code",
   "execution_count": 27,
   "id": "322e6f67-c2ca-483a-bb2e-fd684e01ed68",
   "metadata": {
    "tags": []
   },
   "outputs": [
    {
     "name": "stderr",
     "output_type": "stream",
     "text": [
      "2023-05-23 12:02:12.962424: W tensorflow/compiler/xla/stream_executor/platform/default/dso_loader.cc:64] Could not load dynamic library 'libcuda.so.1'; dlerror: libcuda.so.1: cannot open shared object file: No such file or directory\n",
      "2023-05-23 12:02:12.971876: W tensorflow/compiler/xla/stream_executor/cuda/cuda_driver.cc:265] failed call to cuInit: UNKNOWN ERROR (303)\n",
      "2023-05-23 12:02:12.971925: I tensorflow/compiler/xla/stream_executor/cuda/cuda_diagnostics.cc:156] kernel driver does not appear to be running on this host (bluterplay-HP): /proc/driver/nvidia/version does not exist\n",
      "2023-05-23 12:02:13.015295: I tensorflow/core/platform/cpu_feature_guard.cc:193] This TensorFlow binary is optimized with oneAPI Deep Neural Network Library (oneDNN) to use the following CPU instructions in performance-critical operations:  AVX2 FMA\n",
      "To enable them in other operations, rebuild TensorFlow with the appropriate compiler flags.\n"
     ]
    }
   ],
   "source": [
    "clasificador = Sequential()\n",
    "clasificador.add(Dense(units=6,kernel_initializer='uniform',activation='relu',input_dim=11))\n",
    "clasificador.add(Dense(units=6,kernel_initializer='uniform',activation='relu'))\n",
    "clasificador.add(Dense(units=1,kernel_initializer='uniform',activation='sigmoid'))\n",
    "clasificador.compile(optimizer='adam',loss='binary_crossentropy',metrics=['accuracy'])"
   ]
  },
  {
   "cell_type": "markdown",
   "id": "661e35d2-aff8-42e0-ae5a-57d12ef8e192",
   "metadata": {},
   "source": [
    "### Entrenamiento"
   ]
  },
  {
   "cell_type": "code",
   "execution_count": 28,
   "id": "ac0b21d7-956f-4620-a5b8-03452965d2d4",
   "metadata": {
    "scrolled": true,
    "tags": []
   },
   "outputs": [
    {
     "name": "stdout",
     "output_type": "stream",
     "text": [
      "Epoch 1/100\n",
      "800/800 [==============================] - 5s 3ms/step - loss: 0.4874 - accuracy: 0.7971\n",
      "Epoch 2/100\n",
      "800/800 [==============================] - 2s 3ms/step - loss: 0.4017 - accuracy: 0.8196\n",
      "Epoch 3/100\n",
      "800/800 [==============================] - 2s 3ms/step - loss: 0.3693 - accuracy: 0.8509\n",
      "Epoch 4/100\n",
      "800/800 [==============================] - 2s 3ms/step - loss: 0.3533 - accuracy: 0.8594\n",
      "Epoch 5/100\n",
      "800/800 [==============================] - 2s 3ms/step - loss: 0.3487 - accuracy: 0.8593\n",
      "Epoch 6/100\n",
      "800/800 [==============================] - 2s 3ms/step - loss: 0.3451 - accuracy: 0.8580\n",
      "Epoch 7/100\n",
      "800/800 [==============================] - 2s 3ms/step - loss: 0.3435 - accuracy: 0.8599\n",
      "Epoch 8/100\n",
      "800/800 [==============================] - 2s 3ms/step - loss: 0.3418 - accuracy: 0.8606\n",
      "Epoch 9/100\n",
      "800/800 [==============================] - 2s 3ms/step - loss: 0.3402 - accuracy: 0.8627\n",
      "Epoch 10/100\n",
      "800/800 [==============================] - 2s 3ms/step - loss: 0.3406 - accuracy: 0.8605\n",
      "Epoch 11/100\n",
      "800/800 [==============================] - 2s 3ms/step - loss: 0.3395 - accuracy: 0.8609\n",
      "Epoch 12/100\n",
      "800/800 [==============================] - 2s 2ms/step - loss: 0.3384 - accuracy: 0.8616\n",
      "Epoch 13/100\n",
      "800/800 [==============================] - 2s 2ms/step - loss: 0.3379 - accuracy: 0.8609\n",
      "Epoch 14/100\n",
      "800/800 [==============================] - 2s 3ms/step - loss: 0.3381 - accuracy: 0.8612\n",
      "Epoch 15/100\n",
      "800/800 [==============================] - 2s 2ms/step - loss: 0.3373 - accuracy: 0.8627\n",
      "Epoch 16/100\n",
      "800/800 [==============================] - 2s 2ms/step - loss: 0.3370 - accuracy: 0.8610\n",
      "Epoch 17/100\n",
      "800/800 [==============================] - 2s 3ms/step - loss: 0.3371 - accuracy: 0.8620\n",
      "Epoch 18/100\n",
      "800/800 [==============================] - 2s 3ms/step - loss: 0.3366 - accuracy: 0.8635\n",
      "Epoch 19/100\n",
      "800/800 [==============================] - 2s 3ms/step - loss: 0.3356 - accuracy: 0.8639\n",
      "Epoch 20/100\n",
      "800/800 [==============================] - 2s 3ms/step - loss: 0.3364 - accuracy: 0.8627\n",
      "Epoch 21/100\n",
      "800/800 [==============================] - 2s 3ms/step - loss: 0.3361 - accuracy: 0.8631\n",
      "Epoch 22/100\n",
      "800/800 [==============================] - 2s 3ms/step - loss: 0.3362 - accuracy: 0.8645\n",
      "Epoch 23/100\n",
      "800/800 [==============================] - 2s 2ms/step - loss: 0.3352 - accuracy: 0.8633\n",
      "Epoch 24/100\n",
      "800/800 [==============================] - 2s 3ms/step - loss: 0.3356 - accuracy: 0.8616\n",
      "Epoch 25/100\n",
      "800/800 [==============================] - 2s 3ms/step - loss: 0.3348 - accuracy: 0.8621\n",
      "Epoch 26/100\n",
      "800/800 [==============================] - 2s 3ms/step - loss: 0.3351 - accuracy: 0.8641\n",
      "Epoch 27/100\n",
      "800/800 [==============================] - 2s 3ms/step - loss: 0.3349 - accuracy: 0.8645\n",
      "Epoch 28/100\n",
      "800/800 [==============================] - 2s 3ms/step - loss: 0.3348 - accuracy: 0.8634\n",
      "Epoch 29/100\n",
      "800/800 [==============================] - 2s 3ms/step - loss: 0.3347 - accuracy: 0.8631\n",
      "Epoch 30/100\n",
      "800/800 [==============================] - 2s 3ms/step - loss: 0.3348 - accuracy: 0.8631\n",
      "Epoch 31/100\n",
      "800/800 [==============================] - 2s 3ms/step - loss: 0.3350 - accuracy: 0.8645\n",
      "Epoch 32/100\n",
      "800/800 [==============================] - 2s 3ms/step - loss: 0.3343 - accuracy: 0.8618\n",
      "Epoch 33/100\n",
      "800/800 [==============================] - 2s 3ms/step - loss: 0.3344 - accuracy: 0.8651\n",
      "Epoch 34/100\n",
      "800/800 [==============================] - 2s 3ms/step - loss: 0.3346 - accuracy: 0.8621\n",
      "Epoch 35/100\n",
      "800/800 [==============================] - 2s 3ms/step - loss: 0.3341 - accuracy: 0.8644\n",
      "Epoch 36/100\n",
      "800/800 [==============================] - 2s 3ms/step - loss: 0.3344 - accuracy: 0.8622\n",
      "Epoch 37/100\n",
      "800/800 [==============================] - 2s 3ms/step - loss: 0.3338 - accuracy: 0.8641\n",
      "Epoch 38/100\n",
      "800/800 [==============================] - 2s 3ms/step - loss: 0.3340 - accuracy: 0.8643\n",
      "Epoch 39/100\n",
      "800/800 [==============================] - 3s 3ms/step - loss: 0.3345 - accuracy: 0.8620\n",
      "Epoch 40/100\n",
      "800/800 [==============================] - 2s 3ms/step - loss: 0.3341 - accuracy: 0.8631\n",
      "Epoch 41/100\n",
      "800/800 [==============================] - 2s 3ms/step - loss: 0.3343 - accuracy: 0.8640\n",
      "Epoch 42/100\n",
      "800/800 [==============================] - 2s 3ms/step - loss: 0.3340 - accuracy: 0.8633\n",
      "Epoch 43/100\n",
      "800/800 [==============================] - 3s 4ms/step - loss: 0.3338 - accuracy: 0.8637\n",
      "Epoch 44/100\n",
      "800/800 [==============================] - 2s 3ms/step - loss: 0.3343 - accuracy: 0.8633\n",
      "Epoch 45/100\n",
      "800/800 [==============================] - 2s 3ms/step - loss: 0.3341 - accuracy: 0.8630\n",
      "Epoch 46/100\n",
      "800/800 [==============================] - 2s 2ms/step - loss: 0.3341 - accuracy: 0.8645\n",
      "Epoch 47/100\n",
      "800/800 [==============================] - 2s 3ms/step - loss: 0.3332 - accuracy: 0.8624\n",
      "Epoch 48/100\n",
      "800/800 [==============================] - 2s 3ms/step - loss: 0.3333 - accuracy: 0.8666\n",
      "Epoch 49/100\n",
      "800/800 [==============================] - 2s 3ms/step - loss: 0.3338 - accuracy: 0.8633\n",
      "Epoch 50/100\n",
      "800/800 [==============================] - 2s 3ms/step - loss: 0.3328 - accuracy: 0.8636\n",
      "Epoch 51/100\n",
      "800/800 [==============================] - 2s 3ms/step - loss: 0.3332 - accuracy: 0.8636\n",
      "Epoch 52/100\n",
      "800/800 [==============================] - 2s 3ms/step - loss: 0.3331 - accuracy: 0.8646\n",
      "Epoch 53/100\n",
      "800/800 [==============================] - 2s 3ms/step - loss: 0.3330 - accuracy: 0.8655\n",
      "Epoch 54/100\n",
      "800/800 [==============================] - 2s 3ms/step - loss: 0.3332 - accuracy: 0.8650\n",
      "Epoch 55/100\n",
      "800/800 [==============================] - 2s 3ms/step - loss: 0.3331 - accuracy: 0.8650\n",
      "Epoch 56/100\n",
      "800/800 [==============================] - 2s 3ms/step - loss: 0.3332 - accuracy: 0.8658\n",
      "Epoch 57/100\n",
      "800/800 [==============================] - 2s 3ms/step - loss: 0.3330 - accuracy: 0.8629\n",
      "Epoch 58/100\n",
      "800/800 [==============================] - 2s 3ms/step - loss: 0.3332 - accuracy: 0.8652\n",
      "Epoch 59/100\n",
      "800/800 [==============================] - 2s 3ms/step - loss: 0.3330 - accuracy: 0.8654\n",
      "Epoch 60/100\n",
      "800/800 [==============================] - 2s 3ms/step - loss: 0.3325 - accuracy: 0.8649\n",
      "Epoch 61/100\n",
      "800/800 [==============================] - 2s 3ms/step - loss: 0.3332 - accuracy: 0.8666\n",
      "Epoch 62/100\n",
      "800/800 [==============================] - 2s 3ms/step - loss: 0.3332 - accuracy: 0.8626\n",
      "Epoch 63/100\n",
      "800/800 [==============================] - 2s 3ms/step - loss: 0.3326 - accuracy: 0.8640\n",
      "Epoch 64/100\n",
      "800/800 [==============================] - 2s 3ms/step - loss: 0.3332 - accuracy: 0.8630\n",
      "Epoch 65/100\n",
      "800/800 [==============================] - 2s 3ms/step - loss: 0.3334 - accuracy: 0.8645\n",
      "Epoch 66/100\n",
      "800/800 [==============================] - 2s 3ms/step - loss: 0.3321 - accuracy: 0.8671\n",
      "Epoch 67/100\n",
      "800/800 [==============================] - 2s 3ms/step - loss: 0.3327 - accuracy: 0.8639\n",
      "Epoch 68/100\n",
      "800/800 [==============================] - 2s 3ms/step - loss: 0.3328 - accuracy: 0.8655\n",
      "Epoch 69/100\n",
      "800/800 [==============================] - 2s 3ms/step - loss: 0.3331 - accuracy: 0.8665\n",
      "Epoch 70/100\n",
      "800/800 [==============================] - 2s 3ms/step - loss: 0.3328 - accuracy: 0.8648\n",
      "Epoch 71/100\n",
      "800/800 [==============================] - 2s 3ms/step - loss: 0.3325 - accuracy: 0.8643\n",
      "Epoch 72/100\n",
      "800/800 [==============================] - 2s 3ms/step - loss: 0.3324 - accuracy: 0.8651\n",
      "Epoch 73/100\n",
      "800/800 [==============================] - 2s 3ms/step - loss: 0.3323 - accuracy: 0.8637\n",
      "Epoch 74/100\n",
      "800/800 [==============================] - 2s 3ms/step - loss: 0.3328 - accuracy: 0.8660\n",
      "Epoch 75/100\n",
      "800/800 [==============================] - 2s 3ms/step - loss: 0.3324 - accuracy: 0.8646\n",
      "Epoch 76/100\n",
      "800/800 [==============================] - 2s 3ms/step - loss: 0.3326 - accuracy: 0.8646\n",
      "Epoch 77/100\n",
      "800/800 [==============================] - 2s 3ms/step - loss: 0.3326 - accuracy: 0.8636\n",
      "Epoch 78/100\n",
      "800/800 [==============================] - 2s 3ms/step - loss: 0.3324 - accuracy: 0.8641\n",
      "Epoch 79/100\n",
      "800/800 [==============================] - 2s 3ms/step - loss: 0.3325 - accuracy: 0.8641\n",
      "Epoch 80/100\n",
      "800/800 [==============================] - 2s 3ms/step - loss: 0.3324 - accuracy: 0.8652\n",
      "Epoch 81/100\n",
      "800/800 [==============================] - 2s 3ms/step - loss: 0.3324 - accuracy: 0.8650\n",
      "Epoch 82/100\n",
      "800/800 [==============================] - 2s 3ms/step - loss: 0.3327 - accuracy: 0.8652\n",
      "Epoch 83/100\n",
      "800/800 [==============================] - 2s 3ms/step - loss: 0.3325 - accuracy: 0.8665\n",
      "Epoch 84/100\n",
      "800/800 [==============================] - 2s 3ms/step - loss: 0.3320 - accuracy: 0.8652\n",
      "Epoch 85/100\n",
      "800/800 [==============================] - 2s 3ms/step - loss: 0.3324 - accuracy: 0.8654\n",
      "Epoch 86/100\n",
      "800/800 [==============================] - 2s 3ms/step - loss: 0.3321 - accuracy: 0.8661\n",
      "Epoch 87/100\n",
      "800/800 [==============================] - 2s 3ms/step - loss: 0.3315 - accuracy: 0.8659\n",
      "Epoch 88/100\n",
      "800/800 [==============================] - 2s 3ms/step - loss: 0.3320 - accuracy: 0.8643\n",
      "Epoch 89/100\n",
      "800/800 [==============================] - 2s 3ms/step - loss: 0.3319 - accuracy: 0.8641\n",
      "Epoch 90/100\n",
      "800/800 [==============================] - 2s 3ms/step - loss: 0.3326 - accuracy: 0.8644\n",
      "Epoch 91/100\n",
      "800/800 [==============================] - 2s 3ms/step - loss: 0.3325 - accuracy: 0.8640\n",
      "Epoch 92/100\n",
      "800/800 [==============================] - 2s 3ms/step - loss: 0.3319 - accuracy: 0.8649\n",
      "Epoch 93/100\n",
      "800/800 [==============================] - 2s 3ms/step - loss: 0.3324 - accuracy: 0.8655\n",
      "Epoch 94/100\n",
      "800/800 [==============================] - 2s 3ms/step - loss: 0.3323 - accuracy: 0.8643\n",
      "Epoch 95/100\n",
      "800/800 [==============================] - 2s 3ms/step - loss: 0.3323 - accuracy: 0.8658\n",
      "Epoch 96/100\n",
      "800/800 [==============================] - 2s 3ms/step - loss: 0.3325 - accuracy: 0.8648\n",
      "Epoch 97/100\n",
      "800/800 [==============================] - 2s 3ms/step - loss: 0.3320 - accuracy: 0.8669\n",
      "Epoch 98/100\n",
      "800/800 [==============================] - 2s 3ms/step - loss: 0.3323 - accuracy: 0.8654\n",
      "Epoch 99/100\n",
      "800/800 [==============================] - 2s 3ms/step - loss: 0.3319 - accuracy: 0.8658\n",
      "Epoch 100/100\n",
      "800/800 [==============================] - 2s 3ms/step - loss: 0.3321 - accuracy: 0.8662\n"
     ]
    },
    {
     "data": {
      "text/plain": [
       "<keras.callbacks.History at 0x7f24425fba60>"
      ]
     },
     "execution_count": 28,
     "metadata": {},
     "output_type": "execute_result"
    }
   ],
   "source": [
    "clasificador.fit(x_train,y_train,batch_size=10,epochs=100)"
   ]
  },
  {
   "cell_type": "markdown",
   "id": "32cf2ffb-f41a-4361-b5f7-f9158a132109",
   "metadata": {},
   "source": [
    "## Predicciones"
   ]
  },
  {
   "cell_type": "code",
   "execution_count": 29,
   "id": "e570c682-6b03-4cde-b040-3b63414e8ed6",
   "metadata": {
    "tags": []
   },
   "outputs": [
    {
     "name": "stdout",
     "output_type": "stream",
     "text": [
      "63/63 [==============================] - 0s 2ms/step\n"
     ]
    }
   ],
   "source": [
    "y_predice = clasificador.predict(x_test)\n",
    "y_predBooleano = (y_predice>0.5)"
   ]
  },
  {
   "cell_type": "markdown",
   "id": "0ba44bbe-4122-4f4c-bbb8-e0689ee96afc",
   "metadata": {},
   "source": [
    "### Matriz de confusión"
   ]
  },
  {
   "cell_type": "code",
   "execution_count": 34,
   "id": "5ae1afd4-d483-41c0-bcc2-b1ac7ee19df9",
   "metadata": {
    "tags": []
   },
   "outputs": [
    {
     "data": {
      "text/plain": [
       "array([[1547,   60],\n",
       "       [ 222,  171]])"
      ]
     },
     "execution_count": 34,
     "metadata": {},
     "output_type": "execute_result"
    }
   ],
   "source": [
    "cm = confusion_matrix(y_test,y_predBooleano)\n",
    "cm"
   ]
  },
  {
   "cell_type": "markdown",
   "id": "3b162bc6-5632-45c2-9a7d-15ea5b463c09",
   "metadata": {},
   "source": [
    "# Problema 3"
   ]
  },
  {
   "cell_type": "markdown",
   "id": "f0f76d45-f725-4ac9-9ac4-958c4d9fb38a",
   "metadata": {},
   "source": [
    "## Modulos"
   ]
  },
  {
   "cell_type": "code",
   "execution_count": 45,
   "id": "a7cfe027-5ca5-4996-ab25-60bd3b8041b7",
   "metadata": {
    "tags": []
   },
   "outputs": [],
   "source": [
    "import pandas\n",
    "\n",
    "from sklearn.preprocessing import StandardScaler\n",
    "from sklearn.model_selection import train_test_split\n",
    "from sklearn.ensemble import RandomForestClassifier"
   ]
  },
  {
   "cell_type": "markdown",
   "id": "8b852acf-c8b5-47e1-8adb-30f30c1e878e",
   "metadata": {},
   "source": [
    "## Datos"
   ]
  },
  {
   "cell_type": "code",
   "execution_count": 36,
   "id": "f3fc087c-37a8-4fbe-a030-1ffda168531d",
   "metadata": {
    "tags": []
   },
   "outputs": [],
   "source": [
    "data3= pd.read_csv(\"Conjunto de Datos 3.csv\")"
   ]
  },
  {
   "cell_type": "code",
   "execution_count": 37,
   "id": "88e28e38-f76f-4d4e-9f3b-a0e24d943b0b",
   "metadata": {
    "tags": []
   },
   "outputs": [
    {
     "data": {
      "text/html": [
       "<div>\n",
       "<style scoped>\n",
       "    .dataframe tbody tr th:only-of-type {\n",
       "        vertical-align: middle;\n",
       "    }\n",
       "\n",
       "    .dataframe tbody tr th {\n",
       "        vertical-align: top;\n",
       "    }\n",
       "\n",
       "    .dataframe thead th {\n",
       "        text-align: right;\n",
       "    }\n",
       "</style>\n",
       "<table border=\"1\" class=\"dataframe\">\n",
       "  <thead>\n",
       "    <tr style=\"text-align: right;\">\n",
       "      <th></th>\n",
       "      <th>Open Port</th>\n",
       "      <th>PU</th>\n",
       "      <th>MU</th>\n",
       "      <th>Traffic</th>\n",
       "      <th>D</th>\n",
       "    </tr>\n",
       "  </thead>\n",
       "  <tbody>\n",
       "    <tr>\n",
       "      <th>0</th>\n",
       "      <td>11</td>\n",
       "      <td>81</td>\n",
       "      <td>51</td>\n",
       "      <td>115</td>\n",
       "      <td>2</td>\n",
       "    </tr>\n",
       "    <tr>\n",
       "      <th>1</th>\n",
       "      <td>3</td>\n",
       "      <td>84</td>\n",
       "      <td>83</td>\n",
       "      <td>189</td>\n",
       "      <td>0</td>\n",
       "    </tr>\n",
       "    <tr>\n",
       "      <th>2</th>\n",
       "      <td>3</td>\n",
       "      <td>91</td>\n",
       "      <td>95</td>\n",
       "      <td>80</td>\n",
       "      <td>0</td>\n",
       "    </tr>\n",
       "    <tr>\n",
       "      <th>3</th>\n",
       "      <td>6</td>\n",
       "      <td>91</td>\n",
       "      <td>55</td>\n",
       "      <td>75</td>\n",
       "      <td>0</td>\n",
       "    </tr>\n",
       "    <tr>\n",
       "      <th>4</th>\n",
       "      <td>5</td>\n",
       "      <td>90</td>\n",
       "      <td>84</td>\n",
       "      <td>171</td>\n",
       "      <td>0</td>\n",
       "    </tr>\n",
       "  </tbody>\n",
       "</table>\n",
       "</div>"
      ],
      "text/plain": [
       "   Open Port  PU  MU  Traffic  D\n",
       "0         11  81  51      115  2\n",
       "1          3  84  83      189  0\n",
       "2          3  91  95       80  0\n",
       "3          6  91  55       75  0\n",
       "4          5  90  84      171  0"
      ]
     },
     "execution_count": 37,
     "metadata": {},
     "output_type": "execute_result"
    }
   ],
   "source": [
    "data3.head()"
   ]
  },
  {
   "cell_type": "code",
   "execution_count": 38,
   "id": "77554962-f18b-49eb-9696-fe25a68f6469",
   "metadata": {
    "tags": []
   },
   "outputs": [],
   "source": [
    "X= data3.iloc[:,:-1].values\n",
    "y= data3.iloc[:,-1].values"
   ]
  },
  {
   "cell_type": "markdown",
   "id": "ad2f600a-7f4f-476a-b463-d892ccbe9b47",
   "metadata": {},
   "source": [
    "## Preporcesamiento"
   ]
  },
  {
   "cell_type": "markdown",
   "id": "90d3d0dd-44da-4daa-8524-b7970ad465c8",
   "metadata": {},
   "source": [
    "### Dividir datos"
   ]
  },
  {
   "cell_type": "code",
   "execution_count": 42,
   "id": "131f9f9f-d9d1-43b4-b65a-00c88ae3ed73",
   "metadata": {
    "tags": []
   },
   "outputs": [],
   "source": [
    "x_train,x_test,y_train,y_test= train_test_split(X,y, test_size=.20, random_state=42)"
   ]
  },
  {
   "cell_type": "markdown",
   "id": "d86eca98-1077-453c-babb-674aeb3ac9cb",
   "metadata": {},
   "source": [
    "### Escalar datos"
   ]
  },
  {
   "cell_type": "code",
   "execution_count": 43,
   "id": "10ffb188-9ca8-4a43-809d-3c48cc5444b6",
   "metadata": {
    "tags": []
   },
   "outputs": [],
   "source": [
    "sx= StandardScaler()\n",
    "x_train = sx.fit_transform(x_train)\n",
    "x_test = sx.fit_transform(x_test)"
   ]
  },
  {
   "cell_type": "markdown",
   "id": "68d2de3c-10f8-4eac-86e0-56d0298d943a",
   "metadata": {},
   "source": [
    "## Random Forest"
   ]
  },
  {
   "cell_type": "code",
   "execution_count": 46,
   "id": "7220688b-5624-4db2-a8ab-94173b17d0f5",
   "metadata": {
    "tags": []
   },
   "outputs": [],
   "source": [
    "clf = RandomForestClassifier(n_estimators=100, random_state=0)"
   ]
  },
  {
   "cell_type": "code",
   "execution_count": 48,
   "id": "9986b743-4d8b-4374-a470-9b4719600432",
   "metadata": {
    "tags": []
   },
   "outputs": [
    {
     "data": {
      "text/html": [
       "<style>#sk-container-id-1 {color: black;background-color: white;}#sk-container-id-1 pre{padding: 0;}#sk-container-id-1 div.sk-toggleable {background-color: white;}#sk-container-id-1 label.sk-toggleable__label {cursor: pointer;display: block;width: 100%;margin-bottom: 0;padding: 0.3em;box-sizing: border-box;text-align: center;}#sk-container-id-1 label.sk-toggleable__label-arrow:before {content: \"▸\";float: left;margin-right: 0.25em;color: #696969;}#sk-container-id-1 label.sk-toggleable__label-arrow:hover:before {color: black;}#sk-container-id-1 div.sk-estimator:hover label.sk-toggleable__label-arrow:before {color: black;}#sk-container-id-1 div.sk-toggleable__content {max-height: 0;max-width: 0;overflow: hidden;text-align: left;background-color: #f0f8ff;}#sk-container-id-1 div.sk-toggleable__content pre {margin: 0.2em;color: black;border-radius: 0.25em;background-color: #f0f8ff;}#sk-container-id-1 input.sk-toggleable__control:checked~div.sk-toggleable__content {max-height: 200px;max-width: 100%;overflow: auto;}#sk-container-id-1 input.sk-toggleable__control:checked~label.sk-toggleable__label-arrow:before {content: \"▾\";}#sk-container-id-1 div.sk-estimator input.sk-toggleable__control:checked~label.sk-toggleable__label {background-color: #d4ebff;}#sk-container-id-1 div.sk-label input.sk-toggleable__control:checked~label.sk-toggleable__label {background-color: #d4ebff;}#sk-container-id-1 input.sk-hidden--visually {border: 0;clip: rect(1px 1px 1px 1px);clip: rect(1px, 1px, 1px, 1px);height: 1px;margin: -1px;overflow: hidden;padding: 0;position: absolute;width: 1px;}#sk-container-id-1 div.sk-estimator {font-family: monospace;background-color: #f0f8ff;border: 1px dotted black;border-radius: 0.25em;box-sizing: border-box;margin-bottom: 0.5em;}#sk-container-id-1 div.sk-estimator:hover {background-color: #d4ebff;}#sk-container-id-1 div.sk-parallel-item::after {content: \"\";width: 100%;border-bottom: 1px solid gray;flex-grow: 1;}#sk-container-id-1 div.sk-label:hover label.sk-toggleable__label {background-color: #d4ebff;}#sk-container-id-1 div.sk-serial::before {content: \"\";position: absolute;border-left: 1px solid gray;box-sizing: border-box;top: 0;bottom: 0;left: 50%;z-index: 0;}#sk-container-id-1 div.sk-serial {display: flex;flex-direction: column;align-items: center;background-color: white;padding-right: 0.2em;padding-left: 0.2em;position: relative;}#sk-container-id-1 div.sk-item {position: relative;z-index: 1;}#sk-container-id-1 div.sk-parallel {display: flex;align-items: stretch;justify-content: center;background-color: white;position: relative;}#sk-container-id-1 div.sk-item::before, #sk-container-id-1 div.sk-parallel-item::before {content: \"\";position: absolute;border-left: 1px solid gray;box-sizing: border-box;top: 0;bottom: 0;left: 50%;z-index: -1;}#sk-container-id-1 div.sk-parallel-item {display: flex;flex-direction: column;z-index: 1;position: relative;background-color: white;}#sk-container-id-1 div.sk-parallel-item:first-child::after {align-self: flex-end;width: 50%;}#sk-container-id-1 div.sk-parallel-item:last-child::after {align-self: flex-start;width: 50%;}#sk-container-id-1 div.sk-parallel-item:only-child::after {width: 0;}#sk-container-id-1 div.sk-dashed-wrapped {border: 1px dashed gray;margin: 0 0.4em 0.5em 0.4em;box-sizing: border-box;padding-bottom: 0.4em;background-color: white;}#sk-container-id-1 div.sk-label label {font-family: monospace;font-weight: bold;display: inline-block;line-height: 1.2em;}#sk-container-id-1 div.sk-label-container {text-align: center;}#sk-container-id-1 div.sk-container {/* jupyter's `normalize.less` sets `[hidden] { display: none; }` but bootstrap.min.css set `[hidden] { display: none !important; }` so we also need the `!important` here to be able to override the default hidden behavior on the sphinx rendered scikit-learn.org. See: https://github.com/scikit-learn/scikit-learn/issues/21755 */display: inline-block !important;position: relative;}#sk-container-id-1 div.sk-text-repr-fallback {display: none;}</style><div id=\"sk-container-id-1\" class=\"sk-top-container\"><div class=\"sk-text-repr-fallback\"><pre>RandomForestClassifier(random_state=0)</pre><b>In a Jupyter environment, please rerun this cell to show the HTML representation or trust the notebook. <br />On GitHub, the HTML representation is unable to render, please try loading this page with nbviewer.org.</b></div><div class=\"sk-container\" hidden><div class=\"sk-item\"><div class=\"sk-estimator sk-toggleable\"><input class=\"sk-toggleable__control sk-hidden--visually\" id=\"sk-estimator-id-1\" type=\"checkbox\" checked><label for=\"sk-estimator-id-1\" class=\"sk-toggleable__label sk-toggleable__label-arrow\">RandomForestClassifier</label><div class=\"sk-toggleable__content\"><pre>RandomForestClassifier(random_state=0)</pre></div></div></div></div></div>"
      ],
      "text/plain": [
       "RandomForestClassifier(random_state=0)"
      ]
     },
     "execution_count": 48,
     "metadata": {},
     "output_type": "execute_result"
    }
   ],
   "source": [
    "clf.fit(x_train, y_train)"
   ]
  },
  {
   "cell_type": "markdown",
   "id": "2e86eb9a-9403-4edc-b7ab-57b344b0e9b9",
   "metadata": {},
   "source": [
    "### Predicciones"
   ]
  },
  {
   "cell_type": "code",
   "execution_count": 50,
   "id": "9c51a93a-7aeb-4087-a4f7-9d660a9b4711",
   "metadata": {
    "tags": []
   },
   "outputs": [],
   "source": [
    "y_pred = clf.predict(x_test)"
   ]
  },
  {
   "cell_type": "code",
   "execution_count": 52,
   "id": "c23947e3-5a3b-4cc4-8f4a-ad4faffa73aa",
   "metadata": {
    "tags": []
   },
   "outputs": [
    {
     "name": "stdout",
     "output_type": "stream",
     "text": [
      "Precisión: 0.985\n"
     ]
    }
   ],
   "source": [
    "accuracy = clf.score(x_test, y_test)\n",
    "print(\"Precisión:\", accuracy)"
   ]
  },
  {
   "cell_type": "code",
   "execution_count": 54,
   "id": "c3186248-2799-407b-ab5e-33fc766b4c3e",
   "metadata": {
    "tags": []
   },
   "outputs": [
    {
     "data": {
      "text/plain": [
       "array([[115,   0,   0],\n",
       "       [  3,   8,   0],\n",
       "       [  0,   0,  74]])"
      ]
     },
     "execution_count": 54,
     "metadata": {},
     "output_type": "execute_result"
    }
   ],
   "source": [
    "cm = confusion_matrix(y_test,y_pred)\n",
    "cm"
   ]
  }
 ],
 "metadata": {
  "kernelspec": {
   "display_name": "pylab",
   "language": "python",
   "name": "pylab"
  },
  "language_info": {
   "codemirror_mode": {
    "name": "ipython",
    "version": 3
   },
   "file_extension": ".py",
   "mimetype": "text/x-python",
   "name": "python",
   "nbconvert_exporter": "python",
   "pygments_lexer": "ipython3",
   "version": "3.10.6"
  }
 },
 "nbformat": 4,
 "nbformat_minor": 5
}
