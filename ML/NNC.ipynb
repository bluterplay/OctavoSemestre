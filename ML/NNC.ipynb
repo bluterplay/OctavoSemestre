{
 "cells": [
  {
   "cell_type": "markdown",
   "id": "402ceeb7-7938-4402-b2e4-8fdf6c37591c",
   "metadata": {},
   "source": [
    "## Modules"
   ]
  },
  {
   "cell_type": "code",
   "execution_count": 12,
   "id": "89f4f4e2-d878-4ee9-83b2-27c4e8c019db",
   "metadata": {},
   "outputs": [],
   "source": [
    "import pandas as pd\n",
    "import numpy as np\n",
    "import matplotlib.pyplot as plt\n",
    "\n",
    "from sklearn.preprocessing import LabelEncoder, OneHotEncoder, StandardScaler\n",
    "from sklearn.model_selection import train_test_split\n",
    "from sklearn.compose import ColumnTransformer\n",
    "\n",
    "from keras.models import Sequential\n",
    "from keras.layers import Dense\n",
    "\n",
    "from sklearn.metrics import confusion_matrix"
   ]
  },
  {
   "cell_type": "markdown",
   "id": "d08cbf3f-e34e-4445-9683-1a4643b642b7",
   "metadata": {},
   "source": [
    "## Load data"
   ]
  },
  {
   "cell_type": "code",
   "execution_count": 2,
   "id": "36762424-a3a0-4044-a7b4-01cc9068816c",
   "metadata": {},
   "outputs": [],
   "source": [
    "data= pd.read_csv(\"Churn_Modelling.csv\")"
   ]
  },
  {
   "cell_type": "code",
   "execution_count": 3,
   "id": "b4b00fc3-75f3-43ad-91e8-b868508ac6d9",
   "metadata": {},
   "outputs": [],
   "source": [
    "X= data.iloc[:,3:13].values\n",
    "y= data.iloc[:,13].values"
   ]
  },
  {
   "cell_type": "markdown",
   "id": "73338f01-a798-47ac-90dc-b5ffa932a3fe",
   "metadata": {},
   "source": [
    "## Preprocessing"
   ]
  },
  {
   "cell_type": "markdown",
   "id": "57f99017-1f1a-49a3-83ce-9a761fc6df65",
   "metadata": {},
   "source": [
    "### OHE"
   ]
  },
  {
   "cell_type": "code",
   "execution_count": 4,
   "id": "6e73c702-3864-48be-8701-fa045f0c2fd2",
   "metadata": {},
   "outputs": [],
   "source": [
    "ls= ColumnTransformer([('Geography', OneHotEncoder(categories='auto'), [1])], remainder=\"passthrough\")\n",
    "X= ls.fit_transform(X)\n",
    "X= X[:,1:]"
   ]
  },
  {
   "cell_type": "code",
   "execution_count": 5,
   "id": "5d4d9812-497b-4165-a986-e149dd29e8ee",
   "metadata": {},
   "outputs": [],
   "source": [
    "ls= ColumnTransformer([('Gender', OneHotEncoder(categories='auto'), [3])], remainder=\"passthrough\")\n",
    "X= ls.fit_transform(X)\n",
    "X= X[:,1:]"
   ]
  },
  {
   "cell_type": "markdown",
   "id": "f82303e6-a1a3-40fa-a899-ad3056256aad",
   "metadata": {
    "tags": []
   },
   "source": [
    "### Train test split"
   ]
  },
  {
   "cell_type": "code",
   "execution_count": 6,
   "id": "a19a441b-7c12-4df2-8624-0389d255f2a3",
   "metadata": {},
   "outputs": [],
   "source": [
    "x_train,x_test,y_train,y_test= train_test_split(X,y, test_size=.20, random_state=0)"
   ]
  },
  {
   "cell_type": "markdown",
   "id": "a00ee672-4fc8-4cde-99be-b44f2dd93fbc",
   "metadata": {},
   "source": [
    "### Scaler"
   ]
  },
  {
   "cell_type": "code",
   "execution_count": 7,
   "id": "87fbb4c0-2d6c-4d25-a5c1-da88937bd684",
   "metadata": {},
   "outputs": [],
   "source": [
    "sx= StandardScaler()\n",
    "x_train = sx.fit_transform(x_train)\n",
    "x_test = sx.fit_transform(x_test)"
   ]
  },
  {
   "cell_type": "markdown",
   "id": "9c013049-797f-4081-9b9e-922156fcb98f",
   "metadata": {},
   "source": [
    "## Define model"
   ]
  },
  {
   "cell_type": "code",
   "execution_count": 8,
   "id": "45509bea-2958-4489-8c43-301560430e20",
   "metadata": {},
   "outputs": [
    {
     "name": "stderr",
     "output_type": "stream",
     "text": [
      "2023-04-25 08:17:36.111647: W tensorflow/compiler/xla/stream_executor/platform/default/dso_loader.cc:64] Could not load dynamic library 'libcuda.so.1'; dlerror: libcuda.so.1: cannot open shared object file: No such file or directory\n",
      "2023-04-25 08:17:36.120879: W tensorflow/compiler/xla/stream_executor/cuda/cuda_driver.cc:265] failed call to cuInit: UNKNOWN ERROR (303)\n",
      "2023-04-25 08:17:36.120936: I tensorflow/compiler/xla/stream_executor/cuda/cuda_diagnostics.cc:156] kernel driver does not appear to be running on this host (bluterplay-HP): /proc/driver/nvidia/version does not exist\n",
      "2023-04-25 08:17:36.149570: I tensorflow/core/platform/cpu_feature_guard.cc:193] This TensorFlow binary is optimized with oneAPI Deep Neural Network Library (oneDNN) to use the following CPU instructions in performance-critical operations:  AVX2 FMA\n",
      "To enable them in other operations, rebuild TensorFlow with the appropriate compiler flags.\n"
     ]
    }
   ],
   "source": [
    "clasificador = Sequential()\n",
    "clasificador.compile(optimizer='adam',loss='binary_crossentropy',metrics=['accuracy'])"
   ]
  },
  {
   "cell_type": "code",
   "execution_count": 9,
   "id": "6a58df36-22f2-4f7c-be28-021ae4e04cae",
   "metadata": {
    "tags": []
   },
   "outputs": [],
   "source": [
    "clasificador.add(Dense(units=6,kernel_initializer='uniform',activation='relu',input_dim=11))\n",
    "clasificador.add(Dense(units=6,kernel_initializer='uniform',activation='relu'))\n",
    "clasificador.add(Dense(units=1,kernel_initializer='uniform',activation='sigmoid'))"
   ]
  },
  {
   "cell_type": "markdown",
   "id": "d4554d5f-14d1-436b-ad18-6c1f893c9c72",
   "metadata": {},
   "source": [
    "### Train model"
   ]
  },
  {
   "cell_type": "code",
   "execution_count": 10,
   "id": "cf74ca2e-7855-48e9-b780-eed9726c9022",
   "metadata": {
    "scrolled": true,
    "tags": []
   },
   "outputs": [
    {
     "name": "stdout",
     "output_type": "stream",
     "text": [
      "Epoch 1/100\n",
      "800/800 [==============================] - 4s 3ms/step - loss: 0.4816 - accuracy: 0.7956\n",
      "Epoch 2/100\n",
      "800/800 [==============================] - 2s 3ms/step - loss: 0.4275 - accuracy: 0.7960\n",
      "Epoch 3/100\n",
      "800/800 [==============================] - 2s 3ms/step - loss: 0.4212 - accuracy: 0.8130\n",
      "Epoch 4/100\n",
      "800/800 [==============================] - 2s 3ms/step - loss: 0.4153 - accuracy: 0.8294\n",
      "Epoch 5/100\n",
      "800/800 [==============================] - 2s 3ms/step - loss: 0.4108 - accuracy: 0.8320\n",
      "Epoch 6/100\n",
      "800/800 [==============================] - 2s 3ms/step - loss: 0.4076 - accuracy: 0.8332\n",
      "Epoch 7/100\n",
      "800/800 [==============================] - 2s 3ms/step - loss: 0.4053 - accuracy: 0.8340\n",
      "Epoch 8/100\n",
      "800/800 [==============================] - 2s 3ms/step - loss: 0.4035 - accuracy: 0.8335\n",
      "Epoch 9/100\n",
      "800/800 [==============================] - 2s 3ms/step - loss: 0.4023 - accuracy: 0.8340\n",
      "Epoch 10/100\n",
      "800/800 [==============================] - 2s 3ms/step - loss: 0.4013 - accuracy: 0.8340\n",
      "Epoch 11/100\n",
      "800/800 [==============================] - 2s 3ms/step - loss: 0.4003 - accuracy: 0.8356\n",
      "Epoch 12/100\n",
      "800/800 [==============================] - 2s 3ms/step - loss: 0.3996 - accuracy: 0.8340\n",
      "Epoch 13/100\n",
      "800/800 [==============================] - 2s 3ms/step - loss: 0.3991 - accuracy: 0.8339\n",
      "Epoch 14/100\n",
      "800/800 [==============================] - 2s 3ms/step - loss: 0.3984 - accuracy: 0.8360\n",
      "Epoch 15/100\n",
      "800/800 [==============================] - 2s 3ms/step - loss: 0.3984 - accuracy: 0.8364\n",
      "Epoch 16/100\n",
      "800/800 [==============================] - 2s 3ms/step - loss: 0.3979 - accuracy: 0.8335\n",
      "Epoch 17/100\n",
      "800/800 [==============================] - 2s 3ms/step - loss: 0.3979 - accuracy: 0.8325\n",
      "Epoch 18/100\n",
      "800/800 [==============================] - 2s 3ms/step - loss: 0.3976 - accuracy: 0.8341\n",
      "Epoch 19/100\n",
      "800/800 [==============================] - 2s 3ms/step - loss: 0.3973 - accuracy: 0.8349\n",
      "Epoch 20/100\n",
      "800/800 [==============================] - 2s 3ms/step - loss: 0.3969 - accuracy: 0.8347\n",
      "Epoch 21/100\n",
      "800/800 [==============================] - 2s 3ms/step - loss: 0.3967 - accuracy: 0.8322\n",
      "Epoch 22/100\n",
      "800/800 [==============================] - 2s 3ms/step - loss: 0.3965 - accuracy: 0.8350\n",
      "Epoch 23/100\n",
      "800/800 [==============================] - 2s 3ms/step - loss: 0.3963 - accuracy: 0.8332\n",
      "Epoch 24/100\n",
      "800/800 [==============================] - 2s 3ms/step - loss: 0.3964 - accuracy: 0.8355\n",
      "Epoch 25/100\n",
      "800/800 [==============================] - 2s 3ms/step - loss: 0.3957 - accuracy: 0.8340\n",
      "Epoch 26/100\n",
      "800/800 [==============================] - 2s 3ms/step - loss: 0.3959 - accuracy: 0.8342\n",
      "Epoch 27/100\n",
      "800/800 [==============================] - 2s 3ms/step - loss: 0.3954 - accuracy: 0.8338\n",
      "Epoch 28/100\n",
      "800/800 [==============================] - 2s 3ms/step - loss: 0.3945 - accuracy: 0.8354\n",
      "Epoch 29/100\n",
      "800/800 [==============================] - 2s 3ms/step - loss: 0.3948 - accuracy: 0.8335\n",
      "Epoch 30/100\n",
      "800/800 [==============================] - 2s 3ms/step - loss: 0.3943 - accuracy: 0.8372\n",
      "Epoch 31/100\n",
      "800/800 [==============================] - 2s 3ms/step - loss: 0.3938 - accuracy: 0.8376\n",
      "Epoch 32/100\n",
      "800/800 [==============================] - 2s 3ms/step - loss: 0.3931 - accuracy: 0.8380\n",
      "Epoch 33/100\n",
      "800/800 [==============================] - 2s 3ms/step - loss: 0.3920 - accuracy: 0.8366\n",
      "Epoch 34/100\n",
      "800/800 [==============================] - 2s 3ms/step - loss: 0.3906 - accuracy: 0.8371\n",
      "Epoch 35/100\n",
      "800/800 [==============================] - 2s 3ms/step - loss: 0.3885 - accuracy: 0.8386\n",
      "Epoch 36/100\n",
      "800/800 [==============================] - 2s 3ms/step - loss: 0.3850 - accuracy: 0.8395\n",
      "Epoch 37/100\n",
      "800/800 [==============================] - 2s 3ms/step - loss: 0.3832 - accuracy: 0.8410\n",
      "Epoch 38/100\n",
      "800/800 [==============================] - 2s 3ms/step - loss: 0.3806 - accuracy: 0.8386\n",
      "Epoch 39/100\n",
      "800/800 [==============================] - 2s 3ms/step - loss: 0.3785 - accuracy: 0.8378\n",
      "Epoch 40/100\n",
      "800/800 [==============================] - 2s 3ms/step - loss: 0.3753 - accuracy: 0.8378\n",
      "Epoch 41/100\n",
      "800/800 [==============================] - 2s 3ms/step - loss: 0.3740 - accuracy: 0.8380\n",
      "Epoch 42/100\n",
      "800/800 [==============================] - 2s 3ms/step - loss: 0.3721 - accuracy: 0.8399\n",
      "Epoch 43/100\n",
      "800/800 [==============================] - 2s 3ms/step - loss: 0.3703 - accuracy: 0.8405\n",
      "Epoch 44/100\n",
      "800/800 [==============================] - 2s 3ms/step - loss: 0.3677 - accuracy: 0.8425\n",
      "Epoch 45/100\n",
      "800/800 [==============================] - 2s 3ms/step - loss: 0.3657 - accuracy: 0.8461\n",
      "Epoch 46/100\n",
      "800/800 [==============================] - 2s 3ms/step - loss: 0.3633 - accuracy: 0.8482\n",
      "Epoch 47/100\n",
      "800/800 [==============================] - 2s 3ms/step - loss: 0.3610 - accuracy: 0.8497\n",
      "Epoch 48/100\n",
      "800/800 [==============================] - 2s 3ms/step - loss: 0.3600 - accuracy: 0.8520\n",
      "Epoch 49/100\n",
      "800/800 [==============================] - 2s 2ms/step - loss: 0.3571 - accuracy: 0.8559\n",
      "Epoch 50/100\n",
      "800/800 [==============================] - 2s 3ms/step - loss: 0.3564 - accuracy: 0.8564\n",
      "Epoch 51/100\n",
      "800/800 [==============================] - 2s 3ms/step - loss: 0.3545 - accuracy: 0.8572\n",
      "Epoch 52/100\n",
      "800/800 [==============================] - 2s 3ms/step - loss: 0.3545 - accuracy: 0.8606\n",
      "Epoch 53/100\n",
      "800/800 [==============================] - 2s 3ms/step - loss: 0.3535 - accuracy: 0.8569\n",
      "Epoch 54/100\n",
      "800/800 [==============================] - 2s 3ms/step - loss: 0.3523 - accuracy: 0.8594\n",
      "Epoch 55/100\n",
      "800/800 [==============================] - 2s 3ms/step - loss: 0.3514 - accuracy: 0.8600\n",
      "Epoch 56/100\n",
      "800/800 [==============================] - 2s 3ms/step - loss: 0.3522 - accuracy: 0.8562\n",
      "Epoch 57/100\n",
      "800/800 [==============================] - 2s 3ms/step - loss: 0.3503 - accuracy: 0.8590\n",
      "Epoch 58/100\n",
      "800/800 [==============================] - 2s 3ms/step - loss: 0.3502 - accuracy: 0.8604\n",
      "Epoch 59/100\n",
      "800/800 [==============================] - 2s 3ms/step - loss: 0.3491 - accuracy: 0.8597\n",
      "Epoch 60/100\n",
      "800/800 [==============================] - 2s 3ms/step - loss: 0.3493 - accuracy: 0.8587\n",
      "Epoch 61/100\n",
      "800/800 [==============================] - 2s 3ms/step - loss: 0.3490 - accuracy: 0.8590\n",
      "Epoch 62/100\n",
      "800/800 [==============================] - 2s 3ms/step - loss: 0.3482 - accuracy: 0.8583\n",
      "Epoch 63/100\n",
      "800/800 [==============================] - 2s 3ms/step - loss: 0.3484 - accuracy: 0.8604\n",
      "Epoch 64/100\n",
      "800/800 [==============================] - 2s 3ms/step - loss: 0.3475 - accuracy: 0.8594\n",
      "Epoch 65/100\n",
      "800/800 [==============================] - 2s 3ms/step - loss: 0.3477 - accuracy: 0.8615\n",
      "Epoch 66/100\n",
      "800/800 [==============================] - 2s 3ms/step - loss: 0.3474 - accuracy: 0.8621\n",
      "Epoch 67/100\n",
      "800/800 [==============================] - 2s 3ms/step - loss: 0.3477 - accuracy: 0.8610\n",
      "Epoch 68/100\n",
      "800/800 [==============================] - 2s 3ms/step - loss: 0.3467 - accuracy: 0.8614\n",
      "Epoch 69/100\n",
      "800/800 [==============================] - 2s 3ms/step - loss: 0.3471 - accuracy: 0.8605\n",
      "Epoch 70/100\n",
      "800/800 [==============================] - 2s 3ms/step - loss: 0.3465 - accuracy: 0.8601\n",
      "Epoch 71/100\n",
      "800/800 [==============================] - 2s 3ms/step - loss: 0.3460 - accuracy: 0.8612\n",
      "Epoch 72/100\n",
      "800/800 [==============================] - 2s 3ms/step - loss: 0.3461 - accuracy: 0.8608\n",
      "Epoch 73/100\n",
      "800/800 [==============================] - 2s 3ms/step - loss: 0.3456 - accuracy: 0.8599\n",
      "Epoch 74/100\n",
      "800/800 [==============================] - 2s 3ms/step - loss: 0.3452 - accuracy: 0.8621\n",
      "Epoch 75/100\n",
      "800/800 [==============================] - 2s 3ms/step - loss: 0.3451 - accuracy: 0.8609\n",
      "Epoch 76/100\n",
      "800/800 [==============================] - 2s 3ms/step - loss: 0.3461 - accuracy: 0.8606\n",
      "Epoch 77/100\n",
      "800/800 [==============================] - 2s 3ms/step - loss: 0.3462 - accuracy: 0.8615\n",
      "Epoch 78/100\n",
      "800/800 [==============================] - 2s 3ms/step - loss: 0.3450 - accuracy: 0.8599\n",
      "Epoch 79/100\n",
      "800/800 [==============================] - 2s 3ms/step - loss: 0.3457 - accuracy: 0.8596\n",
      "Epoch 80/100\n",
      "800/800 [==============================] - 2s 3ms/step - loss: 0.3456 - accuracy: 0.8608\n",
      "Epoch 81/100\n",
      "800/800 [==============================] - 2s 3ms/step - loss: 0.3444 - accuracy: 0.8633\n",
      "Epoch 82/100\n",
      "800/800 [==============================] - 2s 3ms/step - loss: 0.3452 - accuracy: 0.8591\n",
      "Epoch 83/100\n",
      "800/800 [==============================] - 2s 3ms/step - loss: 0.3450 - accuracy: 0.8605\n",
      "Epoch 84/100\n",
      "800/800 [==============================] - 2s 3ms/step - loss: 0.3444 - accuracy: 0.8612\n",
      "Epoch 85/100\n",
      "800/800 [==============================] - 2s 3ms/step - loss: 0.3431 - accuracy: 0.8615\n",
      "Epoch 86/100\n",
      "800/800 [==============================] - 2s 3ms/step - loss: 0.3447 - accuracy: 0.8616\n",
      "Epoch 87/100\n",
      "800/800 [==============================] - 2s 3ms/step - loss: 0.3446 - accuracy: 0.8635\n",
      "Epoch 88/100\n",
      "800/800 [==============================] - 2s 3ms/step - loss: 0.3438 - accuracy: 0.8589\n",
      "Epoch 89/100\n",
      "800/800 [==============================] - 2s 3ms/step - loss: 0.3443 - accuracy: 0.8601\n",
      "Epoch 90/100\n",
      "800/800 [==============================] - 2s 3ms/step - loss: 0.3440 - accuracy: 0.8621\n",
      "Epoch 91/100\n",
      "800/800 [==============================] - 2s 3ms/step - loss: 0.3444 - accuracy: 0.8606\n",
      "Epoch 92/100\n",
      "800/800 [==============================] - 2s 3ms/step - loss: 0.3438 - accuracy: 0.8634\n",
      "Epoch 93/100\n",
      "800/800 [==============================] - 2s 3ms/step - loss: 0.3435 - accuracy: 0.8591\n",
      "Epoch 94/100\n",
      "800/800 [==============================] - 2s 3ms/step - loss: 0.3437 - accuracy: 0.8601\n",
      "Epoch 95/100\n",
      "800/800 [==============================] - 2s 3ms/step - loss: 0.3432 - accuracy: 0.8606\n",
      "Epoch 96/100\n",
      "800/800 [==============================] - 2s 3ms/step - loss: 0.3435 - accuracy: 0.8616\n",
      "Epoch 97/100\n",
      "800/800 [==============================] - 2s 3ms/step - loss: 0.3435 - accuracy: 0.8609\n",
      "Epoch 98/100\n",
      "800/800 [==============================] - 2s 3ms/step - loss: 0.3439 - accuracy: 0.8618\n",
      "Epoch 99/100\n",
      "800/800 [==============================] - 2s 3ms/step - loss: 0.3436 - accuracy: 0.8637\n",
      "Epoch 100/100\n",
      "800/800 [==============================] - 2s 3ms/step - loss: 0.3438 - accuracy: 0.8615\n"
     ]
    },
    {
     "data": {
      "text/plain": [
       "<keras.callbacks.History at 0x7fc684591360>"
      ]
     },
     "execution_count": 10,
     "metadata": {},
     "output_type": "execute_result"
    }
   ],
   "source": [
    "clasificador.fit(x_train,y_train,batch_size=10,epochs=100)"
   ]
  },
  {
   "cell_type": "markdown",
   "id": "19eba92c-66d8-48c9-ba08-7ca2d9cff491",
   "metadata": {},
   "source": [
    "## Predictions"
   ]
  },
  {
   "cell_type": "code",
   "execution_count": 11,
   "id": "3db9842b-1de7-43ab-b0ff-288a0a5fb485",
   "metadata": {
    "tags": []
   },
   "outputs": [
    {
     "name": "stdout",
     "output_type": "stream",
     "text": [
      "63/63 [==============================] - 0s 2ms/step\n"
     ]
    }
   ],
   "source": [
    "y_predice = clasificador.predict(x_test)\n",
    "y_predBooleano = (y_predice>0.5)"
   ]
  },
  {
   "cell_type": "code",
   "execution_count": 13,
   "id": "3fc555f9-c829-47c3-9e75-6247560086ff",
   "metadata": {
    "tags": []
   },
   "outputs": [
    {
     "data": {
      "text/plain": [
       "array([[1530,   65],\n",
       "       [ 213,  192]])"
      ]
     },
     "execution_count": 13,
     "metadata": {},
     "output_type": "execute_result"
    }
   ],
   "source": [
    "cm = confusion_matrix(y_test,y_predBooleano)\n",
    "cm"
   ]
  },
  {
   "cell_type": "code",
   "execution_count": null,
   "id": "6e60c8d1-7bc0-4ade-85e4-20f9b2d789c1",
   "metadata": {},
   "outputs": [],
   "source": []
  }
 ],
 "metadata": {
  "kernelspec": {
   "display_name": "pylab",
   "language": "python",
   "name": "pylab"
  },
  "language_info": {
   "codemirror_mode": {
    "name": "ipython",
    "version": 3
   },
   "file_extension": ".py",
   "mimetype": "text/x-python",
   "name": "python",
   "nbconvert_exporter": "python",
   "pygments_lexer": "ipython3",
   "version": "3.10.6"
  }
 },
 "nbformat": 4,
 "nbformat_minor": 5
}
