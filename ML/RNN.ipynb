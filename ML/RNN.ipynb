{
 "cells": [
  {
   "cell_type": "markdown",
   "id": "8b27712a-e641-432f-864a-00aeb0f82534",
   "metadata": {},
   "source": [
    "## Modules"
   ]
  },
  {
   "cell_type": "code",
   "execution_count": 20,
   "id": "dede5286-04c1-472d-8d0a-0f7b577f6841",
   "metadata": {
    "tags": []
   },
   "outputs": [],
   "source": [
    "import pandas as pd\n",
    "import numpy as np\n",
    "import matplotlib.pyplot as plt\n",
    "\n",
    "from sklearn.preprocessing import MinMaxScaler\n",
    "\n",
    "from keras.models import Sequential\n",
    "from keras.layers import Dense,LSTM,Dropout\n",
    "\n",
    "\n",
    "import warnings\n",
    "warnings.filterwarnings('ignore')"
   ]
  },
  {
   "cell_type": "markdown",
   "id": "ed0ee5e7-df0c-4a4c-883d-66f9ff3637e8",
   "metadata": {},
   "source": [
    "## Load data"
   ]
  },
  {
   "cell_type": "code",
   "execution_count": 3,
   "id": "d9412115-97f6-4828-ba80-9ecee91f4eea",
   "metadata": {
    "tags": []
   },
   "outputs": [],
   "source": [
    "data= pd.read_csv(\"Google_Stock_Price_Train.csv\")\n",
    "test= pd.read_csv(\"Google_Stock_Price_Test.csv\")"
   ]
  },
  {
   "cell_type": "code",
   "execution_count": 30,
   "id": "d7ec5baf-81b0-438f-a8e8-d9fcd51aa125",
   "metadata": {
    "tags": []
   },
   "outputs": [],
   "source": [
    "training_set= data.iloc[:,1:2].values\n",
    "real_price= test.iloc[:,1:2]"
   ]
  },
  {
   "cell_type": "markdown",
   "id": "50a3413c-dd48-420a-907f-d24c8d26a06b",
   "metadata": {},
   "source": [
    "## Preprocessing"
   ]
  },
  {
   "cell_type": "markdown",
   "id": "a3ccf812-1068-493f-b02e-c18445d2f164",
   "metadata": {},
   "source": [
    "### Scaler"
   ]
  },
  {
   "cell_type": "code",
   "execution_count": 9,
   "id": "4c01e17d-9256-4ba1-bb06-81eb34aecd6c",
   "metadata": {
    "tags": []
   },
   "outputs": [],
   "source": [
    "sc= MinMaxScaler(feature_range=(0,1))\n",
    "training_set_scaled= sc.fit_transform(training_set)"
   ]
  },
  {
   "cell_type": "markdown",
   "id": "97678fa5-0dae-4680-9ba2-fd88d2f8ce6c",
   "metadata": {},
   "source": [
    "### Add lags"
   ]
  },
  {
   "cell_type": "code",
   "execution_count": 10,
   "id": "0a5ce2da-38fa-4321-a9ff-9ecc623dc343",
   "metadata": {
    "tags": []
   },
   "outputs": [],
   "source": [
    "x_train= []\n",
    "y_train=[]\n",
    "for i in range(60,1258):\n",
    "    x_train.append(training_set_scaled[i-60:i,0])\n",
    "    y_train.append(training_set_scaled[i,0])\n",
    "x_train,y_train= np.array(x_train), np.array(y_train)"
   ]
  },
  {
   "cell_type": "code",
   "execution_count": 13,
   "id": "f08f0648-e6e7-4ffe-a1fe-527df69d6b0b",
   "metadata": {
    "tags": []
   },
   "outputs": [],
   "source": [
    "x_train= np.reshape(x_train,(x_train.shape[0], x_train.shape[1],1))"
   ]
  },
  {
   "cell_type": "markdown",
   "id": "58a2aba5-2c92-4abf-90ce-861445eca260",
   "metadata": {},
   "source": [
    "## Model"
   ]
  },
  {
   "cell_type": "code",
   "execution_count": 21,
   "id": "28fdb6e8-4eb0-44dc-9db6-d02b7904a55f",
   "metadata": {
    "tags": []
   },
   "outputs": [],
   "source": [
    "regressor= Sequential()"
   ]
  },
  {
   "cell_type": "markdown",
   "id": "f25b2c82-83a9-4b27-a0c4-4dd53e56cec1",
   "metadata": {},
   "source": [
    "### Architecture"
   ]
  },
  {
   "cell_type": "markdown",
   "id": "e2c2e12d-e152-4655-bdd0-93f738b695ea",
   "metadata": {},
   "source": [
    "#### Add layers"
   ]
  },
  {
   "cell_type": "code",
   "execution_count": 23,
   "id": "0048ee6a-f2c7-44c2-9b03-4396a5463bf1",
   "metadata": {
    "tags": []
   },
   "outputs": [],
   "source": [
    "regressor.add(LSTM(units=50,return_sequences=True,input_shape= (x_train.shape[1],1)))\n",
    "regressor.add(Dropout(.2))"
   ]
  },
  {
   "cell_type": "code",
   "execution_count": 24,
   "id": "19417c4d-e373-432b-bbe1-7cbf551b5974",
   "metadata": {
    "tags": []
   },
   "outputs": [],
   "source": [
    "regressor.add(LSTM(units=50,return_sequences=True))\n",
    "regressor.add(Dropout(.2))"
   ]
  },
  {
   "cell_type": "code",
   "execution_count": 25,
   "id": "edf4aae4-d590-45cc-8fe5-dd7078e9eafb",
   "metadata": {
    "tags": []
   },
   "outputs": [],
   "source": [
    "regressor.add(LSTM(units=50,return_sequences=True))\n",
    "regressor.add(Dropout(.2))"
   ]
  },
  {
   "cell_type": "code",
   "execution_count": 26,
   "id": "3a33403a-99bd-49d0-abb2-e6f3a4a941ca",
   "metadata": {
    "tags": []
   },
   "outputs": [],
   "source": [
    "regressor.add(LSTM(units=50))\n",
    "regressor.add(Dropout(.2))"
   ]
  },
  {
   "cell_type": "code",
   "execution_count": 27,
   "id": "dac95891-5563-40b7-a1ed-45a03db5348e",
   "metadata": {
    "tags": []
   },
   "outputs": [],
   "source": [
    "regressor.add(Dense(units=1))"
   ]
  },
  {
   "cell_type": "markdown",
   "id": "a679e245-4721-4a40-8e8e-616d6f141ee4",
   "metadata": {},
   "source": [
    "#### Optimizier"
   ]
  },
  {
   "cell_type": "code",
   "execution_count": 28,
   "id": "9475d642-7ae5-46a3-a1c7-9af6ae20cbde",
   "metadata": {
    "tags": []
   },
   "outputs": [],
   "source": [
    "regressor.compile(optimizer='adam', loss=\"mean_squared_error\")"
   ]
  },
  {
   "cell_type": "markdown",
   "id": "494f08ef-a2e0-4384-9489-919d98796e1b",
   "metadata": {},
   "source": [
    "### Train"
   ]
  },
  {
   "cell_type": "code",
   "execution_count": 36,
   "id": "a2771bc8-63d6-43f5-9229-82185d0dcf77",
   "metadata": {
    "scrolled": true,
    "tags": []
   },
   "outputs": [
    {
     "name": "stdout",
     "output_type": "stream",
     "text": [
      "Epoch 1/100\n",
      "38/38 [==============================] - 4s 96ms/step - loss: 0.0022\n",
      "Epoch 2/100\n",
      "38/38 [==============================] - 4s 94ms/step - loss: 0.0024\n",
      "Epoch 3/100\n",
      "38/38 [==============================] - 4s 106ms/step - loss: 0.0023\n",
      "Epoch 4/100\n",
      "38/38 [==============================] - 4s 108ms/step - loss: 0.0024\n",
      "Epoch 5/100\n",
      "38/38 [==============================] - 4s 110ms/step - loss: 0.0023\n",
      "Epoch 6/100\n",
      "38/38 [==============================] - 4s 108ms/step - loss: 0.0022\n",
      "Epoch 7/100\n",
      "38/38 [==============================] - 4s 108ms/step - loss: 0.0022\n",
      "Epoch 8/100\n",
      "38/38 [==============================] - 4s 93ms/step - loss: 0.0021\n",
      "Epoch 9/100\n",
      "38/38 [==============================] - 3s 91ms/step - loss: 0.0020\n",
      "Epoch 10/100\n",
      "38/38 [==============================] - 4s 94ms/step - loss: 0.0022\n",
      "Epoch 11/100\n",
      "38/38 [==============================] - 4s 98ms/step - loss: 0.0021\n",
      "Epoch 12/100\n",
      "38/38 [==============================] - 4s 94ms/step - loss: 0.0021\n",
      "Epoch 13/100\n",
      "38/38 [==============================] - 4s 99ms/step - loss: 0.0020\n",
      "Epoch 14/100\n",
      "38/38 [==============================] - 4s 105ms/step - loss: 0.0020\n",
      "Epoch 15/100\n",
      "38/38 [==============================] - 4s 94ms/step - loss: 0.0023\n",
      "Epoch 16/100\n",
      "38/38 [==============================] - 4s 94ms/step - loss: 0.0022\n",
      "Epoch 17/100\n",
      "38/38 [==============================] - 4s 99ms/step - loss: 0.0019\n",
      "Epoch 18/100\n",
      "38/38 [==============================] - 4s 93ms/step - loss: 0.0021\n",
      "Epoch 19/100\n",
      "38/38 [==============================] - 4s 103ms/step - loss: 0.0018\n",
      "Epoch 20/100\n",
      "38/38 [==============================] - 4s 96ms/step - loss: 0.0019\n",
      "Epoch 21/100\n",
      "38/38 [==============================] - 4s 110ms/step - loss: 0.0019\n",
      "Epoch 22/100\n",
      "38/38 [==============================] - 4s 108ms/step - loss: 0.0018\n",
      "Epoch 23/100\n",
      "38/38 [==============================] - 4s 109ms/step - loss: 0.0017\n",
      "Epoch 24/100\n",
      "38/38 [==============================] - 4s 111ms/step - loss: 0.0017\n",
      "Epoch 25/100\n",
      "38/38 [==============================] - 4s 93ms/step - loss: 0.0019\n",
      "Epoch 26/100\n",
      "38/38 [==============================] - 3s 90ms/step - loss: 0.0017\n",
      "Epoch 27/100\n",
      "38/38 [==============================] - 3s 91ms/step - loss: 0.0018\n",
      "Epoch 28/100\n",
      "38/38 [==============================] - 4s 97ms/step - loss: 0.0020\n",
      "Epoch 29/100\n",
      "38/38 [==============================] - 4s 104ms/step - loss: 0.0015\n",
      "Epoch 30/100\n",
      "38/38 [==============================] - 4s 107ms/step - loss: 0.0017\n",
      "Epoch 31/100\n",
      "38/38 [==============================] - 4s 108ms/step - loss: 0.0016\n",
      "Epoch 32/100\n",
      "38/38 [==============================] - 4s 108ms/step - loss: 0.0018\n",
      "Epoch 33/100\n",
      "38/38 [==============================] - 4s 98ms/step - loss: 0.0018\n",
      "Epoch 34/100\n",
      "38/38 [==============================] - 4s 101ms/step - loss: 0.0019\n",
      "Epoch 35/100\n",
      "38/38 [==============================] - 4s 104ms/step - loss: 0.0016\n",
      "Epoch 36/100\n",
      "38/38 [==============================] - 4s 103ms/step - loss: 0.0016\n",
      "Epoch 37/100\n",
      "38/38 [==============================] - 4s 105ms/step - loss: 0.0016\n",
      "Epoch 38/100\n",
      "38/38 [==============================] - 4s 100ms/step - loss: 0.0016\n",
      "Epoch 39/100\n",
      "38/38 [==============================] - 4s 99ms/step - loss: 0.0016\n",
      "Epoch 40/100\n",
      "38/38 [==============================] - 4s 107ms/step - loss: 0.0019\n",
      "Epoch 41/100\n",
      "38/38 [==============================] - 4s 99ms/step - loss: 0.0017\n",
      "Epoch 42/100\n",
      "38/38 [==============================] - 4s 107ms/step - loss: 0.0017\n",
      "Epoch 43/100\n",
      "38/38 [==============================] - 4s 98ms/step - loss: 0.0016\n",
      "Epoch 44/100\n",
      "38/38 [==============================] - 4s 93ms/step - loss: 0.0016\n",
      "Epoch 45/100\n",
      "38/38 [==============================] - 4s 93ms/step - loss: 0.0016\n",
      "Epoch 46/100\n",
      "38/38 [==============================] - 4s 92ms/step - loss: 0.0014\n",
      "Epoch 47/100\n",
      "38/38 [==============================] - 3s 89ms/step - loss: 0.0014\n",
      "Epoch 48/100\n",
      "38/38 [==============================] - 4s 94ms/step - loss: 0.0016\n",
      "Epoch 49/100\n",
      "38/38 [==============================] - 3s 91ms/step - loss: 0.0015\n",
      "Epoch 50/100\n",
      "38/38 [==============================] - 4s 94ms/step - loss: 0.0013\n",
      "Epoch 51/100\n",
      "38/38 [==============================] - 3s 91ms/step - loss: 0.0014\n",
      "Epoch 52/100\n",
      "38/38 [==============================] - 4s 94ms/step - loss: 0.0014\n",
      "Epoch 53/100\n",
      "38/38 [==============================] - 4s 92ms/step - loss: 0.0012\n",
      "Epoch 54/100\n",
      "38/38 [==============================] - 4s 94ms/step - loss: 0.0014\n",
      "Epoch 55/100\n",
      "38/38 [==============================] - 3s 92ms/step - loss: 0.0014\n",
      "Epoch 56/100\n",
      "38/38 [==============================] - 4s 93ms/step - loss: 0.0016\n",
      "Epoch 57/100\n",
      "38/38 [==============================] - 4s 105ms/step - loss: 0.0016\n",
      "Epoch 58/100\n",
      "38/38 [==============================] - 4s 102ms/step - loss: 0.0013\n",
      "Epoch 59/100\n",
      "38/38 [==============================] - 4s 103ms/step - loss: 0.0013\n",
      "Epoch 60/100\n",
      "38/38 [==============================] - 4s 94ms/step - loss: 0.0013\n",
      "Epoch 61/100\n",
      "38/38 [==============================] - 4s 96ms/step - loss: 0.0014\n",
      "Epoch 62/100\n",
      "38/38 [==============================] - 4s 98ms/step - loss: 0.0013\n",
      "Epoch 63/100\n",
      "38/38 [==============================] - 4s 110ms/step - loss: 0.0014\n",
      "Epoch 64/100\n",
      "38/38 [==============================] - 4s 101ms/step - loss: 0.0013\n",
      "Epoch 65/100\n",
      "38/38 [==============================] - 4s 98ms/step - loss: 0.0014\n",
      "Epoch 66/100\n",
      "38/38 [==============================] - 4s 98ms/step - loss: 0.0012\n",
      "Epoch 67/100\n",
      "38/38 [==============================] - 4s 103ms/step - loss: 0.0014\n",
      "Epoch 68/100\n",
      "38/38 [==============================] - 4s 97ms/step - loss: 0.0014\n",
      "Epoch 69/100\n",
      "38/38 [==============================] - 4s 100ms/step - loss: 0.0013\n",
      "Epoch 70/100\n",
      "38/38 [==============================] - 4s 104ms/step - loss: 0.0012\n",
      "Epoch 71/100\n",
      "38/38 [==============================] - 4s 100ms/step - loss: 0.0014\n",
      "Epoch 72/100\n",
      "38/38 [==============================] - 4s 94ms/step - loss: 0.0014\n",
      "Epoch 73/100\n",
      "38/38 [==============================] - 4s 96ms/step - loss: 0.0012\n",
      "Epoch 74/100\n",
      "38/38 [==============================] - 4s 104ms/step - loss: 0.0012\n",
      "Epoch 75/100\n",
      "38/38 [==============================] - 4s 95ms/step - loss: 0.0013\n",
      "Epoch 76/100\n",
      "38/38 [==============================] - 4s 102ms/step - loss: 0.0011\n",
      "Epoch 77/100\n",
      "38/38 [==============================] - 4s 104ms/step - loss: 0.0012\n",
      "Epoch 78/100\n",
      "38/38 [==============================] - 4s 102ms/step - loss: 0.0012\n",
      "Epoch 79/100\n",
      "38/38 [==============================] - 4s 100ms/step - loss: 0.0012\n",
      "Epoch 80/100\n",
      "38/38 [==============================] - 4s 100ms/step - loss: 0.0013\n",
      "Epoch 81/100\n",
      "38/38 [==============================] - 4s 99ms/step - loss: 0.0013\n",
      "Epoch 82/100\n",
      "38/38 [==============================] - 4s 105ms/step - loss: 0.0013\n",
      "Epoch 83/100\n",
      "38/38 [==============================] - 4s 104ms/step - loss: 0.0011\n",
      "Epoch 84/100\n",
      "38/38 [==============================] - 4s 104ms/step - loss: 0.0013\n",
      "Epoch 85/100\n",
      "38/38 [==============================] - 4s 104ms/step - loss: 0.0011\n",
      "Epoch 86/100\n",
      "38/38 [==============================] - 4s 105ms/step - loss: 0.0011\n",
      "Epoch 87/100\n",
      "38/38 [==============================] - 4s 104ms/step - loss: 0.0013\n",
      "Epoch 88/100\n",
      "38/38 [==============================] - 4s 103ms/step - loss: 0.0013\n",
      "Epoch 89/100\n",
      "38/38 [==============================] - 4s 104ms/step - loss: 0.0012\n",
      "Epoch 90/100\n",
      "38/38 [==============================] - 4s 105ms/step - loss: 0.0012\n",
      "Epoch 91/100\n",
      "38/38 [==============================] - 4s 99ms/step - loss: 0.0011\n",
      "Epoch 92/100\n",
      "38/38 [==============================] - 4s 105ms/step - loss: 0.0010\n",
      "Epoch 93/100\n",
      "38/38 [==============================] - 4s 102ms/step - loss: 0.0012\n",
      "Epoch 94/100\n",
      "38/38 [==============================] - 4s 104ms/step - loss: 0.0012\n",
      "Epoch 95/100\n",
      "38/38 [==============================] - 4s 105ms/step - loss: 0.0011\n",
      "Epoch 96/100\n",
      "38/38 [==============================] - 4s 104ms/step - loss: 0.0011\n",
      "Epoch 97/100\n",
      "38/38 [==============================] - 4s 102ms/step - loss: 0.0012\n",
      "Epoch 98/100\n",
      "38/38 [==============================] - 4s 102ms/step - loss: 0.0011\n",
      "Epoch 99/100\n",
      "38/38 [==============================] - 4s 106ms/step - loss: 0.0012\n",
      "Epoch 100/100\n",
      "38/38 [==============================] - 4s 104ms/step - loss: 0.0011\n"
     ]
    },
    {
     "data": {
      "text/plain": [
       "<keras.callbacks.History at 0x7ff440510550>"
      ]
     },
     "execution_count": 36,
     "metadata": {},
     "output_type": "execute_result"
    }
   ],
   "source": [
    "regressor.fit(x_train,y_train,epochs=100,batch_size=32)"
   ]
  },
  {
   "cell_type": "markdown",
   "id": "67da6bef-835e-4335-a1bf-44472f52154c",
   "metadata": {},
   "source": [
    "### Predictions"
   ]
  },
  {
   "cell_type": "code",
   "execution_count": 31,
   "id": "2b7e0857-883f-4f20-9ea5-5ab16dd02f59",
   "metadata": {
    "tags": []
   },
   "outputs": [],
   "source": [
    "dataset_total= pd.concat((data[\"Open\"], test[\"Open\"]), axis=0)\n",
    "inputs= dataset_total[len(dataset_total)-len(test)-60:].values\n",
    "inputs= inputs.reshape(-1,1)\n",
    "inputs= sc.transform(inputs)\n",
    "x_test=[]\n",
    "for i in range(60,80):\n",
    "    x_test.append(inputs[i-60:i,0])\n",
    "x_test= np.array(x_test)\n",
    "x_test= np.reshape(x_test,(x_test.shape[0],x_test.shape[1],1))    "
   ]
  },
  {
   "cell_type": "code",
   "execution_count": 37,
   "id": "68b31b6c-0fc1-4fab-9ca2-45f8a154bccc",
   "metadata": {
    "tags": []
   },
   "outputs": [
    {
     "name": "stdout",
     "output_type": "stream",
     "text": [
      "1/1 [==============================] - 0s 45ms/step\n"
     ]
    }
   ],
   "source": [
    "predicted= regressor.predict(x_test)"
   ]
  },
  {
   "cell_type": "code",
   "execution_count": 38,
   "id": "3cb66147-594c-40ce-b24c-ec62ce59dd9e",
   "metadata": {
    "tags": []
   },
   "outputs": [],
   "source": [
    "predicted= sc.inverse_transform(predicted)"
   ]
  },
  {
   "cell_type": "code",
   "execution_count": 39,
   "id": "b502cb2f-8a57-4f0c-86f3-8bb6c95d35e9",
   "metadata": {
    "tags": []
   },
   "outputs": [
    {
     "data": {
      "text/plain": [
       "array([[778.8638 ],\n",
       "       [776.37946],\n",
       "       [780.3238 ],\n",
       "       [781.42676],\n",
       "       [785.4118 ],\n",
       "       [792.9937 ],\n",
       "       [796.3328 ],\n",
       "       [794.8736 ],\n",
       "       [795.13983],\n",
       "       [796.21625],\n",
       "       [796.7029 ],\n",
       "       [796.38306],\n",
       "       [796.12646],\n",
       "       [797.28705],\n",
       "       [798.2423 ],\n",
       "       [806.5102 ],\n",
       "       [814.0916 ],\n",
       "       [820.1181 ],\n",
       "       [819.99133],\n",
       "       [808.9051 ]], dtype=float32)"
      ]
     },
     "execution_count": 39,
     "metadata": {},
     "output_type": "execute_result"
    }
   ],
   "source": [
    "predicted"
   ]
  },
  {
   "cell_type": "markdown",
   "id": "25e786d1-c191-49fe-a03d-ece10e8815c7",
   "metadata": {},
   "source": [
    "## Results"
   ]
  },
  {
   "cell_type": "code",
   "execution_count": 41,
   "id": "4fd55f9f-7aba-4e8b-9f66-1d53d6553644",
   "metadata": {
    "tags": []
   },
   "outputs": [
    {
     "data": {
      "image/png": "[encoded data removed]",
      "text/plain": [
       "<Figure size 640x480 with 1 Axes>"
      ]
     },
     "metadata": {},
     "output_type": "display_data"
    }
   ],
   "source": [
    "plt.plot(real_price, color= \"red\",label= \"Precio Real de la Accion de Google\")\n",
    "plt.plot(predicted, color= \"blue\", label= \"Precio prediccion\")\n",
    "plt.title(\"Predicciones con LSTM de las acciones de Google\")\n",
    "plt.xlabel(\"Fecha\")\n",
    "plt.ylabel(\"Valor\")\n",
    "plt.legend()\n",
    "plt.show()"
   ]
  },
  {
   "cell_type": "code",
   "execution_count": null,
   "id": "cb51ab5e-12bd-4830-94eb-e9e6e2f7eed3",
   "metadata": {},
   "outputs": [],
   "source": []
  }
 ],
 "metadata": {
  "kernelspec": {
   "display_name": "pylab",
   "language": "python",
   "name": "pylab"
  },
  "language_info": {
   "codemirror_mode": {
    "name": "ipython",
    "version": 3
   },
   "file_extension": ".py",
   "mimetype": "text/x-python",
   "name": "python",
   "nbconvert_exporter": "python",
   "pygments_lexer": "ipython3",
   "version": "3.10.6"
  }
 },
 "nbformat": 4,
 "nbformat_minor": 5
}
