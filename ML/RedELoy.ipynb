{
 "cells": [
  {
   "cell_type": "markdown",
   "id": "1495614d-f1c6-46e8-9828-be150ddb0a2f",
   "metadata": {},
   "source": [
    "## Modules"
   ]
  },
  {
   "cell_type": "code",
   "execution_count": 28,
   "id": "123a6256",
   "metadata": {
    "tags": []
   },
   "outputs": [],
   "source": [
    "from keras.models import Sequential\n",
    "from keras.layers import Conv2D\n",
    "from keras.layers import MaxPooling2D\n",
    "from keras.layers import Flatten\n",
    "from keras.layers import Dense\n",
    "from keras.preprocessing.image import ImageDataGenerator\n",
    "# Prediccion\n",
    "import numpy as np\n",
    "import keras.utils as image\n",
    "import warnings\n",
    "\n",
    "warnings.filterwarnings(\"ignore\")"
   ]
  },
  {
   "cell_type": "markdown",
   "id": "86fd7d67-6eaf-4705-b0e8-4cdb08a28c9d",
   "metadata": {},
   "source": [
    "## Define archictecture"
   ]
  },
  {
   "cell_type": "code",
   "execution_count": 4,
   "id": "b662d283",
   "metadata": {
    "tags": []
   },
   "outputs": [],
   "source": [
    "clasificador = Sequential()"
   ]
  },
  {
   "cell_type": "markdown",
   "id": "9451b025-1b22-4557-bec2-f782bf033549",
   "metadata": {},
   "source": [
    "### Convulution layers"
   ]
  },
  {
   "cell_type": "code",
   "execution_count": 5,
   "id": "72929f15",
   "metadata": {
    "tags": []
   },
   "outputs": [],
   "source": [
    "clasificador.add(Conv2D(filters=32,kernel_size=(3,3),input_shape=(64,64,3,),activation=\"relu\"))"
   ]
  },
  {
   "cell_type": "code",
   "execution_count": 6,
   "id": "bd8af2cb",
   "metadata": {
    "tags": []
   },
   "outputs": [],
   "source": [
    "clasificador.add(MaxPooling2D(pool_size=(2,2)))"
   ]
  },
  {
   "cell_type": "code",
   "execution_count": 7,
   "id": "9e4ec0ec",
   "metadata": {
    "tags": []
   },
   "outputs": [],
   "source": [
    "clasificador.add(Flatten())"
   ]
  },
  {
   "cell_type": "markdown",
   "id": "3533432d-c253-459a-9c1a-164249ac6e1a",
   "metadata": {},
   "source": [
    "### Linear layers"
   ]
  },
  {
   "cell_type": "code",
   "execution_count": 17,
   "id": "4a6c6862",
   "metadata": {
    "tags": []
   },
   "outputs": [],
   "source": [
    "clasificador.add(Dense(units=128,activation=\"relu\"))\n",
    "# 128 nodos intermedios"
   ]
  },
  {
   "cell_type": "code",
   "execution_count": 18,
   "id": "4b0f8ec7",
   "metadata": {
    "tags": []
   },
   "outputs": [],
   "source": [
    "# Capa de salida\n",
    "clasificador.add(Dense(units=1,activation='sigmoid'))\n",
    "# 1 --> Salida binaria"
   ]
  },
  {
   "cell_type": "code",
   "execution_count": 19,
   "id": "82569816",
   "metadata": {
    "tags": []
   },
   "outputs": [],
   "source": [
    "clasificador.compile(optimizer='adam',loss='binary_crossentropy',metrics=['accuracy'])"
   ]
  },
  {
   "cell_type": "markdown",
   "id": "e8a4313c-11e0-4982-aef6-261fd9ece7bb",
   "metadata": {},
   "source": [
    "## Load image data"
   ]
  },
  {
   "cell_type": "code",
   "execution_count": 20,
   "id": "3d51db00",
   "metadata": {
    "tags": []
   },
   "outputs": [],
   "source": [
    "train_datagen = ImageDataGenerator(\n",
    "\t\t\t\trescale=1./255,\n",
    "                shear_range=0.2,\n",
    "                zoom_range=0.2,\n",
    "                horizontal_flip=True)"
   ]
  },
  {
   "cell_type": "code",
   "execution_count": 21,
   "id": "0f473a63",
   "metadata": {
    "tags": []
   },
   "outputs": [],
   "source": [
    "test_datagen = ImageDataGenerator(rescale=1./255)"
   ]
  },
  {
   "cell_type": "code",
   "execution_count": 22,
   "id": "51553483",
   "metadata": {
    "tags": []
   },
   "outputs": [
    {
     "name": "stdout",
     "output_type": "stream",
     "text": [
      "Found 8005 images belonging to 2 classes.\n"
     ]
    }
   ],
   "source": [
    "training_dataset = train_datagen.flow_from_directory('Gatos y Perros/training_set',\n",
    "                                                     target_size=(64,64),\n",
    "                                                    batch_size=32,\n",
    "                                                    class_mode='binary')"
   ]
  },
  {
   "cell_type": "code",
   "execution_count": 23,
   "id": "f597a7f4",
   "metadata": {
    "tags": []
   },
   "outputs": [
    {
     "name": "stdout",
     "output_type": "stream",
     "text": [
      "Found 2023 images belonging to 2 classes.\n"
     ]
    }
   ],
   "source": [
    "testing_dataset = test_datagen.flow_from_directory('Gatos y Perros/test_set',\n",
    "                                                     target_size=(64,64),\n",
    "                                                    batch_size=32,\n",
    "                                                    class_mode='binary')"
   ]
  },
  {
   "cell_type": "markdown",
   "id": "81bb294b-70f1-4ade-b3f2-71fdd494e556",
   "metadata": {},
   "source": [
    "## Train model"
   ]
  },
  {
   "cell_type": "code",
   "execution_count": 25,
   "id": "95404518",
   "metadata": {
    "scrolled": true,
    "tags": []
   },
   "outputs": [
    {
     "name": "stdout",
     "output_type": "stream",
     "text": [
      "Epoch 1/32\n",
      "20/20 [==============================] - 3s 136ms/step - loss: 0.6932 - accuracy: 0.5016\n",
      "Epoch 2/32\n",
      "20/20 [==============================] - 3s 145ms/step - loss: 0.6933 - accuracy: 0.4844\n",
      "Epoch 3/32\n",
      "20/20 [==============================] - 3s 137ms/step - loss: 0.6931 - accuracy: 0.5141\n",
      "Epoch 4/32\n",
      "20/20 [==============================] - 3s 139ms/step - loss: 0.6932 - accuracy: 0.5016\n",
      "Epoch 5/32\n",
      "20/20 [==============================] - 3s 140ms/step - loss: 0.6932 - accuracy: 0.5109\n",
      "Epoch 6/32\n",
      "20/20 [==============================] - 3s 138ms/step - loss: 0.6931 - accuracy: 0.5016\n",
      "Epoch 7/32\n",
      "20/20 [==============================] - 3s 141ms/step - loss: 0.6931 - accuracy: 0.5031\n",
      "Epoch 8/32\n",
      "20/20 [==============================] - 3s 138ms/step - loss: 0.6934 - accuracy: 0.4688\n",
      "Epoch 9/32\n",
      "20/20 [==============================] - 3s 139ms/step - loss: 0.6932 - accuracy: 0.4812\n",
      "Epoch 10/32\n",
      "20/20 [==============================] - 3s 139ms/step - loss: 0.6932 - accuracy: 0.4938\n",
      "Epoch 11/32\n",
      "20/20 [==============================] - 3s 139ms/step - loss: 0.6932 - accuracy: 0.5031\n",
      "Epoch 12/32\n",
      "20/20 [==============================] - 3s 137ms/step - loss: 0.6933 - accuracy: 0.4734\n",
      "Epoch 13/32\n",
      "20/20 [==============================] - 3s 137ms/step - loss: 0.6931 - accuracy: 0.5094\n",
      "Epoch 14/32\n",
      "20/20 [==============================] - 3s 137ms/step - loss: 0.6932 - accuracy: 0.4703\n",
      "Epoch 15/32\n",
      "20/20 [==============================] - 3s 137ms/step - loss: 0.6932 - accuracy: 0.4609\n",
      "Epoch 16/32\n",
      "20/20 [==============================] - 3s 141ms/step - loss: 0.6932 - accuracy: 0.4812\n",
      "Epoch 17/32\n",
      "20/20 [==============================] - 3s 136ms/step - loss: 0.6932 - accuracy: 0.4547\n",
      "Epoch 18/32\n",
      "20/20 [==============================] - 3s 136ms/step - loss: 0.6931 - accuracy: 0.4891\n",
      "Epoch 19/32\n",
      "20/20 [==============================] - 3s 138ms/step - loss: 0.6932 - accuracy: 0.4891\n",
      "Epoch 20/32\n",
      "20/20 [==============================] - 3s 138ms/step - loss: 0.6930 - accuracy: 0.5203\n",
      "Epoch 21/32\n",
      "20/20 [==============================] - 3s 138ms/step - loss: 0.6930 - accuracy: 0.5203\n",
      "Epoch 22/32\n",
      "20/20 [==============================] - 3s 140ms/step - loss: 0.6934 - accuracy: 0.4766\n",
      "Epoch 23/32\n",
      "20/20 [==============================] - 3s 138ms/step - loss: 0.6935 - accuracy: 0.4453\n",
      "Epoch 24/32\n",
      "20/20 [==============================] - 3s 138ms/step - loss: 0.6932 - accuracy: 0.5047\n",
      "Epoch 25/32\n",
      "20/20 [==============================] - 3s 138ms/step - loss: 0.6932 - accuracy: 0.4688\n",
      "Epoch 26/32\n",
      "20/20 [==============================] - 3s 137ms/step - loss: 0.6931 - accuracy: 0.5250\n",
      "Epoch 27/32\n",
      "20/20 [==============================] - 3s 138ms/step - loss: 0.6932 - accuracy: 0.4906\n",
      "Epoch 28/32\n",
      "20/20 [==============================] - 3s 139ms/step - loss: 0.6933 - accuracy: 0.4609\n",
      "Epoch 29/32\n",
      "20/20 [==============================] - 3s 139ms/step - loss: 0.6931 - accuracy: 0.5172\n",
      "Epoch 30/32\n",
      "20/20 [==============================] - 3s 139ms/step - loss: 0.6932 - accuracy: 0.5031\n",
      "Epoch 31/32\n",
      "20/20 [==============================] - 3s 138ms/step - loss: 0.6926 - accuracy: 0.5578\n",
      "Epoch 32/32\n",
      "20/20 [==============================] - 3s 136ms/step - loss: 0.6932 - accuracy: 0.5031\n"
     ]
    },
    {
     "data": {
      "text/plain": [
       "<keras.callbacks.History at 0x7f816d7d3070>"
      ]
     },
     "execution_count": 25,
     "metadata": {},
     "output_type": "execute_result"
    }
   ],
   "source": [
    "clasificador.fit_generator(training_dataset,\n",
    "                          steps_per_epoch=20, \n",
    "                          epochs=32,\n",
    "                          validation_data = testing_dataset,\n",
    "                          validation_steps=2000)"
   ]
  },
  {
   "cell_type": "markdown",
   "id": "2d3b5158-aefb-431b-843d-5d04c91f1809",
   "metadata": {},
   "source": [
    "## Predictions"
   ]
  },
  {
   "cell_type": "code",
   "execution_count": 38,
   "id": "cd9e303f",
   "metadata": {
    "tags": []
   },
   "outputs": [
    {
     "name": "stdout",
     "output_type": "stream",
     "text": [
      "1/1 [==============================] - 0s 23ms/step\n",
      "cat\n"
     ]
    }
   ],
   "source": [
    "test_image = image.load_img('Gatos y Perros/test_set/cats/cat.4001.jpg',target_size=(64,64))\n",
    "test_image = image.img_to_array(test_image)\n",
    "test_image = np.expand_dims(test_image,axis=0)\n",
    "result = clasificador.predict(test_image)\n",
    "training_dataset.class_indices\n",
    "if result[0][0]==1:\n",
    "    prediction='dog'\n",
    "else:\n",
    "    prediction ='cat'\n",
    "print(prediction)"
   ]
  }
 ],
 "metadata": {
  "kernelspec": {
   "display_name": "Python 3 (ipykernel)",
   "language": "python",
   "name": "python3"
  },
  "language_info": {
   "codemirror_mode": {
    "name": "ipython",
    "version": 3
   },
   "file_extension": ".py",
   "mimetype": "text/x-python",
   "name": "python",
   "nbconvert_exporter": "python",
   "pygments_lexer": "ipython3",
   "version": "3.10.6"
  }
 },
 "nbformat": 4,
 "nbformat_minor": 5
}
