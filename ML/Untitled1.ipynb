{
 "cells": [
  {
   "cell_type": "markdown",
   "id": "e7f5db0e-c88a-4197-8d7c-09083a324082",
   "metadata": {},
   "source": [
    "## Modules"
   ]
  },
  {
   "cell_type": "code",
   "execution_count": 2,
   "id": "7025c801-ab70-4cc5-8c51-c249ef4b8beb",
   "metadata": {
    "tags": []
   },
   "outputs": [],
   "source": [
    "from keras.models import Sequential\n",
    "from keras.layers import Conv2D\n",
    "from keras.layers import MaxPooling2D\n",
    "from keras.layers import Flatten\n",
    "from keras.layers import Dense\n",
    "\n",
    "from keras.preprocessing.image import ImageDataGenerator"
   ]
  },
  {
   "cell_type": "code",
   "execution_count": null,
   "id": "cb34fe95-3d97-4cd4-80a5-37c4524f9e63",
   "metadata": {},
   "outputs": [],
   "source": [
    "clf = Sequential()"
   ]
  },
  {
   "cell_type": "code",
   "execution_count": null,
   "id": "fff86779-fcd5-433c-96cd-59f9493c3a53",
   "metadata": {},
   "outputs": [],
   "source": [
    "clf.add(Conv2D(filters=32, kernel size= (3,3),\n",
    "              imput_shape(64,64,3,), activation=\"relu\"))"
   ]
  },
  {
   "cell_type": "code",
   "execution_count": null,
   "id": "d6ea119a-8e27-4a36-9c0a-7cc7ae6048bd",
   "metadata": {},
   "outputs": [],
   "source": [
    "clf.add(Maxpooling2D(pool_size=(2,2)))"
   ]
  },
  {
   "cell_type": "code",
   "execution_count": null,
   "id": "b951455d-c740-406a-9635-15db44119522",
   "metadata": {},
   "outputs": [],
   "source": [
    "clf.add(Flatten())"
   ]
  },
  {
   "cell_type": "code",
   "execution_count": null,
   "id": "d836b1c2-0f90-46da-ac7d-38590f2c8aa0",
   "metadata": {},
   "outputs": [],
   "source": [
    "clf.add(Dense(units=128,activation=\"relu\"))"
   ]
  },
  {
   "cell_type": "code",
   "execution_count": null,
   "id": "4e67d1fb-cd36-49d7-9144-417b26d76d53",
   "metadata": {},
   "outputs": [],
   "source": [
    "clf.compile(optimizer=\"adam\",loss=\"binary_crossentropy\",metrics=[\"acurracy\"])"
   ]
  },
  {
   "cell_type": "code",
   "execution_count": null,
   "id": "9a19892f-b8f6-4a62-9cba-984aa69f76eb",
   "metadata": {},
   "outputs": [],
   "source": [
    "train_datagen= ImageDataGenerator(\n",
    "                rescale=1./255,\n",
    "                shear_range=.2,\n",
    "                zoom_range=.2,\n",
    "                horizontal_flip=True)"
   ]
  },
  {
   "cell_type": "code",
   "execution_count": null,
   "id": "b52198e7-64c3-45cd-ba00-e3e60a4ce9e7",
   "metadata": {},
   "outputs": [],
   "source": [
    "test_datagen= ImageDataGenerator(rescale=1./255)"
   ]
  },
  {
   "cell_type": "code",
   "execution_count": null,
   "id": "ad4e9253-ec17-49e9-9dab-85369283d162",
   "metadata": {},
   "outputs": [],
   "source": [
    "training_dataset= train_datagen.flow_from_directory(\"dataset/training_set\",\n",
    "                                                   target_size=(64,64),\n",
    "                                                   batch_size=32,\n",
    "                                                   class_mode=\"binary\")"
   ]
  },
  {
   "cell_type": "code",
   "execution_count": null,
   "id": "118f0833-5efa-400a-8f7b-14f6394ca707",
   "metadata": {},
   "outputs": [],
   "source": [
    "testing_dataset=test_datagen.flow_from_directory('dataset/test_set',\n",
    "                                                   target_size=(64,64),\n",
    "                                                   batch_size=32,\n",
    "                                                   class_mode='binary')"
   ]
  },
  {
   "cell_type": "code",
   "execution_count": null,
   "id": "117130f8-ac3f-4726-8427-78fe2d83d5c2",
   "metadata": {},
   "outputs": [],
   "source": [
    "clf.fit_generator(training_dataset,\n",
    "                 steps_per_epoch=8000,\n",
    "                 epochs=25,\n",
    "                 validation_data=testing_dataset,\n",
    "                 validation_steps=2000)"
   ]
  },
  {
   "cell_type": "code",
   "execution_count": null,
   "id": "01d1731a-b8ff-4b08-901c-05dc4a1961a9",
   "metadata": {},
   "outputs": [],
   "source": []
  },
  {
   "cell_type": "code",
   "execution_count": null,
   "id": "1f0e4fef-65ac-477d-8ce4-248d99f246f9",
   "metadata": {},
   "outputs": [],
   "source": []
  },
  {
   "cell_type": "code",
   "execution_count": null,
   "id": "9dbb3d1d-89a1-4472-8963-82dafe9e0b46",
   "metadata": {},
   "outputs": [],
   "source": []
  }
 ],
 "metadata": {
  "kernelspec": {
   "display_name": "pylab",
   "language": "python",
   "name": "pylab"
  },
  "language_info": {
   "codemirror_mode": {
    "name": "ipython",
    "version": 3
   },
   "file_extension": ".py",
   "mimetype": "text/x-python",
   "name": "python",
   "nbconvert_exporter": "python",
   "pygments_lexer": "ipython3",
   "version": "3.10.6"
  }
 },
 "nbformat": 4,
 "nbformat_minor": 5
}
