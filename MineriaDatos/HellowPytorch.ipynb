{
 "cells": [
  {
   "cell_type": "markdown",
   "id": "3adae4bd-1e0f-401c-a442-10089a9c26a9",
   "metadata": {},
   "source": [
    "# Pytorch"
   ]
  },
  {
   "cell_type": "markdown",
   "id": "6b798d50-a4af-472a-a7d0-550f7b0ad255",
   "metadata": {},
   "source": [
    "## Modules"
   ]
  },
  {
   "cell_type": "code",
   "execution_count": 1,
   "id": "cbc945f1-ee1e-440a-92f4-abcdd1b98ea6",
   "metadata": {
    "tags": []
   },
   "outputs": [],
   "source": [
    "import torch\n",
    "import numpy as np"
   ]
  },
  {
   "cell_type": "markdown",
   "id": "08c73d57-8bbf-41f5-abd5-6de9291180db",
   "metadata": {},
   "source": [
    "## Create a tensor"
   ]
  },
  {
   "cell_type": "code",
   "execution_count": 4,
   "id": "28470f07-55e3-4154-8df9-7314594718d3",
   "metadata": {
    "tags": []
   },
   "outputs": [
    {
     "name": "stdout",
     "output_type": "stream",
     "text": [
      "Tensor array: \n",
      "\n",
      " tensor([[1, 2, 3],\n",
      "        [4, 5, 6],\n",
      "        [7, 8, 9]])\n"
     ]
    }
   ],
   "source": [
    "torch_array = torch.tensor([[1,2,3],[4,5,6],[7,8,9]])\n",
    "print(\"Tensor array: \\n\\n\",torch_array)"
   ]
  },
  {
   "cell_type": "markdown",
   "id": "818fafa5-c39c-448b-a280-65bd10cffcd6",
   "metadata": {},
   "source": [
    "## Created functions"
   ]
  },
  {
   "cell_type": "markdown",
   "id": "dd5e4774-e783-4780-9444-af3541a1e2f1",
   "metadata": {},
   "source": [
    "### Rand"
   ]
  },
  {
   "cell_type": "code",
   "execution_count": 5,
   "id": "010efe4b-b623-4fa4-9fc9-97ca862bb366",
   "metadata": {
    "tags": []
   },
   "outputs": [
    {
     "name": "stdout",
     "output_type": "stream",
     "text": [
      "\n",
      " Random matrix with Pytorch: \n",
      "\n",
      "tensor([[0.4320, 0.2587, 0.3956],\n",
      "        [0.8536, 0.0114, 0.8287],\n",
      "        [0.4775, 0.3455, 0.8993]]) \n",
      "\n",
      "torch.Size([3, 3])\n"
     ]
    }
   ],
   "source": [
    "torch_rand = torch.rand(3,3)\n",
    "print(\"\\n Random matrix with Pytorch: \\n\")\n",
    "print(torch_rand,\"\\n\")\n",
    "print(torch_rand.shape)"
   ]
  },
  {
   "cell_type": "markdown",
   "id": "4794497a-fd56-46d0-b8f5-36c9df4db0ca",
   "metadata": {},
   "source": [
    "### Identity"
   ]
  },
  {
   "cell_type": "code",
   "execution_count": 6,
   "id": "6da9181e-3401-498d-94c7-d4750c6cf6a9",
   "metadata": {
    "tags": []
   },
   "outputs": [
    {
     "name": "stdout",
     "output_type": "stream",
     "text": [
      "tensor([[1., 0., 0.],\n",
      "        [0., 1., 0.],\n",
      "        [0., 0., 1.]])\n"
     ]
    }
   ],
   "source": [
    "torch_id = torch.eye(3)\n",
    "print(torch_id)"
   ]
  },
  {
   "cell_type": "markdown",
   "id": "d2a5972f-1319-49cc-b6dd-733619540ff5",
   "metadata": {},
   "source": [
    "## Multiplication"
   ]
  },
  {
   "cell_type": "code",
   "execution_count": 7,
   "id": "d37062b1-7a5e-400b-a515-b8acd8fea049",
   "metadata": {
    "tags": []
   },
   "outputs": [
    {
     "name": "stdout",
     "output_type": "stream",
     "text": [
      "tensor([[12, 18],\n",
      "        [30, 45],\n",
      "        [48, 72]])\n"
     ]
    }
   ],
   "source": [
    "torch_a1 = torch.tensor([[1,2,3],[4,5,6],[7,8,9]])\n",
    "torch_a2 = torch.tensor([[2,3],[2,3],[2,3]])\n",
    "print(torch.mm(torch_a1,torch_a2))"
   ]
  },
  {
   "cell_type": "code",
   "execution_count": 8,
   "id": "5f992af6-3898-4c17-9388-637a7b02573b",
   "metadata": {
    "tags": []
   },
   "outputs": [
    {
     "name": "stdout",
     "output_type": "stream",
     "text": [
      "tensor([[ 2,  4,  6],\n",
      "        [ 8, 10, 12],\n",
      "        [14, 16, 18]])\n"
     ]
    }
   ],
   "source": [
    "print(torch_a1 * 2)"
   ]
  },
  {
   "cell_type": "markdown",
   "id": "fbb24d37-dc8e-4b77-aba8-4c8a34be29dc",
   "metadata": {},
   "source": [
    "## Derivate"
   ]
  },
  {
   "cell_type": "code",
   "execution_count": 9,
   "id": "c452ce14-8cc8-44b0-99c6-aa876656b524",
   "metadata": {
    "tags": []
   },
   "outputs": [],
   "source": [
    "x1 = torch.tensor([2.0], requires_grad=True).float()\n",
    "z1 = x1\n",
    "x2 = torch.tensor([2.0], requires_grad=True).float()\n",
    "z2 = x2**2\n",
    "x3 = torch.tensor([2.0], requires_grad=True).float()\n",
    "z3 = x3**3"
   ]
  },
  {
   "cell_type": "code",
   "execution_count": 11,
   "id": "37d11092-ffd3-4fb2-82d2-b390ddf4e9a9",
   "metadata": {
    "tags": []
   },
   "outputs": [],
   "source": [
    "z1.backward()\n",
    "z2.backward()\n",
    "z3.backward()"
   ]
  },
  {
   "cell_type": "code",
   "execution_count": 17,
   "id": "6782c9e1-935b-403a-b9bc-4be61b7e6832",
   "metadata": {
    "tags": []
   },
   "outputs": [
    {
     "name": "stdout",
     "output_type": "stream",
     "text": [
      "dz1/dx1 evaluated in 2.000000: 1.000000\n",
      "dz2/dx2 evaluated in 2.000000: 4.000000\n",
      "dz3/dx3 evaluated in 2.000000: 12.000000\n"
     ]
    }
   ],
   "source": [
    "print('dz1/dx1 evaluated in %f: %f' % (x1, x1.grad)) # dz1/dx = 1\n",
    "print('dz2/dx2 evaluated in %f: %f' % (x2, x2.grad)) # dz2/dx = 2 * 2\n",
    "print('dz3/dx3 evaluated in %f: %f' % (x3, x3.grad)) # dz3/dx = 3 * 4"
   ]
  },
  {
   "cell_type": "markdown",
   "id": "a85dd9b5-592c-4528-9540-49e63c6bf1c4",
   "metadata": {},
   "source": [
    "## Sinlgle layer"
   ]
  },
  {
   "cell_type": "code",
   "execution_count": 25,
   "id": "b697561a-39b0-41b3-b450-7a638b13c78e",
   "metadata": {
    "tags": []
   },
   "outputs": [],
   "source": [
    "def sigm(x):\n",
    "    return 1/(1+torch.exp(-x))\n",
    "    \n",
    "torch.manual_seed(7)\n",
    "\n",
    "inputs = torch.randn((1,10))\n",
    "w1 = torch.randn_like(inputs) ## Tensor de la misma dimension pero random\n",
    "b1 = torch.randn((1,1))"
   ]
  },
  {
   "cell_type": "markdown",
   "id": "773fd8b9-f0ee-4c41-8578-189fc4815bf5",
   "metadata": {},
   "source": [
    "### Ways to reshape tensor "
   ]
  },
  {
   "cell_type": "markdown",
   "id": "4fe092bd-e3d9-4200-8929-e4aa34cbcb99",
   "metadata": {},
   "source": [
    "Retornar un tensor con la dimensiones especificadas"
   ]
  },
  {
   "cell_type": "code",
   "execution_count": 31,
   "id": "d73e1638-8504-4265-9756-412d78d4a996",
   "metadata": {
    "tags": []
   },
   "outputs": [
    {
     "data": {
      "text/plain": [
       "tensor([[0.3177],\n",
       "        [0.1328],\n",
       "        [0.1373],\n",
       "        [0.2405],\n",
       "        [1.3955],\n",
       "        [1.3470],\n",
       "        [2.4382],\n",
       "        [0.2028],\n",
       "        [2.4505],\n",
       "        [2.0256]])"
      ]
     },
     "execution_count": 31,
     "metadata": {},
     "output_type": "execute_result"
    }
   ],
   "source": [
    "w1.reshape(10,1)\n",
    "w1.view(10,1)   "
   ]
  },
  {
   "cell_type": "markdown",
   "id": "8ecec95b-ec92-487e-9e5c-4d81ccee3381",
   "metadata": {},
   "source": [
    "Cambia las dimensiones del tensor y las guarda en el mismo"
   ]
  },
  {
   "cell_type": "code",
   "execution_count": 32,
   "id": "f1d742b4-2bd5-4c21-b439-0203910540f3",
   "metadata": {
    "tags": []
   },
   "outputs": [
    {
     "data": {
      "text/plain": [
       "tensor([[0.3177],\n",
       "        [0.1328],\n",
       "        [0.1373],\n",
       "        [0.2405],\n",
       "        [1.3955],\n",
       "        [1.3470],\n",
       "        [2.4382],\n",
       "        [0.2028],\n",
       "        [2.4505],\n",
       "        [2.0256]])"
      ]
     },
     "execution_count": 32,
     "metadata": {},
     "output_type": "execute_result"
    }
   ],
   "source": [
    "w1.resize_(10,1)"
   ]
  },
  {
   "cell_type": "code",
   "execution_count": 34,
   "id": "c3a753d5-e9fc-4626-b6bd-57183410fa6d",
   "metadata": {
    "tags": []
   },
   "outputs": [
    {
     "name": "stdout",
     "output_type": "stream",
     "text": [
      "tensor([[0.3030]])\n"
     ]
    }
   ],
   "source": [
    "output = sigm(torch.matmul(inputs,w1)+b1)\n",
    "print(output)"
   ]
  },
  {
   "cell_type": "markdown",
   "id": "64a20d5a-9dc4-47b0-9a29-0a715f02f6e2",
   "metadata": {},
   "source": [
    "## NN 2 hiden layers"
   ]
  },
  {
   "cell_type": "code",
   "execution_count": null,
   "id": "351b7ef7-8f6c-43d2-88d0-7c9cd2db909c",
   "metadata": {},
   "outputs": [],
   "source": [
    "input_layer = torch.rand(10)\n",
    "print(input_layer.shape)\n",
    "\n",
    "#h1 contains 20 units\n",
    "w1 = torch.rand(10,20)\n",
    "b1 = torch.randn(20)\n",
    "#h2 contains 20 units\n",
    "w2 = torch.rand(20,20)\n",
    "b2 = torch.randn(20)\n",
    "#the output layer has 10 units\n",
    "w3 = torch.rand(20,10)\n",
    "b3 = torch.randn(10)\n",
    "\n",
    "h1 = torch.matmul(w1.T,input_layer)+b1\n",
    "print(\"First hidden layer:\")\n",
    "print(h1,\"\\n\")\n",
    "h2 = torch.matmul(w2.T,h1)+b2\n",
    "print(\"Second hidden layer:\")\n",
    "print(h2,\"\\n\") \n",
    "output_layer = torch.matmul(w3.T,h2)+b3\n",
    "print(\"Output layer:\")\n",
    "print(output_layer)"
   ]
  },
  {
   "cell_type": "markdown",
   "id": "ce87b180-8438-420d-bc52-881e04cfdf06",
   "metadata": {},
   "source": [
    "## NN from nn.MOdule"
   ]
  },
  {
   "cell_type": "code",
   "execution_count": 35,
   "id": "1f4de510-1e0d-498d-81ca-578f8b2ac82d",
   "metadata": {
    "tags": []
   },
   "outputs": [
    {
     "name": "stdout",
     "output_type": "stream",
     "text": [
      "tensor([ 0.1782, -0.0429, -0.2798,  0.0744, -0.0785, -0.1032,  0.6252,  0.0890,\n",
      "         0.1006,  0.0191], grad_fn=<AddBackward0>)\n"
     ]
    }
   ],
   "source": [
    "import torch.nn as nn\n",
    "\n",
    "#class Net inherits from nn.Module\n",
    "class Net(nn.Module):\n",
    "    def __init__(self):\n",
    "        super(Net,self).__init__()\n",
    "        # nn.Linear(i,o) where i=# units in the current layer, o = # units in the next layer\n",
    "        self.fc1 = nn.Linear(10,20)\n",
    "        self.fc2 = nn.Linear(20,20)\n",
    "        self.out = nn.Linear(20,10)\n",
    "        \n",
    "    def forward(self,x):\n",
    "        x = self.fc1(x)\n",
    "        x = self.fc2(x)\n",
    "        x = self.out(x)\n",
    "        return x\n",
    "      \n",
    "input_layer = torch.rand(10)\n",
    "#instantiate model\n",
    "net = Net()\n",
    "result = net(input_layer)\n",
    "print(result)      "
   ]
  },
  {
   "cell_type": "code",
   "execution_count": null,
   "id": "7dc255b1-edd7-4d38-8887-5a4a83c86d8b",
   "metadata": {},
   "outputs": [],
   "source": []
  }
 ],
 "metadata": {
  "kernelspec": {
   "display_name": "pylab",
   "language": "python",
   "name": "pylab"
  },
  "language_info": {
   "codemirror_mode": {
    "name": "ipython",
    "version": 3
   },
   "file_extension": ".py",
   "mimetype": "text/x-python",
   "name": "python",
   "nbconvert_exporter": "python",
   "pygments_lexer": "ipython3",
   "version": "3.10.6"
  }
 },
 "nbformat": 4,
 "nbformat_minor": 5
}
