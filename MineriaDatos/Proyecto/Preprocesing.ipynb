{
 "cells": [
  {
   "cell_type": "markdown",
   "id": "8c783934-4071-4e64-b5c1-990b4e96c14e",
   "metadata": {},
   "source": [
    "## Modulos"
   ]
  },
  {
   "cell_type": "code",
   "execution_count": 1,
   "id": "5066d674-4d18-4ad0-8a94-d947170e96e0",
   "metadata": {
    "tags": []
   },
   "outputs": [],
   "source": [
    "## Data manipulation\n",
    "import numpy as np\n",
    "import pandas as pd\n",
    "\n",
    "## Procesamiento del texto\n",
    "import re \n",
    "import nltk\n",
    "from nltk.corpus import stopwords\n",
    "from nltk.stem import SnowballStemmer\n",
    "from nltk.tokenize import word_tokenize\n",
    "\n",
    "## Text to vect\n",
    "from sklearn.feature_extraction.text import TfidfVectorizer\n",
    "\n",
    "## Distances\n",
    "from sklearn.metrics.pairwise import cosine_similarity\n",
    "from sklearn.metrics.pairwise import euclidean_distances\n",
    "\n",
    "## Graphs\n",
    "import plotly.express as px\n"
   ]
  },
  {
   "cell_type": "markdown",
   "id": "2d3e0a7d-a7c1-44b1-bcf7-67b2c31ba1cb",
   "metadata": {},
   "source": [
    "## Load Data"
   ]
  },
  {
   "cell_type": "code",
   "execution_count": 3,
   "id": "600ca119-faea-4966-b3f6-726e2bea9a21",
   "metadata": {
    "tags": []
   },
   "outputs": [],
   "source": [
    "df_boardgames= pd.read_csv(\"df_boardgames.csv\")"
   ]
  },
  {
   "cell_type": "code",
   "execution_count": 4,
   "id": "16bd6cde-7072-45a3-8cda-1115b374a20b",
   "metadata": {
    "tags": []
   },
   "outputs": [
    {
     "data": {
      "text/html": [
       "<div>\n",
       "<style scoped>\n",
       "    .dataframe tbody tr th:only-of-type {\n",
       "        vertical-align: middle;\n",
       "    }\n",
       "\n",
       "    .dataframe tbody tr th {\n",
       "        vertical-align: top;\n",
       "    }\n",
       "\n",
       "    .dataframe thead th {\n",
       "        text-align: right;\n",
       "    }\n",
       "</style>\n",
       "<table border=\"1\" class=\"dataframe\">\n",
       "  <thead>\n",
       "    <tr style=\"text-align: right;\">\n",
       "      <th></th>\n",
       "      <th>GameId</th>\n",
       "      <th>GameName</th>\n",
       "      <th>Description</th>\n",
       "    </tr>\n",
       "  </thead>\n",
       "  <tbody>\n",
       "    <tr>\n",
       "      <th>0</th>\n",
       "      <td>148494</td>\n",
       "      <td>1,2,3! Now you see me...</td>\n",
       "      <td>The animals on the farm are playing a game of ...</td>\n",
       "    </tr>\n",
       "    <tr>\n",
       "      <th>1</th>\n",
       "      <td>316377</td>\n",
       "      <td>7 Wonders (Second Edition)</td>\n",
       "      <td>7 Wonders&lt;br/&gt;The board game with more awards ...</td>\n",
       "    </tr>\n",
       "    <tr>\n",
       "      <th>2</th>\n",
       "      <td>155987</td>\n",
       "      <td>Abyss</td>\n",
       "      <td>The Abyss power is once again vacant, so the t...</td>\n",
       "    </tr>\n",
       "    <tr>\n",
       "      <th>3</th>\n",
       "      <td>21569</td>\n",
       "      <td>Adigma</td>\n",
       "      <td>Adigma is a party game which involves simultan...</td>\n",
       "    </tr>\n",
       "    <tr>\n",
       "      <th>4</th>\n",
       "      <td>31260</td>\n",
       "      <td>Agricola</td>\n",
       "      <td>Description from BoardgameNews&lt;br/&gt;&lt;br/&gt;In Agr...</td>\n",
       "    </tr>\n",
       "  </tbody>\n",
       "</table>\n",
       "</div>"
      ],
      "text/plain": [
       "   GameId                    GameName  \\\n",
       "0  148494    1,2,3! Now you see me...   \n",
       "1  316377  7 Wonders (Second Edition)   \n",
       "2  155987                       Abyss   \n",
       "3   21569                      Adigma   \n",
       "4   31260                    Agricola   \n",
       "\n",
       "                                         Description  \n",
       "0  The animals on the farm are playing a game of ...  \n",
       "1  7 Wonders<br/>The board game with more awards ...  \n",
       "2  The Abyss power is once again vacant, so the t...  \n",
       "3  Adigma is a party game which involves simultan...  \n",
       "4  Description from BoardgameNews<br/><br/>In Agr...  "
      ]
     },
     "execution_count": 4,
     "metadata": {},
     "output_type": "execute_result"
    }
   ],
   "source": [
    "url_data = (r'https://raw.githubusercontent.com/bluterplay/7moSemestre/main/Pokemon/games.csv')\n",
    "\n",
    "data_csv = pd.read_csv(url_data)\n",
    "\n",
    "data_csv.head()"
   ]
  },
  {
   "cell_type": "code",
   "execution_count": 7,
   "id": "56acf24a-1ea9-4ed1-8414-65d034378643",
   "metadata": {
    "tags": []
   },
   "outputs": [],
   "source": [
    "prepro_boardgames=data_csv.copy()"
   ]
  },
  {
   "cell_type": "markdown",
   "id": "165337da-f35f-44bc-8687-90b7d914188f",
   "metadata": {},
   "source": [
    "## Text"
   ]
  },
  {
   "cell_type": "markdown",
   "id": "85e0e9fd-29ec-4d51-a606-8c49a0e3f9aa",
   "metadata": {},
   "source": [
    "### Drop HTML tags"
   ]
  },
  {
   "cell_type": "code",
   "execution_count": 8,
   "id": "4b43f6c0-2bb6-4406-91fb-17863c50b150",
   "metadata": {
    "tags": []
   },
   "outputs": [],
   "source": [
    "prepro_boardgames[\"Description\"]=prepro_boardgames[\"Description\"].map(lambda x: x.replace(\"<br/>\", \" \"))\n",
    "prepro_boardgames[\"Description\"]=prepro_boardgames[\"Description\"].map(lambda x: x.replace(\"&quot;\", \" \"))\n",
    "prepro_boardgames[\"Description\"]=prepro_boardgames[\"Description\"].map(lambda x: x.replace(\"|\", \" \"))"
   ]
  },
  {
   "cell_type": "markdown",
   "id": "8026406c-e38d-49f4-8e27-113c017c8197",
   "metadata": {},
   "source": [
    "### Punctation characters"
   ]
  },
  {
   "cell_type": "code",
   "execution_count": 9,
   "id": "cd5243c3-202c-4233-9a35-8ca53f145e20",
   "metadata": {
    "tags": []
   },
   "outputs": [],
   "source": [
    "sep = '|'\n",
    "punctuation_chars = '!\"#$%&\\'()*+,-./:;<=>?@[\\\\]^_`{}~'"
   ]
  },
  {
   "cell_type": "code",
   "execution_count": 10,
   "id": "2e7ffc1e-e9ac-4439-8f41-d06714935666",
   "metadata": {
    "tags": []
   },
   "outputs": [],
   "source": [
    "mapping_table = str.maketrans(dict.fromkeys(punctuation_chars, ''))"
   ]
  },
  {
   "cell_type": "code",
   "execution_count": 11,
   "id": "53cccc34-5d74-474e-bac0-5cb3967bbcff",
   "metadata": {
    "tags": []
   },
   "outputs": [],
   "source": [
    "text_features = ['Description']"
   ]
  },
  {
   "cell_type": "code",
   "execution_count": 12,
   "id": "14807d18-b0f9-4b7b-b4b4-c30f62e455d2",
   "metadata": {
    "tags": []
   },
   "outputs": [],
   "source": [
    "for column in text_features:\n",
    "    prepro_boardgames[column] = sep \\\n",
    "    .join(prepro_boardgames[column].tolist()) \\\n",
    "    .translate(mapping_table) \\\n",
    "    .split(sep)"
   ]
  },
  {
   "cell_type": "markdown",
   "id": "741c5587-c8bd-4d50-8351-9140aefcec06",
   "metadata": {},
   "source": [
    "### Lower cases"
   ]
  },
  {
   "cell_type": "code",
   "execution_count": 13,
   "id": "da6f73ae-de08-4523-9bd7-01a01254cb1a",
   "metadata": {
    "tags": []
   },
   "outputs": [],
   "source": [
    "prepro_boardgames[\"Description\"]=prepro_boardgames[\"Description\"].map(lambda x: x.lower())\n",
    "prepro_boardgames[\"Description\"]=prepro_boardgames[\"Description\"].map(lambda x: re.sub(' +', ' ', x))"
   ]
  },
  {
   "cell_type": "code",
   "execution_count": 14,
   "id": "5f17148b-307a-42c0-8f05-e8d57f372192",
   "metadata": {
    "tags": []
   },
   "outputs": [],
   "source": [
    "data_text= prepro_boardgames.copy()"
   ]
  },
  {
   "cell_type": "markdown",
   "id": "75c86995-e307-48e9-8e2d-e41b3ff9db03",
   "metadata": {},
   "source": [
    "### Stop Words"
   ]
  },
  {
   "cell_type": "code",
   "execution_count": 15,
   "id": "fe535dda-ec3f-4c2f-a0fe-6dce9c377bb5",
   "metadata": {
    "tags": []
   },
   "outputs": [
    {
     "name": "stderr",
     "output_type": "stream",
     "text": [
      "[nltk_data] Downloading package punkt to /home/bluterplay/nltk_data...\n",
      "[nltk_data]   Unzipping tokenizers/punkt.zip.\n",
      "[nltk_data] Downloading package stopwords to\n",
      "[nltk_data]     /home/bluterplay/nltk_data...\n",
      "[nltk_data]   Unzipping corpora/stopwords.zip.\n"
     ]
    },
    {
     "data": {
      "text/plain": [
       "True"
      ]
     },
     "execution_count": 15,
     "metadata": {},
     "output_type": "execute_result"
    }
   ],
   "source": [
    "nltk.download('punkt')\n",
    "nltk.download('stopwords')"
   ]
  },
  {
   "cell_type": "code",
   "execution_count": 18,
   "id": "e37e08ab-ea78-4528-941f-eb495e323b23",
   "metadata": {
    "tags": []
   },
   "outputs": [
    {
     "data": {
      "text/plain": [
       "['i', 'me', 'my', 'myself', 'we']"
      ]
     },
     "execution_count": 18,
     "metadata": {},
     "output_type": "execute_result"
    }
   ],
   "source": [
    "stopword_list  = stopwords.words('english')\n",
    "stopword_list[:5]"
   ]
  },
  {
   "cell_type": "markdown",
   "id": "b4efff58-7b69-443c-a692-7af68c7848ac",
   "metadata": {},
   "source": [
    "#### Split words"
   ]
  },
  {
   "cell_type": "code",
   "execution_count": 16,
   "id": "5c73655a-4bf5-4789-82d1-ff93a2c7789e",
   "metadata": {
    "tags": []
   },
   "outputs": [],
   "source": [
    "for column in text_features:\n",
    "    prepro_boardgames[column] = prepro_boardgames[column].str.split()"
   ]
  },
  {
   "cell_type": "markdown",
   "id": "0d077b0f-acaa-4549-a6e3-38aa55327c72",
   "metadata": {},
   "source": [
    "#### Remove stopwords"
   ]
  },
  {
   "cell_type": "code",
   "execution_count": 19,
   "id": "5ba84d00-964c-4181-84bf-9cdbaca48dbb",
   "metadata": {
    "tags": []
   },
   "outputs": [],
   "source": [
    "for column in text_features:\n",
    "    prepro_boardgames[column] = prepro_boardgames[column].apply(lambda x: [i for i in x if i not in stopword_list])\n",
    "    prepro_boardgames[column]"
   ]
  },
  {
   "cell_type": "code",
   "execution_count": 20,
   "id": "af1e98d4-5f4f-453e-ba98-052761967657",
   "metadata": {
    "tags": []
   },
   "outputs": [
    {
     "data": {
      "text/html": [
       "<div>\n",
       "<style scoped>\n",
       "    .dataframe tbody tr th:only-of-type {\n",
       "        vertical-align: middle;\n",
       "    }\n",
       "\n",
       "    .dataframe tbody tr th {\n",
       "        vertical-align: top;\n",
       "    }\n",
       "\n",
       "    .dataframe thead th {\n",
       "        text-align: right;\n",
       "    }\n",
       "</style>\n",
       "<table border=\"1\" class=\"dataframe\">\n",
       "  <thead>\n",
       "    <tr style=\"text-align: right;\">\n",
       "      <th></th>\n",
       "      <th>GameId</th>\n",
       "      <th>GameName</th>\n",
       "      <th>Description</th>\n",
       "    </tr>\n",
       "  </thead>\n",
       "  <tbody>\n",
       "    <tr>\n",
       "      <th>0</th>\n",
       "      <td>148494</td>\n",
       "      <td>1,2,3! Now you see me...</td>\n",
       "      <td>[animals, farm, playing, game, red, lightgreen...</td>\n",
       "    </tr>\n",
       "    <tr>\n",
       "      <th>1</th>\n",
       "      <td>316377</td>\n",
       "      <td>7 Wonders (Second Edition)</td>\n",
       "      <td>[7, wonders, board, game, awards, game, planet...</td>\n",
       "    </tr>\n",
       "    <tr>\n",
       "      <th>2</th>\n",
       "      <td>155987</td>\n",
       "      <td>Abyss</td>\n",
       "      <td>[abyss, power, vacant, time, come, get, hands,...</td>\n",
       "    </tr>\n",
       "    <tr>\n",
       "      <th>3</th>\n",
       "      <td>21569</td>\n",
       "      <td>Adigma</td>\n",
       "      <td>[adigma, party, game, involves, simultaneous, ...</td>\n",
       "    </tr>\n",
       "    <tr>\n",
       "      <th>4</th>\n",
       "      <td>31260</td>\n",
       "      <td>Agricola</td>\n",
       "      <td>[description, boardgamenews, agricola, youre, ...</td>\n",
       "    </tr>\n",
       "  </tbody>\n",
       "</table>\n",
       "</div>"
      ],
      "text/plain": [
       "   GameId                    GameName  \\\n",
       "0  148494    1,2,3! Now you see me...   \n",
       "1  316377  7 Wonders (Second Edition)   \n",
       "2  155987                       Abyss   \n",
       "3   21569                      Adigma   \n",
       "4   31260                    Agricola   \n",
       "\n",
       "                                         Description  \n",
       "0  [animals, farm, playing, game, red, lightgreen...  \n",
       "1  [7, wonders, board, game, awards, game, planet...  \n",
       "2  [abyss, power, vacant, time, come, get, hands,...  \n",
       "3  [adigma, party, game, involves, simultaneous, ...  \n",
       "4  [description, boardgamenews, agricola, youre, ...  "
      ]
     },
     "execution_count": 20,
     "metadata": {},
     "output_type": "execute_result"
    }
   ],
   "source": [
    "prepro_boardgames.head()"
   ]
  },
  {
   "cell_type": "markdown",
   "id": "899c1933-89c1-464c-afcc-33611dfc65f0",
   "metadata": {},
   "source": [
    "### Stemer"
   ]
  },
  {
   "cell_type": "code",
   "execution_count": 21,
   "id": "6990f475-e09e-4eff-8cab-f7e6f173cfc1",
   "metadata": {
    "tags": []
   },
   "outputs": [],
   "source": [
    "stemmer = SnowballStemmer('english')"
   ]
  },
  {
   "cell_type": "code",
   "execution_count": 22,
   "id": "e028d264-bc5a-4841-ad3b-503c3e1fd598",
   "metadata": {
    "tags": []
   },
   "outputs": [],
   "source": [
    "for column in text_features:\n",
    "    prepro_boardgames[column] = prepro_boardgames[column].apply(lambda x: [stemmer.stem(i) for i in x])"
   ]
  },
  {
   "cell_type": "markdown",
   "id": "9ec159cb-3787-4e79-9a88-f402ce72c67d",
   "metadata": {},
   "source": [
    "#### Join words"
   ]
  },
  {
   "cell_type": "code",
   "execution_count": 23,
   "id": "70ffcd9f-2b7e-4e9d-aeaa-8f349eedd233",
   "metadata": {
    "tags": []
   },
   "outputs": [],
   "source": [
    "for column in text_features:\n",
    "    prepro_boardgames[column] = prepro_boardgames[column].apply(lambda x: ' '.join(x))"
   ]
  },
  {
   "cell_type": "code",
   "execution_count": 24,
   "id": "a303b377-4e2f-48b1-aa31-f7f0949cb46a",
   "metadata": {
    "tags": []
   },
   "outputs": [],
   "source": [
    "prepro_boardgames[\"Description\"]=prepro_boardgames[\"Description\"].map(lambda x: re.sub(' +', ' ', x))"
   ]
  },
  {
   "cell_type": "code",
   "execution_count": 25,
   "id": "a1d7ebdd-2cc7-496a-93a3-98789c50ea4b",
   "metadata": {
    "tags": []
   },
   "outputs": [
    {
     "data": {
      "text/html": [
       "<div>\n",
       "<style scoped>\n",
       "    .dataframe tbody tr th:only-of-type {\n",
       "        vertical-align: middle;\n",
       "    }\n",
       "\n",
       "    .dataframe tbody tr th {\n",
       "        vertical-align: top;\n",
       "    }\n",
       "\n",
       "    .dataframe thead th {\n",
       "        text-align: right;\n",
       "    }\n",
       "</style>\n",
       "<table border=\"1\" class=\"dataframe\">\n",
       "  <thead>\n",
       "    <tr style=\"text-align: right;\">\n",
       "      <th></th>\n",
       "      <th>GameId</th>\n",
       "      <th>GameName</th>\n",
       "      <th>Description</th>\n",
       "    </tr>\n",
       "  </thead>\n",
       "  <tbody>\n",
       "    <tr>\n",
       "      <th>0</th>\n",
       "      <td>148494</td>\n",
       "      <td>1,2,3! Now you see me...</td>\n",
       "      <td>anim farm play game red lightgreen light decid...</td>\n",
       "    </tr>\n",
       "    <tr>\n",
       "      <th>1</th>\n",
       "      <td>316377</td>\n",
       "      <td>7 Wonders (Second Edition)</td>\n",
       "      <td>7 wonder board game award game planet 30 inter...</td>\n",
       "    </tr>\n",
       "    <tr>\n",
       "      <th>2</th>\n",
       "      <td>155987</td>\n",
       "      <td>Abyss</td>\n",
       "      <td>abyss power vacant time come get hand throne p...</td>\n",
       "    </tr>\n",
       "    <tr>\n",
       "      <th>3</th>\n",
       "      <td>21569</td>\n",
       "      <td>Adigma</td>\n",
       "      <td>adigma parti game involv simultan riddl puzzl ...</td>\n",
       "    </tr>\n",
       "    <tr>\n",
       "      <th>4</th>\n",
       "      <td>31260</td>\n",
       "      <td>Agricola</td>\n",
       "      <td>descript boardgamenew agricola your farmer woo...</td>\n",
       "    </tr>\n",
       "  </tbody>\n",
       "</table>\n",
       "</div>"
      ],
      "text/plain": [
       "   GameId                    GameName  \\\n",
       "0  148494    1,2,3! Now you see me...   \n",
       "1  316377  7 Wonders (Second Edition)   \n",
       "2  155987                       Abyss   \n",
       "3   21569                      Adigma   \n",
       "4   31260                    Agricola   \n",
       "\n",
       "                                         Description  \n",
       "0  anim farm play game red lightgreen light decid...  \n",
       "1  7 wonder board game award game planet 30 inter...  \n",
       "2  abyss power vacant time come get hand throne p...  \n",
       "3  adigma parti game involv simultan riddl puzzl ...  \n",
       "4  descript boardgamenew agricola your farmer woo...  "
      ]
     },
     "execution_count": 25,
     "metadata": {},
     "output_type": "execute_result"
    }
   ],
   "source": [
    "prepro_boardgames.head()"
   ]
  },
  {
   "cell_type": "code",
   "execution_count": 33,
   "id": "03ad064b-e0fd-4239-b629-a86841a1610b",
   "metadata": {
    "tags": []
   },
   "outputs": [],
   "source": [
    "df_text= prepro_boardgames.copy()\n",
    "df_text.to_csv(\"df_text.csv\", index=False)"
   ]
  },
  {
   "cell_type": "markdown",
   "id": "5c24beca-055b-454d-b5ce-8b054991b9bc",
   "metadata": {},
   "source": [
    "## Doc Term Matrix"
   ]
  },
  {
   "cell_type": "markdown",
   "id": "d7f7bff3-94dc-4414-8c02-95306aae8463",
   "metadata": {},
   "source": [
    "### Select words by Tfi df"
   ]
  },
  {
   "cell_type": "code",
   "execution_count": 27,
   "id": "9735d14c-9adf-4dd8-afbc-73a1f37e7c86",
   "metadata": {
    "tags": []
   },
   "outputs": [],
   "source": [
    "vectorizerTfi= TfidfVectorizer()\n",
    "vecTfi= vectorizerTfi.fit_transform(df_text[\"Description\"])"
   ]
  },
  {
   "cell_type": "code",
   "execution_count": 28,
   "id": "c9357d33-4d34-49ed-a331-931e0815622e",
   "metadata": {
    "tags": []
   },
   "outputs": [],
   "source": [
    "td_tfi = pd.DataFrame(vecTfi.todense())\n",
    "td_tfi.columns = vectorizerTfi.get_feature_names_out()\n",
    "\n",
    "term_document_matrix_tfi = td_tfi.T\n",
    "term_document_matrix_tfi.columns = [str(x) for x in df_text.GameId.unique()]"
   ]
  },
  {
   "cell_type": "code",
   "execution_count": 29,
   "id": "88a60ca3-e9fb-4b00-bc28-cd014b331dbe",
   "metadata": {
    "tags": []
   },
   "outputs": [
    {
     "data": {
      "text/html": [
       "<div>\n",
       "<style scoped>\n",
       "    .dataframe tbody tr th:only-of-type {\n",
       "        vertical-align: middle;\n",
       "    }\n",
       "\n",
       "    .dataframe tbody tr th {\n",
       "        vertical-align: top;\n",
       "    }\n",
       "\n",
       "    .dataframe thead th {\n",
       "        text-align: right;\n",
       "    }\n",
       "</style>\n",
       "<table border=\"1\" class=\"dataframe\">\n",
       "  <thead>\n",
       "    <tr style=\"text-align: right;\">\n",
       "      <th></th>\n",
       "      <th>148494</th>\n",
       "      <th>316377</th>\n",
       "      <th>155987</th>\n",
       "      <th>21569</th>\n",
       "      <th>31260</th>\n",
       "      <th>161970</th>\n",
       "      <th>124742</th>\n",
       "      <th>17329</th>\n",
       "      <th>25643</th>\n",
       "      <th>12005</th>\n",
       "      <th>...</th>\n",
       "      <th>180771</th>\n",
       "      <th>321720</th>\n",
       "      <th>170416</th>\n",
       "      <th>224783</th>\n",
       "      <th>247585</th>\n",
       "      <th>282216</th>\n",
       "      <th>200750</th>\n",
       "      <th>224710</th>\n",
       "      <th>230345</th>\n",
       "      <th>248065</th>\n",
       "    </tr>\n",
       "  </thead>\n",
       "  <tbody>\n",
       "    <tr>\n",
       "      <th>00</th>\n",
       "      <td>0.0</td>\n",
       "      <td>0.0</td>\n",
       "      <td>0.0</td>\n",
       "      <td>0.0</td>\n",
       "      <td>0.0</td>\n",
       "      <td>0.0</td>\n",
       "      <td>0.0</td>\n",
       "      <td>0.0</td>\n",
       "      <td>0.0</td>\n",
       "      <td>0.0</td>\n",
       "      <td>...</td>\n",
       "      <td>0.0</td>\n",
       "      <td>0.0</td>\n",
       "      <td>0.0</td>\n",
       "      <td>0.0</td>\n",
       "      <td>0.0</td>\n",
       "      <td>0.0</td>\n",
       "      <td>0.0</td>\n",
       "      <td>0.0</td>\n",
       "      <td>0.0</td>\n",
       "      <td>0.0</td>\n",
       "    </tr>\n",
       "    <tr>\n",
       "      <th>000</th>\n",
       "      <td>0.0</td>\n",
       "      <td>0.0</td>\n",
       "      <td>0.0</td>\n",
       "      <td>0.0</td>\n",
       "      <td>0.0</td>\n",
       "      <td>0.0</td>\n",
       "      <td>0.0</td>\n",
       "      <td>0.0</td>\n",
       "      <td>0.0</td>\n",
       "      <td>0.0</td>\n",
       "      <td>...</td>\n",
       "      <td>0.0</td>\n",
       "      <td>0.0</td>\n",
       "      <td>0.0</td>\n",
       "      <td>0.0</td>\n",
       "      <td>0.0</td>\n",
       "      <td>0.0</td>\n",
       "      <td>0.0</td>\n",
       "      <td>0.0</td>\n",
       "      <td>0.0</td>\n",
       "      <td>0.0</td>\n",
       "    </tr>\n",
       "    <tr>\n",
       "      <th>007</th>\n",
       "      <td>0.0</td>\n",
       "      <td>0.0</td>\n",
       "      <td>0.0</td>\n",
       "      <td>0.0</td>\n",
       "      <td>0.0</td>\n",
       "      <td>0.0</td>\n",
       "      <td>0.0</td>\n",
       "      <td>0.0</td>\n",
       "      <td>0.0</td>\n",
       "      <td>0.0</td>\n",
       "      <td>...</td>\n",
       "      <td>0.0</td>\n",
       "      <td>0.0</td>\n",
       "      <td>0.0</td>\n",
       "      <td>0.0</td>\n",
       "      <td>0.0</td>\n",
       "      <td>0.0</td>\n",
       "      <td>0.0</td>\n",
       "      <td>0.0</td>\n",
       "      <td>0.0</td>\n",
       "      <td>0.0</td>\n",
       "    </tr>\n",
       "    <tr>\n",
       "      <th>010</th>\n",
       "      <td>0.0</td>\n",
       "      <td>0.0</td>\n",
       "      <td>0.0</td>\n",
       "      <td>0.0</td>\n",
       "      <td>0.0</td>\n",
       "      <td>0.0</td>\n",
       "      <td>0.0</td>\n",
       "      <td>0.0</td>\n",
       "      <td>0.0</td>\n",
       "      <td>0.0</td>\n",
       "      <td>...</td>\n",
       "      <td>0.0</td>\n",
       "      <td>0.0</td>\n",
       "      <td>0.0</td>\n",
       "      <td>0.0</td>\n",
       "      <td>0.0</td>\n",
       "      <td>0.0</td>\n",
       "      <td>0.0</td>\n",
       "      <td>0.0</td>\n",
       "      <td>0.0</td>\n",
       "      <td>0.0</td>\n",
       "    </tr>\n",
       "    <tr>\n",
       "      <th>0100</th>\n",
       "      <td>0.0</td>\n",
       "      <td>0.0</td>\n",
       "      <td>0.0</td>\n",
       "      <td>0.0</td>\n",
       "      <td>0.0</td>\n",
       "      <td>0.0</td>\n",
       "      <td>0.0</td>\n",
       "      <td>0.0</td>\n",
       "      <td>0.0</td>\n",
       "      <td>0.0</td>\n",
       "      <td>...</td>\n",
       "      <td>0.0</td>\n",
       "      <td>0.0</td>\n",
       "      <td>0.0</td>\n",
       "      <td>0.0</td>\n",
       "      <td>0.0</td>\n",
       "      <td>0.0</td>\n",
       "      <td>0.0</td>\n",
       "      <td>0.0</td>\n",
       "      <td>0.0</td>\n",
       "      <td>0.0</td>\n",
       "    </tr>\n",
       "    <tr>\n",
       "      <th>...</th>\n",
       "      <td>...</td>\n",
       "      <td>...</td>\n",
       "      <td>...</td>\n",
       "      <td>...</td>\n",
       "      <td>...</td>\n",
       "      <td>...</td>\n",
       "      <td>...</td>\n",
       "      <td>...</td>\n",
       "      <td>...</td>\n",
       "      <td>...</td>\n",
       "      <td>...</td>\n",
       "      <td>...</td>\n",
       "      <td>...</td>\n",
       "      <td>...</td>\n",
       "      <td>...</td>\n",
       "      <td>...</td>\n",
       "      <td>...</td>\n",
       "      <td>...</td>\n",
       "      <td>...</td>\n",
       "      <td>...</td>\n",
       "      <td>...</td>\n",
       "    </tr>\n",
       "    <tr>\n",
       "      <th>虚空に向けて銃を撃ち</th>\n",
       "      <td>0.0</td>\n",
       "      <td>0.0</td>\n",
       "      <td>0.0</td>\n",
       "      <td>0.0</td>\n",
       "      <td>0.0</td>\n",
       "      <td>0.0</td>\n",
       "      <td>0.0</td>\n",
       "      <td>0.0</td>\n",
       "      <td>0.0</td>\n",
       "      <td>0.0</td>\n",
       "      <td>...</td>\n",
       "      <td>0.0</td>\n",
       "      <td>0.0</td>\n",
       "      <td>0.0</td>\n",
       "      <td>0.0</td>\n",
       "      <td>0.0</td>\n",
       "      <td>0.0</td>\n",
       "      <td>0.0</td>\n",
       "      <td>0.0</td>\n",
       "      <td>0.0</td>\n",
       "      <td>0.0</td>\n",
       "    </tr>\n",
       "    <tr>\n",
       "      <th>見えないヴァンパイアを攻撃します</th>\n",
       "      <td>0.0</td>\n",
       "      <td>0.0</td>\n",
       "      <td>0.0</td>\n",
       "      <td>0.0</td>\n",
       "      <td>0.0</td>\n",
       "      <td>0.0</td>\n",
       "      <td>0.0</td>\n",
       "      <td>0.0</td>\n",
       "      <td>0.0</td>\n",
       "      <td>0.0</td>\n",
       "      <td>...</td>\n",
       "      <td>0.0</td>\n",
       "      <td>0.0</td>\n",
       "      <td>0.0</td>\n",
       "      <td>0.0</td>\n",
       "      <td>0.0</td>\n",
       "      <td>0.0</td>\n",
       "      <td>0.0</td>\n",
       "      <td>0.0</td>\n",
       "      <td>0.0</td>\n",
       "      <td>0.0</td>\n",
       "    </tr>\n",
       "    <tr>\n",
       "      <th>読めない文字で綴られた手紙</th>\n",
       "      <td>0.0</td>\n",
       "      <td>0.0</td>\n",
       "      <td>0.0</td>\n",
       "      <td>0.0</td>\n",
       "      <td>0.0</td>\n",
       "      <td>0.0</td>\n",
       "      <td>0.0</td>\n",
       "      <td>0.0</td>\n",
       "      <td>0.0</td>\n",
       "      <td>0.0</td>\n",
       "      <td>...</td>\n",
       "      <td>0.0</td>\n",
       "      <td>0.0</td>\n",
       "      <td>0.0</td>\n",
       "      <td>0.0</td>\n",
       "      <td>0.0</td>\n",
       "      <td>0.0</td>\n",
       "      <td>0.0</td>\n",
       "      <td>0.0</td>\n",
       "      <td>0.0</td>\n",
       "      <td>0.0</td>\n",
       "    </tr>\n",
       "    <tr>\n",
       "      <th>通常のカードセットに加えて</th>\n",
       "      <td>0.0</td>\n",
       "      <td>0.0</td>\n",
       "      <td>0.0</td>\n",
       "      <td>0.0</td>\n",
       "      <td>0.0</td>\n",
       "      <td>0.0</td>\n",
       "      <td>0.0</td>\n",
       "      <td>0.0</td>\n",
       "      <td>0.0</td>\n",
       "      <td>0.0</td>\n",
       "      <td>...</td>\n",
       "      <td>0.0</td>\n",
       "      <td>0.0</td>\n",
       "      <td>0.0</td>\n",
       "      <td>0.0</td>\n",
       "      <td>0.0</td>\n",
       "      <td>0.0</td>\n",
       "      <td>0.0</td>\n",
       "      <td>0.0</td>\n",
       "      <td>0.0</td>\n",
       "      <td>0.0</td>\n",
       "    </tr>\n",
       "    <tr>\n",
       "      <th>駒はありませんが</th>\n",
       "      <td>0.0</td>\n",
       "      <td>0.0</td>\n",
       "      <td>0.0</td>\n",
       "      <td>0.0</td>\n",
       "      <td>0.0</td>\n",
       "      <td>0.0</td>\n",
       "      <td>0.0</td>\n",
       "      <td>0.0</td>\n",
       "      <td>0.0</td>\n",
       "      <td>0.0</td>\n",
       "      <td>...</td>\n",
       "      <td>0.0</td>\n",
       "      <td>0.0</td>\n",
       "      <td>0.0</td>\n",
       "      <td>0.0</td>\n",
       "      <td>0.0</td>\n",
       "      <td>0.0</td>\n",
       "      <td>0.0</td>\n",
       "      <td>0.0</td>\n",
       "      <td>0.0</td>\n",
       "      <td>0.0</td>\n",
       "    </tr>\n",
       "  </tbody>\n",
       "</table>\n",
       "<p>16660 rows × 2143 columns</p>\n",
       "</div>"
      ],
      "text/plain": [
       "                  148494  316377  155987  21569  31260  161970  124742  17329  \\\n",
       "00                   0.0     0.0     0.0    0.0    0.0     0.0     0.0    0.0   \n",
       "000                  0.0     0.0     0.0    0.0    0.0     0.0     0.0    0.0   \n",
       "007                  0.0     0.0     0.0    0.0    0.0     0.0     0.0    0.0   \n",
       "010                  0.0     0.0     0.0    0.0    0.0     0.0     0.0    0.0   \n",
       "0100                 0.0     0.0     0.0    0.0    0.0     0.0     0.0    0.0   \n",
       "...                  ...     ...     ...    ...    ...     ...     ...    ...   \n",
       "虚空に向けて銃を撃ち           0.0     0.0     0.0    0.0    0.0     0.0     0.0    0.0   \n",
       "見えないヴァンパイアを攻撃します     0.0     0.0     0.0    0.0    0.0     0.0     0.0    0.0   \n",
       "読めない文字で綴られた手紙        0.0     0.0     0.0    0.0    0.0     0.0     0.0    0.0   \n",
       "通常のカードセットに加えて        0.0     0.0     0.0    0.0    0.0     0.0     0.0    0.0   \n",
       "駒はありませんが             0.0     0.0     0.0    0.0    0.0     0.0     0.0    0.0   \n",
       "\n",
       "                  25643  12005  ...  180771  321720  170416  224783  247585  \\\n",
       "00                  0.0    0.0  ...     0.0     0.0     0.0     0.0     0.0   \n",
       "000                 0.0    0.0  ...     0.0     0.0     0.0     0.0     0.0   \n",
       "007                 0.0    0.0  ...     0.0     0.0     0.0     0.0     0.0   \n",
       "010                 0.0    0.0  ...     0.0     0.0     0.0     0.0     0.0   \n",
       "0100                0.0    0.0  ...     0.0     0.0     0.0     0.0     0.0   \n",
       "...                 ...    ...  ...     ...     ...     ...     ...     ...   \n",
       "虚空に向けて銃を撃ち          0.0    0.0  ...     0.0     0.0     0.0     0.0     0.0   \n",
       "見えないヴァンパイアを攻撃します    0.0    0.0  ...     0.0     0.0     0.0     0.0     0.0   \n",
       "読めない文字で綴られた手紙       0.0    0.0  ...     0.0     0.0     0.0     0.0     0.0   \n",
       "通常のカードセットに加えて       0.0    0.0  ...     0.0     0.0     0.0     0.0     0.0   \n",
       "駒はありませんが            0.0    0.0  ...     0.0     0.0     0.0     0.0     0.0   \n",
       "\n",
       "                  282216  200750  224710  230345  248065  \n",
       "00                   0.0     0.0     0.0     0.0     0.0  \n",
       "000                  0.0     0.0     0.0     0.0     0.0  \n",
       "007                  0.0     0.0     0.0     0.0     0.0  \n",
       "010                  0.0     0.0     0.0     0.0     0.0  \n",
       "0100                 0.0     0.0     0.0     0.0     0.0  \n",
       "...                  ...     ...     ...     ...     ...  \n",
       "虚空に向けて銃を撃ち           0.0     0.0     0.0     0.0     0.0  \n",
       "見えないヴァンパイアを攻撃します     0.0     0.0     0.0     0.0     0.0  \n",
       "読めない文字で綴られた手紙        0.0     0.0     0.0     0.0     0.0  \n",
       "通常のカードセットに加えて        0.0     0.0     0.0     0.0     0.0  \n",
       "駒はありませんが             0.0     0.0     0.0     0.0     0.0  \n",
       "\n",
       "[16660 rows x 2143 columns]"
      ]
     },
     "execution_count": 29,
     "metadata": {},
     "output_type": "execute_result"
    }
   ],
   "source": [
    "term_document_matrix_tfi"
   ]
  },
  {
   "cell_type": "code",
   "execution_count": 35,
   "id": "1602e556-a78b-4249-8aaa-f791d352d072",
   "metadata": {
    "tags": []
   },
   "outputs": [],
   "source": [
    "relevant_words= set()\n",
    "for column in df_text.GameId.unique():\n",
    "    ls_words=list(term_document_matrix_tfi.sort_values(by=str(column), ascending=False)[:5].index)\n",
    "    for word in ls_words:\n",
    "        relevant_words.add(word)"
   ]
  },
  {
   "cell_type": "code",
   "execution_count": 36,
   "id": "4f4f47b9-5b26-4ea7-940a-d702152e756a",
   "metadata": {
    "tags": []
   },
   "outputs": [],
   "source": [
    "term_document_matrix= term_document_matrix_tfi.filter(items=list(relevant_words), axis=0).T"
   ]
  },
  {
   "cell_type": "code",
   "execution_count": 38,
   "id": "5bfedfd3-c867-4651-a0b5-9034295742cf",
   "metadata": {
    "tags": []
   },
   "outputs": [
    {
     "data": {
      "text/html": [
       "<div>\n",
       "<style scoped>\n",
       "    .dataframe tbody tr th:only-of-type {\n",
       "        vertical-align: middle;\n",
       "    }\n",
       "\n",
       "    .dataframe tbody tr th {\n",
       "        vertical-align: top;\n",
       "    }\n",
       "\n",
       "    .dataframe thead th {\n",
       "        text-align: right;\n",
       "    }\n",
       "</style>\n",
       "<table border=\"1\" class=\"dataframe\">\n",
       "  <thead>\n",
       "    <tr style=\"text-align: right;\">\n",
       "      <th></th>\n",
       "      <th>swintus</th>\n",
       "      <th>persuas</th>\n",
       "      <th>unmatch</th>\n",
       "      <th>tokugawa</th>\n",
       "      <th>suburbia</th>\n",
       "      <th>seamless</th>\n",
       "      <th>plastic</th>\n",
       "      <th>state</th>\n",
       "      <th>360</th>\n",
       "      <th>bean</th>\n",
       "      <th>...</th>\n",
       "      <th>paddl</th>\n",
       "      <th>supermarket</th>\n",
       "      <th>taboo</th>\n",
       "      <th>export</th>\n",
       "      <th>pepper</th>\n",
       "      <th>concordia</th>\n",
       "      <th>maus</th>\n",
       "      <th>rogu</th>\n",
       "      <th>natur</th>\n",
       "      <th>orbit</th>\n",
       "    </tr>\n",
       "  </thead>\n",
       "  <tbody>\n",
       "    <tr>\n",
       "      <th>303650</th>\n",
       "      <td>0.0</td>\n",
       "      <td>0.0</td>\n",
       "      <td>0.0</td>\n",
       "      <td>0.0</td>\n",
       "      <td>0.0</td>\n",
       "      <td>0.0</td>\n",
       "      <td>0.0</td>\n",
       "      <td>0.0</td>\n",
       "      <td>0.0</td>\n",
       "      <td>0.0</td>\n",
       "      <td>...</td>\n",
       "      <td>0.0</td>\n",
       "      <td>0.0</td>\n",
       "      <td>0.0</td>\n",
       "      <td>0.0</td>\n",
       "      <td>0.0</td>\n",
       "      <td>0.0</td>\n",
       "      <td>0.0</td>\n",
       "      <td>0.0</td>\n",
       "      <td>0.000000</td>\n",
       "      <td>0.0</td>\n",
       "    </tr>\n",
       "    <tr>\n",
       "      <th>287941</th>\n",
       "      <td>0.0</td>\n",
       "      <td>0.0</td>\n",
       "      <td>0.0</td>\n",
       "      <td>0.0</td>\n",
       "      <td>0.0</td>\n",
       "      <td>0.0</td>\n",
       "      <td>0.0</td>\n",
       "      <td>0.0</td>\n",
       "      <td>0.0</td>\n",
       "      <td>0.0</td>\n",
       "      <td>...</td>\n",
       "      <td>0.0</td>\n",
       "      <td>0.0</td>\n",
       "      <td>0.0</td>\n",
       "      <td>0.0</td>\n",
       "      <td>0.0</td>\n",
       "      <td>0.0</td>\n",
       "      <td>0.0</td>\n",
       "      <td>0.0</td>\n",
       "      <td>0.000000</td>\n",
       "      <td>0.0</td>\n",
       "    </tr>\n",
       "    <tr>\n",
       "      <th>230244</th>\n",
       "      <td>0.0</td>\n",
       "      <td>0.0</td>\n",
       "      <td>0.0</td>\n",
       "      <td>0.0</td>\n",
       "      <td>0.0</td>\n",
       "      <td>0.0</td>\n",
       "      <td>0.0</td>\n",
       "      <td>0.0</td>\n",
       "      <td>0.0</td>\n",
       "      <td>0.0</td>\n",
       "      <td>...</td>\n",
       "      <td>0.0</td>\n",
       "      <td>0.0</td>\n",
       "      <td>0.0</td>\n",
       "      <td>0.0</td>\n",
       "      <td>0.0</td>\n",
       "      <td>0.0</td>\n",
       "      <td>0.0</td>\n",
       "      <td>0.0</td>\n",
       "      <td>0.061311</td>\n",
       "      <td>0.0</td>\n",
       "    </tr>\n",
       "    <tr>\n",
       "      <th>98351</th>\n",
       "      <td>0.0</td>\n",
       "      <td>0.0</td>\n",
       "      <td>0.0</td>\n",
       "      <td>0.0</td>\n",
       "      <td>0.0</td>\n",
       "      <td>0.0</td>\n",
       "      <td>0.0</td>\n",
       "      <td>0.0</td>\n",
       "      <td>0.0</td>\n",
       "      <td>0.0</td>\n",
       "      <td>...</td>\n",
       "      <td>0.0</td>\n",
       "      <td>0.0</td>\n",
       "      <td>0.0</td>\n",
       "      <td>0.0</td>\n",
       "      <td>0.0</td>\n",
       "      <td>0.0</td>\n",
       "      <td>0.0</td>\n",
       "      <td>0.0</td>\n",
       "      <td>0.000000</td>\n",
       "      <td>0.0</td>\n",
       "    </tr>\n",
       "    <tr>\n",
       "      <th>150485</th>\n",
       "      <td>0.0</td>\n",
       "      <td>0.0</td>\n",
       "      <td>0.0</td>\n",
       "      <td>0.0</td>\n",
       "      <td>0.0</td>\n",
       "      <td>0.0</td>\n",
       "      <td>0.0</td>\n",
       "      <td>0.0</td>\n",
       "      <td>0.0</td>\n",
       "      <td>0.0</td>\n",
       "      <td>...</td>\n",
       "      <td>0.0</td>\n",
       "      <td>0.0</td>\n",
       "      <td>0.0</td>\n",
       "      <td>0.0</td>\n",
       "      <td>0.0</td>\n",
       "      <td>0.0</td>\n",
       "      <td>0.0</td>\n",
       "      <td>0.0</td>\n",
       "      <td>0.000000</td>\n",
       "      <td>0.0</td>\n",
       "    </tr>\n",
       "  </tbody>\n",
       "</table>\n",
       "<p>5 rows × 4795 columns</p>\n",
       "</div>"
      ],
      "text/plain": [
       "        swintus  persuas  unmatch  tokugawa  suburbia  seamless  plastic  \\\n",
       "303650      0.0      0.0      0.0       0.0       0.0       0.0      0.0   \n",
       "287941      0.0      0.0      0.0       0.0       0.0       0.0      0.0   \n",
       "230244      0.0      0.0      0.0       0.0       0.0       0.0      0.0   \n",
       "98351       0.0      0.0      0.0       0.0       0.0       0.0      0.0   \n",
       "150485      0.0      0.0      0.0       0.0       0.0       0.0      0.0   \n",
       "\n",
       "        state  360  bean  ...  paddl  supermarket  taboo  export  pepper  \\\n",
       "303650    0.0  0.0   0.0  ...    0.0          0.0    0.0     0.0     0.0   \n",
       "287941    0.0  0.0   0.0  ...    0.0          0.0    0.0     0.0     0.0   \n",
       "230244    0.0  0.0   0.0  ...    0.0          0.0    0.0     0.0     0.0   \n",
       "98351     0.0  0.0   0.0  ...    0.0          0.0    0.0     0.0     0.0   \n",
       "150485    0.0  0.0   0.0  ...    0.0          0.0    0.0     0.0     0.0   \n",
       "\n",
       "        concordia  maus  rogu     natur  orbit  \n",
       "303650        0.0   0.0   0.0  0.000000    0.0  \n",
       "287941        0.0   0.0   0.0  0.000000    0.0  \n",
       "230244        0.0   0.0   0.0  0.061311    0.0  \n",
       "98351         0.0   0.0   0.0  0.000000    0.0  \n",
       "150485        0.0   0.0   0.0  0.000000    0.0  \n",
       "\n",
       "[5 rows x 4795 columns]"
      ]
     },
     "execution_count": 38,
     "metadata": {},
     "output_type": "execute_result"
    }
   ],
   "source": [
    "term_document_matrix.sample(5)"
   ]
  },
  {
   "cell_type": "code",
   "execution_count": 39,
   "id": "eab4f35f-973e-458e-91a2-bce1b403d09a",
   "metadata": {
    "tags": []
   },
   "outputs": [],
   "source": [
    "term_document_matrix.to_csv(\"top5.csv\")"
   ]
  },
  {
   "cell_type": "markdown",
   "id": "f00da137-7d5f-4219-ad68-1e417f9ce2cc",
   "metadata": {},
   "source": [
    "### Doc Term"
   ]
  },
  {
   "cell_type": "code",
   "execution_count": 40,
   "id": "0c7cd843-eeec-4954-85ef-cc0b1c026da7",
   "metadata": {
    "tags": []
   },
   "outputs": [],
   "source": [
    "from sklearn.feature_extraction.text import CountVectorizer"
   ]
  },
  {
   "cell_type": "code",
   "execution_count": 60,
   "id": "8b5b013c-fcb1-4e6b-83e0-8c08b325b3c5",
   "metadata": {
    "tags": []
   },
   "outputs": [],
   "source": [
    "dc_games= dict(df_boardgames[\"GameId\"])"
   ]
  },
  {
   "cell_type": "code",
   "execution_count": 69,
   "id": "d146ba98-f248-41f3-aeee-b96e47e5556f",
   "metadata": {
    "tags": []
   },
   "outputs": [],
   "source": [
    "vect = CountVectorizer()  \n",
    "vects = vect.fit_transform(df_text[\"Description\"])"
   ]
  },
  {
   "cell_type": "code",
   "execution_count": 70,
   "id": "6a70c1af-bde7-4b03-84b2-d6bc7e369bf8",
   "metadata": {
    "tags": []
   },
   "outputs": [],
   "source": [
    "td = pd.DataFrame(vects.todense())"
   ]
  },
  {
   "cell_type": "code",
   "execution_count": 71,
   "id": "0511891a-84e6-4769-b8a3-19a892992be0",
   "metadata": {
    "tags": []
   },
   "outputs": [],
   "source": [
    "td.columns = vect.get_feature_names_out()\n",
    "term_document_matrix = td.T"
   ]
  },
  {
   "cell_type": "code",
   "execution_count": 72,
   "id": "f8a4521b-44b9-433f-91cb-50335777b6dc",
   "metadata": {
    "tags": []
   },
   "outputs": [],
   "source": [
    "term_document_matrix.rename(columns=dc_games, inplace=True)"
   ]
  },
  {
   "cell_type": "code",
   "execution_count": 73,
   "id": "87bf58a4-e7d2-47d5-bbb4-ddb8e27f157a",
   "metadata": {
    "tags": []
   },
   "outputs": [],
   "source": [
    "term_document_matrix['total_count'] = term_document_matrix.sum(axis=1)"
   ]
  },
  {
   "cell_type": "code",
   "execution_count": 74,
   "id": "ddfaa270-ed21-4c9d-bfbe-8d56a56d9580",
   "metadata": {
    "tags": []
   },
   "outputs": [],
   "source": [
    "# Top 25 words \n",
    "top = term_document_matrix.sort_values(by ='total_count',ascending=False)[:100] "
   ]
  },
  {
   "cell_type": "code",
   "execution_count": 77,
   "id": "3ea0a816-6c1e-4c7d-9c9f-040a5b2a4458",
   "metadata": {
    "tags": []
   },
   "outputs": [],
   "source": [
    "top.T.to_csv(\"Top100.csv\")"
   ]
  },
  {
   "cell_type": "code",
   "execution_count": 78,
   "id": "d4eaf558-b16e-4239-8655-6f5612e699a1",
   "metadata": {
    "tags": []
   },
   "outputs": [
    {
     "data": {
      "text/html": [
       "<div>\n",
       "<style scoped>\n",
       "    .dataframe tbody tr th:only-of-type {\n",
       "        vertical-align: middle;\n",
       "    }\n",
       "\n",
       "    .dataframe tbody tr th {\n",
       "        vertical-align: top;\n",
       "    }\n",
       "\n",
       "    .dataframe thead th {\n",
       "        text-align: right;\n",
       "    }\n",
       "</style>\n",
       "<table border=\"1\" class=\"dataframe\">\n",
       "  <thead>\n",
       "    <tr style=\"text-align: right;\">\n",
       "      <th></th>\n",
       "      <th>148494</th>\n",
       "      <th>316377</th>\n",
       "      <th>155987</th>\n",
       "      <th>21569</th>\n",
       "      <th>31260</th>\n",
       "      <th>161970</th>\n",
       "      <th>124742</th>\n",
       "      <th>17329</th>\n",
       "      <th>25643</th>\n",
       "      <th>12005</th>\n",
       "      <th>...</th>\n",
       "      <th>321720</th>\n",
       "      <th>170416</th>\n",
       "      <th>224783</th>\n",
       "      <th>247585</th>\n",
       "      <th>282216</th>\n",
       "      <th>200750</th>\n",
       "      <th>224710</th>\n",
       "      <th>230345</th>\n",
       "      <th>248065</th>\n",
       "      <th>total_count</th>\n",
       "    </tr>\n",
       "  </thead>\n",
       "  <tbody>\n",
       "    <tr>\n",
       "      <th>player</th>\n",
       "      <td>3</td>\n",
       "      <td>4</td>\n",
       "      <td>4</td>\n",
       "      <td>0</td>\n",
       "      <td>4</td>\n",
       "      <td>6</td>\n",
       "      <td>2</td>\n",
       "      <td>4</td>\n",
       "      <td>4</td>\n",
       "      <td>4</td>\n",
       "      <td>...</td>\n",
       "      <td>0</td>\n",
       "      <td>0</td>\n",
       "      <td>2</td>\n",
       "      <td>7</td>\n",
       "      <td>3</td>\n",
       "      <td>1</td>\n",
       "      <td>3</td>\n",
       "      <td>1</td>\n",
       "      <td>3</td>\n",
       "      <td>7531</td>\n",
       "    </tr>\n",
       "    <tr>\n",
       "      <th>game</th>\n",
       "      <td>1</td>\n",
       "      <td>9</td>\n",
       "      <td>2</td>\n",
       "      <td>2</td>\n",
       "      <td>5</td>\n",
       "      <td>4</td>\n",
       "      <td>3</td>\n",
       "      <td>2</td>\n",
       "      <td>2</td>\n",
       "      <td>0</td>\n",
       "      <td>...</td>\n",
       "      <td>3</td>\n",
       "      <td>1</td>\n",
       "      <td>3</td>\n",
       "      <td>5</td>\n",
       "      <td>4</td>\n",
       "      <td>0</td>\n",
       "      <td>0</td>\n",
       "      <td>0</td>\n",
       "      <td>3</td>\n",
       "      <td>6161</td>\n",
       "    </tr>\n",
       "    <tr>\n",
       "      <th>card</th>\n",
       "      <td>0</td>\n",
       "      <td>8</td>\n",
       "      <td>3</td>\n",
       "      <td>0</td>\n",
       "      <td>7</td>\n",
       "      <td>0</td>\n",
       "      <td>4</td>\n",
       "      <td>0</td>\n",
       "      <td>1</td>\n",
       "      <td>9</td>\n",
       "      <td>...</td>\n",
       "      <td>2</td>\n",
       "      <td>0</td>\n",
       "      <td>1</td>\n",
       "      <td>0</td>\n",
       "      <td>2</td>\n",
       "      <td>4</td>\n",
       "      <td>2</td>\n",
       "      <td>3</td>\n",
       "      <td>0</td>\n",
       "      <td>5256</td>\n",
       "    </tr>\n",
       "    <tr>\n",
       "      <th>one</th>\n",
       "      <td>1</td>\n",
       "      <td>1</td>\n",
       "      <td>1</td>\n",
       "      <td>0</td>\n",
       "      <td>3</td>\n",
       "      <td>0</td>\n",
       "      <td>0</td>\n",
       "      <td>2</td>\n",
       "      <td>1</td>\n",
       "      <td>1</td>\n",
       "      <td>...</td>\n",
       "      <td>1</td>\n",
       "      <td>2</td>\n",
       "      <td>0</td>\n",
       "      <td>0</td>\n",
       "      <td>0</td>\n",
       "      <td>0</td>\n",
       "      <td>1</td>\n",
       "      <td>0</td>\n",
       "      <td>1</td>\n",
       "      <td>2657</td>\n",
       "    </tr>\n",
       "    <tr>\n",
       "      <th>play</th>\n",
       "      <td>1</td>\n",
       "      <td>3</td>\n",
       "      <td>0</td>\n",
       "      <td>0</td>\n",
       "      <td>2</td>\n",
       "      <td>5</td>\n",
       "      <td>0</td>\n",
       "      <td>0</td>\n",
       "      <td>1</td>\n",
       "      <td>2</td>\n",
       "      <td>...</td>\n",
       "      <td>0</td>\n",
       "      <td>2</td>\n",
       "      <td>2</td>\n",
       "      <td>0</td>\n",
       "      <td>1</td>\n",
       "      <td>0</td>\n",
       "      <td>0</td>\n",
       "      <td>0</td>\n",
       "      <td>1</td>\n",
       "      <td>2231</td>\n",
       "    </tr>\n",
       "    <tr>\n",
       "      <th>...</th>\n",
       "      <td>...</td>\n",
       "      <td>...</td>\n",
       "      <td>...</td>\n",
       "      <td>...</td>\n",
       "      <td>...</td>\n",
       "      <td>...</td>\n",
       "      <td>...</td>\n",
       "      <td>...</td>\n",
       "      <td>...</td>\n",
       "      <td>...</td>\n",
       "      <td>...</td>\n",
       "      <td>...</td>\n",
       "      <td>...</td>\n",
       "      <td>...</td>\n",
       "      <td>...</td>\n",
       "      <td>...</td>\n",
       "      <td>...</td>\n",
       "      <td>...</td>\n",
       "      <td>...</td>\n",
       "      <td>...</td>\n",
       "      <td>...</td>\n",
       "    </tr>\n",
       "    <tr>\n",
       "      <th>expans</th>\n",
       "      <td>0</td>\n",
       "      <td>0</td>\n",
       "      <td>0</td>\n",
       "      <td>0</td>\n",
       "      <td>0</td>\n",
       "      <td>0</td>\n",
       "      <td>0</td>\n",
       "      <td>0</td>\n",
       "      <td>0</td>\n",
       "      <td>0</td>\n",
       "      <td>...</td>\n",
       "      <td>3</td>\n",
       "      <td>0</td>\n",
       "      <td>0</td>\n",
       "      <td>0</td>\n",
       "      <td>0</td>\n",
       "      <td>0</td>\n",
       "      <td>0</td>\n",
       "      <td>0</td>\n",
       "      <td>0</td>\n",
       "      <td>338</td>\n",
       "    </tr>\n",
       "    <tr>\n",
       "      <th>money</th>\n",
       "      <td>0</td>\n",
       "      <td>0</td>\n",
       "      <td>0</td>\n",
       "      <td>0</td>\n",
       "      <td>0</td>\n",
       "      <td>3</td>\n",
       "      <td>0</td>\n",
       "      <td>0</td>\n",
       "      <td>0</td>\n",
       "      <td>0</td>\n",
       "      <td>...</td>\n",
       "      <td>0</td>\n",
       "      <td>0</td>\n",
       "      <td>0</td>\n",
       "      <td>0</td>\n",
       "      <td>0</td>\n",
       "      <td>0</td>\n",
       "      <td>0</td>\n",
       "      <td>0</td>\n",
       "      <td>0</td>\n",
       "      <td>338</td>\n",
       "    </tr>\n",
       "    <tr>\n",
       "      <th>locat</th>\n",
       "      <td>0</td>\n",
       "      <td>0</td>\n",
       "      <td>2</td>\n",
       "      <td>0</td>\n",
       "      <td>0</td>\n",
       "      <td>0</td>\n",
       "      <td>0</td>\n",
       "      <td>0</td>\n",
       "      <td>0</td>\n",
       "      <td>0</td>\n",
       "      <td>...</td>\n",
       "      <td>0</td>\n",
       "      <td>0</td>\n",
       "      <td>1</td>\n",
       "      <td>0</td>\n",
       "      <td>0</td>\n",
       "      <td>0</td>\n",
       "      <td>1</td>\n",
       "      <td>0</td>\n",
       "      <td>1</td>\n",
       "      <td>332</td>\n",
       "    </tr>\n",
       "    <tr>\n",
       "      <th>around</th>\n",
       "      <td>0</td>\n",
       "      <td>0</td>\n",
       "      <td>0</td>\n",
       "      <td>0</td>\n",
       "      <td>0</td>\n",
       "      <td>0</td>\n",
       "      <td>0</td>\n",
       "      <td>0</td>\n",
       "      <td>0</td>\n",
       "      <td>2</td>\n",
       "      <td>...</td>\n",
       "      <td>0</td>\n",
       "      <td>0</td>\n",
       "      <td>0</td>\n",
       "      <td>3</td>\n",
       "      <td>0</td>\n",
       "      <td>0</td>\n",
       "      <td>1</td>\n",
       "      <td>0</td>\n",
       "      <td>0</td>\n",
       "      <td>332</td>\n",
       "    </tr>\n",
       "    <tr>\n",
       "      <th>give</th>\n",
       "      <td>1</td>\n",
       "      <td>0</td>\n",
       "      <td>0</td>\n",
       "      <td>0</td>\n",
       "      <td>0</td>\n",
       "      <td>0</td>\n",
       "      <td>0</td>\n",
       "      <td>0</td>\n",
       "      <td>0</td>\n",
       "      <td>0</td>\n",
       "      <td>...</td>\n",
       "      <td>0</td>\n",
       "      <td>0</td>\n",
       "      <td>0</td>\n",
       "      <td>0</td>\n",
       "      <td>0</td>\n",
       "      <td>0</td>\n",
       "      <td>0</td>\n",
       "      <td>1</td>\n",
       "      <td>0</td>\n",
       "      <td>331</td>\n",
       "    </tr>\n",
       "  </tbody>\n",
       "</table>\n",
       "<p>100 rows × 2144 columns</p>\n",
       "</div>"
      ],
      "text/plain": [
       "        148494  316377  155987  21569  31260  161970  124742  17329  25643  \\\n",
       "player       3       4       4      0      4       6       2      4      4   \n",
       "game         1       9       2      2      5       4       3      2      2   \n",
       "card         0       8       3      0      7       0       4      0      1   \n",
       "one          1       1       1      0      3       0       0      2      1   \n",
       "play         1       3       0      0      2       5       0      0      1   \n",
       "...        ...     ...     ...    ...    ...     ...     ...    ...    ...   \n",
       "expans       0       0       0      0      0       0       0      0      0   \n",
       "money        0       0       0      0      0       3       0      0      0   \n",
       "locat        0       0       2      0      0       0       0      0      0   \n",
       "around       0       0       0      0      0       0       0      0      0   \n",
       "give         1       0       0      0      0       0       0      0      0   \n",
       "\n",
       "        12005  ...  321720  170416  224783  247585  282216  200750  224710  \\\n",
       "player      4  ...       0       0       2       7       3       1       3   \n",
       "game        0  ...       3       1       3       5       4       0       0   \n",
       "card        9  ...       2       0       1       0       2       4       2   \n",
       "one         1  ...       1       2       0       0       0       0       1   \n",
       "play        2  ...       0       2       2       0       1       0       0   \n",
       "...       ...  ...     ...     ...     ...     ...     ...     ...     ...   \n",
       "expans      0  ...       3       0       0       0       0       0       0   \n",
       "money       0  ...       0       0       0       0       0       0       0   \n",
       "locat       0  ...       0       0       1       0       0       0       1   \n",
       "around      2  ...       0       0       0       3       0       0       1   \n",
       "give        0  ...       0       0       0       0       0       0       0   \n",
       "\n",
       "        230345  248065  total_count  \n",
       "player       1       3         7531  \n",
       "game         0       3         6161  \n",
       "card         3       0         5256  \n",
       "one          0       1         2657  \n",
       "play         0       1         2231  \n",
       "...        ...     ...          ...  \n",
       "expans       0       0          338  \n",
       "money        0       0          338  \n",
       "locat        0       1          332  \n",
       "around       0       0          332  \n",
       "give         1       0          331  \n",
       "\n",
       "[100 rows x 2144 columns]"
      ]
     },
     "execution_count": 78,
     "metadata": {},
     "output_type": "execute_result"
    }
   ],
   "source": [
    "top"
   ]
  },
  {
   "cell_type": "markdown",
   "id": "837f5d62-93cd-4b6a-9fb1-84d377983ba7",
   "metadata": {},
   "source": [
    "## Add text"
   ]
  },
  {
   "cell_type": "code",
   "execution_count": 4,
   "id": "36b544d3-136e-4d7a-b118-d5428c4f6298",
   "metadata": {},
   "outputs": [],
   "source": [
    "df_top5=pd.read_csv(\"top5.csv\")\n",
    "df_top10=pd.read_csv(\"top10.csv\")\n",
    "df_top100=pd.read_csv(\"Top100.csv\")"
   ]
  },
  {
   "cell_type": "code",
   "execution_count": 16,
   "id": "0f2cb783-ab21-4447-bded-2ff49e7aba94",
   "metadata": {
    "tags": []
   },
   "outputs": [],
   "source": [
    "df_top100=df_top100.iloc[:-1,:]"
   ]
  },
  {
   "cell_type": "code",
   "execution_count": 17,
   "id": "a8a03bbc-418d-4ff1-a037-8b7b2f514064",
   "metadata": {
    "tags": []
   },
   "outputs": [
    {
     "data": {
      "text/plain": [
       "Index(['Unnamed: 0', 'player', 'game', 'card', 'one', 'play', 'point', 'new',\n",
       "       'take', 'use',\n",
       "       ...\n",
       "       'anoth', 'combin', 'even', 'possibl', 'help', 'expans', 'money',\n",
       "       'locat', 'around', 'give'],\n",
       "      dtype='object', length=101)"
      ]
     },
     "execution_count": 17,
     "metadata": {},
     "output_type": "execute_result"
    }
   ],
   "source": [
    "df_top100.columns"
   ]
  },
  {
   "cell_type": "code",
   "execution_count": 20,
   "id": "cd3c45a7-f595-4673-8572-87895a87fcce",
   "metadata": {
    "tags": []
   },
   "outputs": [],
   "source": [
    "dc_description= dict(df_boardgames.set_index(\"GameId\")[\"Description\"])"
   ]
  },
  {
   "cell_type": "code",
   "execution_count": 30,
   "id": "4cec3e79-1c8b-41e0-8a33-7c6250a29c3e",
   "metadata": {
    "tags": []
   },
   "outputs": [],
   "source": [
    "ls_dfs= [df_top5,df_top10,df_top100]"
   ]
  },
  {
   "cell_type": "code",
   "execution_count": 33,
   "id": "cb788163-d998-40c2-abfd-564ba2c9fa52",
   "metadata": {
    "tags": []
   },
   "outputs": [
    {
     "name": "stderr",
     "output_type": "stream",
     "text": [
      "/tmp/ipykernel_4224/3856450850.py:1: SettingWithCopyWarning: \n",
      "A value is trying to be set on a copy of a slice from a DataFrame.\n",
      "Try using .loc[row_indexer,col_indexer] = value instead\n",
      "\n",
      "See the caveats in the documentation: https://pandas.pydata.org/pandas-docs/stable/user_guide/indexing.html#returning-a-view-versus-a-copy\n",
      "  df_top100[\"Description\"]= df['Unnamed: 0'].apply(lambda x: dc_description[int(x)])\n"
     ]
    }
   ],
   "source": [
    " df_top100[\"Description\"]= df['Unnamed: 0'].apply(lambda x: dc_description[int(x)])"
   ]
  },
  {
   "cell_type": "code",
   "execution_count": 35,
   "id": "a7fa4dc0-763b-4dc8-97d5-3e412f460965",
   "metadata": {
    "tags": []
   },
   "outputs": [],
   "source": [
    "df_top100.to_csv(\"top100.csv\", index=False)"
   ]
  },
  {
   "cell_type": "code",
   "execution_count": 27,
   "id": "672e3e25-86bb-4546-8db4-28e87ff30fe6",
   "metadata": {
    "tags": []
   },
   "outputs": [
    {
     "name": "stderr",
     "output_type": "stream",
     "text": [
      "/tmp/ipykernel_4224/1176632483.py:2: SettingWithCopyWarning: \n",
      "A value is trying to be set on a copy of a slice from a DataFrame.\n",
      "Try using .loc[row_indexer,col_indexer] = value instead\n",
      "\n",
      "See the caveats in the documentation: https://pandas.pydata.org/pandas-docs/stable/user_guide/indexing.html#returning-a-view-versus-a-copy\n",
      "  df[\"Description\"]= df['Unnamed: 0'].apply(lambda x: dc_description[int(x)])\n"
     ]
    }
   ],
   "source": [
    "for df in ls_dfs:\n",
    "        df[\"Description\"]= df['Unnamed: 0'].apply(lambda x: dc_description[int(x)])"
   ]
  },
  {
   "cell_type": "code",
   "execution_count": 31,
   "id": "a588041f-63b7-4834-a5ba-5ad8d8d0e36e",
   "metadata": {
    "tags": []
   },
   "outputs": [],
   "source": [
    "for i, name in enumerate([\"5\",\"10\",\"100\"]):\n",
    "    df= ls_dfs[i]\n",
    "    df.to_csv(\"top\"+name+\".csv\", index=False)"
   ]
  },
  {
   "cell_type": "code",
   "execution_count": null,
   "id": "5308974a-26dc-4635-af42-d44a3b0e01bc",
   "metadata": {},
   "outputs": [],
   "source": []
  }
 ],
 "metadata": {
  "kernelspec": {
   "display_name": "pylab",
   "language": "python",
   "name": "pylab"
  },
  "language_info": {
   "codemirror_mode": {
    "name": "ipython",
    "version": 3
   },
   "file_extension": ".py",
   "mimetype": "text/x-python",
   "name": "python",
   "nbconvert_exporter": "python",
   "pygments_lexer": "ipython3",
   "version": "3.10.6"
  }
 },
 "nbformat": 4,
 "nbformat_minor": 5
}
