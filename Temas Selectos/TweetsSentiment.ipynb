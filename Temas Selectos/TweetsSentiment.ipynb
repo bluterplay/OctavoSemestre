{
 "cells": [
  {
   "cell_type": "markdown",
   "id": "37568c75-2cda-4f2c-868f-47727ebcbea2",
   "metadata": {},
   "source": [
    "## Modules"
   ]
  },
  {
   "cell_type": "code",
   "execution_count": 240,
   "id": "41462b8a-a91b-491e-9b0c-1978e42902dc",
   "metadata": {
    "tags": []
   },
   "outputs": [
    {
     "data": {
      "text/html": [
       "        <script type=\"text/javascript\">\n",
       "        window.PlotlyConfig = {MathJaxConfig: 'local'};\n",
       "        if (window.MathJax && window.MathJax.Hub && window.MathJax.Hub.Config) {window.MathJax.Hub.Config({SVG: {font: \"STIX-Web\"}});}\n",
       "        if (typeof require !== 'undefined') {\n",
       "        require.undef(\"plotly\");\n",
       "        requirejs.config({\n",
       "            paths: {\n",
       "                'plotly': ['https://cdn.plot.ly/plotly-2.18.2.min']\n",
       "            }\n",
       "        });\n",
       "        require(['plotly'], function(Plotly) {\n",
       "            window._Plotly = Plotly;\n",
       "        });\n",
       "        }\n",
       "        </script>\n",
       "        "
      ]
     },
     "metadata": {},
     "output_type": "display_data"
    }
   ],
   "source": [
    "import pandas as pd\n",
    "import re\n",
    "import numpy as np\n",
    "import nltk\n",
    "from nltk.corpus import stopwords\n",
    "from nltk.stem import SnowballStemmer\n",
    "from dirty_cat import SimilarityEncoder\n",
    "\n",
    "from keras.models import Sequential\n",
    "from keras.layers import Dense\n",
    "from sklearn.model_selection import train_test_split\n",
    "from keras.callbacks import EarlyStopping, ModelCheckpoint\n",
    "from keras import metrics\n",
    "\n",
    "import pickle\n",
    "# Data visualization\n",
    "import cufflinks as cf\n",
    "\n",
    "import warnings\n",
    "cf.go_offline()\n",
    "warnings.filterwarnings(\"ignore\")\n",
    "pd.options.display.float_format = '{:,.2f}'.format"
   ]
  },
  {
   "cell_type": "markdown",
   "id": "36001b48-04b9-46b1-a1b0-6579de857b5e",
   "metadata": {},
   "source": [
    "## Relevant functions"
   ]
  },
  {
   "cell_type": "code",
   "execution_count": 50,
   "id": "12467da8-86c3-414c-9b8d-8000e266d48d",
   "metadata": {
    "tags": []
   },
   "outputs": [],
   "source": [
    "def splitSentimentScore(json):\n",
    "    return [x.split(\":\")[1] for x in json.split(\",\")]"
   ]
  },
  {
   "cell_type": "code",
   "execution_count": 110,
   "id": "c03aaa05-b949-43a6-9233-9965b13b8d18",
   "metadata": {
    "tags": []
   },
   "outputs": [],
   "source": [
    "def dropTwitterTags(tweet):\n",
    "    clean_tweet = re.sub(\"@[A-Za-z0-9_]+\",\"\", tweet)\n",
    "    clean_tweet = re.sub(\"#[A-Za-z0-9_]+\",\"\", clean_tweet)\n",
    "    clean_tweet = re.sub(r'http\\S+', \"\",clean_tweet)\n",
    "    return clean_tweet.strip()"
   ]
  },
  {
   "cell_type": "code",
   "execution_count": 159,
   "id": "66b14b63-0cc6-4fb0-a5b7-b8f618fea26d",
   "metadata": {
    "tags": []
   },
   "outputs": [],
   "source": [
    "def textPrepo(df):\n",
    "    df_text=df.copy()\n",
    "    #### Drop punctation and tags\n",
    "    df_text[\"tweet_text\"]= df_text[\"tweet_text\"].map(lambda x: dropTwitterTags(x))\n",
    "    punctuation_chars = '!\"#$%&\\'()*+,-./:;<=>?@[\\\\]^_`{}~|'\n",
    "    mapping_table = str.maketrans(\"\",\"\",punctuation_chars)\n",
    "    df_text[\"tweet_text\"]= df_text[\"tweet_text\"].map(lambda x: x.translate(mapping_table))\n",
    "    del punctuation_chars,mapping_table\n",
    "    #### Remove excedent spaces and capitals\n",
    "    df_text[\"tweet_text\"]= df_text[\"tweet_text\"].map(lambda x: x.lower())\n",
    "    df_text[\"tweet_text\"]= df_text[\"tweet_text\"].map(lambda x: re.sub(' +', ' ', x))\n",
    "    #### Stopwords and stemer\n",
    "    nltk.download('stopwords')\n",
    "    stopword_list  = stopwords.words('spanish')\n",
    "    df_text[\"tweet_text\"]= df_text[\"tweet_text\"].str.split()\n",
    "    df_text[\"tweet_text\"]= df_text[\"tweet_text\"].apply(lambda x: [i for i in x if i not in stopword_list])\n",
    "    stemmer = SnowballStemmer('spanish')\n",
    "    df_text[\"tweet_text\"]= df_text[\"tweet_text\"].apply(lambda x: [stemmer.stem(i) for i in x])\n",
    "    df_text[\"tweet_text\"]= df_text[\"tweet_text\"].apply(lambda x: ' '.join(x))\n",
    "    df_text[\"tweet_text\"]= df_text[\"tweet_text\"].map(lambda x: re.sub(' +', ' ', x))\n",
    "    del stopword_list,stemmer\n",
    "    return df_text"
   ]
  },
  {
   "cell_type": "markdown",
   "id": "9b569fe6-3729-4961-a4f8-d28ccaaca7d2",
   "metadata": {},
   "source": [
    "## Load data"
   ]
  },
  {
   "cell_type": "code",
   "execution_count": 2,
   "id": "b781026d-3281-49da-8c80-ac64b3c78821",
   "metadata": {
    "tags": []
   },
   "outputs": [],
   "source": [
    "data= pd.read_csv(\"Data/betsentiment-ES-tweets-sentiment-teams.csv\",encoding='latin-1')"
   ]
  },
  {
   "cell_type": "code",
   "execution_count": 3,
   "id": "84ef5375-79fd-436e-bc35-5280ad8ef0d0",
   "metadata": {
    "tags": []
   },
   "outputs": [
    {
     "data": {
      "text/html": [
       "<div>\n",
       "<style scoped>\n",
       "    .dataframe tbody tr th:only-of-type {\n",
       "        vertical-align: middle;\n",
       "    }\n",
       "\n",
       "    .dataframe tbody tr th {\n",
       "        vertical-align: top;\n",
       "    }\n",
       "\n",
       "    .dataframe thead th {\n",
       "        text-align: right;\n",
       "    }\n",
       "</style>\n",
       "<table border=\"1\" class=\"dataframe\">\n",
       "  <thead>\n",
       "    <tr style=\"text-align: right;\">\n",
       "      <th></th>\n",
       "      <th>tweet_date_created</th>\n",
       "      <th>tweet_id</th>\n",
       "      <th>tweet_text</th>\n",
       "      <th>language</th>\n",
       "      <th>sentiment</th>\n",
       "      <th>sentiment_score</th>\n",
       "    </tr>\n",
       "  </thead>\n",
       "  <tbody>\n",
       "    <tr>\n",
       "      <th>0</th>\n",
       "      <td>2018-08-08T13:09:15.489000</td>\n",
       "      <td>1027179935184703489</td>\n",
       "      <td>Alisson puede estar más tranquilo, no cargará ...</td>\n",
       "      <td>es</td>\n",
       "      <td>POSITIVE</td>\n",
       "      <td>{\"Neutral\":0.082259356975555419921875,\"Negativ...</td>\n",
       "    </tr>\n",
       "    <tr>\n",
       "      <th>1</th>\n",
       "      <td>2018-08-08T18:27:37.320000</td>\n",
       "      <td>1027260056092344320</td>\n",
       "      <td>@iPincheViky @ChelseaFC Es que el director eje...</td>\n",
       "      <td>es</td>\n",
       "      <td>NEUTRAL</td>\n",
       "      <td>{\"Neutral\":0.827011644840240478515625,\"Negativ...</td>\n",
       "    </tr>\n",
       "    <tr>\n",
       "      <th>2</th>\n",
       "      <td>2018-08-12T14:59:31.520000</td>\n",
       "      <td>1028657238116843520</td>\n",
       "      <td>Upto £100 #freebets &amp;gt; https://t.co/cbjeMXI9...</td>\n",
       "      <td>es</td>\n",
       "      <td>NEUTRAL</td>\n",
       "      <td>{\"Neutral\":0.930982112884521484375,\"Negative\":...</td>\n",
       "    </tr>\n",
       "    <tr>\n",
       "      <th>3</th>\n",
       "      <td>2018-08-04T13:23:30.257000</td>\n",
       "      <td>1025733971320160257</td>\n",
       "      <td>Bobby Duncan, primo de Steven Gerrard, deja la...</td>\n",
       "      <td>es</td>\n",
       "      <td>NEUTRAL</td>\n",
       "      <td>{\"Neutral\":0.906872212886810302734375,\"Negativ...</td>\n",
       "    </tr>\n",
       "    <tr>\n",
       "      <th>4</th>\n",
       "      <td>2018-07-28T11:21:06.480000</td>\n",
       "      <td>1023166450981396480</td>\n",
       "      <td>@TorreiraForeva @lepvtron @Arsenal @IntChampio...</td>\n",
       "      <td>es</td>\n",
       "      <td>NEUTRAL</td>\n",
       "      <td>{\"Neutral\":0.942405760288238525390625,\"Negativ...</td>\n",
       "    </tr>\n",
       "  </tbody>\n",
       "</table>\n",
       "</div>"
      ],
      "text/plain": [
       "           tweet_date_created             tweet_id  \\\n",
       "0  2018-08-08T13:09:15.489000  1027179935184703489   \n",
       "1  2018-08-08T18:27:37.320000  1027260056092344320   \n",
       "2  2018-08-12T14:59:31.520000  1028657238116843520   \n",
       "3  2018-08-04T13:23:30.257000  1025733971320160257   \n",
       "4  2018-07-28T11:21:06.480000  1023166450981396480   \n",
       "\n",
       "                                          tweet_text language sentiment  \\\n",
       "0  Alisson puede estar más tranquilo, no cargará ...       es  POSITIVE   \n",
       "1  @iPincheViky @ChelseaFC Es que el director eje...       es   NEUTRAL   \n",
       "2  Upto £100 #freebets &gt; https://t.co/cbjeMXI9...       es   NEUTRAL   \n",
       "3  Bobby Duncan, primo de Steven Gerrard, deja la...       es   NEUTRAL   \n",
       "4  @TorreiraForeva @lepvtron @Arsenal @IntChampio...       es   NEUTRAL   \n",
       "\n",
       "                                     sentiment_score  \n",
       "0  {\"Neutral\":0.082259356975555419921875,\"Negativ...  \n",
       "1  {\"Neutral\":0.827011644840240478515625,\"Negativ...  \n",
       "2  {\"Neutral\":0.930982112884521484375,\"Negative\":...  \n",
       "3  {\"Neutral\":0.906872212886810302734375,\"Negativ...  \n",
       "4  {\"Neutral\":0.942405760288238525390625,\"Negativ...  "
      ]
     },
     "execution_count": 3,
     "metadata": {},
     "output_type": "execute_result"
    }
   ],
   "source": [
    "data.head()"
   ]
  },
  {
   "cell_type": "markdown",
   "id": "3c938eda-9a8a-4c92-9fb2-b5fe4371271c",
   "metadata": {
    "tags": []
   },
   "source": [
    "## Preprocessing"
   ]
  },
  {
   "cell_type": "code",
   "execution_count": 111,
   "id": "c0faa289-ac2e-4a0a-99f5-b03e6b39e80c",
   "metadata": {
    "tags": []
   },
   "outputs": [],
   "source": [
    "df= data.copy()"
   ]
  },
  {
   "cell_type": "markdown",
   "id": "6353e035-3398-40a4-a128-3b20cdfcf941",
   "metadata": {},
   "source": [
    "### Split sentiment_score"
   ]
  },
  {
   "cell_type": "code",
   "execution_count": 112,
   "id": "5f634877-e807-4c65-a545-5eb8c4019d39",
   "metadata": {
    "tags": []
   },
   "outputs": [],
   "source": [
    "ls_neutral=[]\n",
    "ls_negative=[]\n",
    "ls_positive=[]\n",
    "ls_mixed=[]\n",
    "for _,row in df.iterrows():\n",
    "    json=row[\"sentiment_score\"][1:-1]\n",
    "    neutral,negative,positive,mixed= splitSentimentScore(json)\n",
    "    ls_neutral.append(float(neutral))\n",
    "    ls_negative.append(float(negative))\n",
    "    ls_positive.append(float(positive))\n",
    "    ls_mixed.append(float(mixed))\n",
    "    \n",
    "df[\"neutral\"]= ls_neutral\n",
    "df[\"negative\"]= ls_negative\n",
    "df[\"positive\"]= ls_positive\n",
    "df[\"mixed\"]= ls_mixed"
   ]
  },
  {
   "cell_type": "code",
   "execution_count": 113,
   "id": "d222a1fa-fa53-4344-a467-3dfdcd6842da",
   "metadata": {
    "tags": []
   },
   "outputs": [],
   "source": [
    "df.drop(columns=['tweet_date_created', 'language', 'sentiment','sentiment_score',], inplace=True)"
   ]
  },
  {
   "cell_type": "code",
   "execution_count": 114,
   "id": "fad5ede8-7490-4d20-9c23-79354050396c",
   "metadata": {
    "tags": []
   },
   "outputs": [
    {
     "data": {
      "text/html": [
       "<div>\n",
       "<style scoped>\n",
       "    .dataframe tbody tr th:only-of-type {\n",
       "        vertical-align: middle;\n",
       "    }\n",
       "\n",
       "    .dataframe tbody tr th {\n",
       "        vertical-align: top;\n",
       "    }\n",
       "\n",
       "    .dataframe thead th {\n",
       "        text-align: right;\n",
       "    }\n",
       "</style>\n",
       "<table border=\"1\" class=\"dataframe\">\n",
       "  <thead>\n",
       "    <tr style=\"text-align: right;\">\n",
       "      <th></th>\n",
       "      <th>tweet_id</th>\n",
       "      <th>tweet_text</th>\n",
       "      <th>neutral</th>\n",
       "      <th>negative</th>\n",
       "      <th>positive</th>\n",
       "      <th>mixed</th>\n",
       "    </tr>\n",
       "  </thead>\n",
       "  <tbody>\n",
       "    <tr>\n",
       "      <th>0</th>\n",
       "      <td>1027179935184703489</td>\n",
       "      <td>Alisson puede estar más tranquilo, no cargará ...</td>\n",
       "      <td>0.08</td>\n",
       "      <td>0.04</td>\n",
       "      <td>0.75</td>\n",
       "      <td>0.14</td>\n",
       "    </tr>\n",
       "    <tr>\n",
       "      <th>1</th>\n",
       "      <td>1027260056092344320</td>\n",
       "      <td>@iPincheViky @ChelseaFC Es que el director eje...</td>\n",
       "      <td>0.83</td>\n",
       "      <td>0.08</td>\n",
       "      <td>0.07</td>\n",
       "      <td>0.02</td>\n",
       "    </tr>\n",
       "    <tr>\n",
       "      <th>2</th>\n",
       "      <td>1028657238116843520</td>\n",
       "      <td>Upto £100 #freebets &amp;gt; https://t.co/cbjeMXI9...</td>\n",
       "      <td>0.93</td>\n",
       "      <td>0.03</td>\n",
       "      <td>0.03</td>\n",
       "      <td>0.01</td>\n",
       "    </tr>\n",
       "    <tr>\n",
       "      <th>3</th>\n",
       "      <td>1025733971320160257</td>\n",
       "      <td>Bobby Duncan, primo de Steven Gerrard, deja la...</td>\n",
       "      <td>0.91</td>\n",
       "      <td>0.06</td>\n",
       "      <td>0.02</td>\n",
       "      <td>0.01</td>\n",
       "    </tr>\n",
       "    <tr>\n",
       "      <th>4</th>\n",
       "      <td>1023166450981396480</td>\n",
       "      <td>@TorreiraForeva @lepvtron @Arsenal @IntChampio...</td>\n",
       "      <td>0.94</td>\n",
       "      <td>0.03</td>\n",
       "      <td>0.02</td>\n",
       "      <td>0.01</td>\n",
       "    </tr>\n",
       "  </tbody>\n",
       "</table>\n",
       "</div>"
      ],
      "text/plain": [
       "              tweet_id                                         tweet_text  \\\n",
       "0  1027179935184703489  Alisson puede estar más tranquilo, no cargará ...   \n",
       "1  1027260056092344320  @iPincheViky @ChelseaFC Es que el director eje...   \n",
       "2  1028657238116843520  Upto £100 #freebets &gt; https://t.co/cbjeMXI9...   \n",
       "3  1025733971320160257  Bobby Duncan, primo de Steven Gerrard, deja la...   \n",
       "4  1023166450981396480  @TorreiraForeva @lepvtron @Arsenal @IntChampio...   \n",
       "\n",
       "   neutral  negative  positive  mixed  \n",
       "0     0.08      0.04      0.75   0.14  \n",
       "1     0.83      0.08      0.07   0.02  \n",
       "2     0.93      0.03      0.03   0.01  \n",
       "3     0.91      0.06      0.02   0.01  \n",
       "4     0.94      0.03      0.02   0.01  "
      ]
     },
     "execution_count": 114,
     "metadata": {},
     "output_type": "execute_result"
    }
   ],
   "source": [
    "df.head()"
   ]
  },
  {
   "cell_type": "markdown",
   "id": "45636de0-b7f3-45bf-853b-b5af892827b9",
   "metadata": {},
   "source": [
    "### Text"
   ]
  },
  {
   "cell_type": "code",
   "execution_count": 160,
   "id": "0cf015a8-4120-41fa-8bcb-412fe893d96b",
   "metadata": {
    "tags": []
   },
   "outputs": [],
   "source": [
    "df_text=df.copy()"
   ]
  },
  {
   "cell_type": "code",
   "execution_count": 133,
   "id": "369857bb-545f-4ae2-a8df-9eced567f2c5",
   "metadata": {
    "tags": []
   },
   "outputs": [],
   "source": [
    "df_text[\"tweet_text\"]= df_text[\"tweet_text\"].map(lambda x: dropTwitterTags(x))"
   ]
  },
  {
   "cell_type": "markdown",
   "id": "39ba6c89-db02-41ec-9139-29691f5e4c5d",
   "metadata": {},
   "source": [
    "#### Punctation characters"
   ]
  },
  {
   "cell_type": "code",
   "execution_count": 134,
   "id": "019c3a72-2296-485c-9c6b-0f69cb21e900",
   "metadata": {
    "tags": []
   },
   "outputs": [],
   "source": [
    "punctuation_chars = '!\"#$%&\\'()*+,-./:;<=>?@[\\\\]^_`{}~|'"
   ]
  },
  {
   "cell_type": "code",
   "execution_count": 135,
   "id": "2e7ffc1e-e9ac-4439-8f41-d06714935666",
   "metadata": {
    "tags": []
   },
   "outputs": [],
   "source": [
    "mapping_table = str.maketrans(\"\",\"\",punctuation_chars)"
   ]
  },
  {
   "cell_type": "code",
   "execution_count": 136,
   "id": "dd919a5c-51cc-4c1c-9554-60a7ceb13fb8",
   "metadata": {
    "tags": []
   },
   "outputs": [],
   "source": [
    "df_text[\"tweet_text\"]= df_text[\"tweet_text\"].map(lambda x: x.translate(mapping_table))"
   ]
  },
  {
   "cell_type": "code",
   "execution_count": 137,
   "id": "2344d996-3221-4109-9155-4f97c2e38f5a",
   "metadata": {
    "tags": []
   },
   "outputs": [
    {
     "data": {
      "text/plain": [
       "'Amistoso, champions o Liga; el city es la perra del Liverpool #YNWA'"
      ]
     },
     "execution_count": 137,
     "metadata": {},
     "output_type": "execute_result"
    }
   ],
   "source": [
    "df.tweet_text[132705]"
   ]
  },
  {
   "cell_type": "code",
   "execution_count": 131,
   "id": "7a45ab68-7e26-4686-b5ba-ea5e11016479",
   "metadata": {
    "tags": []
   },
   "outputs": [
    {
     "data": {
      "text/plain": [
       "'Amistoso champions o Liga el city es la perra del Liverpool'"
      ]
     },
     "execution_count": 131,
     "metadata": {},
     "output_type": "execute_result"
    }
   ],
   "source": [
    "df_text.tweet_text[132705]"
   ]
  },
  {
   "cell_type": "markdown",
   "id": "90dc65fc-c335-489e-a43f-e6888d4f1eb6",
   "metadata": {},
   "source": [
    "#### Remove excedent spaces and capitals"
   ]
  },
  {
   "cell_type": "code",
   "execution_count": 138,
   "id": "d7132785-e405-4e46-9557-9f50bd98c30f",
   "metadata": {
    "tags": []
   },
   "outputs": [],
   "source": [
    "df_text[\"tweet_text\"]= df_text[\"tweet_text\"].map(lambda x: x.lower())\n",
    "df_text[\"tweet_text\"]= df_text[\"tweet_text\"].map(lambda x: re.sub(' +', ' ', x))"
   ]
  },
  {
   "cell_type": "code",
   "execution_count": 139,
   "id": "f0e4f664-8f31-485e-8ea4-e166a7edcb9d",
   "metadata": {
    "tags": []
   },
   "outputs": [
    {
     "data": {
      "text/html": [
       "<div>\n",
       "<style scoped>\n",
       "    .dataframe tbody tr th:only-of-type {\n",
       "        vertical-align: middle;\n",
       "    }\n",
       "\n",
       "    .dataframe tbody tr th {\n",
       "        vertical-align: top;\n",
       "    }\n",
       "\n",
       "    .dataframe thead th {\n",
       "        text-align: right;\n",
       "    }\n",
       "</style>\n",
       "<table border=\"1\" class=\"dataframe\">\n",
       "  <thead>\n",
       "    <tr style=\"text-align: right;\">\n",
       "      <th></th>\n",
       "      <th>tweet_id</th>\n",
       "      <th>tweet_text</th>\n",
       "      <th>neutral</th>\n",
       "      <th>negative</th>\n",
       "      <th>positive</th>\n",
       "      <th>mixed</th>\n",
       "    </tr>\n",
       "  </thead>\n",
       "  <tbody>\n",
       "    <tr>\n",
       "      <th>0</th>\n",
       "      <td>1027179935184703489</td>\n",
       "      <td>Alisson puede estar más tranquilo, no cargará ...</td>\n",
       "      <td>0.08</td>\n",
       "      <td>0.04</td>\n",
       "      <td>0.75</td>\n",
       "      <td>0.14</td>\n",
       "    </tr>\n",
       "    <tr>\n",
       "      <th>1</th>\n",
       "      <td>1027260056092344320</td>\n",
       "      <td>@iPincheViky @ChelseaFC Es que el director eje...</td>\n",
       "      <td>0.83</td>\n",
       "      <td>0.08</td>\n",
       "      <td>0.07</td>\n",
       "      <td>0.02</td>\n",
       "    </tr>\n",
       "    <tr>\n",
       "      <th>2</th>\n",
       "      <td>1028657238116843520</td>\n",
       "      <td>Upto £100 #freebets &amp;gt; https://t.co/cbjeMXI9...</td>\n",
       "      <td>0.93</td>\n",
       "      <td>0.03</td>\n",
       "      <td>0.03</td>\n",
       "      <td>0.01</td>\n",
       "    </tr>\n",
       "    <tr>\n",
       "      <th>3</th>\n",
       "      <td>1025733971320160257</td>\n",
       "      <td>Bobby Duncan, primo de Steven Gerrard, deja la...</td>\n",
       "      <td>0.91</td>\n",
       "      <td>0.06</td>\n",
       "      <td>0.02</td>\n",
       "      <td>0.01</td>\n",
       "    </tr>\n",
       "    <tr>\n",
       "      <th>4</th>\n",
       "      <td>1023166450981396480</td>\n",
       "      <td>@TorreiraForeva @lepvtron @Arsenal @IntChampio...</td>\n",
       "      <td>0.94</td>\n",
       "      <td>0.03</td>\n",
       "      <td>0.02</td>\n",
       "      <td>0.01</td>\n",
       "    </tr>\n",
       "  </tbody>\n",
       "</table>\n",
       "</div>"
      ],
      "text/plain": [
       "              tweet_id                                         tweet_text  \\\n",
       "0  1027179935184703489  Alisson puede estar más tranquilo, no cargará ...   \n",
       "1  1027260056092344320  @iPincheViky @ChelseaFC Es que el director eje...   \n",
       "2  1028657238116843520  Upto £100 #freebets &gt; https://t.co/cbjeMXI9...   \n",
       "3  1025733971320160257  Bobby Duncan, primo de Steven Gerrard, deja la...   \n",
       "4  1023166450981396480  @TorreiraForeva @lepvtron @Arsenal @IntChampio...   \n",
       "\n",
       "   neutral  negative  positive  mixed  \n",
       "0     0.08      0.04      0.75   0.14  \n",
       "1     0.83      0.08      0.07   0.02  \n",
       "2     0.93      0.03      0.03   0.01  \n",
       "3     0.91      0.06      0.02   0.01  \n",
       "4     0.94      0.03      0.02   0.01  "
      ]
     },
     "execution_count": 139,
     "metadata": {},
     "output_type": "execute_result"
    }
   ],
   "source": [
    "df.head()"
   ]
  },
  {
   "cell_type": "markdown",
   "id": "8934f6b6-bb8e-4692-8d70-5dcbbf734026",
   "metadata": {},
   "source": [
    "#### Stopwords"
   ]
  },
  {
   "cell_type": "code",
   "execution_count": 140,
   "id": "f897756c-87dd-4211-b955-40f6cdb23570",
   "metadata": {
    "tags": []
   },
   "outputs": [
    {
     "name": "stderr",
     "output_type": "stream",
     "text": [
      "[nltk_data] Downloading package stopwords to\n",
      "[nltk_data]     /home/bluterplay/nltk_data...\n",
      "[nltk_data]   Package stopwords is already up-to-date!\n"
     ]
    },
    {
     "data": {
      "text/plain": [
       "True"
      ]
     },
     "execution_count": 140,
     "metadata": {},
     "output_type": "execute_result"
    }
   ],
   "source": [
    "nltk.download('stopwords')"
   ]
  },
  {
   "cell_type": "code",
   "execution_count": 144,
   "id": "3e75c847-39ca-4f43-9408-df4e0a6d0d13",
   "metadata": {
    "tags": []
   },
   "outputs": [],
   "source": [
    "stopword_list  = stopwords.words('spanish')"
   ]
  },
  {
   "cell_type": "code",
   "execution_count": 147,
   "id": "eb141d93-abb6-4180-87f6-e86dad4402a1",
   "metadata": {},
   "outputs": [],
   "source": [
    "df_text[\"tweet_text\"]= df_text[\"tweet_text\"].str.split()"
   ]
  },
  {
   "cell_type": "code",
   "execution_count": 149,
   "id": "bb9271df-b25d-4b6c-a29c-33bbb8f3fb4b",
   "metadata": {
    "tags": []
   },
   "outputs": [],
   "source": [
    "df_text[\"tweet_text\"]= df_text[\"tweet_text\"].apply(lambda x: [i for i in x if i not in stopword_list])"
   ]
  },
  {
   "cell_type": "code",
   "execution_count": 150,
   "id": "2362d1c2-4585-48e9-a4f1-a7957915464c",
   "metadata": {
    "tags": []
   },
   "outputs": [
    {
     "data": {
      "text/html": [
       "<div>\n",
       "<style scoped>\n",
       "    .dataframe tbody tr th:only-of-type {\n",
       "        vertical-align: middle;\n",
       "    }\n",
       "\n",
       "    .dataframe tbody tr th {\n",
       "        vertical-align: top;\n",
       "    }\n",
       "\n",
       "    .dataframe thead th {\n",
       "        text-align: right;\n",
       "    }\n",
       "</style>\n",
       "<table border=\"1\" class=\"dataframe\">\n",
       "  <thead>\n",
       "    <tr style=\"text-align: right;\">\n",
       "      <th></th>\n",
       "      <th>tweet_id</th>\n",
       "      <th>tweet_text</th>\n",
       "      <th>neutral</th>\n",
       "      <th>negative</th>\n",
       "      <th>positive</th>\n",
       "      <th>mixed</th>\n",
       "    </tr>\n",
       "  </thead>\n",
       "  <tbody>\n",
       "    <tr>\n",
       "      <th>0</th>\n",
       "      <td>1027179935184703489</td>\n",
       "      <td>[alisson, puede, tranquilo, cargará, peso, ser...</td>\n",
       "      <td>0.08</td>\n",
       "      <td>0.04</td>\n",
       "      <td>0.75</td>\n",
       "      <td>0.14</td>\n",
       "    </tr>\n",
       "    <tr>\n",
       "      <th>1</th>\n",
       "      <td>1027260056092344320</td>\n",
       "      <td>[director, ejecutivo, mujer, so, jajajajjaa]</td>\n",
       "      <td>0.83</td>\n",
       "      <td>0.08</td>\n",
       "      <td>0.07</td>\n",
       "      <td>0.02</td>\n",
       "    </tr>\n",
       "    <tr>\n",
       "      <th>2</th>\n",
       "      <td>1028657238116843520</td>\n",
       "      <td>[upto, £100, gt]</td>\n",
       "      <td>0.93</td>\n",
       "      <td>0.03</td>\n",
       "      <td>0.03</td>\n",
       "      <td>0.01</td>\n",
       "    </tr>\n",
       "    <tr>\n",
       "      <th>3</th>\n",
       "      <td>1025733971320160257</td>\n",
       "      <td>[bobby, duncan, primo, steven, gerrard, deja, ...</td>\n",
       "      <td>0.91</td>\n",
       "      <td>0.06</td>\n",
       "      <td>0.02</td>\n",
       "      <td>0.01</td>\n",
       "    </tr>\n",
       "    <tr>\n",
       "      <th>4</th>\n",
       "      <td>1023166450981396480</td>\n",
       "      <td>[leon, bailey, or, federico, cheisa]</td>\n",
       "      <td>0.94</td>\n",
       "      <td>0.03</td>\n",
       "      <td>0.02</td>\n",
       "      <td>0.01</td>\n",
       "    </tr>\n",
       "    <tr>\n",
       "      <th>...</th>\n",
       "      <td>...</td>\n",
       "      <td>...</td>\n",
       "      <td>...</td>\n",
       "      <td>...</td>\n",
       "      <td>...</td>\n",
       "      <td>...</td>\n",
       "    </tr>\n",
       "    <tr>\n",
       "      <th>132702</th>\n",
       "      <td>1028037572671545345</td>\n",
       "      <td>[apunta, diario, mirror, pensando, reuperar, z...</td>\n",
       "      <td>0.90</td>\n",
       "      <td>0.07</td>\n",
       "      <td>0.01</td>\n",
       "      <td>0.01</td>\n",
       "    </tr>\n",
       "    <tr>\n",
       "      <th>132703</th>\n",
       "      <td>1030680133189992448</td>\n",
       "      <td>[mejor, puede, pasar, ospina, pongan, competen...</td>\n",
       "      <td>0.73</td>\n",
       "      <td>0.01</td>\n",
       "      <td>0.21</td>\n",
       "      <td>0.04</td>\n",
       "    </tr>\n",
       "    <tr>\n",
       "      <th>132704</th>\n",
       "      <td>1041369661399547904</td>\n",
       "      <td>[final, partido, 1, vs, 3, jornada, 5]</td>\n",
       "      <td>0.96</td>\n",
       "      <td>0.01</td>\n",
       "      <td>0.03</td>\n",
       "      <td>0.00</td>\n",
       "    </tr>\n",
       "    <tr>\n",
       "      <th>132705</th>\n",
       "      <td>1022299986762129409</td>\n",
       "      <td>[amistoso, champions, liga, city, perra, liver...</td>\n",
       "      <td>0.94</td>\n",
       "      <td>0.03</td>\n",
       "      <td>0.02</td>\n",
       "      <td>0.01</td>\n",
       "    </tr>\n",
       "    <tr>\n",
       "      <th>132706</th>\n",
       "      <td>1025806323844300800</td>\n",
       "      <td>[estrenó, goleador, victoria, villarreal]</td>\n",
       "      <td>0.93</td>\n",
       "      <td>0.00</td>\n",
       "      <td>0.06</td>\n",
       "      <td>0.00</td>\n",
       "    </tr>\n",
       "  </tbody>\n",
       "</table>\n",
       "<p>132707 rows × 6 columns</p>\n",
       "</div>"
      ],
      "text/plain": [
       "                   tweet_id  \\\n",
       "0       1027179935184703489   \n",
       "1       1027260056092344320   \n",
       "2       1028657238116843520   \n",
       "3       1025733971320160257   \n",
       "4       1023166450981396480   \n",
       "...                     ...   \n",
       "132702  1028037572671545345   \n",
       "132703  1030680133189992448   \n",
       "132704  1041369661399547904   \n",
       "132705  1022299986762129409   \n",
       "132706  1025806323844300800   \n",
       "\n",
       "                                               tweet_text  neutral  negative  \\\n",
       "0       [alisson, puede, tranquilo, cargará, peso, ser...     0.08      0.04   \n",
       "1            [director, ejecutivo, mujer, so, jajajajjaa]     0.83      0.08   \n",
       "2                                        [upto, £100, gt]     0.93      0.03   \n",
       "3       [bobby, duncan, primo, steven, gerrard, deja, ...     0.91      0.06   \n",
       "4                    [leon, bailey, or, federico, cheisa]     0.94      0.03   \n",
       "...                                                   ...      ...       ...   \n",
       "132702  [apunta, diario, mirror, pensando, reuperar, z...     0.90      0.07   \n",
       "132703  [mejor, puede, pasar, ospina, pongan, competen...     0.73      0.01   \n",
       "132704             [final, partido, 1, vs, 3, jornada, 5]     0.96      0.01   \n",
       "132705  [amistoso, champions, liga, city, perra, liver...     0.94      0.03   \n",
       "132706          [estrenó, goleador, victoria, villarreal]     0.93      0.00   \n",
       "\n",
       "        positive  mixed  \n",
       "0           0.75   0.14  \n",
       "1           0.07   0.02  \n",
       "2           0.03   0.01  \n",
       "3           0.02   0.01  \n",
       "4           0.02   0.01  \n",
       "...          ...    ...  \n",
       "132702      0.01   0.01  \n",
       "132703      0.21   0.04  \n",
       "132704      0.03   0.00  \n",
       "132705      0.02   0.01  \n",
       "132706      0.06   0.00  \n",
       "\n",
       "[132707 rows x 6 columns]"
      ]
     },
     "execution_count": 150,
     "metadata": {},
     "output_type": "execute_result"
    }
   ],
   "source": [
    "df_text"
   ]
  },
  {
   "cell_type": "markdown",
   "id": "0597c64a-e622-430d-89c3-bbb02aa3665e",
   "metadata": {},
   "source": [
    "### Stemeer"
   ]
  },
  {
   "cell_type": "code",
   "execution_count": 151,
   "id": "224c6146-004e-4d35-b07e-4e0e5cf1f9ab",
   "metadata": {
    "tags": []
   },
   "outputs": [],
   "source": [
    "stemmer = SnowballStemmer('spanish')"
   ]
  },
  {
   "cell_type": "code",
   "execution_count": 152,
   "id": "3c71f507-aa4d-4998-bca3-b4d71ac02492",
   "metadata": {
    "tags": []
   },
   "outputs": [],
   "source": [
    "df_text[\"tweet_text\"]= df_text[\"tweet_text\"].apply(lambda x: [stemmer.stem(i) for i in x])"
   ]
  },
  {
   "cell_type": "code",
   "execution_count": 153,
   "id": "f0a77096-750d-4a72-bc49-431a335f362a",
   "metadata": {
    "tags": []
   },
   "outputs": [],
   "source": [
    "df_text[\"tweet_text\"]= df_text[\"tweet_text\"].apply(lambda x: ' '.join(x))"
   ]
  },
  {
   "cell_type": "code",
   "execution_count": 154,
   "id": "106b1d6c-8a1a-486e-8dc3-70322a06fb9c",
   "metadata": {
    "tags": []
   },
   "outputs": [],
   "source": [
    "df_text[\"tweet_text\"]= df_text[\"tweet_text\"].map(lambda x: re.sub(' +', ' ', x))"
   ]
  },
  {
   "cell_type": "markdown",
   "id": "6b9e0d30-1ea8-426d-b2ba-2513b75ed6b1",
   "metadata": {},
   "source": [
    "### Encoder"
   ]
  },
  {
   "cell_type": "code",
   "execution_count": 158,
   "id": "baa647cd-499d-4bac-bf34-c21732d8810d",
   "metadata": {
    "tags": []
   },
   "outputs": [],
   "source": [
    "similarity_encoder = SimilarityEncoder(ngram_range=(2, 5), categories='most_frequent', n_prototypes= 100)\n",
    "transformed_values = similarity_encoder.fit_transform(df_text[[\"tweet_text\"]])"
   ]
  },
  {
   "cell_type": "code",
   "execution_count": 176,
   "id": "5e1978ac-d4ce-4418-a7ba-c7bdcd2f9934",
   "metadata": {
    "tags": []
   },
   "outputs": [],
   "source": [
    "df_final=df_text.iloc[:,-4:].copy()"
   ]
  },
  {
   "cell_type": "code",
   "execution_count": 178,
   "id": "3040b8cd-95ef-4f76-b0b5-0d431f2c1f5a",
   "metadata": {
    "tags": []
   },
   "outputs": [
    {
     "name": "stderr",
     "output_type": "stream",
     "text": [
      "/tmp/ipykernel_4718/3327082482.py:2: PerformanceWarning: DataFrame is highly fragmented.  This is usually the result of calling `frame.insert` many times, which has poor performance.  Consider joining all columns at once using pd.concat(axis=1) instead. To get a de-fragmented frame, use `newframe = frame.copy()`\n",
      "  df_final[ls_emb]= transformed_values\n"
     ]
    }
   ],
   "source": [
    "ls_emb= [\"Emb_\"+str(x+1) for x in  range(100)]\n",
    "df_final[ls_emb]= transformed_values"
   ]
  },
  {
   "cell_type": "code",
   "execution_count": 241,
   "id": "50149414-7be9-4dc3-82e9-3add1e46183c",
   "metadata": {
    "tags": []
   },
   "outputs": [],
   "source": [
    "with open('models/tweets/similarity_encoder.pickle', 'wb') as f:\n",
    "    pickle.dump(similarity_encoder, f)"
   ]
  },
  {
   "cell_type": "markdown",
   "id": "cc015a97-0d2b-425c-9d65-18ce0e7d6a92",
   "metadata": {},
   "source": [
    "### Train test "
   ]
  },
  {
   "cell_type": "code",
   "execution_count": 191,
   "id": "b31446c0-e631-45a7-9e6a-c38d6dc445ed",
   "metadata": {
    "tags": []
   },
   "outputs": [],
   "source": [
    "X= df_final[ls_emb].values\n",
    "y= df_final.iloc[:,:4].values"
   ]
  },
  {
   "cell_type": "code",
   "execution_count": 197,
   "id": "57fcc6a6-3643-4f3d-8c31-256046771ab5",
   "metadata": {
    "tags": []
   },
   "outputs": [],
   "source": [
    "x_train,x_test,y_train,y_test= train_test_split(X,y, random_state=0,test_size=.2 )"
   ]
  },
  {
   "cell_type": "markdown",
   "id": "7e5365c5-6d56-4686-a83b-e04a2fdfc0fc",
   "metadata": {},
   "source": [
    "## Model"
   ]
  },
  {
   "cell_type": "markdown",
   "id": "c90aad18-5886-4196-bc1b-ecaaa3f3a2ea",
   "metadata": {},
   "source": [
    "### Define architeture"
   ]
  },
  {
   "cell_type": "code",
   "execution_count": 203,
   "id": "a13dd75c-7ef8-46fe-9a94-552dd5ecf3db",
   "metadata": {
    "tags": []
   },
   "outputs": [],
   "source": [
    "# Create a sequential model\n",
    "model = Sequential()\n",
    "\n",
    "# Add a dense layer with 50 neurons and ReLU activation function\n",
    "model.add(Dense(50, input_dim=100, activation='relu'))\n",
    "\n",
    "# Add a dense output layer with 4 neurons and linear activation function\n",
    "model.add(Dense(4, activation='linear'))"
   ]
  },
  {
   "cell_type": "code",
   "execution_count": 204,
   "id": "bbf4113e-a4e1-4e2c-8644-8fdb080fa0e7",
   "metadata": {
    "tags": []
   },
   "outputs": [
    {
     "name": "stdout",
     "output_type": "stream",
     "text": [
      "Model: \"sequential_3\"\n",
      "_________________________________________________________________\n",
      " Layer (type)                Output Shape              Param #   \n",
      "=================================================================\n",
      " dense_6 (Dense)             (None, 50)                5050      \n",
      "                                                                 \n",
      " dense_7 (Dense)             (None, 4)                 204       \n",
      "                                                                 \n",
      "=================================================================\n",
      "Total params: 5,254\n",
      "Trainable params: 5,254\n",
      "Non-trainable params: 0\n",
      "_________________________________________________________________\n"
     ]
    }
   ],
   "source": [
    "model.summary()"
   ]
  },
  {
   "cell_type": "markdown",
   "id": "2b1670c9-b7d5-4978-b457-b4abe01183ed",
   "metadata": {},
   "source": [
    "### Call backs"
   ]
  },
  {
   "cell_type": "code",
   "execution_count": 207,
   "id": "e5db9808-e94f-4b5e-8ed0-1549d1944bff",
   "metadata": {
    "tags": []
   },
   "outputs": [],
   "source": [
    "kmetrics = [\n",
    "    metrics.RootMeanSquaredError(name='rms'),\n",
    "    metrics.MeanAbsoluteError(name='mae'),\n",
    "    metrics.MeanAbsolutePercentageError(name=\"pema\")\n",
    "]   "
   ]
  },
  {
   "cell_type": "code",
   "execution_count": 209,
   "id": "a8d2bf5c-794a-4ff0-b654-b8200f2089cf",
   "metadata": {
    "tags": []
   },
   "outputs": [],
   "source": [
    "early_stopping = EarlyStopping(monitor='val_mae', patience=20)\n",
    "checkpoint = ModelCheckpoint('models/tweets/model_{val_mae:.3f}.h5',\n",
    "                             save_best_only=True,\n",
    "                             save_weights_only=False,\n",
    "                             monitor='val_mae')"
   ]
  },
  {
   "cell_type": "code",
   "execution_count": 215,
   "id": "579b0bd5-965c-43e3-9909-c2c96fcd73d6",
   "metadata": {
    "tags": []
   },
   "outputs": [],
   "source": [
    "model.compile(loss='mse', optimizer='adam', metrics=kmetrics)"
   ]
  },
  {
   "cell_type": "markdown",
   "id": "5a1b070c-a646-46da-8ed6-cceeeba72e13",
   "metadata": {},
   "source": [
    "### Train"
   ]
  },
  {
   "cell_type": "code",
   "execution_count": 216,
   "id": "fbf1e326-ee90-406d-ac13-b76352a84443",
   "metadata": {
    "scrolled": true,
    "tags": []
   },
   "outputs": [
    {
     "name": "stdout",
     "output_type": "stream",
     "text": [
      "Epoch 1/100\n",
      "3318/3318 [==============================] - 8s 2ms/step - loss: 0.0278 - rms: 0.1667 - mae: 0.1081 - pema: 3387.0037 - val_loss: 0.0269 - val_rms: 0.1639 - val_mae: 0.1053 - val_pema: 1484.7267\n",
      "Epoch 2/100\n",
      "3318/3318 [==============================] - 7s 2ms/step - loss: 0.0275 - rms: 0.1657 - mae: 0.1073 - pema: 3425.5474 - val_loss: 0.0267 - val_rms: 0.1633 - val_mae: 0.1031 - val_pema: 1300.0111\n",
      "Epoch 3/100\n",
      "3318/3318 [==============================] - 7s 2ms/step - loss: 0.0272 - rms: 0.1650 - mae: 0.1067 - pema: 3276.6086 - val_loss: 0.0265 - val_rms: 0.1628 - val_mae: 0.1066 - val_pema: 1546.1395\n",
      "Epoch 4/100\n",
      "3318/3318 [==============================] - 7s 2ms/step - loss: 0.0270 - rms: 0.1644 - mae: 0.1062 - pema: 3434.0205 - val_loss: 0.0267 - val_rms: 0.1634 - val_mae: 0.1096 - val_pema: 1497.0197\n",
      "Epoch 5/100\n",
      "3318/3318 [==============================] - 8s 2ms/step - loss: 0.0269 - rms: 0.1639 - mae: 0.1058 - pema: 3380.3958 - val_loss: 0.0265 - val_rms: 0.1628 - val_mae: 0.1033 - val_pema: 1076.2438\n",
      "Epoch 6/100\n",
      "3318/3318 [==============================] - 7s 2ms/step - loss: 0.0267 - rms: 0.1634 - mae: 0.1054 - pema: 3318.5071 - val_loss: 0.0261 - val_rms: 0.1614 - val_mae: 0.1024 - val_pema: 1233.3889\n",
      "Epoch 7/100\n",
      "3318/3318 [==============================] - 7s 2ms/step - loss: 0.0266 - rms: 0.1631 - mae: 0.1052 - pema: 3420.5156 - val_loss: 0.0261 - val_rms: 0.1615 - val_mae: 0.1010 - val_pema: 1150.6802\n",
      "Epoch 8/100\n",
      "3318/3318 [==============================] - 7s 2ms/step - loss: 0.0265 - rms: 0.1628 - mae: 0.1050 - pema: 3228.3271 - val_loss: 0.0259 - val_rms: 0.1609 - val_mae: 0.1049 - val_pema: 1444.0394\n",
      "Epoch 9/100\n",
      "3318/3318 [==============================] - 7s 2ms/step - loss: 0.0264 - rms: 0.1625 - mae: 0.1047 - pema: 3261.1877 - val_loss: 0.0261 - val_rms: 0.1617 - val_mae: 0.1018 - val_pema: 1170.7324\n",
      "Epoch 10/100\n",
      "3318/3318 [==============================] - 7s 2ms/step - loss: 0.0263 - rms: 0.1622 - mae: 0.1046 - pema: 3337.4146 - val_loss: 0.0259 - val_rms: 0.1610 - val_mae: 0.1067 - val_pema: 1454.4093\n",
      "Epoch 11/100\n",
      "3318/3318 [==============================] - 7s 2ms/step - loss: 0.0263 - rms: 0.1620 - mae: 0.1044 - pema: 3306.4487 - val_loss: 0.0258 - val_rms: 0.1607 - val_mae: 0.1021 - val_pema: 1438.0204\n",
      "Epoch 12/100\n",
      "3318/3318 [==============================] - 7s 2ms/step - loss: 0.0262 - rms: 0.1618 - mae: 0.1042 - pema: 3253.1638 - val_loss: 0.0258 - val_rms: 0.1606 - val_mae: 0.1027 - val_pema: 1298.8639\n",
      "Epoch 13/100\n",
      "3318/3318 [==============================] - 7s 2ms/step - loss: 0.0261 - rms: 0.1616 - mae: 0.1042 - pema: 3320.7302 - val_loss: 0.0257 - val_rms: 0.1604 - val_mae: 0.1021 - val_pema: 1356.3273\n",
      "Epoch 14/100\n",
      "3318/3318 [==============================] - 7s 2ms/step - loss: 0.0261 - rms: 0.1614 - mae: 0.1040 - pema: 3250.4160 - val_loss: 0.0257 - val_rms: 0.1605 - val_mae: 0.1052 - val_pema: 1375.9805\n",
      "Epoch 15/100\n",
      "3318/3318 [==============================] - 7s 2ms/step - loss: 0.0259 - rms: 0.1611 - mae: 0.1037 - pema: 3248.2971 - val_loss: 0.0255 - val_rms: 0.1598 - val_mae: 0.1030 - val_pema: 1380.4113\n",
      "Epoch 16/100\n",
      "3318/3318 [==============================] - 7s 2ms/step - loss: 0.0259 - rms: 0.1610 - mae: 0.1037 - pema: 3249.4761 - val_loss: 0.0261 - val_rms: 0.1614 - val_mae: 0.1085 - val_pema: 1428.9382\n",
      "Epoch 17/100\n",
      "3318/3318 [==============================] - 7s 2ms/step - loss: 0.0259 - rms: 0.1608 - mae: 0.1036 - pema: 3277.0076 - val_loss: 0.0256 - val_rms: 0.1600 - val_mae: 0.1020 - val_pema: 1386.6796\n",
      "Epoch 18/100\n",
      "3318/3318 [==============================] - 7s 2ms/step - loss: 0.0258 - rms: 0.1607 - mae: 0.1035 - pema: 3272.7227 - val_loss: 0.0254 - val_rms: 0.1594 - val_mae: 0.1029 - val_pema: 1396.8013\n",
      "Epoch 19/100\n",
      "3318/3318 [==============================] - 7s 2ms/step - loss: 0.0258 - rms: 0.1605 - mae: 0.1034 - pema: 3161.5740 - val_loss: 0.0256 - val_rms: 0.1599 - val_mae: 0.1017 - val_pema: 1128.8735\n",
      "Epoch 20/100\n",
      "3318/3318 [==============================] - 7s 2ms/step - loss: 0.0257 - rms: 0.1603 - mae: 0.1033 - pema: 3221.1133 - val_loss: 0.0255 - val_rms: 0.1596 - val_mae: 0.1026 - val_pema: 1294.9260\n",
      "Epoch 21/100\n",
      "3318/3318 [==============================] - 8s 2ms/step - loss: 0.0257 - rms: 0.1602 - mae: 0.1032 - pema: 3201.0203 - val_loss: 0.0255 - val_rms: 0.1595 - val_mae: 0.1005 - val_pema: 1349.1749\n",
      "Epoch 22/100\n",
      "3318/3318 [==============================] - 8s 2ms/step - loss: 0.0256 - rms: 0.1601 - mae: 0.1031 - pema: 3180.2161 - val_loss: 0.0256 - val_rms: 0.1600 - val_mae: 0.1053 - val_pema: 1387.2913\n",
      "Epoch 23/100\n",
      "3318/3318 [==============================] - 7s 2ms/step - loss: 0.0256 - rms: 0.1600 - mae: 0.1031 - pema: 3254.2253 - val_loss: 0.0255 - val_rms: 0.1596 - val_mae: 0.1043 - val_pema: 1344.1172\n",
      "Epoch 24/100\n",
      "3318/3318 [==============================] - 7s 2ms/step - loss: 0.0256 - rms: 0.1599 - mae: 0.1029 - pema: 3195.7446 - val_loss: 0.0253 - val_rms: 0.1591 - val_mae: 0.1039 - val_pema: 1478.2782\n",
      "Epoch 25/100\n",
      "3318/3318 [==============================] - 7s 2ms/step - loss: 0.0255 - rms: 0.1598 - mae: 0.1029 - pema: 3142.0813 - val_loss: 0.0262 - val_rms: 0.1617 - val_mae: 0.0989 - val_pema: 1106.4310\n",
      "Epoch 26/100\n",
      "3318/3318 [==============================] - 7s 2ms/step - loss: 0.0255 - rms: 0.1597 - mae: 0.1028 - pema: 3109.8789 - val_loss: 0.0260 - val_rms: 0.1613 - val_mae: 0.1099 - val_pema: 1591.7188\n",
      "Epoch 27/100\n",
      "3318/3318 [==============================] - 7s 2ms/step - loss: 0.0255 - rms: 0.1597 - mae: 0.1028 - pema: 3232.3826 - val_loss: 0.0254 - val_rms: 0.1593 - val_mae: 0.0998 - val_pema: 1266.3579\n",
      "Epoch 28/100\n",
      "3318/3318 [==============================] - 7s 2ms/step - loss: 0.0255 - rms: 0.1596 - mae: 0.1027 - pema: 3319.7825 - val_loss: 0.0257 - val_rms: 0.1603 - val_mae: 0.1058 - val_pema: 1294.5016\n",
      "Epoch 29/100\n",
      "3318/3318 [==============================] - 7s 2ms/step - loss: 0.0254 - rms: 0.1595 - mae: 0.1027 - pema: 3257.0132 - val_loss: 0.0253 - val_rms: 0.1590 - val_mae: 0.1030 - val_pema: 1379.4753\n",
      "Epoch 30/100\n",
      "3318/3318 [==============================] - 7s 2ms/step - loss: 0.0254 - rms: 0.1594 - mae: 0.1027 - pema: 3155.2380 - val_loss: 0.0253 - val_rms: 0.1590 - val_mae: 0.1013 - val_pema: 1355.8270\n",
      "Epoch 31/100\n",
      "3318/3318 [==============================] - 7s 2ms/step - loss: 0.0254 - rms: 0.1593 - mae: 0.1025 - pema: 3132.6301 - val_loss: 0.0256 - val_rms: 0.1601 - val_mae: 0.1043 - val_pema: 1297.0864\n",
      "Epoch 32/100\n",
      "3318/3318 [==============================] - 7s 2ms/step - loss: 0.0253 - rms: 0.1592 - mae: 0.1025 - pema: 3225.1458 - val_loss: 0.0255 - val_rms: 0.1598 - val_mae: 0.1054 - val_pema: 1676.5610\n",
      "Epoch 33/100\n",
      "3318/3318 [==============================] - 7s 2ms/step - loss: 0.0253 - rms: 0.1591 - mae: 0.1024 - pema: 3247.8040 - val_loss: 0.0254 - val_rms: 0.1595 - val_mae: 0.1023 - val_pema: 1582.1531\n",
      "Epoch 34/100\n",
      "3318/3318 [==============================] - 7s 2ms/step - loss: 0.0253 - rms: 0.1590 - mae: 0.1023 - pema: 3200.1501 - val_loss: 0.0253 - val_rms: 0.1591 - val_mae: 0.1032 - val_pema: 1621.1854\n",
      "Epoch 35/100\n",
      "3318/3318 [==============================] - 7s 2ms/step - loss: 0.0253 - rms: 0.1589 - mae: 0.1024 - pema: 3166.7830 - val_loss: 0.0254 - val_rms: 0.1594 - val_mae: 0.1035 - val_pema: 1602.4088\n",
      "Epoch 36/100\n",
      "3318/3318 [==============================] - 7s 2ms/step - loss: 0.0252 - rms: 0.1588 - mae: 0.1022 - pema: 3183.1770 - val_loss: 0.0255 - val_rms: 0.1596 - val_mae: 0.1062 - val_pema: 1426.5592\n",
      "Epoch 37/100\n",
      "3318/3318 [==============================] - 7s 2ms/step - loss: 0.0252 - rms: 0.1588 - mae: 0.1022 - pema: 3064.9155 - val_loss: 0.0252 - val_rms: 0.1589 - val_mae: 0.1031 - val_pema: 1408.4559\n",
      "Epoch 38/100\n",
      "3318/3318 [==============================] - 7s 2ms/step - loss: 0.0252 - rms: 0.1588 - mae: 0.1023 - pema: 3300.3992 - val_loss: 0.0253 - val_rms: 0.1590 - val_mae: 0.1043 - val_pema: 1511.9789\n",
      "Epoch 39/100\n",
      "3318/3318 [==============================] - 8s 2ms/step - loss: 0.0252 - rms: 0.1587 - mae: 0.1022 - pema: 3175.0781 - val_loss: 0.0251 - val_rms: 0.1586 - val_mae: 0.1023 - val_pema: 1460.2726\n",
      "Epoch 40/100\n",
      "3318/3318 [==============================] - 7s 2ms/step - loss: 0.0252 - rms: 0.1587 - mae: 0.1022 - pema: 3161.6890 - val_loss: 0.0253 - val_rms: 0.1590 - val_mae: 0.1037 - val_pema: 1495.7479\n",
      "Epoch 41/100\n",
      "3318/3318 [==============================] - 7s 2ms/step - loss: 0.0251 - rms: 0.1585 - mae: 0.1021 - pema: 3203.2544 - val_loss: 0.0256 - val_rms: 0.1599 - val_mae: 0.1051 - val_pema: 1275.0928\n",
      "Epoch 42/100\n",
      "3318/3318 [==============================] - 7s 2ms/step - loss: 0.0252 - rms: 0.1586 - mae: 0.1022 - pema: 3181.4443 - val_loss: 0.0255 - val_rms: 0.1598 - val_mae: 0.1077 - val_pema: 1585.3400\n",
      "Epoch 43/100\n",
      "3318/3318 [==============================] - 7s 2ms/step - loss: 0.0251 - rms: 0.1584 - mae: 0.1019 - pema: 3137.9705 - val_loss: 0.0251 - val_rms: 0.1585 - val_mae: 0.1031 - val_pema: 1480.1381\n",
      "Epoch 44/100\n",
      "3318/3318 [==============================] - 7s 2ms/step - loss: 0.0251 - rms: 0.1583 - mae: 0.1019 - pema: 3272.0071 - val_loss: 0.0252 - val_rms: 0.1587 - val_mae: 0.1012 - val_pema: 1320.4916\n",
      "Epoch 45/100\n",
      "3318/3318 [==============================] - 7s 2ms/step - loss: 0.0251 - rms: 0.1584 - mae: 0.1020 - pema: 3227.1760 - val_loss: 0.0255 - val_rms: 0.1596 - val_mae: 0.1073 - val_pema: 1524.9142\n"
     ]
    }
   ],
   "source": [
    "history = model.fit(x_train, y_train, epochs=100, batch_size=32, validation_data=(x_test, y_test), callbacks=[checkpoint, early_stopping])"
   ]
  },
  {
   "cell_type": "markdown",
   "id": "d63bc8df-ed0c-4338-b136-cd3c0ebcddb0",
   "metadata": {},
   "source": [
    "### Results"
   ]
  },
  {
   "cell_type": "code",
   "execution_count": 217,
   "id": "5ad3a317-16f4-4705-a26e-97dc0e3a0376",
   "metadata": {
    "tags": []
   },
   "outputs": [],
   "source": [
    "results = pd.DataFrame(history.history)"
   ]
  },
  {
   "cell_type": "code",
   "execution_count": 219,
   "id": "ef400f24-463d-4d14-8098-6274557a1bb4",
   "metadata": {
    "tags": []
   },
   "outputs": [
    {
     "data": {
      "application/vnd.plotly.v1+json": {
       "config": {
        "linkText": "Export to plot.ly",
        "plotlyServerURL": "https://plot.ly",
        "showLink": true
       },
       "data": [
        {
         "line": {
          "color": "rgba(255, 153, 51, 1.0)",
          "dash": "solid",
          "shape": "linear",
          "width": 1.3
         },
         "mode": "lines",
         "name": "loss",
         "text": "",
         "type": "scatter",
         "x": [
          0,
          1,
          2,
          3,
          4,
          5,
          6,
          7,
          8,
          9,
          10,
          11,
          12,
          13,
          14,
          15,
          16,
          17,
          18,
          19,
          20,
          21,
          22,
          23,
          24,
          25,
          26,
          27,
          28,
          29,
          30,
          31,
          32,
          33,
          34,
          35,
          36,
          37,
          38,
          39,
          40,
          41,
          42,
          43,
          44
         ],
         "y": [
          0.02779546193778515,
          0.027455680072307587,
          0.02723013050854206,
          0.027042577043175697,
          0.026857450604438782,
          0.026710106059908867,
          0.026606285944581032,
          0.026508403941988945,
          0.026399416849017143,
          0.026317305862903595,
          0.026259802281856537,
          0.026168374344706535,
          0.026129024103283882,
          0.02605346404016018,
          0.025949690490961075,
          0.025924094021320343,
          0.025861253961920738,
          0.025824490934610367,
          0.025763792917132378,
          0.025708772242069244,
          0.025665782392024994,
          0.02564726024866104,
          0.025598201900720596,
          0.02556484565138817,
          0.025537019595503807,
          0.025509702041745186,
          0.025493578985333443,
          0.025458887219429016,
          0.02543185092508793,
          0.02541840262711048,
          0.025375453755259514,
          0.025341926142573357,
          0.02532391995191574,
          0.02527233399450779,
          0.02525077760219574,
          0.025231219828128815,
          0.025214530527591705,
          0.025212842971086502,
          0.025188462808728218,
          0.025189390406012535,
          0.02513168565928936,
          0.025157103314995766,
          0.02507670968770981,
          0.02506917715072632,
          0.025084376335144043
         ]
        },
        {
         "line": {
          "color": "rgba(55, 128, 191, 1.0)",
          "dash": "solid",
          "shape": "linear",
          "width": 1.3
         },
         "mode": "lines",
         "name": "rms",
         "text": "",
         "type": "scatter",
         "x": [
          0,
          1,
          2,
          3,
          4,
          5,
          6,
          7,
          8,
          9,
          10,
          11,
          12,
          13,
          14,
          15,
          16,
          17,
          18,
          19,
          20,
          21,
          22,
          23,
          24,
          25,
          26,
          27,
          28,
          29,
          30,
          31,
          32,
          33,
          34,
          35,
          36,
          37,
          38,
          39,
          40,
          41,
          42,
          43,
          44
         ],
         "y": [
          0.1667197048664093,
          0.16569755971431732,
          0.1650155484676361,
          0.16444626450538635,
          0.16388243436813354,
          0.1634322702884674,
          0.16311433911323547,
          0.16281402111053467,
          0.162478968501091,
          0.1622260957956314,
          0.16204877197742462,
          0.1617664247751236,
          0.16164474189281464,
          0.161410853266716,
          0.16108907759189606,
          0.16100960969924927,
          0.1608143448829651,
          0.1607000082731247,
          0.16051103174686432,
          0.16033954918384552,
          0.1602054387331009,
          0.16014762222766876,
          0.15999437868595123,
          0.1598901003599167,
          0.15980306267738342,
          0.15971757471561432,
          0.15966708958148956,
          0.15955840051174164,
          0.15947367250919342,
          0.15943150222301483,
          0.15929675102233887,
          0.15919147431850433,
          0.15913492441177368,
          0.15897274017333984,
          0.15890493988990784,
          0.15884338319301605,
          0.15879084169864655,
          0.15878552198410034,
          0.15870873630046844,
          0.15871165692806244,
          0.15852975845336914,
          0.15860991179943085,
          0.15835627913475037,
          0.1583324819803238,
          0.15838047862052917
         ]
        },
        {
         "line": {
          "color": "rgba(50, 171, 96, 1.0)",
          "dash": "solid",
          "shape": "linear",
          "width": 1.3
         },
         "mode": "lines",
         "name": "mae",
         "text": "",
         "type": "scatter",
         "x": [
          0,
          1,
          2,
          3,
          4,
          5,
          6,
          7,
          8,
          9,
          10,
          11,
          12,
          13,
          14,
          15,
          16,
          17,
          18,
          19,
          20,
          21,
          22,
          23,
          24,
          25,
          26,
          27,
          28,
          29,
          30,
          31,
          32,
          33,
          34,
          35,
          36,
          37,
          38,
          39,
          40,
          41,
          42,
          43,
          44
         ],
         "y": [
          0.10814733803272247,
          0.10725613683462143,
          0.10672381520271301,
          0.10623903572559357,
          0.10576606541872025,
          0.10542047023773193,
          0.10524766892194748,
          0.10496299713850021,
          0.10471196472644806,
          0.10456842184066772,
          0.10443681478500366,
          0.104221872985363,
          0.10417752712965012,
          0.10395022481679916,
          0.10367359966039658,
          0.10369672626256943,
          0.10362740606069565,
          0.10346939414739609,
          0.10336356610059738,
          0.10325323045253754,
          0.10316569358110428,
          0.1031332015991211,
          0.10305989533662796,
          0.10294223576784134,
          0.10287179052829742,
          0.10283509641885757,
          0.10282094031572342,
          0.10270854830741882,
          0.10267791152000427,
          0.10270620882511139,
          0.102537602186203,
          0.10249221324920654,
          0.10241489112377167,
          0.10234107077121735,
          0.10235879570245743,
          0.10224549472332001,
          0.1022292897105217,
          0.10226349532604218,
          0.1021718755364418,
          0.10220653563737869,
          0.10205064713954926,
          0.10215109586715698,
          0.10187724977731705,
          0.10189568251371384,
          0.10197615623474121
         ]
        },
        {
         "line": {
          "color": "rgba(128, 0, 128, 1.0)",
          "dash": "solid",
          "shape": "linear",
          "width": 1.3
         },
         "mode": "lines",
         "name": "pema",
         "text": "",
         "type": "scatter",
         "visible": "legendonly",
         "x": [
          0,
          1,
          2,
          3,
          4,
          5,
          6,
          7,
          8,
          9,
          10,
          11,
          12,
          13,
          14,
          15,
          16,
          17,
          18,
          19,
          20,
          21,
          22,
          23,
          24,
          25,
          26,
          27,
          28,
          29,
          30,
          31,
          32,
          33,
          34,
          35,
          36,
          37,
          38,
          39,
          40,
          41,
          42,
          43,
          44
         ],
         "y": [
          3387.003662109375,
          3425.54736328125,
          3276.608642578125,
          3434.0205078125,
          3380.395751953125,
          3318.507080078125,
          3420.515625,
          3228.3271484375,
          3261.187744140625,
          3337.41455078125,
          3306.44873046875,
          3253.163818359375,
          3320.730224609375,
          3250.416015625,
          3248.297119140625,
          3249.47607421875,
          3277.007568359375,
          3272.72265625,
          3161.573974609375,
          3221.11328125,
          3201.020263671875,
          3180.216064453125,
          3254.225341796875,
          3195.74462890625,
          3142.081298828125,
          3109.87890625,
          3232.382568359375,
          3319.782470703125,
          3257.01318359375,
          3155.238037109375,
          3132.630126953125,
          3225.145751953125,
          3247.803955078125,
          3200.150146484375,
          3166.782958984375,
          3183.177001953125,
          3064.91552734375,
          3300.399169921875,
          3175.078125,
          3161.68896484375,
          3203.25439453125,
          3181.4443359375,
          3137.970458984375,
          3272.007080078125,
          3227.176025390625
         ]
        },
        {
         "line": {
          "color": "rgba(219, 64, 82, 1.0)",
          "dash": "solid",
          "shape": "linear",
          "width": 1.3
         },
         "mode": "lines",
         "name": "val_loss",
         "text": "",
         "type": "scatter",
         "x": [
          0,
          1,
          2,
          3,
          4,
          5,
          6,
          7,
          8,
          9,
          10,
          11,
          12,
          13,
          14,
          15,
          16,
          17,
          18,
          19,
          20,
          21,
          22,
          23,
          24,
          25,
          26,
          27,
          28,
          29,
          30,
          31,
          32,
          33,
          34,
          35,
          36,
          37,
          38,
          39,
          40,
          41,
          42,
          43,
          44
         ],
         "y": [
          0.026876425370573997,
          0.02666507661342621,
          0.0264876801520586,
          0.026706766337156296,
          0.02650480717420578,
          0.026055071502923965,
          0.02607150189578533,
          0.025880252942442894,
          0.02614128217101097,
          0.02590833604335785,
          0.02581053040921688,
          0.025784345343708992,
          0.02574225515127182,
          0.02574540674686432,
          0.025544552132487297,
          0.02606149949133396,
          0.02558501623570919,
          0.025408323854207993,
          0.02557283081114292,
          0.025467386469244957,
          0.025451526045799255,
          0.025584738701581955,
          0.02546459436416626,
          0.02532176859676838,
          0.02615467831492424,
          0.026027662679553032,
          0.025383910164237022,
          0.025688910856842995,
          0.02528565004467964,
          0.025293368846178055,
          0.02562348172068596,
          0.02552962861955166,
          0.025426801294088364,
          0.0253140926361084,
          0.025400029495358467,
          0.02547188475728035,
          0.025244714692234993,
          0.025271661579608917,
          0.025147978216409683,
          0.025289269164204597,
          0.025553779676556587,
          0.02554369531571865,
          0.025108154863119125,
          0.025175945833325386,
          0.025481857359409332
         ]
        },
        {
         "line": {
          "color": "rgba(0, 128, 128, 1.0)",
          "dash": "solid",
          "shape": "linear",
          "width": 1.3
         },
         "mode": "lines",
         "name": "val_rms",
         "text": "",
         "type": "scatter",
         "x": [
          0,
          1,
          2,
          3,
          4,
          5,
          6,
          7,
          8,
          9,
          10,
          11,
          12,
          13,
          14,
          15,
          16,
          17,
          18,
          19,
          20,
          21,
          22,
          23,
          24,
          25,
          26,
          27,
          28,
          29,
          30,
          31,
          32,
          33,
          34,
          35,
          36,
          37,
          38,
          39,
          40,
          41,
          42,
          43,
          44
         ],
         "y": [
          0.16394031047821045,
          0.1632944494485855,
          0.16275036334991455,
          0.16342204809188843,
          0.16280296444892883,
          0.16141584515571594,
          0.16146671772003174,
          0.1608734130859375,
          0.16168266534805298,
          0.16096067428588867,
          0.16065655648708344,
          0.1605750471353531,
          0.16044393181800842,
          0.16045375168323517,
          0.1598266214132309,
          0.16143573820590973,
          0.15995316207408905,
          0.1593998819589615,
          0.15991507470607758,
          0.15958504378795624,
          0.15953533351421356,
          0.1599522978067398,
          0.15957629680633545,
          0.15912814438343048,
          0.16172407567501068,
          0.161330908536911,
          0.1593232899904251,
          0.1602776050567627,
          0.15901462733745575,
          0.15903890132904053,
          0.16007336974143982,
          0.15977993607521057,
          0.15945781767368317,
          0.15910403430461884,
          0.15937386453151703,
          0.15959914028644562,
          0.15888585150241852,
          0.15897062420845032,
          0.15858115255832672,
          0.15902599692344666,
          0.15985549986362457,
          0.1598239541053772,
          0.15845553576946259,
          0.15866929292678833,
          0.15963037312030792
         ]
        },
        {
         "line": {
          "color": "rgba(255, 255, 51, 1.0)",
          "dash": "solid",
          "shape": "linear",
          "width": 1.3
         },
         "mode": "lines",
         "name": "val_mae",
         "text": "",
         "type": "scatter",
         "x": [
          0,
          1,
          2,
          3,
          4,
          5,
          6,
          7,
          8,
          9,
          10,
          11,
          12,
          13,
          14,
          15,
          16,
          17,
          18,
          19,
          20,
          21,
          22,
          23,
          24,
          25,
          26,
          27,
          28,
          29,
          30,
          31,
          32,
          33,
          34,
          35,
          36,
          37,
          38,
          39,
          40,
          41,
          42,
          43,
          44
         ],
         "y": [
          0.10528656095266342,
          0.1031455397605896,
          0.10655473172664642,
          0.10956104099750519,
          0.10334091633558273,
          0.10239459574222565,
          0.10102948546409607,
          0.10491066426038742,
          0.10182115435600281,
          0.10668157786130905,
          0.10213082283735275,
          0.10273027420043945,
          0.10211842507123947,
          0.10522061586380005,
          0.10303302854299545,
          0.10849187523126602,
          0.10200420767068863,
          0.10286781191825867,
          0.10169071704149246,
          0.10260296612977982,
          0.100537970662117,
          0.10532524436712265,
          0.10428314656019211,
          0.10385427623987198,
          0.09887731075286865,
          0.10987287759780884,
          0.09979169070720673,
          0.1058426946401596,
          0.10298410058021545,
          0.101267509162426,
          0.10431016981601715,
          0.10541403293609619,
          0.1022568941116333,
          0.10320981591939926,
          0.10351654142141342,
          0.10615682601928711,
          0.10311124473810196,
          0.10426322370767593,
          0.10226499289274216,
          0.10373616963624954,
          0.10508551448583603,
          0.10767839848995209,
          0.10312552005052567,
          0.10119038075208664,
          0.10728245973587036
         ]
        },
        {
         "line": {
          "color": "rgba(128, 128, 0, 1.0)",
          "dash": "solid",
          "shape": "linear",
          "width": 1.3
         },
         "mode": "lines",
         "name": "val_pema",
         "text": "",
         "type": "scatter",
         "visible": "legendonly",
         "x": [
          0,
          1,
          2,
          3,
          4,
          5,
          6,
          7,
          8,
          9,
          10,
          11,
          12,
          13,
          14,
          15,
          16,
          17,
          18,
          19,
          20,
          21,
          22,
          23,
          24,
          25,
          26,
          27,
          28,
          29,
          30,
          31,
          32,
          33,
          34,
          35,
          36,
          37,
          38,
          39,
          40,
          41,
          42,
          43,
          44
         ],
         "y": [
          1484.7266845703125,
          1300.0111083984375,
          1546.1395263671875,
          1497.0196533203125,
          1076.2437744140625,
          1233.388916015625,
          1150.68017578125,
          1444.0394287109375,
          1170.732421875,
          1454.4093017578125,
          1438.0203857421875,
          1298.8638916015625,
          1356.3272705078125,
          1375.98046875,
          1380.4112548828125,
          1428.938232421875,
          1386.6795654296875,
          1396.80126953125,
          1128.87353515625,
          1294.926025390625,
          1349.1749267578125,
          1387.291259765625,
          1344.1171875,
          1478.2781982421875,
          1106.4310302734375,
          1591.71875,
          1266.35791015625,
          1294.5015869140625,
          1379.475341796875,
          1355.8270263671875,
          1297.08642578125,
          1676.56103515625,
          1582.153076171875,
          1621.1854248046875,
          1602.4088134765625,
          1426.5592041015625,
          1408.4559326171875,
          1511.9788818359375,
          1460.2725830078125,
          1495.7479248046875,
          1275.0927734375,
          1585.3399658203125,
          1480.1380615234375,
          1320.4915771484375,
          1524.9141845703125
         ]
        }
       ],
       "layout": {
        "autosize": true,
        "legend": {
         "bgcolor": "#FFFFFF",
         "font": {
          "color": "#4D5663"
         }
        },
        "paper_bgcolor": "#FFFFFF",
        "plot_bgcolor": "#FFFFFF",
        "template": {
         "data": {
          "bar": [
           {
            "error_x": {
             "color": "#2a3f5f"
            },
            "error_y": {
             "color": "#2a3f5f"
            },
            "marker": {
             "line": {
              "color": "#E5ECF6",
              "width": 0.5
             },
             "pattern": {
              "fillmode": "overlay",
              "size": 10,
              "solidity": 0.2
             }
            },
            "type": "bar"
           }
          ],
          "barpolar": [
           {
            "marker": {
             "line": {
              "color": "#E5ECF6",
              "width": 0.5
             },
             "pattern": {
              "fillmode": "overlay",
              "size": 10,
              "solidity": 0.2
             }
            },
            "type": "barpolar"
           }
          ],
          "carpet": [
           {
            "aaxis": {
             "endlinecolor": "#2a3f5f",
             "gridcolor": "white",
             "linecolor": "white",
             "minorgridcolor": "white",
             "startlinecolor": "#2a3f5f"
            },
            "baxis": {
             "endlinecolor": "#2a3f5f",
             "gridcolor": "white",
             "linecolor": "white",
             "minorgridcolor": "white",
             "startlinecolor": "#2a3f5f"
            },
            "type": "carpet"
           }
          ],
          "choropleth": [
           {
            "colorbar": {
             "outlinewidth": 0,
             "ticks": ""
            },
            "type": "choropleth"
           }
          ],
          "contour": [
           {
            "colorbar": {
             "outlinewidth": 0,
             "ticks": ""
            },
            "colorscale": [
             [
              0,
              "#0d0887"
             ],
             [
              0.1111111111111111,
              "#46039f"
             ],
             [
              0.2222222222222222,
              "#7201a8"
             ],
             [
              0.3333333333333333,
              "#9c179e"
             ],
             [
              0.4444444444444444,
              "#bd3786"
             ],
             [
              0.5555555555555556,
              "#d8576b"
             ],
             [
              0.6666666666666666,
              "#ed7953"
             ],
             [
              0.7777777777777778,
              "#fb9f3a"
             ],
             [
              0.8888888888888888,
              "#fdca26"
             ],
             [
              1,
              "#f0f921"
             ]
            ],
            "type": "contour"
           }
          ],
          "contourcarpet": [
           {
            "colorbar": {
             "outlinewidth": 0,
             "ticks": ""
            },
            "type": "contourcarpet"
           }
          ],
          "heatmap": [
           {
            "colorbar": {
             "outlinewidth": 0,
             "ticks": ""
            },
            "colorscale": [
             [
              0,
              "#0d0887"
             ],
             [
              0.1111111111111111,
              "#46039f"
             ],
             [
              0.2222222222222222,
              "#7201a8"
             ],
             [
              0.3333333333333333,
              "#9c179e"
             ],
             [
              0.4444444444444444,
              "#bd3786"
             ],
             [
              0.5555555555555556,
              "#d8576b"
             ],
             [
              0.6666666666666666,
              "#ed7953"
             ],
             [
              0.7777777777777778,
              "#fb9f3a"
             ],
             [
              0.8888888888888888,
              "#fdca26"
             ],
             [
              1,
              "#f0f921"
             ]
            ],
            "type": "heatmap"
           }
          ],
          "heatmapgl": [
           {
            "colorbar": {
             "outlinewidth": 0,
             "ticks": ""
            },
            "colorscale": [
             [
              0,
              "#0d0887"
             ],
             [
              0.1111111111111111,
              "#46039f"
             ],
             [
              0.2222222222222222,
              "#7201a8"
             ],
             [
              0.3333333333333333,
              "#9c179e"
             ],
             [
              0.4444444444444444,
              "#bd3786"
             ],
             [
              0.5555555555555556,
              "#d8576b"
             ],
             [
              0.6666666666666666,
              "#ed7953"
             ],
             [
              0.7777777777777778,
              "#fb9f3a"
             ],
             [
              0.8888888888888888,
              "#fdca26"
             ],
             [
              1,
              "#f0f921"
             ]
            ],
            "type": "heatmapgl"
           }
          ],
          "histogram": [
           {
            "marker": {
             "pattern": {
              "fillmode": "overlay",
              "size": 10,
              "solidity": 0.2
             }
            },
            "type": "histogram"
           }
          ],
          "histogram2d": [
           {
            "colorbar": {
             "outlinewidth": 0,
             "ticks": ""
            },
            "colorscale": [
             [
              0,
              "#0d0887"
             ],
             [
              0.1111111111111111,
              "#46039f"
             ],
             [
              0.2222222222222222,
              "#7201a8"
             ],
             [
              0.3333333333333333,
              "#9c179e"
             ],
             [
              0.4444444444444444,
              "#bd3786"
             ],
             [
              0.5555555555555556,
              "#d8576b"
             ],
             [
              0.6666666666666666,
              "#ed7953"
             ],
             [
              0.7777777777777778,
              "#fb9f3a"
             ],
             [
              0.8888888888888888,
              "#fdca26"
             ],
             [
              1,
              "#f0f921"
             ]
            ],
            "type": "histogram2d"
           }
          ],
          "histogram2dcontour": [
           {
            "colorbar": {
             "outlinewidth": 0,
             "ticks": ""
            },
            "colorscale": [
             [
              0,
              "#0d0887"
             ],
             [
              0.1111111111111111,
              "#46039f"
             ],
             [
              0.2222222222222222,
              "#7201a8"
             ],
             [
              0.3333333333333333,
              "#9c179e"
             ],
             [
              0.4444444444444444,
              "#bd3786"
             ],
             [
              0.5555555555555556,
              "#d8576b"
             ],
             [
              0.6666666666666666,
              "#ed7953"
             ],
             [
              0.7777777777777778,
              "#fb9f3a"
             ],
             [
              0.8888888888888888,
              "#fdca26"
             ],
             [
              1,
              "#f0f921"
             ]
            ],
            "type": "histogram2dcontour"
           }
          ],
          "mesh3d": [
           {
            "colorbar": {
             "outlinewidth": 0,
             "ticks": ""
            },
            "type": "mesh3d"
           }
          ],
          "parcoords": [
           {
            "line": {
             "colorbar": {
              "outlinewidth": 0,
              "ticks": ""
             }
            },
            "type": "parcoords"
           }
          ],
          "pie": [
           {
            "automargin": true,
            "type": "pie"
           }
          ],
          "scatter": [
           {
            "fillpattern": {
             "fillmode": "overlay",
             "size": 10,
             "solidity": 0.2
            },
            "type": "scatter"
           }
          ],
          "scatter3d": [
           {
            "line": {
             "colorbar": {
              "outlinewidth": 0,
              "ticks": ""
             }
            },
            "marker": {
             "colorbar": {
              "outlinewidth": 0,
              "ticks": ""
             }
            },
            "type": "scatter3d"
           }
          ],
          "scattercarpet": [
           {
            "marker": {
             "colorbar": {
              "outlinewidth": 0,
              "ticks": ""
             }
            },
            "type": "scattercarpet"
           }
          ],
          "scattergeo": [
           {
            "marker": {
             "colorbar": {
              "outlinewidth": 0,
              "ticks": ""
             }
            },
            "type": "scattergeo"
           }
          ],
          "scattergl": [
           {
            "marker": {
             "colorbar": {
              "outlinewidth": 0,
              "ticks": ""
             }
            },
            "type": "scattergl"
           }
          ],
          "scattermapbox": [
           {
            "marker": {
             "colorbar": {
              "outlinewidth": 0,
              "ticks": ""
             }
            },
            "type": "scattermapbox"
           }
          ],
          "scatterpolar": [
           {
            "marker": {
             "colorbar": {
              "outlinewidth": 0,
              "ticks": ""
             }
            },
            "type": "scatterpolar"
           }
          ],
          "scatterpolargl": [
           {
            "marker": {
             "colorbar": {
              "outlinewidth": 0,
              "ticks": ""
             }
            },
            "type": "scatterpolargl"
           }
          ],
          "scatterternary": [
           {
            "marker": {
             "colorbar": {
              "outlinewidth": 0,
              "ticks": ""
             }
            },
            "type": "scatterternary"
           }
          ],
          "surface": [
           {
            "colorbar": {
             "outlinewidth": 0,
             "ticks": ""
            },
            "colorscale": [
             [
              0,
              "#0d0887"
             ],
             [
              0.1111111111111111,
              "#46039f"
             ],
             [
              0.2222222222222222,
              "#7201a8"
             ],
             [
              0.3333333333333333,
              "#9c179e"
             ],
             [
              0.4444444444444444,
              "#bd3786"
             ],
             [
              0.5555555555555556,
              "#d8576b"
             ],
             [
              0.6666666666666666,
              "#ed7953"
             ],
             [
              0.7777777777777778,
              "#fb9f3a"
             ],
             [
              0.8888888888888888,
              "#fdca26"
             ],
             [
              1,
              "#f0f921"
             ]
            ],
            "type": "surface"
           }
          ],
          "table": [
           {
            "cells": {
             "fill": {
              "color": "#EBF0F8"
             },
             "line": {
              "color": "white"
             }
            },
            "header": {
             "fill": {
              "color": "#C8D4E3"
             },
             "line": {
              "color": "white"
             }
            },
            "type": "table"
           }
          ]
         },
         "layout": {
          "annotationdefaults": {
           "arrowcolor": "#2a3f5f",
           "arrowhead": 0,
           "arrowwidth": 1
          },
          "autotypenumbers": "strict",
          "coloraxis": {
           "colorbar": {
            "outlinewidth": 0,
            "ticks": ""
           }
          },
          "colorscale": {
           "diverging": [
            [
             0,
             "#8e0152"
            ],
            [
             0.1,
             "#c51b7d"
            ],
            [
             0.2,
             "#de77ae"
            ],
            [
             0.3,
             "#f1b6da"
            ],
            [
             0.4,
             "#fde0ef"
            ],
            [
             0.5,
             "#f7f7f7"
            ],
            [
             0.6,
             "#e6f5d0"
            ],
            [
             0.7,
             "#b8e186"
            ],
            [
             0.8,
             "#7fbc41"
            ],
            [
             0.9,
             "#4d9221"
            ],
            [
             1,
             "#276419"
            ]
           ],
           "sequential": [
            [
             0,
             "#0d0887"
            ],
            [
             0.1111111111111111,
             "#46039f"
            ],
            [
             0.2222222222222222,
             "#7201a8"
            ],
            [
             0.3333333333333333,
             "#9c179e"
            ],
            [
             0.4444444444444444,
             "#bd3786"
            ],
            [
             0.5555555555555556,
             "#d8576b"
            ],
            [
             0.6666666666666666,
             "#ed7953"
            ],
            [
             0.7777777777777778,
             "#fb9f3a"
            ],
            [
             0.8888888888888888,
             "#fdca26"
            ],
            [
             1,
             "#f0f921"
            ]
           ],
           "sequentialminus": [
            [
             0,
             "#0d0887"
            ],
            [
             0.1111111111111111,
             "#46039f"
            ],
            [
             0.2222222222222222,
             "#7201a8"
            ],
            [
             0.3333333333333333,
             "#9c179e"
            ],
            [
             0.4444444444444444,
             "#bd3786"
            ],
            [
             0.5555555555555556,
             "#d8576b"
            ],
            [
             0.6666666666666666,
             "#ed7953"
            ],
            [
             0.7777777777777778,
             "#fb9f3a"
            ],
            [
             0.8888888888888888,
             "#fdca26"
            ],
            [
             1,
             "#f0f921"
            ]
           ]
          },
          "colorway": [
           "#636efa",
           "#EF553B",
           "#00cc96",
           "#ab63fa",
           "#FFA15A",
           "#19d3f3",
           "#FF6692",
           "#B6E880",
           "#FF97FF",
           "#FECB52"
          ],
          "font": {
           "color": "#2a3f5f"
          },
          "geo": {
           "bgcolor": "white",
           "lakecolor": "white",
           "landcolor": "#E5ECF6",
           "showlakes": true,
           "showland": true,
           "subunitcolor": "white"
          },
          "hoverlabel": {
           "align": "left"
          },
          "hovermode": "closest",
          "mapbox": {
           "style": "light"
          },
          "paper_bgcolor": "white",
          "plot_bgcolor": "#E5ECF6",
          "polar": {
           "angularaxis": {
            "gridcolor": "white",
            "linecolor": "white",
            "ticks": ""
           },
           "bgcolor": "#E5ECF6",
           "radialaxis": {
            "gridcolor": "white",
            "linecolor": "white",
            "ticks": ""
           }
          },
          "scene": {
           "xaxis": {
            "backgroundcolor": "#E5ECF6",
            "gridcolor": "white",
            "gridwidth": 2,
            "linecolor": "white",
            "showbackground": true,
            "ticks": "",
            "zerolinecolor": "white"
           },
           "yaxis": {
            "backgroundcolor": "#E5ECF6",
            "gridcolor": "white",
            "gridwidth": 2,
            "linecolor": "white",
            "showbackground": true,
            "ticks": "",
            "zerolinecolor": "white"
           },
           "zaxis": {
            "backgroundcolor": "#E5ECF6",
            "gridcolor": "white",
            "gridwidth": 2,
            "linecolor": "white",
            "showbackground": true,
            "ticks": "",
            "zerolinecolor": "white"
           }
          },
          "shapedefaults": {
           "line": {
            "color": "#2a3f5f"
           }
          },
          "ternary": {
           "aaxis": {
            "gridcolor": "white",
            "linecolor": "white",
            "ticks": ""
           },
           "baxis": {
            "gridcolor": "white",
            "linecolor": "white",
            "ticks": ""
           },
           "bgcolor": "#E5ECF6",
           "caxis": {
            "gridcolor": "white",
            "linecolor": "white",
            "ticks": ""
           }
          },
          "title": {
           "x": 0.05
          },
          "xaxis": {
           "automargin": true,
           "gridcolor": "white",
           "linecolor": "white",
           "ticks": "",
           "title": {
            "standoff": 15
           },
           "zerolinecolor": "white",
           "zerolinewidth": 2
          },
          "yaxis": {
           "automargin": true,
           "gridcolor": "white",
           "linecolor": "white",
           "ticks": "",
           "title": {
            "standoff": 15
           },
           "zerolinecolor": "white",
           "zerolinewidth": 2
          }
         }
        },
        "title": {
         "font": {
          "color": "#4D5663"
         }
        },
        "xaxis": {
         "autorange": true,
         "gridcolor": "#E1E5ED",
         "range": [
          0,
          44
         ],
         "showgrid": true,
         "tickfont": {
          "color": "#4D5663"
         },
         "title": {
          "font": {
           "color": "#4D5663"
          },
          "text": ""
         },
         "type": "linear",
         "zerolinecolor": "#E1E5ED"
        },
        "yaxis": {
         "autorange": true,
         "gridcolor": "#E1E5ED",
         "range": [
          0.01719970338874393,
          0.17458917862839168
         ],
         "showgrid": true,
         "tickfont": {
          "color": "#4D5663"
         },
         "title": {
          "font": {
           "color": "#4D5663"
          },
          "text": ""
         },
         "type": "linear",
         "zerolinecolor": "#E1E5ED"
        }
       }
      },
      "image/png": "[encoded data removed]",
      "text/html": [
       "<div>                            <div id=\"28b43d4a-8a55-4690-a963-8c749c5f7eb6\" class=\"plotly-graph-div\" style=\"height:525px; width:100%;\"></div>            <script type=\"text/javascript\">                require([\"plotly\"], function(Plotly) {                    window.PLOTLYENV=window.PLOTLYENV || {};\n",
       "                    window.PLOTLYENV.BASE_URL='https://plot.ly';                                    if (document.getElementById(\"28b43d4a-8a55-4690-a963-8c749c5f7eb6\")) {                    Plotly.newPlot(                        \"28b43d4a-8a55-4690-a963-8c749c5f7eb6\",                        [{\"line\":{\"color\":\"rgba(255, 153, 51, 1.0)\",\"dash\":\"solid\",\"shape\":\"linear\",\"width\":1.3},\"mode\":\"lines\",\"name\":\"loss\",\"text\":\"\",\"x\":[0,1,2,3,4,5,6,7,8,9,10,11,12,13,14,15,16,17,18,19,20,21,22,23,24,25,26,27,28,29,30,31,32,33,34,35,36,37,38,39,40,41,42,43,44],\"y\":[0.02779546193778515,0.027455680072307587,0.02723013050854206,0.027042577043175697,0.026857450604438782,0.026710106059908867,0.026606285944581032,0.026508403941988945,0.026399416849017143,0.026317305862903595,0.026259802281856537,0.026168374344706535,0.026129024103283882,0.02605346404016018,0.025949690490961075,0.025924094021320343,0.025861253961920738,0.025824490934610367,0.025763792917132378,0.025708772242069244,0.025665782392024994,0.02564726024866104,0.025598201900720596,0.02556484565138817,0.025537019595503807,0.025509702041745186,0.025493578985333443,0.025458887219429016,0.02543185092508793,0.02541840262711048,0.025375453755259514,0.025341926142573357,0.02532391995191574,0.02527233399450779,0.02525077760219574,0.025231219828128815,0.025214530527591705,0.025212842971086502,0.025188462808728218,0.025189390406012535,0.02513168565928936,0.025157103314995766,0.02507670968770981,0.02506917715072632,0.025084376335144043],\"type\":\"scatter\"},{\"line\":{\"color\":\"rgba(55, 128, 191, 1.0)\",\"dash\":\"solid\",\"shape\":\"linear\",\"width\":1.3},\"mode\":\"lines\",\"name\":\"rms\",\"text\":\"\",\"x\":[0,1,2,3,4,5,6,7,8,9,10,11,12,13,14,15,16,17,18,19,20,21,22,23,24,25,26,27,28,29,30,31,32,33,34,35,36,37,38,39,40,41,42,43,44],\"y\":[0.1667197048664093,0.16569755971431732,0.1650155484676361,0.16444626450538635,0.16388243436813354,0.1634322702884674,0.16311433911323547,0.16281402111053467,0.162478968501091,0.1622260957956314,0.16204877197742462,0.1617664247751236,0.16164474189281464,0.161410853266716,0.16108907759189606,0.16100960969924927,0.1608143448829651,0.1607000082731247,0.16051103174686432,0.16033954918384552,0.1602054387331009,0.16014762222766876,0.15999437868595123,0.1598901003599167,0.15980306267738342,0.15971757471561432,0.15966708958148956,0.15955840051174164,0.15947367250919342,0.15943150222301483,0.15929675102233887,0.15919147431850433,0.15913492441177368,0.15897274017333984,0.15890493988990784,0.15884338319301605,0.15879084169864655,0.15878552198410034,0.15870873630046844,0.15871165692806244,0.15852975845336914,0.15860991179943085,0.15835627913475037,0.1583324819803238,0.15838047862052917],\"type\":\"scatter\"},{\"line\":{\"color\":\"rgba(50, 171, 96, 1.0)\",\"dash\":\"solid\",\"shape\":\"linear\",\"width\":1.3},\"mode\":\"lines\",\"name\":\"mae\",\"text\":\"\",\"x\":[0,1,2,3,4,5,6,7,8,9,10,11,12,13,14,15,16,17,18,19,20,21,22,23,24,25,26,27,28,29,30,31,32,33,34,35,36,37,38,39,40,41,42,43,44],\"y\":[0.10814733803272247,0.10725613683462143,0.10672381520271301,0.10623903572559357,0.10576606541872025,0.10542047023773193,0.10524766892194748,0.10496299713850021,0.10471196472644806,0.10456842184066772,0.10443681478500366,0.104221872985363,0.10417752712965012,0.10395022481679916,0.10367359966039658,0.10369672626256943,0.10362740606069565,0.10346939414739609,0.10336356610059738,0.10325323045253754,0.10316569358110428,0.1031332015991211,0.10305989533662796,0.10294223576784134,0.10287179052829742,0.10283509641885757,0.10282094031572342,0.10270854830741882,0.10267791152000427,0.10270620882511139,0.102537602186203,0.10249221324920654,0.10241489112377167,0.10234107077121735,0.10235879570245743,0.10224549472332001,0.1022292897105217,0.10226349532604218,0.1021718755364418,0.10220653563737869,0.10205064713954926,0.10215109586715698,0.10187724977731705,0.10189568251371384,0.10197615623474121],\"type\":\"scatter\"},{\"line\":{\"color\":\"rgba(128, 0, 128, 1.0)\",\"dash\":\"solid\",\"shape\":\"linear\",\"width\":1.3},\"mode\":\"lines\",\"name\":\"pema\",\"text\":\"\",\"x\":[0,1,2,3,4,5,6,7,8,9,10,11,12,13,14,15,16,17,18,19,20,21,22,23,24,25,26,27,28,29,30,31,32,33,34,35,36,37,38,39,40,41,42,43,44],\"y\":[3387.003662109375,3425.54736328125,3276.608642578125,3434.0205078125,3380.395751953125,3318.507080078125,3420.515625,3228.3271484375,3261.187744140625,3337.41455078125,3306.44873046875,3253.163818359375,3320.730224609375,3250.416015625,3248.297119140625,3249.47607421875,3277.007568359375,3272.72265625,3161.573974609375,3221.11328125,3201.020263671875,3180.216064453125,3254.225341796875,3195.74462890625,3142.081298828125,3109.87890625,3232.382568359375,3319.782470703125,3257.01318359375,3155.238037109375,3132.630126953125,3225.145751953125,3247.803955078125,3200.150146484375,3166.782958984375,3183.177001953125,3064.91552734375,3300.399169921875,3175.078125,3161.68896484375,3203.25439453125,3181.4443359375,3137.970458984375,3272.007080078125,3227.176025390625],\"type\":\"scatter\"},{\"line\":{\"color\":\"rgba(219, 64, 82, 1.0)\",\"dash\":\"solid\",\"shape\":\"linear\",\"width\":1.3},\"mode\":\"lines\",\"name\":\"val_loss\",\"text\":\"\",\"x\":[0,1,2,3,4,5,6,7,8,9,10,11,12,13,14,15,16,17,18,19,20,21,22,23,24,25,26,27,28,29,30,31,32,33,34,35,36,37,38,39,40,41,42,43,44],\"y\":[0.026876425370573997,0.02666507661342621,0.0264876801520586,0.026706766337156296,0.02650480717420578,0.026055071502923965,0.02607150189578533,0.025880252942442894,0.02614128217101097,0.02590833604335785,0.02581053040921688,0.025784345343708992,0.02574225515127182,0.02574540674686432,0.025544552132487297,0.02606149949133396,0.02558501623570919,0.025408323854207993,0.02557283081114292,0.025467386469244957,0.025451526045799255,0.025584738701581955,0.02546459436416626,0.02532176859676838,0.02615467831492424,0.026027662679553032,0.025383910164237022,0.025688910856842995,0.02528565004467964,0.025293368846178055,0.02562348172068596,0.02552962861955166,0.025426801294088364,0.0253140926361084,0.025400029495358467,0.02547188475728035,0.025244714692234993,0.025271661579608917,0.025147978216409683,0.025289269164204597,0.025553779676556587,0.02554369531571865,0.025108154863119125,0.025175945833325386,0.025481857359409332],\"type\":\"scatter\"},{\"line\":{\"color\":\"rgba(0, 128, 128, 1.0)\",\"dash\":\"solid\",\"shape\":\"linear\",\"width\":1.3},\"mode\":\"lines\",\"name\":\"val_rms\",\"text\":\"\",\"x\":[0,1,2,3,4,5,6,7,8,9,10,11,12,13,14,15,16,17,18,19,20,21,22,23,24,25,26,27,28,29,30,31,32,33,34,35,36,37,38,39,40,41,42,43,44],\"y\":[0.16394031047821045,0.1632944494485855,0.16275036334991455,0.16342204809188843,0.16280296444892883,0.16141584515571594,0.16146671772003174,0.1608734130859375,0.16168266534805298,0.16096067428588867,0.16065655648708344,0.1605750471353531,0.16044393181800842,0.16045375168323517,0.1598266214132309,0.16143573820590973,0.15995316207408905,0.1593998819589615,0.15991507470607758,0.15958504378795624,0.15953533351421356,0.1599522978067398,0.15957629680633545,0.15912814438343048,0.16172407567501068,0.161330908536911,0.1593232899904251,0.1602776050567627,0.15901462733745575,0.15903890132904053,0.16007336974143982,0.15977993607521057,0.15945781767368317,0.15910403430461884,0.15937386453151703,0.15959914028644562,0.15888585150241852,0.15897062420845032,0.15858115255832672,0.15902599692344666,0.15985549986362457,0.1598239541053772,0.15845553576946259,0.15866929292678833,0.15963037312030792],\"type\":\"scatter\"},{\"line\":{\"color\":\"rgba(255, 255, 51, 1.0)\",\"dash\":\"solid\",\"shape\":\"linear\",\"width\":1.3},\"mode\":\"lines\",\"name\":\"val_mae\",\"text\":\"\",\"x\":[0,1,2,3,4,5,6,7,8,9,10,11,12,13,14,15,16,17,18,19,20,21,22,23,24,25,26,27,28,29,30,31,32,33,34,35,36,37,38,39,40,41,42,43,44],\"y\":[0.10528656095266342,0.1031455397605896,0.10655473172664642,0.10956104099750519,0.10334091633558273,0.10239459574222565,0.10102948546409607,0.10491066426038742,0.10182115435600281,0.10668157786130905,0.10213082283735275,0.10273027420043945,0.10211842507123947,0.10522061586380005,0.10303302854299545,0.10849187523126602,0.10200420767068863,0.10286781191825867,0.10169071704149246,0.10260296612977982,0.100537970662117,0.10532524436712265,0.10428314656019211,0.10385427623987198,0.09887731075286865,0.10987287759780884,0.09979169070720673,0.1058426946401596,0.10298410058021545,0.101267509162426,0.10431016981601715,0.10541403293609619,0.1022568941116333,0.10320981591939926,0.10351654142141342,0.10615682601928711,0.10311124473810196,0.10426322370767593,0.10226499289274216,0.10373616963624954,0.10508551448583603,0.10767839848995209,0.10312552005052567,0.10119038075208664,0.10728245973587036],\"type\":\"scatter\"},{\"line\":{\"color\":\"rgba(128, 128, 0, 1.0)\",\"dash\":\"solid\",\"shape\":\"linear\",\"width\":1.3},\"mode\":\"lines\",\"name\":\"val_pema\",\"text\":\"\",\"x\":[0,1,2,3,4,5,6,7,8,9,10,11,12,13,14,15,16,17,18,19,20,21,22,23,24,25,26,27,28,29,30,31,32,33,34,35,36,37,38,39,40,41,42,43,44],\"y\":[1484.7266845703125,1300.0111083984375,1546.1395263671875,1497.0196533203125,1076.2437744140625,1233.388916015625,1150.68017578125,1444.0394287109375,1170.732421875,1454.4093017578125,1438.0203857421875,1298.8638916015625,1356.3272705078125,1375.98046875,1380.4112548828125,1428.938232421875,1386.6795654296875,1396.80126953125,1128.87353515625,1294.926025390625,1349.1749267578125,1387.291259765625,1344.1171875,1478.2781982421875,1106.4310302734375,1591.71875,1266.35791015625,1294.5015869140625,1379.475341796875,1355.8270263671875,1297.08642578125,1676.56103515625,1582.153076171875,1621.1854248046875,1602.4088134765625,1426.5592041015625,1408.4559326171875,1511.9788818359375,1460.2725830078125,1495.7479248046875,1275.0927734375,1585.3399658203125,1480.1380615234375,1320.4915771484375,1524.9141845703125],\"type\":\"scatter\"}],                        {\"legend\":{\"bgcolor\":\"#FFFFFF\",\"font\":{\"color\":\"#4D5663\"}},\"paper_bgcolor\":\"#FFFFFF\",\"plot_bgcolor\":\"#FFFFFF\",\"template\":{\"data\":{\"barpolar\":[{\"marker\":{\"line\":{\"color\":\"#E5ECF6\",\"width\":0.5},\"pattern\":{\"fillmode\":\"overlay\",\"size\":10,\"solidity\":0.2}},\"type\":\"barpolar\"}],\"bar\":[{\"error_x\":{\"color\":\"#2a3f5f\"},\"error_y\":{\"color\":\"#2a3f5f\"},\"marker\":{\"line\":{\"color\":\"#E5ECF6\",\"width\":0.5},\"pattern\":{\"fillmode\":\"overlay\",\"size\":10,\"solidity\":0.2}},\"type\":\"bar\"}],\"carpet\":[{\"aaxis\":{\"endlinecolor\":\"#2a3f5f\",\"gridcolor\":\"white\",\"linecolor\":\"white\",\"minorgridcolor\":\"white\",\"startlinecolor\":\"#2a3f5f\"},\"baxis\":{\"endlinecolor\":\"#2a3f5f\",\"gridcolor\":\"white\",\"linecolor\":\"white\",\"minorgridcolor\":\"white\",\"startlinecolor\":\"#2a3f5f\"},\"type\":\"carpet\"}],\"choropleth\":[{\"colorbar\":{\"outlinewidth\":0,\"ticks\":\"\"},\"type\":\"choropleth\"}],\"contourcarpet\":[{\"colorbar\":{\"outlinewidth\":0,\"ticks\":\"\"},\"type\":\"contourcarpet\"}],\"contour\":[{\"colorbar\":{\"outlinewidth\":0,\"ticks\":\"\"},\"colorscale\":[[0.0,\"#0d0887\"],[0.1111111111111111,\"#46039f\"],[0.2222222222222222,\"#7201a8\"],[0.3333333333333333,\"#9c179e\"],[0.4444444444444444,\"#bd3786\"],[0.5555555555555556,\"#d8576b\"],[0.6666666666666666,\"#ed7953\"],[0.7777777777777778,\"#fb9f3a\"],[0.8888888888888888,\"#fdca26\"],[1.0,\"#f0f921\"]],\"type\":\"contour\"}],\"heatmapgl\":[{\"colorbar\":{\"outlinewidth\":0,\"ticks\":\"\"},\"colorscale\":[[0.0,\"#0d0887\"],[0.1111111111111111,\"#46039f\"],[0.2222222222222222,\"#7201a8\"],[0.3333333333333333,\"#9c179e\"],[0.4444444444444444,\"#bd3786\"],[0.5555555555555556,\"#d8576b\"],[0.6666666666666666,\"#ed7953\"],[0.7777777777777778,\"#fb9f3a\"],[0.8888888888888888,\"#fdca26\"],[1.0,\"#f0f921\"]],\"type\":\"heatmapgl\"}],\"heatmap\":[{\"colorbar\":{\"outlinewidth\":0,\"ticks\":\"\"},\"colorscale\":[[0.0,\"#0d0887\"],[0.1111111111111111,\"#46039f\"],[0.2222222222222222,\"#7201a8\"],[0.3333333333333333,\"#9c179e\"],[0.4444444444444444,\"#bd3786\"],[0.5555555555555556,\"#d8576b\"],[0.6666666666666666,\"#ed7953\"],[0.7777777777777778,\"#fb9f3a\"],[0.8888888888888888,\"#fdca26\"],[1.0,\"#f0f921\"]],\"type\":\"heatmap\"}],\"histogram2dcontour\":[{\"colorbar\":{\"outlinewidth\":0,\"ticks\":\"\"},\"colorscale\":[[0.0,\"#0d0887\"],[0.1111111111111111,\"#46039f\"],[0.2222222222222222,\"#7201a8\"],[0.3333333333333333,\"#9c179e\"],[0.4444444444444444,\"#bd3786\"],[0.5555555555555556,\"#d8576b\"],[0.6666666666666666,\"#ed7953\"],[0.7777777777777778,\"#fb9f3a\"],[0.8888888888888888,\"#fdca26\"],[1.0,\"#f0f921\"]],\"type\":\"histogram2dcontour\"}],\"histogram2d\":[{\"colorbar\":{\"outlinewidth\":0,\"ticks\":\"\"},\"colorscale\":[[0.0,\"#0d0887\"],[0.1111111111111111,\"#46039f\"],[0.2222222222222222,\"#7201a8\"],[0.3333333333333333,\"#9c179e\"],[0.4444444444444444,\"#bd3786\"],[0.5555555555555556,\"#d8576b\"],[0.6666666666666666,\"#ed7953\"],[0.7777777777777778,\"#fb9f3a\"],[0.8888888888888888,\"#fdca26\"],[1.0,\"#f0f921\"]],\"type\":\"histogram2d\"}],\"histogram\":[{\"marker\":{\"pattern\":{\"fillmode\":\"overlay\",\"size\":10,\"solidity\":0.2}},\"type\":\"histogram\"}],\"mesh3d\":[{\"colorbar\":{\"outlinewidth\":0,\"ticks\":\"\"},\"type\":\"mesh3d\"}],\"parcoords\":[{\"line\":{\"colorbar\":{\"outlinewidth\":0,\"ticks\":\"\"}},\"type\":\"parcoords\"}],\"pie\":[{\"automargin\":true,\"type\":\"pie\"}],\"scatter3d\":[{\"line\":{\"colorbar\":{\"outlinewidth\":0,\"ticks\":\"\"}},\"marker\":{\"colorbar\":{\"outlinewidth\":0,\"ticks\":\"\"}},\"type\":\"scatter3d\"}],\"scattercarpet\":[{\"marker\":{\"colorbar\":{\"outlinewidth\":0,\"ticks\":\"\"}},\"type\":\"scattercarpet\"}],\"scattergeo\":[{\"marker\":{\"colorbar\":{\"outlinewidth\":0,\"ticks\":\"\"}},\"type\":\"scattergeo\"}],\"scattergl\":[{\"marker\":{\"colorbar\":{\"outlinewidth\":0,\"ticks\":\"\"}},\"type\":\"scattergl\"}],\"scattermapbox\":[{\"marker\":{\"colorbar\":{\"outlinewidth\":0,\"ticks\":\"\"}},\"type\":\"scattermapbox\"}],\"scatterpolargl\":[{\"marker\":{\"colorbar\":{\"outlinewidth\":0,\"ticks\":\"\"}},\"type\":\"scatterpolargl\"}],\"scatterpolar\":[{\"marker\":{\"colorbar\":{\"outlinewidth\":0,\"ticks\":\"\"}},\"type\":\"scatterpolar\"}],\"scatter\":[{\"fillpattern\":{\"fillmode\":\"overlay\",\"size\":10,\"solidity\":0.2},\"type\":\"scatter\"}],\"scatterternary\":[{\"marker\":{\"colorbar\":{\"outlinewidth\":0,\"ticks\":\"\"}},\"type\":\"scatterternary\"}],\"surface\":[{\"colorbar\":{\"outlinewidth\":0,\"ticks\":\"\"},\"colorscale\":[[0.0,\"#0d0887\"],[0.1111111111111111,\"#46039f\"],[0.2222222222222222,\"#7201a8\"],[0.3333333333333333,\"#9c179e\"],[0.4444444444444444,\"#bd3786\"],[0.5555555555555556,\"#d8576b\"],[0.6666666666666666,\"#ed7953\"],[0.7777777777777778,\"#fb9f3a\"],[0.8888888888888888,\"#fdca26\"],[1.0,\"#f0f921\"]],\"type\":\"surface\"}],\"table\":[{\"cells\":{\"fill\":{\"color\":\"#EBF0F8\"},\"line\":{\"color\":\"white\"}},\"header\":{\"fill\":{\"color\":\"#C8D4E3\"},\"line\":{\"color\":\"white\"}},\"type\":\"table\"}]},\"layout\":{\"annotationdefaults\":{\"arrowcolor\":\"#2a3f5f\",\"arrowhead\":0,\"arrowwidth\":1},\"autotypenumbers\":\"strict\",\"coloraxis\":{\"colorbar\":{\"outlinewidth\":0,\"ticks\":\"\"}},\"colorscale\":{\"diverging\":[[0,\"#8e0152\"],[0.1,\"#c51b7d\"],[0.2,\"#de77ae\"],[0.3,\"#f1b6da\"],[0.4,\"#fde0ef\"],[0.5,\"#f7f7f7\"],[0.6,\"#e6f5d0\"],[0.7,\"#b8e186\"],[0.8,\"#7fbc41\"],[0.9,\"#4d9221\"],[1,\"#276419\"]],\"sequential\":[[0.0,\"#0d0887\"],[0.1111111111111111,\"#46039f\"],[0.2222222222222222,\"#7201a8\"],[0.3333333333333333,\"#9c179e\"],[0.4444444444444444,\"#bd3786\"],[0.5555555555555556,\"#d8576b\"],[0.6666666666666666,\"#ed7953\"],[0.7777777777777778,\"#fb9f3a\"],[0.8888888888888888,\"#fdca26\"],[1.0,\"#f0f921\"]],\"sequentialminus\":[[0.0,\"#0d0887\"],[0.1111111111111111,\"#46039f\"],[0.2222222222222222,\"#7201a8\"],[0.3333333333333333,\"#9c179e\"],[0.4444444444444444,\"#bd3786\"],[0.5555555555555556,\"#d8576b\"],[0.6666666666666666,\"#ed7953\"],[0.7777777777777778,\"#fb9f3a\"],[0.8888888888888888,\"#fdca26\"],[1.0,\"#f0f921\"]]},\"colorway\":[\"#636efa\",\"#EF553B\",\"#00cc96\",\"#ab63fa\",\"#FFA15A\",\"#19d3f3\",\"#FF6692\",\"#B6E880\",\"#FF97FF\",\"#FECB52\"],\"font\":{\"color\":\"#2a3f5f\"},\"geo\":{\"bgcolor\":\"white\",\"lakecolor\":\"white\",\"landcolor\":\"#E5ECF6\",\"showlakes\":true,\"showland\":true,\"subunitcolor\":\"white\"},\"hoverlabel\":{\"align\":\"left\"},\"hovermode\":\"closest\",\"mapbox\":{\"style\":\"light\"},\"paper_bgcolor\":\"white\",\"plot_bgcolor\":\"#E5ECF6\",\"polar\":{\"angularaxis\":{\"gridcolor\":\"white\",\"linecolor\":\"white\",\"ticks\":\"\"},\"bgcolor\":\"#E5ECF6\",\"radialaxis\":{\"gridcolor\":\"white\",\"linecolor\":\"white\",\"ticks\":\"\"}},\"scene\":{\"xaxis\":{\"backgroundcolor\":\"#E5ECF6\",\"gridcolor\":\"white\",\"gridwidth\":2,\"linecolor\":\"white\",\"showbackground\":true,\"ticks\":\"\",\"zerolinecolor\":\"white\"},\"yaxis\":{\"backgroundcolor\":\"#E5ECF6\",\"gridcolor\":\"white\",\"gridwidth\":2,\"linecolor\":\"white\",\"showbackground\":true,\"ticks\":\"\",\"zerolinecolor\":\"white\"},\"zaxis\":{\"backgroundcolor\":\"#E5ECF6\",\"gridcolor\":\"white\",\"gridwidth\":2,\"linecolor\":\"white\",\"showbackground\":true,\"ticks\":\"\",\"zerolinecolor\":\"white\"}},\"shapedefaults\":{\"line\":{\"color\":\"#2a3f5f\"}},\"ternary\":{\"aaxis\":{\"gridcolor\":\"white\",\"linecolor\":\"white\",\"ticks\":\"\"},\"baxis\":{\"gridcolor\":\"white\",\"linecolor\":\"white\",\"ticks\":\"\"},\"bgcolor\":\"#E5ECF6\",\"caxis\":{\"gridcolor\":\"white\",\"linecolor\":\"white\",\"ticks\":\"\"}},\"title\":{\"x\":0.05},\"xaxis\":{\"automargin\":true,\"gridcolor\":\"white\",\"linecolor\":\"white\",\"ticks\":\"\",\"title\":{\"standoff\":15},\"zerolinecolor\":\"white\",\"zerolinewidth\":2},\"yaxis\":{\"automargin\":true,\"gridcolor\":\"white\",\"linecolor\":\"white\",\"ticks\":\"\",\"title\":{\"standoff\":15},\"zerolinecolor\":\"white\",\"zerolinewidth\":2}}},\"title\":{\"font\":{\"color\":\"#4D5663\"}},\"xaxis\":{\"gridcolor\":\"#E1E5ED\",\"showgrid\":true,\"tickfont\":{\"color\":\"#4D5663\"},\"title\":{\"font\":{\"color\":\"#4D5663\"},\"text\":\"\"},\"zerolinecolor\":\"#E1E5ED\"},\"yaxis\":{\"gridcolor\":\"#E1E5ED\",\"showgrid\":true,\"tickfont\":{\"color\":\"#4D5663\"},\"title\":{\"font\":{\"color\":\"#4D5663\"},\"text\":\"\"},\"zerolinecolor\":\"#E1E5ED\"}},                        {\"showLink\": true, \"linkText\": \"Export to plot.ly\", \"plotlyServerURL\": \"https://plot.ly\", \"responsive\": true}                    ).then(function(){\n",
       "                            \n",
       "var gd = document.getElementById('28b43d4a-8a55-4690-a963-8c749c5f7eb6');\n",
       "var x = new MutationObserver(function (mutations, observer) {{\n",
       "        var display = window.getComputedStyle(gd).display;\n",
       "        if (!display || display === 'none') {{\n",
       "            console.log([gd, 'removed!']);\n",
       "            Plotly.purge(gd);\n",
       "            observer.disconnect();\n",
       "        }}\n",
       "}});\n",
       "\n",
       "// Listen for the removal of the full notebook cells\n",
       "var notebookContainer = gd.closest('#notebook-container');\n",
       "if (notebookContainer) {{\n",
       "    x.observe(notebookContainer, {childList: true});\n",
       "}}\n",
       "\n",
       "// Listen for the clearing of the current output cell\n",
       "var outputEl = gd.closest('.output');\n",
       "if (outputEl) {{\n",
       "    x.observe(outputEl, {childList: true});\n",
       "}}\n",
       "\n",
       "                        })                };                });            </script>        </div>"
      ]
     },
     "metadata": {},
     "output_type": "display_data"
    }
   ],
   "source": [
    "results.iplot()"
   ]
  },
  {
   "cell_type": "markdown",
   "id": "6d190180-3d4c-48a5-9bf9-c0ac9638a3ca",
   "metadata": {},
   "source": []
  },
  {
   "cell_type": "code",
   "execution_count": null,
   "id": "f7b0e5de-4cd3-41ed-96e9-91c7504537e4",
   "metadata": {},
   "outputs": [],
   "source": []
  },
  {
   "cell_type": "code",
   "execution_count": null,
   "id": "2e097bfc-9e11-475a-8b92-88e462a6831d",
   "metadata": {},
   "outputs": [],
   "source": []
  },
  {
   "cell_type": "code",
   "execution_count": 168,
   "id": "83b7d2fd-05f0-42d5-b770-677105c93e50",
   "metadata": {
    "tags": []
   },
   "outputs": [],
   "source": [
    "s={\"tweet_text\": \"#PremierLeague | El @ManCity sufre su primer empate ante el Wolverhamton, quien pego primero con gol de Boly, pero Laporte puso tablas en el Molineux Stadium. Los sky bluesbajaron a la segunda posicion de la tabla. https://t.co/3EbR2DP6vM\"}"
   ]
  },
  {
   "cell_type": "code",
   "execution_count": 169,
   "id": "d4696c5d-4b58-402d-a1c4-7f245a8952ed",
   "metadata": {
    "tags": []
   },
   "outputs": [],
   "source": [
    "test= pd.DataFrame(s, index=range(1))"
   ]
  },
  {
   "cell_type": "code",
   "execution_count": 226,
   "id": "94f692a3-e98e-4bb2-b88e-6fbd53ffcad1",
   "metadata": {
    "tags": []
   },
   "outputs": [
    {
     "name": "stderr",
     "output_type": "stream",
     "text": [
      "[nltk_data] Downloading package stopwords to\n",
      "[nltk_data]     /home/bluterplay/nltk_data...\n",
      "[nltk_data]   Package stopwords is already up-to-date!\n"
     ]
    }
   ],
   "source": [
    "test_trans= textPrepo(test)"
   ]
  },
  {
   "cell_type": "code",
   "execution_count": 227,
   "id": "1a1d4418-65b7-4a60-b062-4907a0656852",
   "metadata": {
    "tags": []
   },
   "outputs": [
    {
     "data": {
      "text/html": [
       "<div>\n",
       "<style scoped>\n",
       "    .dataframe tbody tr th:only-of-type {\n",
       "        vertical-align: middle;\n",
       "    }\n",
       "\n",
       "    .dataframe tbody tr th {\n",
       "        vertical-align: top;\n",
       "    }\n",
       "\n",
       "    .dataframe thead th {\n",
       "        text-align: right;\n",
       "    }\n",
       "</style>\n",
       "<table border=\"1\" class=\"dataframe\">\n",
       "  <thead>\n",
       "    <tr style=\"text-align: right;\">\n",
       "      <th></th>\n",
       "      <th>tweet_text</th>\n",
       "    </tr>\n",
       "  </thead>\n",
       "  <tbody>\n",
       "    <tr>\n",
       "      <th>0</th>\n",
       "      <td>sufr prim empat wolverhamton peg primer gol bo...</td>\n",
       "    </tr>\n",
       "  </tbody>\n",
       "</table>\n",
       "</div>"
      ],
      "text/plain": [
       "                                          tweet_text\n",
       "0  sufr prim empat wolverhamton peg primer gol bo..."
      ]
     },
     "execution_count": 227,
     "metadata": {},
     "output_type": "execute_result"
    }
   ],
   "source": [
    "test_trans"
   ]
  },
  {
   "cell_type": "code",
   "execution_count": 228,
   "id": "bb1bdb8c-0450-4a1d-9b61-537341f62b34",
   "metadata": {
    "tags": []
   },
   "outputs": [],
   "source": [
    "test_enc=similarity_encoder.transform(test_trans[[\"tweet_text\"]])"
   ]
  },
  {
   "cell_type": "code",
   "execution_count": 230,
   "id": "6bc625dd-4161-44b2-a8ea-b50703f34b9e",
   "metadata": {
    "tags": []
   },
   "outputs": [
    {
     "data": {
      "text/plain": [
       "array([[0.01275046, 0.01449275, 0.00598802, 0.01906412, 0.00203666,\n",
       "        0.01002004, 0.        , 0.03262411, 0.01275046, 0.02919708,\n",
       "        0.02803738, 0.04078762, 0.03397341, 0.06666667, 0.04280156,\n",
       "        0.00205339, 0.04928458, 0.0674974 , 0.03085299, 0.0573913 ,\n",
       "        0.02712477, 0.03505843, 0.01510574, 0.01353965, 0.01792115,\n",
       "        0.03588144, 0.0368    , 0.03050847, 0.02405498, 0.00888099,\n",
       "        0.03904924, 0.02793296, 0.02199662, 0.00210526, 0.03067485,\n",
       "        0.01132075, 0.03559871, 0.00429185, 0.00986193, 0.02359347,\n",
       "        0.06756757, 0.008     , 0.03333333, 0.01333333, 0.00628931,\n",
       "        0.0174216 , 0.0041841 , 0.0212766 , 0.01123596, 0.0214168 ,\n",
       "        0.02054795, 0.04823151, 0.03092784, 0.04012841, 0.01333333,\n",
       "        0.04458599, 0.02018349, 0.05730129, 0.02389078, 0.03925234,\n",
       "        0.03247863, 0.03401361, 0.01960784, 0.03937008, 0.01538462,\n",
       "        0.02018349, 0.05621806, 0.01872659, 0.02276708, 0.01010101,\n",
       "        0.02821317, 0.01974865, 0.02962963, 0.04483431, 0.02158273,\n",
       "        0.06635623, 0.01140684, 0.03660322, 0.03333333, 0.00421941,\n",
       "        0.04242424, 0.05370844, 0.02341137, 0.02238806, 0.01901141,\n",
       "        0.00978474, 0.04992867, 0.04566929, 0.0214168 , 0.03170029,\n",
       "        0.03205128, 0.02255639, 0.04447633, 0.02564103, 0.00634249,\n",
       "        0.01083032, 0.05013193, 0.09444444, 0.02564103, 0.01502504]])"
      ]
     },
     "execution_count": 230,
     "metadata": {},
     "output_type": "execute_result"
    }
   ],
   "source": [
    "test_enc"
   ]
  },
  {
   "cell_type": "code",
   "execution_count": 231,
   "id": "5cb967f3-5987-48ea-8a60-ce01a96e906d",
   "metadata": {
    "tags": []
   },
   "outputs": [
    {
     "data": {
      "text/plain": [
       "(1, 100)"
      ]
     },
     "execution_count": 231,
     "metadata": {},
     "output_type": "execute_result"
    }
   ],
   "source": [
    "test_enc.shape"
   ]
  },
  {
   "cell_type": "code",
   "execution_count": null,
   "id": "cfba79f6-bd3a-468d-ae7c-b2750b47ab99",
   "metadata": {},
   "outputs": [],
   "source": []
  },
  {
   "cell_type": "code",
   "execution_count": null,
   "id": "c563e3d6-335e-4533-9975-be32cffbfd20",
   "metadata": {},
   "outputs": [],
   "source": []
  },
  {
   "cell_type": "code",
   "execution_count": 237,
   "id": "6d937a77-fa43-46c0-a7a9-b44830c03ef4",
   "metadata": {
    "tags": []
   },
   "outputs": [
    {
     "name": "stdout",
     "output_type": "stream",
     "text": [
      "1/1 [==============================] - 0s 30ms/step\n"
     ]
    }
   ],
   "source": [
    "predictions=model.predict(test_enc)[0]"
   ]
  },
  {
   "cell_type": "code",
   "execution_count": 239,
   "id": "a601725a-aa02-4dbc-8a84-39b346529f88",
   "metadata": {
    "tags": []
   },
   "outputs": [
    {
     "data": {
      "text/plain": [
       "0.68492705"
      ]
     },
     "execution_count": 239,
     "metadata": {},
     "output_type": "execute_result"
    }
   ],
   "source": [
    "predictions[0]"
   ]
  },
  {
   "cell_type": "code",
   "execution_count": null,
   "id": "8886b48c-27e7-409d-9ef1-164844731d0c",
   "metadata": {},
   "outputs": [],
   "source": []
  }
 ],
 "metadata": {
  "kernelspec": {
   "display_name": "pylab",
   "language": "python",
   "name": "pylab"
  },
  "language_info": {
   "codemirror_mode": {
    "name": "ipython",
    "version": 3
   },
   "file_extension": ".py",
   "mimetype": "text/x-python",
   "name": "python",
   "nbconvert_exporter": "python",
   "pygments_lexer": "ipython3",
   "version": "3.10.6"
  }
 },
 "nbformat": 4,
 "nbformat_minor": 5
}
